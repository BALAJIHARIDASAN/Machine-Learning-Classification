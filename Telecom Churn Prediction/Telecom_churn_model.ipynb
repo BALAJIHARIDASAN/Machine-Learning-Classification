{
  "cells": [
    {
      "cell_type": "markdown",
      "metadata": {
        "id": "POcA1DfJJfQR"
      },
      "source": [
        "# Import Library"
      ]
    },
    {
      "cell_type": "code",
      "execution_count": 151,
      "metadata": {
        "id": "Bgb0b2FxCncN"
      },
      "outputs": [],
      "source": [
        "import math\n",
        "import os\n",
        "import gc\n",
        "import random\n",
        "import pprint\n",
        "import numpy as np               # For linear algebra\n",
        "import pandas as pd              # For data manipulation\n",
        "import matplotlib.pyplot as plt  # For 2D visualization\n",
        "import seaborn as sns\n",
        "\n",
        "# Warning Libraries \n",
        "import warnings\n",
        "warnings.filterwarnings(\"ignore\")\n",
        "# warnings.simplefilter(action='ignore', category=FutureWarning)\n",
        "\n",
        "from collections import Counter\n",
        "from scipy import stats                         # For statistics\n",
        "\n",
        "\n",
        "\"\"\"Plotly visualization\"\"\"\n",
        "import plotly.graph_objs as go\n",
        "import plotly.express as px\n",
        "import plotly.io as pio\n",
        "from plotly.subplots import make_subplots\n",
        "from plotly.offline import init_notebook_mode, iplot\n",
        "  \n",
        "\n",
        "\n",
        "from sklearn.preprocessing import OrdinalEncoder, OneHotEncoder, LabelEncoder, StandardScaler, MinMaxScaler, RobustScaler, MaxAbsScaler\n",
        "from sklearn.preprocessing import PowerTransformer \n",
        "from sklearn.feature_selection import SelectKBest, f_classif, chi2\n",
        "\n",
        "from sklearn.model_selection import StratifiedShuffleSplit, StratifiedKFold, RepeatedStratifiedKFold, train_test_split, cross_val_score\n",
        "from sklearn.pipeline import Pipeline, make_pipeline\n",
        "\n",
        "from imblearn.over_sampling import SMOTE\n",
        "from imblearn.under_sampling import RandomUnderSampler\n",
        "\n",
        "# Algorithms\n",
        "from sklearn.ensemble import StackingClassifier, RandomForestClassifier, ExtraTreesClassifier\n",
        "from sklearn.linear_model import LogisticRegression\n",
        "from sklearn.neighbors import KNeighborsClassifier\n",
        "from sklearn.svm import SVC\n",
        "\n",
        "\n",
        "from xgboost  import XGBClassifier\n",
        "from catboost import CatBoostClassifier, Pool\n",
        "from lightgbm  import LGBMClassifier\n",
        "\n",
        "\n",
        "import multiprocessing\n",
        "import pickle, joblib\n",
        "from sklearn.metrics import matthews_corrcoef, roc_auc_score, precision_recall_curve, confusion_matrix, classification_report, roc_curve, auc\n",
        "\n",
        "from sklearn.utils import resample\n",
        "from IPython.display import Markdown, display\n",
        "\n",
        "# utility function to print markdown string\n",
        "def printmd(string):\n",
        "    display(Markdown(string))\n",
        "\n",
        "     "
      ]
    },
    {
      "cell_type": "code",
      "execution_count": 152,
      "metadata": {
        "id": "jMwwKa5odm5J"
      },
      "outputs": [],
      "source": [
        "import sklearn\n",
        "from sklearn.model_selection import train_test_split, GridSearchCV\n",
        "from sklearn.preprocessing import StandardScaler\n",
        "from sklearn.decomposition import PCA\n",
        "from sklearn.svm import SVC\n",
        "from sklearn.tree import DecisionTreeClassifier\n",
        "from sklearn.ensemble import RandomForestClassifier, BaggingClassifier, ExtraTreesClassifier,GradientBoostingClassifier\n",
        "from xgboost import XGBClassifier\n",
        "from sklearn.linear_model import LogisticRegression\n",
        "from sklearn.metrics import accuracy_score, precision_score, recall_score, roc_auc_score\n",
        "### To be able to see maximum columns on screen"
      ]
    },
    {
      "cell_type": "code",
      "execution_count": 153,
      "metadata": {
        "id": "N_H_pPuUdAwm"
      },
      "outputs": [],
      "source": [
        "from sklearn.model_selection import train_test_split\n",
        "from sklearn.compose import ColumnTransformer\n",
        "from sklearn.impute import SimpleImputer\n",
        "from sklearn.preprocessing import OneHotEncoder\n",
        "from sklearn.preprocessing import StandardScaler\n",
        "\n",
        "from sklearn.pipeline import Pipeline,make_pipeline\n",
        "from sklearn.feature_selection import SelectKBest,chi2\n",
        "from sklearn.tree import DecisionTreeClassifier\n",
        "from sklearn.ensemble import RandomForestClassifier\n",
        "from sklearn.naive_bayes import GaussianNB, BernoulliNB, MultinomialNB\n",
        "from sklearn.tree import DecisionTreeClassifier\n",
        "from sklearn.ensemble import AdaBoostClassifier\n",
        "from xgboost import XGBClassifier\n",
        "from sklearn.svm import SVC\n",
        "from sklearn.neighbors import KNeighborsClassifier\n",
        "\n",
        "\n",
        "from sklearn.impute import SimpleImputer\n",
        "from sklearn.preprocessing import OneHotEncoder\n",
        "from sklearn.preprocessing import OrdinalEncoder"
      ]
    },
    {
      "cell_type": "code",
      "execution_count": 154,
      "metadata": {
        "id": "Ymk76qZ1Dkee"
      },
      "outputs": [],
      "source": [
        "\n",
        "from sklearn.model_selection import train_test_split\n",
        "from sklearn.compose import ColumnTransformer\n",
        "from sklearn.impute import SimpleImputer\n",
        "from sklearn.preprocessing import OneHotEncoder\n",
        "from sklearn.preprocessing import StandardScaler\n",
        "\n",
        "from sklearn.pipeline import Pipeline,make_pipeline\n",
        "from sklearn.feature_selection import SelectKBest,chi2\n",
        "from sklearn.tree import DecisionTreeClassifier\n",
        "from sklearn.ensemble import RandomForestClassifier\n",
        "from sklearn.naive_bayes import GaussianNB, BernoulliNB, MultinomialNB\n",
        "from sklearn.tree import DecisionTreeClassifier\n",
        "from sklearn.ensemble import AdaBoostClassifier\n",
        "from xgboost import XGBClassifier\n",
        "from sklearn.svm import SVC\n",
        "from sklearn.neighbors import KNeighborsClassifier\n",
        "\n",
        "\n",
        "\n",
        "import numpy as np\n",
        "import pandas as pd\n",
        "from sklearn.impute import SimpleImputer\n",
        "from sklearn.preprocessing import OneHotEncoder\n",
        "from sklearn.preprocessing import OrdinalEncoder"
      ]
    },
    {
      "cell_type": "markdown",
      "metadata": {
        "id": "FxtbEmcTKDTm"
      },
      "source": [
        "# **Dataset import**"
      ]
    },
    {
      "cell_type": "code",
      "execution_count": 155,
      "metadata": {
        "colab": {
          "base_uri": "https://localhost:8080/",
          "height": 386
        },
        "id": "yASrKlwBDHfE",
        "outputId": "afd2e481-a716-430c-e678-2f32538f57d9"
      },
      "outputs": [
        {
          "data": {
            "text/html": [
              "<div>\n",
              "<style scoped>\n",
              "    .dataframe tbody tr th:only-of-type {\n",
              "        vertical-align: middle;\n",
              "    }\n",
              "\n",
              "    .dataframe tbody tr th {\n",
              "        vertical-align: top;\n",
              "    }\n",
              "\n",
              "    .dataframe thead th {\n",
              "        text-align: right;\n",
              "    }\n",
              "</style>\n",
              "<table border=\"1\" class=\"dataframe\">\n",
              "  <thead>\n",
              "    <tr style=\"text-align: right;\">\n",
              "      <th></th>\n",
              "      <th>customerID</th>\n",
              "      <th>gender</th>\n",
              "      <th>SeniorCitizen</th>\n",
              "      <th>Partner</th>\n",
              "      <th>Dependents</th>\n",
              "      <th>tenure</th>\n",
              "      <th>PhoneService</th>\n",
              "      <th>MultipleLines</th>\n",
              "      <th>InternetService</th>\n",
              "      <th>OnlineSecurity</th>\n",
              "      <th>...</th>\n",
              "      <th>DeviceProtection</th>\n",
              "      <th>TechSupport</th>\n",
              "      <th>StreamingTV</th>\n",
              "      <th>StreamingMovies</th>\n",
              "      <th>Contract</th>\n",
              "      <th>PaperlessBilling</th>\n",
              "      <th>PaymentMethod</th>\n",
              "      <th>MonthlyCharges</th>\n",
              "      <th>TotalCharges</th>\n",
              "      <th>Churn</th>\n",
              "    </tr>\n",
              "  </thead>\n",
              "  <tbody>\n",
              "    <tr>\n",
              "      <th>0</th>\n",
              "      <td>7590-VHVEG</td>\n",
              "      <td>Female</td>\n",
              "      <td>0</td>\n",
              "      <td>Yes</td>\n",
              "      <td>No</td>\n",
              "      <td>1</td>\n",
              "      <td>No</td>\n",
              "      <td>No phone service</td>\n",
              "      <td>DSL</td>\n",
              "      <td>No</td>\n",
              "      <td>...</td>\n",
              "      <td>No</td>\n",
              "      <td>No</td>\n",
              "      <td>No</td>\n",
              "      <td>No</td>\n",
              "      <td>Month-to-month</td>\n",
              "      <td>Yes</td>\n",
              "      <td>Electronic check</td>\n",
              "      <td>29.85</td>\n",
              "      <td>29.85</td>\n",
              "      <td>No</td>\n",
              "    </tr>\n",
              "    <tr>\n",
              "      <th>1</th>\n",
              "      <td>5575-GNVDE</td>\n",
              "      <td>Male</td>\n",
              "      <td>0</td>\n",
              "      <td>No</td>\n",
              "      <td>No</td>\n",
              "      <td>34</td>\n",
              "      <td>Yes</td>\n",
              "      <td>No</td>\n",
              "      <td>DSL</td>\n",
              "      <td>Yes</td>\n",
              "      <td>...</td>\n",
              "      <td>Yes</td>\n",
              "      <td>No</td>\n",
              "      <td>No</td>\n",
              "      <td>No</td>\n",
              "      <td>One year</td>\n",
              "      <td>No</td>\n",
              "      <td>Mailed check</td>\n",
              "      <td>56.95</td>\n",
              "      <td>1889.5</td>\n",
              "      <td>No</td>\n",
              "    </tr>\n",
              "    <tr>\n",
              "      <th>2</th>\n",
              "      <td>3668-QPYBK</td>\n",
              "      <td>Male</td>\n",
              "      <td>0</td>\n",
              "      <td>No</td>\n",
              "      <td>No</td>\n",
              "      <td>2</td>\n",
              "      <td>Yes</td>\n",
              "      <td>No</td>\n",
              "      <td>DSL</td>\n",
              "      <td>Yes</td>\n",
              "      <td>...</td>\n",
              "      <td>No</td>\n",
              "      <td>No</td>\n",
              "      <td>No</td>\n",
              "      <td>No</td>\n",
              "      <td>Month-to-month</td>\n",
              "      <td>Yes</td>\n",
              "      <td>Mailed check</td>\n",
              "      <td>53.85</td>\n",
              "      <td>108.15</td>\n",
              "      <td>Yes</td>\n",
              "    </tr>\n",
              "    <tr>\n",
              "      <th>3</th>\n",
              "      <td>7795-CFOCW</td>\n",
              "      <td>Male</td>\n",
              "      <td>0</td>\n",
              "      <td>No</td>\n",
              "      <td>No</td>\n",
              "      <td>45</td>\n",
              "      <td>No</td>\n",
              "      <td>No phone service</td>\n",
              "      <td>DSL</td>\n",
              "      <td>Yes</td>\n",
              "      <td>...</td>\n",
              "      <td>Yes</td>\n",
              "      <td>Yes</td>\n",
              "      <td>No</td>\n",
              "      <td>No</td>\n",
              "      <td>One year</td>\n",
              "      <td>No</td>\n",
              "      <td>Bank transfer (automatic)</td>\n",
              "      <td>42.30</td>\n",
              "      <td>1840.75</td>\n",
              "      <td>No</td>\n",
              "    </tr>\n",
              "    <tr>\n",
              "      <th>4</th>\n",
              "      <td>9237-HQITU</td>\n",
              "      <td>Female</td>\n",
              "      <td>0</td>\n",
              "      <td>No</td>\n",
              "      <td>No</td>\n",
              "      <td>2</td>\n",
              "      <td>Yes</td>\n",
              "      <td>No</td>\n",
              "      <td>Fiber optic</td>\n",
              "      <td>No</td>\n",
              "      <td>...</td>\n",
              "      <td>No</td>\n",
              "      <td>No</td>\n",
              "      <td>No</td>\n",
              "      <td>No</td>\n",
              "      <td>Month-to-month</td>\n",
              "      <td>Yes</td>\n",
              "      <td>Electronic check</td>\n",
              "      <td>70.70</td>\n",
              "      <td>151.65</td>\n",
              "      <td>Yes</td>\n",
              "    </tr>\n",
              "  </tbody>\n",
              "</table>\n",
              "<p>5 rows × 21 columns</p>\n",
              "</div>"
            ],
            "text/plain": [
              "   customerID  gender  SeniorCitizen Partner Dependents  tenure PhoneService  \\\n",
              "0  7590-VHVEG  Female              0     Yes         No       1           No   \n",
              "1  5575-GNVDE    Male              0      No         No      34          Yes   \n",
              "2  3668-QPYBK    Male              0      No         No       2          Yes   \n",
              "3  7795-CFOCW    Male              0      No         No      45           No   \n",
              "4  9237-HQITU  Female              0      No         No       2          Yes   \n",
              "\n",
              "      MultipleLines InternetService OnlineSecurity  ... DeviceProtection  \\\n",
              "0  No phone service             DSL             No  ...               No   \n",
              "1                No             DSL            Yes  ...              Yes   \n",
              "2                No             DSL            Yes  ...               No   \n",
              "3  No phone service             DSL            Yes  ...              Yes   \n",
              "4                No     Fiber optic             No  ...               No   \n",
              "\n",
              "  TechSupport StreamingTV StreamingMovies        Contract PaperlessBilling  \\\n",
              "0          No          No              No  Month-to-month              Yes   \n",
              "1          No          No              No        One year               No   \n",
              "2          No          No              No  Month-to-month              Yes   \n",
              "3         Yes          No              No        One year               No   \n",
              "4          No          No              No  Month-to-month              Yes   \n",
              "\n",
              "               PaymentMethod MonthlyCharges  TotalCharges Churn  \n",
              "0           Electronic check          29.85         29.85    No  \n",
              "1               Mailed check          56.95        1889.5    No  \n",
              "2               Mailed check          53.85        108.15   Yes  \n",
              "3  Bank transfer (automatic)          42.30       1840.75    No  \n",
              "4           Electronic check          70.70        151.65   Yes  \n",
              "\n",
              "[5 rows x 21 columns]"
            ]
          },
          "execution_count": 155,
          "metadata": {},
          "output_type": "execute_result"
        }
      ],
      "source": [
        "\n",
        "df = pd.read_csv(\"https://raw.githubusercontent.com/IBM/telco-customer-churn-on-icp4d/master/data/Telco-Customer-Churn.csv\")\n",
        "df.head()"
      ]
    },
    {
      "cell_type": "markdown",
      "metadata": {
        "id": "1YOefIZ9LG-_"
      },
      "source": [
        "# Data understanding"
      ]
    },
    {
      "cell_type": "markdown",
      "metadata": {
        "id": "Zgxpz-9rLMKR"
      },
      "source": [
        "### Head"
      ]
    },
    {
      "cell_type": "code",
      "execution_count": 156,
      "metadata": {
        "colab": {
          "base_uri": "https://localhost:8080/",
          "height": 386
        },
        "id": "1hIulBFRDKu-",
        "outputId": "0e2de23a-82bd-4be6-a782-bdc766cdef2b"
      },
      "outputs": [
        {
          "data": {
            "text/html": [
              "<div>\n",
              "<style scoped>\n",
              "    .dataframe tbody tr th:only-of-type {\n",
              "        vertical-align: middle;\n",
              "    }\n",
              "\n",
              "    .dataframe tbody tr th {\n",
              "        vertical-align: top;\n",
              "    }\n",
              "\n",
              "    .dataframe thead th {\n",
              "        text-align: right;\n",
              "    }\n",
              "</style>\n",
              "<table border=\"1\" class=\"dataframe\">\n",
              "  <thead>\n",
              "    <tr style=\"text-align: right;\">\n",
              "      <th></th>\n",
              "      <th>customerID</th>\n",
              "      <th>gender</th>\n",
              "      <th>SeniorCitizen</th>\n",
              "      <th>Partner</th>\n",
              "      <th>Dependents</th>\n",
              "      <th>tenure</th>\n",
              "      <th>PhoneService</th>\n",
              "      <th>MultipleLines</th>\n",
              "      <th>InternetService</th>\n",
              "      <th>OnlineSecurity</th>\n",
              "      <th>...</th>\n",
              "      <th>DeviceProtection</th>\n",
              "      <th>TechSupport</th>\n",
              "      <th>StreamingTV</th>\n",
              "      <th>StreamingMovies</th>\n",
              "      <th>Contract</th>\n",
              "      <th>PaperlessBilling</th>\n",
              "      <th>PaymentMethod</th>\n",
              "      <th>MonthlyCharges</th>\n",
              "      <th>TotalCharges</th>\n",
              "      <th>Churn</th>\n",
              "    </tr>\n",
              "  </thead>\n",
              "  <tbody>\n",
              "    <tr>\n",
              "      <th>0</th>\n",
              "      <td>7590-VHVEG</td>\n",
              "      <td>Female</td>\n",
              "      <td>0</td>\n",
              "      <td>Yes</td>\n",
              "      <td>No</td>\n",
              "      <td>1</td>\n",
              "      <td>No</td>\n",
              "      <td>No phone service</td>\n",
              "      <td>DSL</td>\n",
              "      <td>No</td>\n",
              "      <td>...</td>\n",
              "      <td>No</td>\n",
              "      <td>No</td>\n",
              "      <td>No</td>\n",
              "      <td>No</td>\n",
              "      <td>Month-to-month</td>\n",
              "      <td>Yes</td>\n",
              "      <td>Electronic check</td>\n",
              "      <td>29.85</td>\n",
              "      <td>29.85</td>\n",
              "      <td>No</td>\n",
              "    </tr>\n",
              "    <tr>\n",
              "      <th>1</th>\n",
              "      <td>5575-GNVDE</td>\n",
              "      <td>Male</td>\n",
              "      <td>0</td>\n",
              "      <td>No</td>\n",
              "      <td>No</td>\n",
              "      <td>34</td>\n",
              "      <td>Yes</td>\n",
              "      <td>No</td>\n",
              "      <td>DSL</td>\n",
              "      <td>Yes</td>\n",
              "      <td>...</td>\n",
              "      <td>Yes</td>\n",
              "      <td>No</td>\n",
              "      <td>No</td>\n",
              "      <td>No</td>\n",
              "      <td>One year</td>\n",
              "      <td>No</td>\n",
              "      <td>Mailed check</td>\n",
              "      <td>56.95</td>\n",
              "      <td>1889.5</td>\n",
              "      <td>No</td>\n",
              "    </tr>\n",
              "    <tr>\n",
              "      <th>2</th>\n",
              "      <td>3668-QPYBK</td>\n",
              "      <td>Male</td>\n",
              "      <td>0</td>\n",
              "      <td>No</td>\n",
              "      <td>No</td>\n",
              "      <td>2</td>\n",
              "      <td>Yes</td>\n",
              "      <td>No</td>\n",
              "      <td>DSL</td>\n",
              "      <td>Yes</td>\n",
              "      <td>...</td>\n",
              "      <td>No</td>\n",
              "      <td>No</td>\n",
              "      <td>No</td>\n",
              "      <td>No</td>\n",
              "      <td>Month-to-month</td>\n",
              "      <td>Yes</td>\n",
              "      <td>Mailed check</td>\n",
              "      <td>53.85</td>\n",
              "      <td>108.15</td>\n",
              "      <td>Yes</td>\n",
              "    </tr>\n",
              "    <tr>\n",
              "      <th>3</th>\n",
              "      <td>7795-CFOCW</td>\n",
              "      <td>Male</td>\n",
              "      <td>0</td>\n",
              "      <td>No</td>\n",
              "      <td>No</td>\n",
              "      <td>45</td>\n",
              "      <td>No</td>\n",
              "      <td>No phone service</td>\n",
              "      <td>DSL</td>\n",
              "      <td>Yes</td>\n",
              "      <td>...</td>\n",
              "      <td>Yes</td>\n",
              "      <td>Yes</td>\n",
              "      <td>No</td>\n",
              "      <td>No</td>\n",
              "      <td>One year</td>\n",
              "      <td>No</td>\n",
              "      <td>Bank transfer (automatic)</td>\n",
              "      <td>42.30</td>\n",
              "      <td>1840.75</td>\n",
              "      <td>No</td>\n",
              "    </tr>\n",
              "    <tr>\n",
              "      <th>4</th>\n",
              "      <td>9237-HQITU</td>\n",
              "      <td>Female</td>\n",
              "      <td>0</td>\n",
              "      <td>No</td>\n",
              "      <td>No</td>\n",
              "      <td>2</td>\n",
              "      <td>Yes</td>\n",
              "      <td>No</td>\n",
              "      <td>Fiber optic</td>\n",
              "      <td>No</td>\n",
              "      <td>...</td>\n",
              "      <td>No</td>\n",
              "      <td>No</td>\n",
              "      <td>No</td>\n",
              "      <td>No</td>\n",
              "      <td>Month-to-month</td>\n",
              "      <td>Yes</td>\n",
              "      <td>Electronic check</td>\n",
              "      <td>70.70</td>\n",
              "      <td>151.65</td>\n",
              "      <td>Yes</td>\n",
              "    </tr>\n",
              "  </tbody>\n",
              "</table>\n",
              "<p>5 rows × 21 columns</p>\n",
              "</div>"
            ],
            "text/plain": [
              "   customerID  gender  SeniorCitizen Partner Dependents  tenure PhoneService  \\\n",
              "0  7590-VHVEG  Female              0     Yes         No       1           No   \n",
              "1  5575-GNVDE    Male              0      No         No      34          Yes   \n",
              "2  3668-QPYBK    Male              0      No         No       2          Yes   \n",
              "3  7795-CFOCW    Male              0      No         No      45           No   \n",
              "4  9237-HQITU  Female              0      No         No       2          Yes   \n",
              "\n",
              "      MultipleLines InternetService OnlineSecurity  ... DeviceProtection  \\\n",
              "0  No phone service             DSL             No  ...               No   \n",
              "1                No             DSL            Yes  ...              Yes   \n",
              "2                No             DSL            Yes  ...               No   \n",
              "3  No phone service             DSL            Yes  ...              Yes   \n",
              "4                No     Fiber optic             No  ...               No   \n",
              "\n",
              "  TechSupport StreamingTV StreamingMovies        Contract PaperlessBilling  \\\n",
              "0          No          No              No  Month-to-month              Yes   \n",
              "1          No          No              No        One year               No   \n",
              "2          No          No              No  Month-to-month              Yes   \n",
              "3         Yes          No              No        One year               No   \n",
              "4          No          No              No  Month-to-month              Yes   \n",
              "\n",
              "               PaymentMethod MonthlyCharges  TotalCharges Churn  \n",
              "0           Electronic check          29.85         29.85    No  \n",
              "1               Mailed check          56.95        1889.5    No  \n",
              "2               Mailed check          53.85        108.15   Yes  \n",
              "3  Bank transfer (automatic)          42.30       1840.75    No  \n",
              "4           Electronic check          70.70        151.65   Yes  \n",
              "\n",
              "[5 rows x 21 columns]"
            ]
          },
          "execution_count": 156,
          "metadata": {},
          "output_type": "execute_result"
        }
      ],
      "source": [
        "df.head()"
      ]
    },
    {
      "cell_type": "markdown",
      "metadata": {
        "id": "5f5RRDiRLQJ9"
      },
      "source": [
        "### Tail"
      ]
    },
    {
      "cell_type": "code",
      "execution_count": 157,
      "metadata": {
        "colab": {
          "base_uri": "https://localhost:8080/",
          "height": 386
        },
        "id": "HJ8Bgh2zDQ0i",
        "outputId": "cc032690-cef1-4c7c-f35d-e1c313b0fe57"
      },
      "outputs": [
        {
          "data": {
            "text/html": [
              "<div>\n",
              "<style scoped>\n",
              "    .dataframe tbody tr th:only-of-type {\n",
              "        vertical-align: middle;\n",
              "    }\n",
              "\n",
              "    .dataframe tbody tr th {\n",
              "        vertical-align: top;\n",
              "    }\n",
              "\n",
              "    .dataframe thead th {\n",
              "        text-align: right;\n",
              "    }\n",
              "</style>\n",
              "<table border=\"1\" class=\"dataframe\">\n",
              "  <thead>\n",
              "    <tr style=\"text-align: right;\">\n",
              "      <th></th>\n",
              "      <th>customerID</th>\n",
              "      <th>gender</th>\n",
              "      <th>SeniorCitizen</th>\n",
              "      <th>Partner</th>\n",
              "      <th>Dependents</th>\n",
              "      <th>tenure</th>\n",
              "      <th>PhoneService</th>\n",
              "      <th>MultipleLines</th>\n",
              "      <th>InternetService</th>\n",
              "      <th>OnlineSecurity</th>\n",
              "      <th>...</th>\n",
              "      <th>DeviceProtection</th>\n",
              "      <th>TechSupport</th>\n",
              "      <th>StreamingTV</th>\n",
              "      <th>StreamingMovies</th>\n",
              "      <th>Contract</th>\n",
              "      <th>PaperlessBilling</th>\n",
              "      <th>PaymentMethod</th>\n",
              "      <th>MonthlyCharges</th>\n",
              "      <th>TotalCharges</th>\n",
              "      <th>Churn</th>\n",
              "    </tr>\n",
              "  </thead>\n",
              "  <tbody>\n",
              "    <tr>\n",
              "      <th>7038</th>\n",
              "      <td>6840-RESVB</td>\n",
              "      <td>Male</td>\n",
              "      <td>0</td>\n",
              "      <td>Yes</td>\n",
              "      <td>Yes</td>\n",
              "      <td>24</td>\n",
              "      <td>Yes</td>\n",
              "      <td>Yes</td>\n",
              "      <td>DSL</td>\n",
              "      <td>Yes</td>\n",
              "      <td>...</td>\n",
              "      <td>Yes</td>\n",
              "      <td>Yes</td>\n",
              "      <td>Yes</td>\n",
              "      <td>Yes</td>\n",
              "      <td>One year</td>\n",
              "      <td>Yes</td>\n",
              "      <td>Mailed check</td>\n",
              "      <td>84.80</td>\n",
              "      <td>1990.5</td>\n",
              "      <td>No</td>\n",
              "    </tr>\n",
              "    <tr>\n",
              "      <th>7039</th>\n",
              "      <td>2234-XADUH</td>\n",
              "      <td>Female</td>\n",
              "      <td>0</td>\n",
              "      <td>Yes</td>\n",
              "      <td>Yes</td>\n",
              "      <td>72</td>\n",
              "      <td>Yes</td>\n",
              "      <td>Yes</td>\n",
              "      <td>Fiber optic</td>\n",
              "      <td>No</td>\n",
              "      <td>...</td>\n",
              "      <td>Yes</td>\n",
              "      <td>No</td>\n",
              "      <td>Yes</td>\n",
              "      <td>Yes</td>\n",
              "      <td>One year</td>\n",
              "      <td>Yes</td>\n",
              "      <td>Credit card (automatic)</td>\n",
              "      <td>103.20</td>\n",
              "      <td>7362.9</td>\n",
              "      <td>No</td>\n",
              "    </tr>\n",
              "    <tr>\n",
              "      <th>7040</th>\n",
              "      <td>4801-JZAZL</td>\n",
              "      <td>Female</td>\n",
              "      <td>0</td>\n",
              "      <td>Yes</td>\n",
              "      <td>Yes</td>\n",
              "      <td>11</td>\n",
              "      <td>No</td>\n",
              "      <td>No phone service</td>\n",
              "      <td>DSL</td>\n",
              "      <td>Yes</td>\n",
              "      <td>...</td>\n",
              "      <td>No</td>\n",
              "      <td>No</td>\n",
              "      <td>No</td>\n",
              "      <td>No</td>\n",
              "      <td>Month-to-month</td>\n",
              "      <td>Yes</td>\n",
              "      <td>Electronic check</td>\n",
              "      <td>29.60</td>\n",
              "      <td>346.45</td>\n",
              "      <td>No</td>\n",
              "    </tr>\n",
              "    <tr>\n",
              "      <th>7041</th>\n",
              "      <td>8361-LTMKD</td>\n",
              "      <td>Male</td>\n",
              "      <td>1</td>\n",
              "      <td>Yes</td>\n",
              "      <td>No</td>\n",
              "      <td>4</td>\n",
              "      <td>Yes</td>\n",
              "      <td>Yes</td>\n",
              "      <td>Fiber optic</td>\n",
              "      <td>No</td>\n",
              "      <td>...</td>\n",
              "      <td>No</td>\n",
              "      <td>No</td>\n",
              "      <td>No</td>\n",
              "      <td>No</td>\n",
              "      <td>Month-to-month</td>\n",
              "      <td>Yes</td>\n",
              "      <td>Mailed check</td>\n",
              "      <td>74.40</td>\n",
              "      <td>306.6</td>\n",
              "      <td>Yes</td>\n",
              "    </tr>\n",
              "    <tr>\n",
              "      <th>7042</th>\n",
              "      <td>3186-AJIEK</td>\n",
              "      <td>Male</td>\n",
              "      <td>0</td>\n",
              "      <td>No</td>\n",
              "      <td>No</td>\n",
              "      <td>66</td>\n",
              "      <td>Yes</td>\n",
              "      <td>No</td>\n",
              "      <td>Fiber optic</td>\n",
              "      <td>Yes</td>\n",
              "      <td>...</td>\n",
              "      <td>Yes</td>\n",
              "      <td>Yes</td>\n",
              "      <td>Yes</td>\n",
              "      <td>Yes</td>\n",
              "      <td>Two year</td>\n",
              "      <td>Yes</td>\n",
              "      <td>Bank transfer (automatic)</td>\n",
              "      <td>105.65</td>\n",
              "      <td>6844.5</td>\n",
              "      <td>No</td>\n",
              "    </tr>\n",
              "  </tbody>\n",
              "</table>\n",
              "<p>5 rows × 21 columns</p>\n",
              "</div>"
            ],
            "text/plain": [
              "      customerID  gender  SeniorCitizen Partner Dependents  tenure  \\\n",
              "7038  6840-RESVB    Male              0     Yes        Yes      24   \n",
              "7039  2234-XADUH  Female              0     Yes        Yes      72   \n",
              "7040  4801-JZAZL  Female              0     Yes        Yes      11   \n",
              "7041  8361-LTMKD    Male              1     Yes         No       4   \n",
              "7042  3186-AJIEK    Male              0      No         No      66   \n",
              "\n",
              "     PhoneService     MultipleLines InternetService OnlineSecurity  ...  \\\n",
              "7038          Yes               Yes             DSL            Yes  ...   \n",
              "7039          Yes               Yes     Fiber optic             No  ...   \n",
              "7040           No  No phone service             DSL            Yes  ...   \n",
              "7041          Yes               Yes     Fiber optic             No  ...   \n",
              "7042          Yes                No     Fiber optic            Yes  ...   \n",
              "\n",
              "     DeviceProtection TechSupport StreamingTV StreamingMovies        Contract  \\\n",
              "7038              Yes         Yes         Yes             Yes        One year   \n",
              "7039              Yes          No         Yes             Yes        One year   \n",
              "7040               No          No          No              No  Month-to-month   \n",
              "7041               No          No          No              No  Month-to-month   \n",
              "7042              Yes         Yes         Yes             Yes        Two year   \n",
              "\n",
              "     PaperlessBilling              PaymentMethod MonthlyCharges  TotalCharges  \\\n",
              "7038              Yes               Mailed check          84.80        1990.5   \n",
              "7039              Yes    Credit card (automatic)         103.20        7362.9   \n",
              "7040              Yes           Electronic check          29.60        346.45   \n",
              "7041              Yes               Mailed check          74.40         306.6   \n",
              "7042              Yes  Bank transfer (automatic)         105.65        6844.5   \n",
              "\n",
              "     Churn  \n",
              "7038    No  \n",
              "7039    No  \n",
              "7040    No  \n",
              "7041   Yes  \n",
              "7042    No  \n",
              "\n",
              "[5 rows x 21 columns]"
            ]
          },
          "execution_count": 157,
          "metadata": {},
          "output_type": "execute_result"
        }
      ],
      "source": [
        "df.tail()"
      ]
    },
    {
      "cell_type": "markdown",
      "metadata": {
        "id": "XSVqwGFtLUWh"
      },
      "source": [
        "### **Shape**"
      ]
    },
    {
      "cell_type": "code",
      "execution_count": 158,
      "metadata": {
        "colab": {
          "base_uri": "https://localhost:8080/"
        },
        "id": "uDbO-oE2DRpE",
        "outputId": "739bb524-6549-47c6-f53c-2806145f3d99"
      },
      "outputs": [
        {
          "data": {
            "text/plain": [
              "(7043, 21)"
            ]
          },
          "execution_count": 158,
          "metadata": {},
          "output_type": "execute_result"
        }
      ],
      "source": [
        "df.shape"
      ]
    },
    {
      "cell_type": "markdown",
      "metadata": {
        "id": "n51sEY-_LTjW"
      },
      "source": [
        "### Info"
      ]
    },
    {
      "cell_type": "code",
      "execution_count": 159,
      "metadata": {
        "colab": {
          "base_uri": "https://localhost:8080/"
        },
        "id": "gU6rEu4IDSir",
        "outputId": "90790980-df05-414a-c734-b2104f65bdef"
      },
      "outputs": [
        {
          "name": "stdout",
          "output_type": "stream",
          "text": [
            "<class 'pandas.core.frame.DataFrame'>\n",
            "RangeIndex: 7043 entries, 0 to 7042\n",
            "Data columns (total 21 columns):\n",
            " #   Column            Non-Null Count  Dtype  \n",
            "---  ------            --------------  -----  \n",
            " 0   customerID        7043 non-null   object \n",
            " 1   gender            7043 non-null   object \n",
            " 2   SeniorCitizen     7043 non-null   int64  \n",
            " 3   Partner           7043 non-null   object \n",
            " 4   Dependents        7043 non-null   object \n",
            " 5   tenure            7043 non-null   int64  \n",
            " 6   PhoneService      7043 non-null   object \n",
            " 7   MultipleLines     7043 non-null   object \n",
            " 8   InternetService   7043 non-null   object \n",
            " 9   OnlineSecurity    7043 non-null   object \n",
            " 10  OnlineBackup      7043 non-null   object \n",
            " 11  DeviceProtection  7043 non-null   object \n",
            " 12  TechSupport       7043 non-null   object \n",
            " 13  StreamingTV       7043 non-null   object \n",
            " 14  StreamingMovies   7043 non-null   object \n",
            " 15  Contract          7043 non-null   object \n",
            " 16  PaperlessBilling  7043 non-null   object \n",
            " 17  PaymentMethod     7043 non-null   object \n",
            " 18  MonthlyCharges    7043 non-null   float64\n",
            " 19  TotalCharges      7043 non-null   object \n",
            " 20  Churn             7043 non-null   object \n",
            "dtypes: float64(1), int64(2), object(18)\n",
            "memory usage: 1.1+ MB\n"
          ]
        }
      ],
      "source": [
        "df.info()"
      ]
    },
    {
      "cell_type": "markdown",
      "metadata": {
        "id": "L-_e290ZLYn6"
      },
      "source": [
        "### Describe"
      ]
    },
    {
      "cell_type": "code",
      "execution_count": 160,
      "metadata": {
        "colab": {
          "base_uri": "https://localhost:8080/",
          "height": 300
        },
        "id": "cXgYHa9mDTPu",
        "outputId": "1e314909-94e8-46b7-eecf-15f2c654a29c"
      },
      "outputs": [
        {
          "data": {
            "text/html": [
              "<div>\n",
              "<style scoped>\n",
              "    .dataframe tbody tr th:only-of-type {\n",
              "        vertical-align: middle;\n",
              "    }\n",
              "\n",
              "    .dataframe tbody tr th {\n",
              "        vertical-align: top;\n",
              "    }\n",
              "\n",
              "    .dataframe thead th {\n",
              "        text-align: right;\n",
              "    }\n",
              "</style>\n",
              "<table border=\"1\" class=\"dataframe\">\n",
              "  <thead>\n",
              "    <tr style=\"text-align: right;\">\n",
              "      <th></th>\n",
              "      <th>SeniorCitizen</th>\n",
              "      <th>tenure</th>\n",
              "      <th>MonthlyCharges</th>\n",
              "    </tr>\n",
              "  </thead>\n",
              "  <tbody>\n",
              "    <tr>\n",
              "      <th>count</th>\n",
              "      <td>7043.000000</td>\n",
              "      <td>7043.000000</td>\n",
              "      <td>7043.000000</td>\n",
              "    </tr>\n",
              "    <tr>\n",
              "      <th>mean</th>\n",
              "      <td>0.162147</td>\n",
              "      <td>32.371149</td>\n",
              "      <td>64.761692</td>\n",
              "    </tr>\n",
              "    <tr>\n",
              "      <th>std</th>\n",
              "      <td>0.368612</td>\n",
              "      <td>24.559481</td>\n",
              "      <td>30.090047</td>\n",
              "    </tr>\n",
              "    <tr>\n",
              "      <th>min</th>\n",
              "      <td>0.000000</td>\n",
              "      <td>0.000000</td>\n",
              "      <td>18.250000</td>\n",
              "    </tr>\n",
              "    <tr>\n",
              "      <th>25%</th>\n",
              "      <td>0.000000</td>\n",
              "      <td>9.000000</td>\n",
              "      <td>35.500000</td>\n",
              "    </tr>\n",
              "    <tr>\n",
              "      <th>50%</th>\n",
              "      <td>0.000000</td>\n",
              "      <td>29.000000</td>\n",
              "      <td>70.350000</td>\n",
              "    </tr>\n",
              "    <tr>\n",
              "      <th>75%</th>\n",
              "      <td>0.000000</td>\n",
              "      <td>55.000000</td>\n",
              "      <td>89.850000</td>\n",
              "    </tr>\n",
              "    <tr>\n",
              "      <th>max</th>\n",
              "      <td>1.000000</td>\n",
              "      <td>72.000000</td>\n",
              "      <td>118.750000</td>\n",
              "    </tr>\n",
              "  </tbody>\n",
              "</table>\n",
              "</div>"
            ],
            "text/plain": [
              "       SeniorCitizen       tenure  MonthlyCharges\n",
              "count    7043.000000  7043.000000     7043.000000\n",
              "mean        0.162147    32.371149       64.761692\n",
              "std         0.368612    24.559481       30.090047\n",
              "min         0.000000     0.000000       18.250000\n",
              "25%         0.000000     9.000000       35.500000\n",
              "50%         0.000000    29.000000       70.350000\n",
              "75%         0.000000    55.000000       89.850000\n",
              "max         1.000000    72.000000      118.750000"
            ]
          },
          "execution_count": 160,
          "metadata": {},
          "output_type": "execute_result"
        }
      ],
      "source": [
        "df.describe()"
      ]
    },
    {
      "cell_type": "markdown",
      "metadata": {
        "id": "g7CfEdBoLd8p"
      },
      "source": [
        "### Dtypes"
      ]
    },
    {
      "cell_type": "code",
      "execution_count": 161,
      "metadata": {
        "colab": {
          "base_uri": "https://localhost:8080/"
        },
        "id": "ELe8hs8KDUto",
        "outputId": "70d084fb-6fc9-4d58-fd34-810959a7c4e5"
      },
      "outputs": [
        {
          "data": {
            "text/plain": [
              "customerID           object\n",
              "gender               object\n",
              "SeniorCitizen         int64\n",
              "Partner              object\n",
              "Dependents           object\n",
              "tenure                int64\n",
              "PhoneService         object\n",
              "MultipleLines        object\n",
              "InternetService      object\n",
              "OnlineSecurity       object\n",
              "OnlineBackup         object\n",
              "DeviceProtection     object\n",
              "TechSupport          object\n",
              "StreamingTV          object\n",
              "StreamingMovies      object\n",
              "Contract             object\n",
              "PaperlessBilling     object\n",
              "PaymentMethod        object\n",
              "MonthlyCharges      float64\n",
              "TotalCharges         object\n",
              "Churn                object\n",
              "dtype: object"
            ]
          },
          "execution_count": 161,
          "metadata": {},
          "output_type": "execute_result"
        }
      ],
      "source": [
        "df.dtypes"
      ]
    },
    {
      "cell_type": "markdown",
      "metadata": {
        "id": "LpSZVtSiLgnf"
      },
      "source": [
        "### Columns"
      ]
    },
    {
      "cell_type": "code",
      "execution_count": 162,
      "metadata": {
        "colab": {
          "base_uri": "https://localhost:8080/"
        },
        "id": "jiqdUhWvDVTy",
        "outputId": "d922a2ea-e2ba-4618-f4f6-711ad27cc5b3"
      },
      "outputs": [
        {
          "data": {
            "text/plain": [
              "Index(['customerID', 'gender', 'SeniorCitizen', 'Partner', 'Dependents',\n",
              "       'tenure', 'PhoneService', 'MultipleLines', 'InternetService',\n",
              "       'OnlineSecurity', 'OnlineBackup', 'DeviceProtection', 'TechSupport',\n",
              "       'StreamingTV', 'StreamingMovies', 'Contract', 'PaperlessBilling',\n",
              "       'PaymentMethod', 'MonthlyCharges', 'TotalCharges', 'Churn'],\n",
              "      dtype='object')"
            ]
          },
          "execution_count": 162,
          "metadata": {},
          "output_type": "execute_result"
        }
      ],
      "source": [
        "df.columns"
      ]
    },
    {
      "cell_type": "markdown",
      "metadata": {
        "id": "SAs0r17_Likn"
      },
      "source": [
        "### Droping unwanted column"
      ]
    },
    {
      "cell_type": "code",
      "execution_count": 163,
      "metadata": {
        "id": "lsw7cCHwLTPC"
      },
      "outputs": [],
      "source": [
        "df.drop('customerID',axis =1,inplace =True)"
      ]
    },
    {
      "cell_type": "markdown",
      "metadata": {
        "id": "y20uSdgtLntX"
      },
      "source": [
        "### Missing values"
      ]
    },
    {
      "cell_type": "code",
      "execution_count": 164,
      "metadata": {
        "colab": {
          "base_uri": "https://localhost:8080/",
          "height": 206
        },
        "id": "EzCL8XXpDpSx",
        "outputId": "c92062a7-b27e-474e-a359-cfe9e01ee96a"
      },
      "outputs": [
        {
          "data": {
            "text/html": [
              "<div>\n",
              "<style scoped>\n",
              "    .dataframe tbody tr th:only-of-type {\n",
              "        vertical-align: middle;\n",
              "    }\n",
              "\n",
              "    .dataframe tbody tr th {\n",
              "        vertical-align: top;\n",
              "    }\n",
              "\n",
              "    .dataframe thead th {\n",
              "        text-align: right;\n",
              "    }\n",
              "</style>\n",
              "<table border=\"1\" class=\"dataframe\">\n",
              "  <thead>\n",
              "    <tr style=\"text-align: right;\">\n",
              "      <th></th>\n",
              "      <th>Total</th>\n",
              "      <th>Percent</th>\n",
              "    </tr>\n",
              "  </thead>\n",
              "  <tbody>\n",
              "    <tr>\n",
              "      <th>Churn</th>\n",
              "      <td>0</td>\n",
              "      <td>0.0</td>\n",
              "    </tr>\n",
              "    <tr>\n",
              "      <th>TotalCharges</th>\n",
              "      <td>0</td>\n",
              "      <td>0.0</td>\n",
              "    </tr>\n",
              "    <tr>\n",
              "      <th>SeniorCitizen</th>\n",
              "      <td>0</td>\n",
              "      <td>0.0</td>\n",
              "    </tr>\n",
              "    <tr>\n",
              "      <th>Partner</th>\n",
              "      <td>0</td>\n",
              "      <td>0.0</td>\n",
              "    </tr>\n",
              "    <tr>\n",
              "      <th>Dependents</th>\n",
              "      <td>0</td>\n",
              "      <td>0.0</td>\n",
              "    </tr>\n",
              "  </tbody>\n",
              "</table>\n",
              "</div>"
            ],
            "text/plain": [
              "               Total  Percent\n",
              "Churn              0      0.0\n",
              "TotalCharges       0      0.0\n",
              "SeniorCitizen      0      0.0\n",
              "Partner            0      0.0\n",
              "Dependents         0      0.0"
            ]
          },
          "execution_count": 164,
          "metadata": {},
          "output_type": "execute_result"
        }
      ],
      "source": [
        "# Missing values\n",
        "total = df.isnull().sum().sort_values(ascending=False)\n",
        "percent = ((df.isnull().sum()/df.isnull().count())*100).sort_values(ascending=False)\n",
        "missing_data = pd.concat([total, percent], axis=1, keys=['Total', 'Percent'])\n",
        "missing_data.head()"
      ]
    },
    {
      "cell_type": "markdown",
      "metadata": {
        "id": "mldRxV_RLuOi"
      },
      "source": [
        "### Missing values categorical"
      ]
    },
    {
      "cell_type": "code",
      "execution_count": 165,
      "metadata": {
        "colab": {
          "base_uri": "https://localhost:8080/",
          "height": 341
        },
        "id": "e-gl_hBND-lJ",
        "outputId": "e343f009-3017-4624-b4ce-60595e9c97c3"
      },
      "outputs": [
        {
          "name": "stdout",
          "output_type": "stream",
          "text": [
            "InternetService  :  0\n",
            "PaymentMethod  :  0\n",
            "Partner  :  0\n",
            "Churn  :  0\n",
            "OnlineBackup  :  0\n",
            "TechSupport  :  0\n",
            "PaperlessBilling  :  0\n",
            "StreamingMovies  :  0\n",
            "StreamingTV  :  0\n",
            "Contract  :  0\n",
            "DeviceProtection  :  0\n",
            "TotalCharges  :  11\n",
            "Dependents  :  0\n",
            "gender  :  0\n",
            "OnlineSecurity  :  0\n",
            "PhoneService  :  0\n",
            "MultipleLines  :  0\n"
          ]
        },
        {
          "data": {
            "text/markdown": [
              "TotalCharges is an object datatype, it has **11** 'nan' value"
            ],
            "text/plain": [
              "<IPython.core.display.Markdown object>"
            ]
          },
          "metadata": {},
          "output_type": "display_data"
        }
      ],
      "source": [
        "# categorical null values\n",
        "\n",
        "cat_cols = set(df.columns) - set(df._get_numeric_data().columns)\n",
        "\n",
        "for cat in cat_cols:\n",
        "  print(cat,\" : \",df[cat].apply(lambda x:len(x.strip()) == 0 or x.strip().lower() == 'nan').sum())\n",
        "\n",
        "printmd(\"TotalCharges is an object datatype, it has **11** 'nan' value\")"
      ]
    },
    {
      "cell_type": "markdown",
      "metadata": {
        "id": "EGGJe2MTLxwH"
      },
      "source": [
        "### Change data types"
      ]
    },
    {
      "cell_type": "code",
      "execution_count": 166,
      "metadata": {
        "id": "aLVumYerEjRu"
      },
      "outputs": [],
      "source": [
        "# changing data types\n",
        "\n",
        "df[\"TotalCharges\"] = pd.to_numeric(df[\"TotalCharges\"], errors = 'coerce')"
      ]
    },
    {
      "cell_type": "code",
      "execution_count": 167,
      "metadata": {
        "id": "y1NtFlGaEuTe"
      },
      "outputs": [],
      "source": [
        "df['TotalCharges'].replace('nan',0,inplace =True)"
      ]
    },
    {
      "cell_type": "code",
      "execution_count": 168,
      "metadata": {
        "id": "s1CkSL2IE-XA"
      },
      "outputs": [],
      "source": [
        "df.dropna(inplace = True)"
      ]
    },
    {
      "cell_type": "code",
      "execution_count": 169,
      "metadata": {
        "colab": {
          "base_uri": "https://localhost:8080/",
          "height": 81
        },
        "id": "XJBHjE82DvNM",
        "outputId": "0d106927-4a1f-4407-9308-50f90332c0d5"
      },
      "outputs": [
        {
          "name": "stdout",
          "output_type": "stream",
          "text": [
            "Known observations: 7032\n",
            "Unique observations: 7010\n"
          ]
        },
        {
          "data": {
            "text/markdown": [
              "**No duplicates Found!**"
            ],
            "text/plain": [
              "<IPython.core.display.Markdown object>"
            ]
          },
          "metadata": {},
          "output_type": "display_data"
        }
      ],
      "source": [
        "\n",
        "print('Known observations: {}\\nUnique observations: {}'.format(len(df.index),len(df.drop_duplicates().index)))\n",
        "\n",
        "printmd(\"**No duplicates Found!**\")"
      ]
    },
    {
      "cell_type": "markdown",
      "metadata": {
        "id": "P_k6YQPRL3zG"
      },
      "source": [
        "### Numerical columns"
      ]
    },
    {
      "cell_type": "code",
      "execution_count": 170,
      "metadata": {
        "colab": {
          "base_uri": "https://localhost:8080/",
          "height": 206
        },
        "id": "ST_Xxom_D0PA",
        "outputId": "17eda4fe-4395-4cff-85b1-0f08ef48b1e9"
      },
      "outputs": [
        {
          "data": {
            "text/html": [
              "<div>\n",
              "<style scoped>\n",
              "    .dataframe tbody tr th:only-of-type {\n",
              "        vertical-align: middle;\n",
              "    }\n",
              "\n",
              "    .dataframe tbody tr th {\n",
              "        vertical-align: top;\n",
              "    }\n",
              "\n",
              "    .dataframe thead th {\n",
              "        text-align: right;\n",
              "    }\n",
              "</style>\n",
              "<table border=\"1\" class=\"dataframe\">\n",
              "  <thead>\n",
              "    <tr style=\"text-align: right;\">\n",
              "      <th></th>\n",
              "      <th>SeniorCitizen</th>\n",
              "      <th>tenure</th>\n",
              "      <th>MonthlyCharges</th>\n",
              "      <th>TotalCharges</th>\n",
              "    </tr>\n",
              "  </thead>\n",
              "  <tbody>\n",
              "    <tr>\n",
              "      <th>0</th>\n",
              "      <td>0</td>\n",
              "      <td>1</td>\n",
              "      <td>29.85</td>\n",
              "      <td>29.85</td>\n",
              "    </tr>\n",
              "    <tr>\n",
              "      <th>1</th>\n",
              "      <td>0</td>\n",
              "      <td>34</td>\n",
              "      <td>56.95</td>\n",
              "      <td>1889.50</td>\n",
              "    </tr>\n",
              "    <tr>\n",
              "      <th>2</th>\n",
              "      <td>0</td>\n",
              "      <td>2</td>\n",
              "      <td>53.85</td>\n",
              "      <td>108.15</td>\n",
              "    </tr>\n",
              "    <tr>\n",
              "      <th>3</th>\n",
              "      <td>0</td>\n",
              "      <td>45</td>\n",
              "      <td>42.30</td>\n",
              "      <td>1840.75</td>\n",
              "    </tr>\n",
              "    <tr>\n",
              "      <th>4</th>\n",
              "      <td>0</td>\n",
              "      <td>2</td>\n",
              "      <td>70.70</td>\n",
              "      <td>151.65</td>\n",
              "    </tr>\n",
              "  </tbody>\n",
              "</table>\n",
              "</div>"
            ],
            "text/plain": [
              "   SeniorCitizen  tenure  MonthlyCharges  TotalCharges\n",
              "0              0       1           29.85         29.85\n",
              "1              0      34           56.95       1889.50\n",
              "2              0       2           53.85        108.15\n",
              "3              0      45           42.30       1840.75\n",
              "4              0       2           70.70        151.65"
            ]
          },
          "execution_count": 170,
          "metadata": {},
          "output_type": "execute_result"
        }
      ],
      "source": [
        "# Numerical Features\n",
        "\n",
        "\n",
        "#numerical columnns\n",
        "\n",
        "numerical_features = df.select_dtypes(include = np.number)\n",
        "numerical_features.head()"
      ]
    },
    {
      "cell_type": "code",
      "execution_count": 171,
      "metadata": {
        "colab": {
          "base_uri": "https://localhost:8080/"
        },
        "id": "liWRLCw3D4rl",
        "outputId": "381e43ba-e933-4f18-fcef-49bfe68090a0"
      },
      "outputs": [
        {
          "data": {
            "text/plain": [
              "4"
            ]
          },
          "execution_count": 171,
          "metadata": {},
          "output_type": "execute_result"
        }
      ],
      "source": [
        "len(numerical_features.columns)"
      ]
    },
    {
      "cell_type": "markdown",
      "metadata": {
        "id": "zJDcJSY1L7Rm"
      },
      "source": [
        "### Categorical Columns"
      ]
    },
    {
      "cell_type": "code",
      "execution_count": 172,
      "metadata": {
        "colab": {
          "base_uri": "https://localhost:8080/",
          "height": 340
        },
        "id": "HQh-amuID8XY",
        "outputId": "355189c9-ce76-4787-d5f8-8dd98bd8c330"
      },
      "outputs": [
        {
          "data": {
            "text/html": [
              "<div>\n",
              "<style scoped>\n",
              "    .dataframe tbody tr th:only-of-type {\n",
              "        vertical-align: middle;\n",
              "    }\n",
              "\n",
              "    .dataframe tbody tr th {\n",
              "        vertical-align: top;\n",
              "    }\n",
              "\n",
              "    .dataframe thead th {\n",
              "        text-align: right;\n",
              "    }\n",
              "</style>\n",
              "<table border=\"1\" class=\"dataframe\">\n",
              "  <thead>\n",
              "    <tr style=\"text-align: right;\">\n",
              "      <th></th>\n",
              "      <th>gender</th>\n",
              "      <th>Partner</th>\n",
              "      <th>Dependents</th>\n",
              "      <th>PhoneService</th>\n",
              "      <th>MultipleLines</th>\n",
              "      <th>InternetService</th>\n",
              "      <th>OnlineSecurity</th>\n",
              "      <th>OnlineBackup</th>\n",
              "      <th>DeviceProtection</th>\n",
              "      <th>TechSupport</th>\n",
              "      <th>StreamingTV</th>\n",
              "      <th>StreamingMovies</th>\n",
              "      <th>Contract</th>\n",
              "      <th>PaperlessBilling</th>\n",
              "      <th>PaymentMethod</th>\n",
              "      <th>Churn</th>\n",
              "    </tr>\n",
              "  </thead>\n",
              "  <tbody>\n",
              "    <tr>\n",
              "      <th>0</th>\n",
              "      <td>Female</td>\n",
              "      <td>Yes</td>\n",
              "      <td>No</td>\n",
              "      <td>No</td>\n",
              "      <td>No phone service</td>\n",
              "      <td>DSL</td>\n",
              "      <td>No</td>\n",
              "      <td>Yes</td>\n",
              "      <td>No</td>\n",
              "      <td>No</td>\n",
              "      <td>No</td>\n",
              "      <td>No</td>\n",
              "      <td>Month-to-month</td>\n",
              "      <td>Yes</td>\n",
              "      <td>Electronic check</td>\n",
              "      <td>No</td>\n",
              "    </tr>\n",
              "    <tr>\n",
              "      <th>1</th>\n",
              "      <td>Male</td>\n",
              "      <td>No</td>\n",
              "      <td>No</td>\n",
              "      <td>Yes</td>\n",
              "      <td>No</td>\n",
              "      <td>DSL</td>\n",
              "      <td>Yes</td>\n",
              "      <td>No</td>\n",
              "      <td>Yes</td>\n",
              "      <td>No</td>\n",
              "      <td>No</td>\n",
              "      <td>No</td>\n",
              "      <td>One year</td>\n",
              "      <td>No</td>\n",
              "      <td>Mailed check</td>\n",
              "      <td>No</td>\n",
              "    </tr>\n",
              "    <tr>\n",
              "      <th>2</th>\n",
              "      <td>Male</td>\n",
              "      <td>No</td>\n",
              "      <td>No</td>\n",
              "      <td>Yes</td>\n",
              "      <td>No</td>\n",
              "      <td>DSL</td>\n",
              "      <td>Yes</td>\n",
              "      <td>Yes</td>\n",
              "      <td>No</td>\n",
              "      <td>No</td>\n",
              "      <td>No</td>\n",
              "      <td>No</td>\n",
              "      <td>Month-to-month</td>\n",
              "      <td>Yes</td>\n",
              "      <td>Mailed check</td>\n",
              "      <td>Yes</td>\n",
              "    </tr>\n",
              "    <tr>\n",
              "      <th>3</th>\n",
              "      <td>Male</td>\n",
              "      <td>No</td>\n",
              "      <td>No</td>\n",
              "      <td>No</td>\n",
              "      <td>No phone service</td>\n",
              "      <td>DSL</td>\n",
              "      <td>Yes</td>\n",
              "      <td>No</td>\n",
              "      <td>Yes</td>\n",
              "      <td>Yes</td>\n",
              "      <td>No</td>\n",
              "      <td>No</td>\n",
              "      <td>One year</td>\n",
              "      <td>No</td>\n",
              "      <td>Bank transfer (automatic)</td>\n",
              "      <td>No</td>\n",
              "    </tr>\n",
              "    <tr>\n",
              "      <th>4</th>\n",
              "      <td>Female</td>\n",
              "      <td>No</td>\n",
              "      <td>No</td>\n",
              "      <td>Yes</td>\n",
              "      <td>No</td>\n",
              "      <td>Fiber optic</td>\n",
              "      <td>No</td>\n",
              "      <td>No</td>\n",
              "      <td>No</td>\n",
              "      <td>No</td>\n",
              "      <td>No</td>\n",
              "      <td>No</td>\n",
              "      <td>Month-to-month</td>\n",
              "      <td>Yes</td>\n",
              "      <td>Electronic check</td>\n",
              "      <td>Yes</td>\n",
              "    </tr>\n",
              "  </tbody>\n",
              "</table>\n",
              "</div>"
            ],
            "text/plain": [
              "   gender Partner Dependents PhoneService     MultipleLines InternetService  \\\n",
              "0  Female     Yes         No           No  No phone service             DSL   \n",
              "1    Male      No         No          Yes                No             DSL   \n",
              "2    Male      No         No          Yes                No             DSL   \n",
              "3    Male      No         No           No  No phone service             DSL   \n",
              "4  Female      No         No          Yes                No     Fiber optic   \n",
              "\n",
              "  OnlineSecurity OnlineBackup DeviceProtection TechSupport StreamingTV  \\\n",
              "0             No          Yes               No          No          No   \n",
              "1            Yes           No              Yes          No          No   \n",
              "2            Yes          Yes               No          No          No   \n",
              "3            Yes           No              Yes         Yes          No   \n",
              "4             No           No               No          No          No   \n",
              "\n",
              "  StreamingMovies        Contract PaperlessBilling              PaymentMethod  \\\n",
              "0              No  Month-to-month              Yes           Electronic check   \n",
              "1              No        One year               No               Mailed check   \n",
              "2              No  Month-to-month              Yes               Mailed check   \n",
              "3              No        One year               No  Bank transfer (automatic)   \n",
              "4              No  Month-to-month              Yes           Electronic check   \n",
              "\n",
              "  Churn  \n",
              "0    No  \n",
              "1    No  \n",
              "2   Yes  \n",
              "3    No  \n",
              "4   Yes  "
            ]
          },
          "execution_count": 172,
          "metadata": {},
          "output_type": "execute_result"
        }
      ],
      "source": [
        "# caterigorical columns\n",
        "\n",
        "categorical_features = df.select_dtypes(exclude =np.number)\n",
        "categorical_features.head()"
      ]
    },
    {
      "cell_type": "code",
      "execution_count": 173,
      "metadata": {
        "colab": {
          "base_uri": "https://localhost:8080/"
        },
        "id": "63Ijya3XfHJl",
        "outputId": "7b22f8dd-de7c-464c-b1e6-9726abea3d26"
      },
      "outputs": [
        {
          "data": {
            "text/plain": [
              "Index([], dtype='object')"
            ]
          },
          "execution_count": 173,
          "metadata": {},
          "output_type": "execute_result"
        }
      ],
      "source": [
        "df.dtypes[df.dtypes == 'category'].index"
      ]
    },
    {
      "cell_type": "markdown",
      "metadata": {
        "id": "VW3aoou5L_an"
      },
      "source": [
        "### Unique values in columns\n"
      ]
    },
    {
      "cell_type": "code",
      "execution_count": 174,
      "metadata": {
        "colab": {
          "base_uri": "https://localhost:8080/"
        },
        "id": "qyw4rcKeD62H",
        "outputId": "68c20f30-88b4-4330-ffac-61958f6e7be4"
      },
      "outputs": [
        {
          "name": "stdout",
          "output_type": "stream",
          "text": [
            "Feature gender has 2 No. of unique values\n",
            "Feature SeniorCitizen has 2 No. of unique values\n",
            "Feature Partner has 2 No. of unique values\n",
            "Feature Dependents has 2 No. of unique values\n",
            "Feature tenure has 72 No. of unique values\n",
            "Feature PhoneService has 2 No. of unique values\n",
            "Feature MultipleLines has 3 No. of unique values\n",
            "Feature InternetService has 3 No. of unique values\n",
            "Feature OnlineSecurity has 3 No. of unique values\n",
            "Feature OnlineBackup has 3 No. of unique values\n",
            "Feature DeviceProtection has 3 No. of unique values\n",
            "Feature TechSupport has 3 No. of unique values\n",
            "Feature StreamingTV has 3 No. of unique values\n",
            "Feature StreamingMovies has 3 No. of unique values\n",
            "Feature Contract has 3 No. of unique values\n",
            "Feature PaperlessBilling has 2 No. of unique values\n",
            "Feature PaymentMethod has 4 No. of unique values\n",
            "Feature MonthlyCharges has 1584 No. of unique values\n",
            "Feature TotalCharges has 6530 No. of unique values\n",
            "Feature Churn has 2 No. of unique values\n"
          ]
        }
      ],
      "source": [
        "\n",
        "### Count of unique values in numerical features\n",
        "for feature in [feature for feature in df.columns if feature not in ['class']]:\n",
        "  print(\"Feature {} has {} No. of unique values\".format(feature,df[feature].nunique()))"
      ]
    },
    {
      "cell_type": "markdown",
      "metadata": {
        "id": "8kmORI4iMF7y"
      },
      "source": [
        "### Binning Numerical Columns"
      ]
    },
    {
      "cell_type": "code",
      "execution_count": 175,
      "metadata": {
        "id": "00TctqcNELnk"
      },
      "outputs": [],
      "source": [
        "#Binning\n",
        "\n",
        "\n",
        "\n",
        "def binning_feature(feature):\n",
        "  plt.hist(df[feature])\n",
        "\n",
        "  # set x/y labels and plot title\n",
        "  plt.xlabel(f\"{feature.title()}\")\n",
        "  plt.ylabel(\"Count\")\n",
        "  plt.title(f\"{feature.title()} Bins\")\n",
        "  plt.show()\n",
        "\n",
        "  bins = np.linspace(min(df[feature]), max(df[feature]), 4)\n",
        "  printmd(\"**Value Range**\")\n",
        "\n",
        "  printmd(f\"Low ({bins[0] : .2f} - {bins[1]: .2f})\")\n",
        "  printmd(f\"Medium ({bins[1]: .2f} - {bins[2]: .2f})\")\n",
        "  printmd(f\"High ({bins[2]: .2f} - {bins[3]: .2f})\")\n",
        "  group_names = ['Low', 'Medium', 'High']\n",
        "  \n",
        "  df.insert(df.shape[1]-1,f'{feature}-binned', pd.cut(df[feature], bins, labels=group_names, include_lowest=True))\n",
        "  display(df[[feature, f'{feature}-binned']].head(10))\n",
        "\n",
        "\n",
        "  # count values\n",
        "  printmd(\"**Binning Distribution**\")\n",
        "  display(df[f'{feature}-binned'].value_counts())\n",
        "\n",
        "\n",
        "  # plot the distribution of each bin\n",
        "  plt.bar(group_names, df[f'{feature}-binned'].value_counts())\n",
        "\n",
        "\n",
        "  plt.xlabel(f\"{feature.title()}\")\n",
        "  plt.ylabel(\"Count\")\n",
        "  plt.title(f\"{feature.title()} Bins\")\n",
        "  plt.show()"
      ]
    },
    {
      "cell_type": "code",
      "execution_count": 176,
      "metadata": {
        "colab": {
          "base_uri": "https://localhost:8080/",
          "height": 1000
        },
        "id": "ij7iD2wdFMzM",
        "outputId": "043423b1-3bd2-403f-a98d-71b1f2cf4f28"
      },
      "outputs": [
        {
          "data": {
            "image/png": "[encoded data removed]",
            "text/plain": [
              "<Figure size 720x432 with 1 Axes>"
            ]
          },
          "metadata": {},
          "output_type": "display_data"
        },
        {
          "data": {
            "text/markdown": [
              "**Value Range**"
            ],
            "text/plain": [
              "<IPython.core.display.Markdown object>"
            ]
          },
          "metadata": {},
          "output_type": "display_data"
        },
        {
          "data": {
            "text/markdown": [
              "Low ( 1.00 -  24.67)"
            ],
            "text/plain": [
              "<IPython.core.display.Markdown object>"
            ]
          },
          "metadata": {},
          "output_type": "display_data"
        },
        {
          "data": {
            "text/markdown": [
              "Medium ( 24.67 -  48.33)"
            ],
            "text/plain": [
              "<IPython.core.display.Markdown object>"
            ]
          },
          "metadata": {},
          "output_type": "display_data"
        },
        {
          "data": {
            "text/markdown": [
              "High ( 48.33 -  72.00)"
            ],
            "text/plain": [
              "<IPython.core.display.Markdown object>"
            ]
          },
          "metadata": {},
          "output_type": "display_data"
        },
        {
          "data": {
            "text/html": [
              "<div>\n",
              "<style scoped>\n",
              "    .dataframe tbody tr th:only-of-type {\n",
              "        vertical-align: middle;\n",
              "    }\n",
              "\n",
              "    .dataframe tbody tr th {\n",
              "        vertical-align: top;\n",
              "    }\n",
              "\n",
              "    .dataframe thead th {\n",
              "        text-align: right;\n",
              "    }\n",
              "</style>\n",
              "<table border=\"1\" class=\"dataframe\">\n",
              "  <thead>\n",
              "    <tr style=\"text-align: right;\">\n",
              "      <th></th>\n",
              "      <th>tenure</th>\n",
              "      <th>tenure-binned</th>\n",
              "    </tr>\n",
              "  </thead>\n",
              "  <tbody>\n",
              "    <tr>\n",
              "      <th>0</th>\n",
              "      <td>1</td>\n",
              "      <td>Low</td>\n",
              "    </tr>\n",
              "    <tr>\n",
              "      <th>1</th>\n",
              "      <td>34</td>\n",
              "      <td>Medium</td>\n",
              "    </tr>\n",
              "    <tr>\n",
              "      <th>2</th>\n",
              "      <td>2</td>\n",
              "      <td>Low</td>\n",
              "    </tr>\n",
              "    <tr>\n",
              "      <th>3</th>\n",
              "      <td>45</td>\n",
              "      <td>Medium</td>\n",
              "    </tr>\n",
              "    <tr>\n",
              "      <th>4</th>\n",
              "      <td>2</td>\n",
              "      <td>Low</td>\n",
              "    </tr>\n",
              "    <tr>\n",
              "      <th>5</th>\n",
              "      <td>8</td>\n",
              "      <td>Low</td>\n",
              "    </tr>\n",
              "    <tr>\n",
              "      <th>6</th>\n",
              "      <td>22</td>\n",
              "      <td>Low</td>\n",
              "    </tr>\n",
              "    <tr>\n",
              "      <th>7</th>\n",
              "      <td>10</td>\n",
              "      <td>Low</td>\n",
              "    </tr>\n",
              "    <tr>\n",
              "      <th>8</th>\n",
              "      <td>28</td>\n",
              "      <td>Medium</td>\n",
              "    </tr>\n",
              "    <tr>\n",
              "      <th>9</th>\n",
              "      <td>62</td>\n",
              "      <td>High</td>\n",
              "    </tr>\n",
              "  </tbody>\n",
              "</table>\n",
              "</div>"
            ],
            "text/plain": [
              "   tenure tenure-binned\n",
              "0       1           Low\n",
              "1      34        Medium\n",
              "2       2           Low\n",
              "3      45        Medium\n",
              "4       2           Low\n",
              "5       8           Low\n",
              "6      22           Low\n",
              "7      10           Low\n",
              "8      28        Medium\n",
              "9      62          High"
            ]
          },
          "metadata": {},
          "output_type": "display_data"
        },
        {
          "data": {
            "text/markdown": [
              "**Binning Distribution**"
            ],
            "text/plain": [
              "<IPython.core.display.Markdown object>"
            ]
          },
          "metadata": {},
          "output_type": "display_data"
        },
        {
          "data": {
            "text/plain": [
              "Low       3199\n",
              "High      2239\n",
              "Medium    1594\n",
              "Name: tenure-binned, dtype: int64"
            ]
          },
          "metadata": {},
          "output_type": "display_data"
        },
        {
          "data": {
            "image/png": "[encoded data removed]",
            "text/plain": [
              "<Figure size 720x432 with 1 Axes>"
            ]
          },
          "metadata": {},
          "output_type": "display_data"
        }
      ],
      "source": [
        "\n",
        "binning_feature('tenure')"
      ]
    },
    {
      "cell_type": "code",
      "execution_count": 177,
      "metadata": {
        "colab": {
          "base_uri": "https://localhost:8080/",
          "height": 1000
        },
        "id": "QQ2hD5eaFgEQ",
        "outputId": "323d3394-11f5-4a7a-b512-53571e11206f"
      },
      "outputs": [
        {
          "data": {
            "image/png": "[encoded data removed]",
            "text/plain": [
              "<Figure size 720x432 with 1 Axes>"
            ]
          },
          "metadata": {},
          "output_type": "display_data"
        },
        {
          "data": {
            "text/markdown": [
              "**Value Range**"
            ],
            "text/plain": [
              "<IPython.core.display.Markdown object>"
            ]
          },
          "metadata": {},
          "output_type": "display_data"
        },
        {
          "data": {
            "text/markdown": [
              "Low ( 18.25 -  51.75)"
            ],
            "text/plain": [
              "<IPython.core.display.Markdown object>"
            ]
          },
          "metadata": {},
          "output_type": "display_data"
        },
        {
          "data": {
            "text/markdown": [
              "Medium ( 51.75 -  85.25)"
            ],
            "text/plain": [
              "<IPython.core.display.Markdown object>"
            ]
          },
          "metadata": {},
          "output_type": "display_data"
        },
        {
          "data": {
            "text/markdown": [
              "High ( 85.25 -  118.75)"
            ],
            "text/plain": [
              "<IPython.core.display.Markdown object>"
            ]
          },
          "metadata": {},
          "output_type": "display_data"
        },
        {
          "data": {
            "text/html": [
              "<div>\n",
              "<style scoped>\n",
              "    .dataframe tbody tr th:only-of-type {\n",
              "        vertical-align: middle;\n",
              "    }\n",
              "\n",
              "    .dataframe tbody tr th {\n",
              "        vertical-align: top;\n",
              "    }\n",
              "\n",
              "    .dataframe thead th {\n",
              "        text-align: right;\n",
              "    }\n",
              "</style>\n",
              "<table border=\"1\" class=\"dataframe\">\n",
              "  <thead>\n",
              "    <tr style=\"text-align: right;\">\n",
              "      <th></th>\n",
              "      <th>MonthlyCharges</th>\n",
              "      <th>MonthlyCharges-binned</th>\n",
              "    </tr>\n",
              "  </thead>\n",
              "  <tbody>\n",
              "    <tr>\n",
              "      <th>0</th>\n",
              "      <td>29.85</td>\n",
              "      <td>Low</td>\n",
              "    </tr>\n",
              "    <tr>\n",
              "      <th>1</th>\n",
              "      <td>56.95</td>\n",
              "      <td>Medium</td>\n",
              "    </tr>\n",
              "    <tr>\n",
              "      <th>2</th>\n",
              "      <td>53.85</td>\n",
              "      <td>Medium</td>\n",
              "    </tr>\n",
              "    <tr>\n",
              "      <th>3</th>\n",
              "      <td>42.30</td>\n",
              "      <td>Low</td>\n",
              "    </tr>\n",
              "    <tr>\n",
              "      <th>4</th>\n",
              "      <td>70.70</td>\n",
              "      <td>Medium</td>\n",
              "    </tr>\n",
              "    <tr>\n",
              "      <th>5</th>\n",
              "      <td>99.65</td>\n",
              "      <td>High</td>\n",
              "    </tr>\n",
              "    <tr>\n",
              "      <th>6</th>\n",
              "      <td>89.10</td>\n",
              "      <td>High</td>\n",
              "    </tr>\n",
              "    <tr>\n",
              "      <th>7</th>\n",
              "      <td>29.75</td>\n",
              "      <td>Low</td>\n",
              "    </tr>\n",
              "    <tr>\n",
              "      <th>8</th>\n",
              "      <td>104.80</td>\n",
              "      <td>High</td>\n",
              "    </tr>\n",
              "    <tr>\n",
              "      <th>9</th>\n",
              "      <td>56.15</td>\n",
              "      <td>Medium</td>\n",
              "    </tr>\n",
              "  </tbody>\n",
              "</table>\n",
              "</div>"
            ],
            "text/plain": [
              "   MonthlyCharges MonthlyCharges-binned\n",
              "0           29.85                   Low\n",
              "1           56.95                Medium\n",
              "2           53.85                Medium\n",
              "3           42.30                   Low\n",
              "4           70.70                Medium\n",
              "5           99.65                  High\n",
              "6           89.10                  High\n",
              "7           29.75                   Low\n",
              "8          104.80                  High\n",
              "9           56.15                Medium"
            ]
          },
          "metadata": {},
          "output_type": "display_data"
        },
        {
          "data": {
            "text/markdown": [
              "**Binning Distribution**"
            ],
            "text/plain": [
              "<IPython.core.display.Markdown object>"
            ]
          },
          "metadata": {},
          "output_type": "display_data"
        },
        {
          "data": {
            "text/plain": [
              "Low       2445\n",
              "Medium    2434\n",
              "High      2153\n",
              "Name: MonthlyCharges-binned, dtype: int64"
            ]
          },
          "metadata": {},
          "output_type": "display_data"
        },
        {
          "data": {
            "image/png": "[encoded data removed]",
            "text/plain": [
              "<Figure size 720x432 with 1 Axes>"
            ]
          },
          "metadata": {},
          "output_type": "display_data"
        }
      ],
      "source": [
        "\n",
        "binning_feature('MonthlyCharges')"
      ]
    },
    {
      "cell_type": "code",
      "execution_count": 178,
      "metadata": {
        "colab": {
          "base_uri": "https://localhost:8080/",
          "height": 1000
        },
        "id": "PqBDOgg8FjmY",
        "outputId": "5e612c14-b8d7-4927-b56c-5da85b608987"
      },
      "outputs": [
        {
          "data": {
            "image/png": "[encoded data removed]",
            "text/plain": [
              "<Figure size 720x432 with 1 Axes>"
            ]
          },
          "metadata": {},
          "output_type": "display_data"
        },
        {
          "data": {
            "text/markdown": [
              "**Value Range**"
            ],
            "text/plain": [
              "<IPython.core.display.Markdown object>"
            ]
          },
          "metadata": {},
          "output_type": "display_data"
        },
        {
          "data": {
            "text/markdown": [
              "Low ( 18.80 -  2907.47)"
            ],
            "text/plain": [
              "<IPython.core.display.Markdown object>"
            ]
          },
          "metadata": {},
          "output_type": "display_data"
        },
        {
          "data": {
            "text/markdown": [
              "Medium ( 2907.47 -  5796.13)"
            ],
            "text/plain": [
              "<IPython.core.display.Markdown object>"
            ]
          },
          "metadata": {},
          "output_type": "display_data"
        },
        {
          "data": {
            "text/markdown": [
              "High ( 5796.13 -  8684.80)"
            ],
            "text/plain": [
              "<IPython.core.display.Markdown object>"
            ]
          },
          "metadata": {},
          "output_type": "display_data"
        },
        {
          "data": {
            "text/html": [
              "<div>\n",
              "<style scoped>\n",
              "    .dataframe tbody tr th:only-of-type {\n",
              "        vertical-align: middle;\n",
              "    }\n",
              "\n",
              "    .dataframe tbody tr th {\n",
              "        vertical-align: top;\n",
              "    }\n",
              "\n",
              "    .dataframe thead th {\n",
              "        text-align: right;\n",
              "    }\n",
              "</style>\n",
              "<table border=\"1\" class=\"dataframe\">\n",
              "  <thead>\n",
              "    <tr style=\"text-align: right;\">\n",
              "      <th></th>\n",
              "      <th>TotalCharges</th>\n",
              "      <th>TotalCharges-binned</th>\n",
              "    </tr>\n",
              "  </thead>\n",
              "  <tbody>\n",
              "    <tr>\n",
              "      <th>0</th>\n",
              "      <td>29.85</td>\n",
              "      <td>Low</td>\n",
              "    </tr>\n",
              "    <tr>\n",
              "      <th>1</th>\n",
              "      <td>1889.50</td>\n",
              "      <td>Low</td>\n",
              "    </tr>\n",
              "    <tr>\n",
              "      <th>2</th>\n",
              "      <td>108.15</td>\n",
              "      <td>Low</td>\n",
              "    </tr>\n",
              "    <tr>\n",
              "      <th>3</th>\n",
              "      <td>1840.75</td>\n",
              "      <td>Low</td>\n",
              "    </tr>\n",
              "    <tr>\n",
              "      <th>4</th>\n",
              "      <td>151.65</td>\n",
              "      <td>Low</td>\n",
              "    </tr>\n",
              "    <tr>\n",
              "      <th>5</th>\n",
              "      <td>820.50</td>\n",
              "      <td>Low</td>\n",
              "    </tr>\n",
              "    <tr>\n",
              "      <th>6</th>\n",
              "      <td>1949.40</td>\n",
              "      <td>Low</td>\n",
              "    </tr>\n",
              "    <tr>\n",
              "      <th>7</th>\n",
              "      <td>301.90</td>\n",
              "      <td>Low</td>\n",
              "    </tr>\n",
              "    <tr>\n",
              "      <th>8</th>\n",
              "      <td>3046.05</td>\n",
              "      <td>Medium</td>\n",
              "    </tr>\n",
              "    <tr>\n",
              "      <th>9</th>\n",
              "      <td>3487.95</td>\n",
              "      <td>Medium</td>\n",
              "    </tr>\n",
              "  </tbody>\n",
              "</table>\n",
              "</div>"
            ],
            "text/plain": [
              "   TotalCharges TotalCharges-binned\n",
              "0         29.85                 Low\n",
              "1       1889.50                 Low\n",
              "2        108.15                 Low\n",
              "3       1840.75                 Low\n",
              "4        151.65                 Low\n",
              "5        820.50                 Low\n",
              "6       1949.40                 Low\n",
              "7        301.90                 Low\n",
              "8       3046.05              Medium\n",
              "9       3487.95              Medium"
            ]
          },
          "metadata": {},
          "output_type": "display_data"
        },
        {
          "data": {
            "text/markdown": [
              "**Binning Distribution**"
            ],
            "text/plain": [
              "<IPython.core.display.Markdown object>"
            ]
          },
          "metadata": {},
          "output_type": "display_data"
        },
        {
          "data": {
            "text/plain": [
              "Low       4778\n",
              "Medium    1471\n",
              "High       783\n",
              "Name: TotalCharges-binned, dtype: int64"
            ]
          },
          "metadata": {},
          "output_type": "display_data"
        },
        {
          "data": {
            "image/png": "[encoded data removed]",
            "text/plain": [
              "<Figure size 720x432 with 1 Axes>"
            ]
          },
          "metadata": {},
          "output_type": "display_data"
        }
      ],
      "source": [
        "binning_feature('TotalCharges')"
      ]
    },
    {
      "cell_type": "code",
      "execution_count": 179,
      "metadata": {
        "colab": {
          "base_uri": "https://localhost:8080/",
          "height": 133
        },
        "id": "ccGqfX6hFlfL",
        "outputId": "d7fa4d53-4788-461d-c916-c3d02f51d04c"
      },
      "outputs": [
        {
          "data": {
            "text/markdown": [
              "**Data Types**"
            ],
            "text/plain": [
              "<IPython.core.display.Markdown object>"
            ]
          },
          "metadata": {},
          "output_type": "display_data"
        },
        {
          "data": {
            "text/plain": [
              "object      16\n",
              "category     3\n",
              "float64      2\n",
              "int64        2\n",
              "dtype: int64"
            ]
          },
          "execution_count": 179,
          "metadata": {},
          "output_type": "execute_result"
        }
      ],
      "source": [
        "\n",
        "printmd(\"**Data Types**\")\n",
        "df.dtypes.value_counts()"
      ]
    },
    {
      "cell_type": "code",
      "execution_count": 180,
      "metadata": {
        "colab": {
          "base_uri": "https://localhost:8080/"
        },
        "id": "26LBkE90F4Lx",
        "outputId": "d42912d5-cb01-4b20-c5c0-b31e34a5500c"
      },
      "outputs": [
        {
          "data": {
            "text/plain": [
              "gender                     object\n",
              "SeniorCitizen               int64\n",
              "Partner                    object\n",
              "Dependents                 object\n",
              "tenure                      int64\n",
              "PhoneService               object\n",
              "MultipleLines              object\n",
              "InternetService            object\n",
              "OnlineSecurity             object\n",
              "OnlineBackup               object\n",
              "DeviceProtection           object\n",
              "TechSupport                object\n",
              "StreamingTV                object\n",
              "StreamingMovies            object\n",
              "Contract                   object\n",
              "PaperlessBilling           object\n",
              "PaymentMethod              object\n",
              "MonthlyCharges            float64\n",
              "TotalCharges              float64\n",
              "tenure-binned            category\n",
              "MonthlyCharges-binned    category\n",
              "TotalCharges-binned      category\n",
              "Churn                      object\n",
              "dtype: object"
            ]
          },
          "execution_count": 180,
          "metadata": {},
          "output_type": "execute_result"
        }
      ],
      "source": [
        "df.dtypes"
      ]
    },
    {
      "cell_type": "markdown",
      "metadata": {
        "id": "vmQ6q91uMTop"
      },
      "source": [
        "# Uni-Variate analysis"
      ]
    },
    {
      "cell_type": "code",
      "execution_count": 181,
      "metadata": {
        "id": "qzQql6PKF6xI"
      },
      "outputs": [],
      "source": [
        "# univariate analysis"
      ]
    },
    {
      "cell_type": "markdown",
      "metadata": {
        "id": "HiAG-fe5MXMt"
      },
      "source": [
        "## Graphical analysis"
      ]
    },
    {
      "cell_type": "code",
      "execution_count": 182,
      "metadata": {
        "id": "A3C5zyTuMqQk"
      },
      "outputs": [],
      "source": [
        "# graphical analysis"
      ]
    },
    {
      "cell_type": "markdown",
      "metadata": {
        "id": "-odH_ebBMc0W"
      },
      "source": [
        "### distribution of numerical columns"
      ]
    },
    {
      "cell_type": "code",
      "execution_count": 192,
      "metadata": {
        "colab": {
          "base_uri": "https://localhost:8080/",
          "height": 179
        },
        "id": "rblazoYfF_Jo",
        "outputId": "c40f14b9-d4f6-4d25-afd3-46d2bf03b4b2"
      },
      "outputs": [
        {
          "data": {
            "image/png": "[encoded data removed]",
            "text/plain": [
              "<Figure size 1080x720 with 4 Axes>"
            ]
          },
          "metadata": {},
          "output_type": "display_data"
        }
      ],
      "source": [
        "#unvariate analysis\n",
        "\n",
        "# distribution of Numerical variables\n",
        "\n",
        "### Checking outliers in numerical features\n",
        "\n",
        "plt.figure(figsize=(15,10))\n",
        "for i in enumerate(numerical_features):\n",
        "    plt.subplot(5, 4, i[0]+1)\n",
        "    sns.set(rc={'figure.figsize':(10,6)})\n",
        "    plt.hist(data=df, x=i[1],)\n",
        "    plt.title(\"{}\".format(i[1]), fontweight=\"bold\")\n",
        "    plt.tight_layout()\n",
        "    plt.show"
      ]
    },
    {
      "cell_type": "markdown",
      "metadata": {
        "id": "a7gAA1tJMg3h"
      },
      "source": [
        "### spread of data(outlier detection)"
      ]
    },
    {
      "cell_type": "code",
      "execution_count": 193,
      "metadata": {
        "colab": {
          "base_uri": "https://localhost:8080/",
          "height": 224
        },
        "id": "dd5OI_K8GDC-",
        "outputId": "0bb02aeb-8e57-4286-dd69-88ddeb035374"
      },
      "outputs": [
        {
          "data": {
            "image/png": "[encoded data removed]",
            "text/plain": [
              "<Figure size 1440x2160 with 4 Axes>"
            ]
          },
          "metadata": {},
          "output_type": "display_data"
        }
      ],
      "source": [
        "\n",
        "# #outliers\n",
        "\n",
        "### Checking outliers in numerical features\n",
        "\n",
        "plt.figure(figsize=(20,30))\n",
        "for feature in enumerate(numerical_features):\n",
        "    plt.subplot(10, 5, feature[0]+1)\n",
        "    sns.set(rc={'figure.figsize':(10,6)})\n",
        "    sns.boxplot(data=df, x=feature[1], palette = 'rainbow')\n",
        "    plt.title(\"{}\".format(feature[1]), fontweight=\"bold\", fontsize=15)"
      ]
    },
    {
      "cell_type": "code",
      "execution_count": null,
      "metadata": {
        "id": "l3iOMcspMgWP"
      },
      "outputs": [],
      "source": []
    },
    {
      "cell_type": "markdown",
      "metadata": {
        "id": "LtG0Sz0uMl5W"
      },
      "source": [
        "### Distribution of Target variable"
      ]
    },
    {
      "cell_type": "code",
      "execution_count": 194,
      "metadata": {
        "colab": {
          "base_uri": "https://localhost:8080/",
          "height": 411
        },
        "id": "y8kLKQTXGgP4",
        "outputId": "59f3e6e7-b8a6-4d78-a06a-984cab93b4c9"
      },
      "outputs": [
        {
          "data": {
            "text/plain": [
              "<matplotlib.axes._subplots.AxesSubplot at 0x2cd8a900a90>"
            ]
          },
          "execution_count": 194,
          "metadata": {},
          "output_type": "execute_result"
        },
        {
          "data": {
            "image/png": "[encoded data removed]",
            "text/plain": [
              "<Figure size 720x432 with 1 Axes>"
            ]
          },
          "metadata": {},
          "output_type": "display_data"
        }
      ],
      "source": [
        "# distribution of target variable\n",
        "\n",
        "sns.countplot(df['Churn'],palette = 'rainbow')"
      ]
    },
    {
      "cell_type": "markdown",
      "metadata": {
        "id": "0nDPUjUpMqpx"
      },
      "source": [
        "### Distribution of Categorical columns"
      ]
    },
    {
      "cell_type": "code",
      "execution_count": 195,
      "metadata": {
        "colab": {
          "base_uri": "https://localhost:8080/"
        },
        "id": "08wyjmFTNFQh",
        "outputId": "9a90f31e-2bc8-4b4c-bc22-76d4a7a21d62"
      },
      "outputs": [
        {
          "data": {
            "text/plain": [
              "Index(['gender', 'Partner', 'Dependents', 'PhoneService', 'MultipleLines',\n",
              "       'InternetService', 'OnlineSecurity', 'OnlineBackup', 'DeviceProtection',\n",
              "       'TechSupport', 'StreamingTV', 'StreamingMovies', 'Contract',\n",
              "       'PaperlessBilling', 'PaymentMethod', 'Churn'],\n",
              "      dtype='object')"
            ]
          },
          "execution_count": 195,
          "metadata": {},
          "output_type": "execute_result"
        }
      ],
      "source": [
        "# distribution of categorical variables\n",
        "\n",
        "categorical_features.columns"
      ]
    },
    {
      "cell_type": "code",
      "execution_count": 196,
      "metadata": {
        "colab": {
          "base_uri": "https://localhost:8080/",
          "height": 746
        },
        "id": "rkRCZisoC1BE",
        "outputId": "6b849c32-f7f1-48c9-bb29-c08488d41938"
      },
      "outputs": [
        {
          "data": {
            "image/png": "[encoded data removed]",
            "text/plain": [
              "<Figure size 1440x2160 with 16 Axes>"
            ]
          },
          "metadata": {},
          "output_type": "display_data"
        }
      ],
      "source": [
        "### Checking outliers in numerical features\n",
        "\n",
        "plt.figure(figsize=(20,30))\n",
        "for feature in enumerate(categorical_features):\n",
        "    plt.subplot(10, 5, feature[0]+1)\n",
        "    sns.set(rc={'figure.figsize':(15,8)})\n",
        "    sns.countplot(data=df, x=feature[1], palette = 'rainbow')\n",
        "    plt.title(\"{}\".format(feature[1]), fontweight=\"bold\", fontsize=15)\n",
        "    plt.tight_layout()"
      ]
    },
    {
      "cell_type": "markdown",
      "metadata": {
        "id": "FoEeiCIQMvX8"
      },
      "source": [
        "##Statistical analysis"
      ]
    },
    {
      "cell_type": "code",
      "execution_count": 197,
      "metadata": {
        "id": "3N2NGiqFMuv4"
      },
      "outputs": [],
      "source": [
        "#statistical analysis"
      ]
    },
    {
      "cell_type": "markdown",
      "metadata": {
        "id": "2i0QfIKrGTtm"
      },
      "source": [
        "\n",
        "\n",
        "Statistical Normality Tests\n",
        "\n",
        "\n",
        "Popular normality tests - D’Agostino’s K^2, Shapiro-Wilk, Anderson-Darling .\n",
        "\n",
        "There are three numerical features in this dataset - MonthlyCharges, Tenure, and TotalCharges.\n",
        "\n",
        "Hypotheses -\n",
        "\n",
        "H0: the sample has a Gaussian distribution.\n",
        "\n",
        "H1: the sample does not have a Gaussian distribution."
      ]
    },
    {
      "cell_type": "markdown",
      "metadata": {
        "id": "M0M2f5k0NCEd"
      },
      "source": [
        "### Normality test"
      ]
    },
    {
      "cell_type": "code",
      "execution_count": 198,
      "metadata": {
        "colab": {
          "base_uri": "https://localhost:8080/"
        },
        "id": "qmmm_4JYGYp4",
        "outputId": "be043cf6-e797-4f42-e57a-1f2bb66f328e"
      },
      "outputs": [
        {
          "name": "stdout",
          "output_type": "stream",
          "text": [
            "Statistics=11233.88750, p=0.000\n",
            "Sample does not look Gaussian (reject H0)\n"
          ]
        }
      ],
      "source": [
        "#MonthlyCharges\n",
        "\n",
        "stat, p = stats.normaltest(df['MonthlyCharges'])\n",
        "\n",
        "print('Statistics=%.5f, p=%.3f' % (stat, p))\n",
        "\n",
        "# interpret\n",
        "alpha = 0.05\n",
        "if p > alpha:\n",
        "\tprint('Sample looks Gaussian (fail to reject H0)')\n",
        "else:\n",
        "\tprint('Sample does not look Gaussian (reject H0)')"
      ]
    },
    {
      "cell_type": "code",
      "execution_count": 199,
      "metadata": {
        "colab": {
          "base_uri": "https://localhost:8080/"
        },
        "id": "v3me5Tr6GbJp",
        "outputId": "8d66ae89-a78c-4ff4-91e0-9ae71413923f"
      },
      "outputs": [
        {
          "name": "stdout",
          "output_type": "stream",
          "text": [
            "Statistics=75799.50922, p=0.000\n",
            "Sample does not look Gaussian (reject H0)\n"
          ]
        }
      ],
      "source": [
        "#Tenure\n",
        "\n",
        "stat, p = stats.normaltest(df['tenure'])\n",
        "\n",
        "print('Statistics=%.5f, p=%.3f' % (stat, p))\n",
        "\n",
        "# interpret\n",
        "alpha = 0.05\n",
        "if p > alpha:\n",
        "\tprint('Sample looks Gaussian (fail to reject H0)')\n",
        "else:\n",
        "\tprint('Sample does not look Gaussian (reject H0)')"
      ]
    },
    {
      "cell_type": "markdown",
      "metadata": {
        "id": "Z4BfVKXINUWs"
      },
      "source": [
        "#Bi-Variate analysis"
      ]
    },
    {
      "cell_type": "markdown",
      "metadata": {
        "id": "C_vFs0MiPR4t"
      },
      "source": [
        "\n",
        "In this section, I did an extensive statistical analysis with various\n",
        "\n",
        "hypotheses testing based on paired data types like -\n",
        "\n",
        "1.numerical and numerical data\n",
        "\n",
        "2.numerical and ordinal data\n",
        "\n",
        "3.ordinal and ordinal data\n",
        "\n",
        "4.categorical and categorical data"
      ]
    },
    {
      "cell_type": "code",
      "execution_count": 200,
      "metadata": {
        "colab": {
          "base_uri": "https://localhost:8080/"
        },
        "id": "N3lj5abNPlSR",
        "outputId": "f8bb6e9d-f807-4b1f-d098-79d6dad871e6"
      },
      "outputs": [
        {
          "name": "stdout",
          "output_type": "stream",
          "text": [
            "[('Partner', 2), ('PaperlessBilling', 2), ('Dependents', 2), ('gender', 2), ('PhoneService', 2), ('InternetService', 3), ('OnlineBackup', 3), ('TechSupport', 3), ('StreamingMovies', 3), ('MonthlyCharges-binned', 3), ('StreamingTV', 3), ('Contract', 3), ('DeviceProtection', 3), ('TotalCharges-binned', 3), ('tenure-binned', 3), ('OnlineSecurity', 3), ('MultipleLines', 3), ('PaymentMethod', 4)]\n",
            "Categorical Columns ['InternetService', 'PaymentMethod', 'Partner', 'OnlineBackup', 'TechSupport', 'PaperlessBilling', 'StreamingMovies', 'MonthlyCharges-binned', 'StreamingTV', 'Contract', 'DeviceProtection', 'TotalCharges-binned', 'Dependents', 'gender', 'tenure-binned', 'PhoneService', 'OnlineSecurity', 'MultipleLines']\n",
            "----------------------------------------\n",
            "Numerical Columns ['MonthlyCharges', 'TotalCharges', 'tenure']\n",
            "----------------------------------------\n",
            "Ordinal Columns ['tenure-binned', 'MonthlyCharges-binned', 'TotalCharges-binned']\n",
            "----------------------------------------\n",
            "Dichotomous Columns ['Partner', 'PaperlessBilling', 'Dependents', 'gender', 'PhoneService']\n",
            "----------------------------------------\n",
            "Polytomous Columns ['StreamingTV', 'InternetService', 'PaymentMethod', 'DeviceProtection', 'Contract', 'OnlineBackup', 'TechSupport', 'OnlineSecurity', 'StreamingMovies', 'MultipleLines']\n"
          ]
        }
      ],
      "source": [
        "\n",
        "# Check cardinality of categorical variables \n",
        "target_col_filter = df.loc[:, df.columns != 'Churn']\n",
        "\n",
        "\n",
        "cat_cols = list(set(target_col_filter.columns) - set(target_col_filter._get_numeric_data().columns))\n",
        "\n",
        "num_cols = list(set(target_col_filter._get_numeric_data().columns) - set({'SeniorCitizen'})) # already converted to integer\n",
        "\n",
        "\n",
        "# Get number of unique entries in each column with categorical data\n",
        "object_nunique = list(map(lambda col: target_col_filter[col].nunique(), cat_cols))\n",
        "dict_features_by_col = dict(zip(cat_cols, object_nunique))\n",
        "\n",
        "\n",
        "# Print number of unique entries by column, in ascending order\n",
        "print(sorted(dict_features_by_col.items(), key=lambda x: x[1]))\n",
        "\n",
        "\n",
        "ordinal_cols = ['tenure-binned', 'MonthlyCharges-binned', 'TotalCharges-binned']\n",
        "dichotomous_cols = [cat for cat in cat_cols if df[cat].value_counts().count() == 2]\n",
        "polytomous_cols = list(set(cat_cols) - set(dichotomous_cols) - set(ordinal_cols))\n",
        "\n",
        "\n",
        "print(\"Categorical Columns\", cat_cols)\n",
        "print('----------------------------------------')\n",
        "print(\"Numerical Columns\", num_cols)\n",
        "print('----------------------------------------')\n",
        "print(\"Ordinal Columns\", ordinal_cols)\n",
        "print('----------------------------------------')\n",
        "print(\"Dichotomous Columns\", dichotomous_cols)\n",
        "print('----------------------------------------')\n",
        "print(\"Polytomous Columns\", polytomous_cols)"
      ]
    },
    {
      "cell_type": "markdown",
      "metadata": {
        "id": "rIiRa1PdNhDt"
      },
      "source": [
        "## Statisical analysis"
      ]
    },
    {
      "cell_type": "markdown",
      "metadata": {
        "id": "QxhjOLRmNkcq"
      },
      "source": [
        "### Numerical -Numerical"
      ]
    },
    {
      "cell_type": "code",
      "execution_count": 201,
      "metadata": {
        "id": "n6scc5FqQiZ_"
      },
      "outputs": [],
      "source": [
        "#Spearman rank-order correlation"
      ]
    },
    {
      "cell_type": "code",
      "execution_count": 202,
      "metadata": {
        "id": "AoepnOb1QkjZ"
      },
      "outputs": [],
      "source": [
        "def cal_spearmanr(c1, c2):\n",
        "\n",
        "  alpha = 0.05\n",
        "\n",
        "  correlation, p_value = stats.spearmanr(df[c1], df[c2])\n",
        "\n",
        "  print(f'{c1}, {c2} correlation : {correlation}, p : {p_value}')\n",
        "\n",
        "  if p_value > alpha:\n",
        "    print('Probably do not have monotonic relationship (fail to reject H0)')\n",
        "  else:\n",
        "    print('Probably have monotonic relationship (reject H0)')\n",
        "     "
      ]
    },
    {
      "cell_type": "code",
      "execution_count": 203,
      "metadata": {
        "colab": {
          "base_uri": "https://localhost:8080/"
        },
        "id": "BWCvnEE_QsIP",
        "outputId": "90ab9edc-145e-4efa-e2fd-b8b8037004e0"
      },
      "outputs": [
        {
          "name": "stdout",
          "output_type": "stream",
          "text": [
            "tenure, MonthlyCharges correlation : 0.2753387429197595, p : 1.535767470847339e-122\n",
            "Probably have monotonic relationship (reject H0)\n"
          ]
        }
      ],
      "source": [
        "\n",
        "cal_spearmanr('tenure','MonthlyCharges')"
      ]
    },
    {
      "cell_type": "code",
      "execution_count": 204,
      "metadata": {
        "colab": {
          "base_uri": "https://localhost:8080/"
        },
        "id": "8nRZss7KQsks",
        "outputId": "d1c435e1-7bc1-490c-8a29-7c0c5aaa4f63"
      },
      "outputs": [
        {
          "name": "stdout",
          "output_type": "stream",
          "text": [
            "tenure, TotalCharges correlation : 0.8891770805365491, p : 0.0\n",
            "Probably have monotonic relationship (reject H0)\n"
          ]
        }
      ],
      "source": [
        "cal_spearmanr('tenure','TotalCharges')"
      ]
    },
    {
      "cell_type": "code",
      "execution_count": 205,
      "metadata": {
        "colab": {
          "base_uri": "https://localhost:8080/"
        },
        "id": "BeYRxik7Qu_q",
        "outputId": "e93495cc-0695-4e7e-da86-197de9e5861a"
      },
      "outputs": [
        {
          "name": "stdout",
          "output_type": "stream",
          "text": [
            "MonthlyCharges, TotalCharges correlation : 0.6380321757758154, p : 0.0\n",
            "Probably have monotonic relationship (reject H0)\n"
          ]
        }
      ],
      "source": [
        "\n",
        "cal_spearmanr('MonthlyCharges','TotalCharges')"
      ]
    },
    {
      "cell_type": "markdown",
      "metadata": {
        "id": "edjXuwmXNrdd"
      },
      "source": [
        "### Numerical - Categorical"
      ]
    },
    {
      "cell_type": "code",
      "execution_count": 206,
      "metadata": {
        "id": "_2LfmaXuQwaN"
      },
      "outputs": [],
      "source": [
        "#Numerical & Categorical"
      ]
    },
    {
      "cell_type": "code",
      "execution_count": 207,
      "metadata": {
        "id": "LonPQjsaQzPf"
      },
      "outputs": [],
      "source": [
        "def kendall_rank_correlation(feature1, feature2):\n",
        "\n",
        "  coef, p_value = stats.kendalltau(df[feature1], df[feature2])\n",
        "  print(f\"Correlation between {feature1} and {feature2} \")\n",
        "  print('Kendall correlation coefficient = %.5f, p = %.5f' % (coef, p_value))\n",
        "\n",
        "  # interpret the significance\n",
        "  alpha = 0.05\n",
        "  if p_value > alpha:\n",
        "    print('Samples are uncorrelated (fail to reject H0) p=%.3f' % p_value)\n",
        "  else:\n",
        "    print('Samples are correlated (reject H0) p=%.3f' % p_value)\n",
        "  print('---------------------------------------------\\n')"
      ]
    },
    {
      "cell_type": "code",
      "execution_count": 208,
      "metadata": {
        "colab": {
          "base_uri": "https://localhost:8080/",
          "height": 886
        },
        "id": "67-KF0wMQ76x",
        "outputId": "d510a21c-13d8-4b8f-ace1-332914c15c57"
      },
      "outputs": [
        {
          "data": {
            "text/markdown": [
              "Correlation with  **tenure-binned**"
            ],
            "text/plain": [
              "<IPython.core.display.Markdown object>"
            ]
          },
          "metadata": {},
          "output_type": "display_data"
        },
        {
          "name": "stdout",
          "output_type": "stream",
          "text": [
            "Correlation between tenure and tenure-binned \n",
            "Kendall correlation coefficient = -0.28794, p = 0.00000\n",
            "Samples are correlated (reject H0) p=0.000\n",
            "---------------------------------------------\n",
            "\n",
            "Correlation between MonthlyCharges and tenure-binned \n",
            "Kendall correlation coefficient = -0.10710, p = 0.00000\n",
            "Samples are correlated (reject H0) p=0.000\n",
            "---------------------------------------------\n",
            "\n",
            "Correlation between TotalCharges and tenure-binned \n",
            "Kendall correlation coefficient = -0.23713, p = 0.00000\n",
            "Samples are correlated (reject H0) p=0.000\n",
            "---------------------------------------------\n",
            "\n"
          ]
        },
        {
          "data": {
            "text/markdown": [
              "Correlation with  **MonthlyCharges-binned**"
            ],
            "text/plain": [
              "<IPython.core.display.Markdown object>"
            ]
          },
          "metadata": {},
          "output_type": "display_data"
        },
        {
          "name": "stdout",
          "output_type": "stream",
          "text": [
            "Correlation between tenure and MonthlyCharges-binned \n",
            "Kendall correlation coefficient = -0.16430, p = 0.00000\n",
            "Samples are correlated (reject H0) p=0.000\n",
            "---------------------------------------------\n",
            "\n",
            "Correlation between MonthlyCharges and MonthlyCharges-binned \n",
            "Kendall correlation coefficient = -0.22591, p = 0.00000\n",
            "Samples are correlated (reject H0) p=0.000\n",
            "---------------------------------------------\n",
            "\n",
            "Correlation between TotalCharges and MonthlyCharges-binned \n",
            "Kendall correlation coefficient = -0.20817, p = 0.00000\n",
            "Samples are correlated (reject H0) p=0.000\n",
            "---------------------------------------------\n",
            "\n"
          ]
        },
        {
          "data": {
            "text/markdown": [
              "Correlation with  **TotalCharges-binned**"
            ],
            "text/plain": [
              "<IPython.core.display.Markdown object>"
            ]
          },
          "metadata": {},
          "output_type": "display_data"
        },
        {
          "name": "stdout",
          "output_type": "stream",
          "text": [
            "Correlation between tenure and TotalCharges-binned \n",
            "Kendall correlation coefficient = 0.07500, p = 0.00000\n",
            "Samples are correlated (reject H0) p=0.000\n",
            "---------------------------------------------\n",
            "\n",
            "Correlation between MonthlyCharges and TotalCharges-binned \n",
            "Kendall correlation coefficient = 0.00426, p = 0.65142\n",
            "Samples are uncorrelated (fail to reject H0) p=0.651\n",
            "---------------------------------------------\n",
            "\n",
            "Correlation between TotalCharges and TotalCharges-binned \n",
            "Kendall correlation coefficient = 0.12440, p = 0.00000\n",
            "Samples are correlated (reject H0) p=0.000\n",
            "---------------------------------------------\n",
            "\n"
          ]
        }
      ],
      "source": [
        "\n",
        "ordinal_features = ['tenure-binned','MonthlyCharges-binned', 'TotalCharges-binned']\n",
        "\n",
        "for ord in ordinal_features:\n",
        "  printmd(f\"Correlation with  **{ord}**\")\n",
        "  kendall_rank_correlation('tenure',ord)\n",
        "  kendall_rank_correlation('MonthlyCharges',ord)\n",
        "  kendall_rank_correlation('TotalCharges',ord)"
      ]
    },
    {
      "cell_type": "code",
      "execution_count": 209,
      "metadata": {
        "id": "w89Tdl1YQ8Ur"
      },
      "outputs": [],
      "source": [
        "#Mann-Whitney U Test"
      ]
    },
    {
      "cell_type": "code",
      "execution_count": 210,
      "metadata": {
        "id": "60f406g9RaTa"
      },
      "outputs": [],
      "source": [
        "\n",
        "def mannwhitneyu_correlation(feature1):\n",
        "  stat, p_value = stats.mannwhitneyu(df[feature1], (df['Churn'] == 'Yes').astype(int))\n",
        "  print(f\"Correlation between {feature1} and Churn\")\n",
        "  print('Statistics = %.5f, p = %.5f' % (stat, p_value))\n",
        "  \n",
        "  # interpret the significance\n",
        "  alpha = 0.05\n",
        "  if p_value > alpha:\n",
        "      print('Same distribution (fail to reject H0)')\n",
        "  else:\n",
        "      print('Different distribution (reject H0)')\n",
        "  print('----\\n') "
      ]
    },
    {
      "cell_type": "code",
      "execution_count": 211,
      "metadata": {
        "colab": {
          "base_uri": "https://localhost:8080/",
          "height": 365
        },
        "id": "FVBt1hc_RfIZ",
        "outputId": "68ce978e-b6f4-4bc6-e72a-3637223f59bf"
      },
      "outputs": [
        {
          "data": {
            "text/markdown": [
              "Correlation with **tenure**"
            ],
            "text/plain": [
              "<IPython.core.display.Markdown object>"
            ]
          },
          "metadata": {},
          "output_type": "display_data"
        },
        {
          "name": "stdout",
          "output_type": "stream",
          "text": [
            "Correlation between tenure and Churn\n",
            "Statistics = 572848.50000, p = 0.00000\n",
            "Different distribution (reject H0)\n",
            "----\n",
            "\n"
          ]
        },
        {
          "data": {
            "text/markdown": [
              "Correlation with **MonthlyCharges**"
            ],
            "text/plain": [
              "<IPython.core.display.Markdown object>"
            ]
          },
          "metadata": {},
          "output_type": "display_data"
        },
        {
          "name": "stdout",
          "output_type": "stream",
          "text": [
            "Correlation between MonthlyCharges and Churn\n",
            "Statistics = 0.00000, p = 0.00000\n",
            "Different distribution (reject H0)\n",
            "----\n",
            "\n"
          ]
        },
        {
          "data": {
            "text/markdown": [
              "Correlation with **TotalCharges**"
            ],
            "text/plain": [
              "<IPython.core.display.Markdown object>"
            ]
          },
          "metadata": {},
          "output_type": "display_data"
        },
        {
          "name": "stdout",
          "output_type": "stream",
          "text": [
            "Correlation between TotalCharges and Churn\n",
            "Statistics = 0.00000, p = 0.00000\n",
            "Different distribution (reject H0)\n",
            "----\n",
            "\n"
          ]
        }
      ],
      "source": [
        "numerical_features = ['tenure','MonthlyCharges', 'TotalCharges']\n",
        "\n",
        "for num in numerical_features:\n",
        "  printmd(f\"Correlation with **{num}**\")\n",
        "  mannwhitneyu_correlation(num)"
      ]
    },
    {
      "cell_type": "markdown",
      "metadata": {
        "id": "7JpIT3JyNxQw"
      },
      "source": [
        "### Categorial -Categorical"
      ]
    },
    {
      "cell_type": "code",
      "execution_count": 212,
      "metadata": {
        "id": "QCmE5yTIRhOI"
      },
      "outputs": [],
      "source": [
        "#Categorical & categorical\n",
        "\n",
        "def calculate_chi_square(feature1, feature2='Churn'):\n",
        "  printmd(f\"Correlation between **{feature1}** and **{feature2}**\")\n",
        "  crosstab = pd.crosstab(df[feature1], df[feature2])\n",
        "  # display(crosstab)\n",
        "  stat, p, dof, expected = stats.chi2_contingency(crosstab,correction=True)\n",
        "\n",
        "\n",
        "  print(f'p-value : {p}, degree of freedom: {dof}')\n",
        "  # print(\"expected frequencies :\\n\", expected)\n",
        "\n",
        "  # interpret test-statistic\n",
        "  prob = 0.95\n",
        "  critical = stats.chi2.ppf(prob, dof)\n",
        "  print('probability=%.3f, critical=%.3f, stat=%.3f' % (prob, critical, stat))\n",
        "\n",
        "  if abs(stat) >= critical:\n",
        "    print('Dependent (reject H0)')\n",
        "  else:\n",
        "    print('Independent (fail to reject H0)')\n",
        "  \n",
        "  # interpret p-value\n",
        "  alpha = 1.0 - prob\n",
        "  \n",
        "  print('significance=%.3f, p=%.3f' % (alpha, p))\n",
        "  if p <= alpha:\n",
        "    print('Dependent (reject H0)')\n",
        "  else:\n",
        "    print('Independent (fail to reject H0)')\n",
        "  print('-----------------------------------\\n')\n"
      ]
    },
    {
      "cell_type": "code",
      "execution_count": 213,
      "metadata": {
        "colab": {
          "base_uri": "https://localhost:8080/",
          "height": 794
        },
        "id": "mjVie_kqR85H",
        "outputId": "c8523f7e-f45d-4832-8dcb-c7fc7dcc6911"
      },
      "outputs": [
        {
          "data": {
            "text/markdown": [
              "**Chi-Squre Correlation Between Dichotomous Features with Target : Churn**"
            ],
            "text/plain": [
              "<IPython.core.display.Markdown object>"
            ]
          },
          "metadata": {},
          "output_type": "display_data"
        },
        {
          "data": {
            "text/markdown": [
              "Correlation between **Partner** and **Churn**"
            ],
            "text/plain": [
              "<IPython.core.display.Markdown object>"
            ]
          },
          "metadata": {},
          "output_type": "display_data"
        },
        {
          "name": "stdout",
          "output_type": "stream",
          "text": [
            "p-value : 3.97379757451591e-36, degree of freedom: 1\n",
            "probability=0.950, critical=3.841, stat=157.503\n",
            "Dependent (reject H0)\n",
            "significance=0.050, p=0.000\n",
            "Dependent (reject H0)\n",
            "-----------------------------------\n",
            "\n"
          ]
        },
        {
          "data": {
            "text/markdown": [
              "Correlation between **PaperlessBilling** and **Churn**"
            ],
            "text/plain": [
              "<IPython.core.display.Markdown object>"
            ]
          },
          "metadata": {},
          "output_type": "display_data"
        },
        {
          "name": "stdout",
          "output_type": "stream",
          "text": [
            "p-value : 8.236203353962564e-58, degree of freedom: 1\n",
            "probability=0.950, critical=3.841, stat=256.875\n",
            "Dependent (reject H0)\n",
            "significance=0.050, p=0.000\n",
            "Dependent (reject H0)\n",
            "-----------------------------------\n",
            "\n"
          ]
        },
        {
          "data": {
            "text/markdown": [
              "Correlation between **Dependents** and **Churn**"
            ],
            "text/plain": [
              "<IPython.core.display.Markdown object>"
            ]
          },
          "metadata": {},
          "output_type": "display_data"
        },
        {
          "name": "stdout",
          "output_type": "stream",
          "text": [
            "p-value : 2.0196592017051303e-42, degree of freedom: 1\n",
            "probability=0.950, critical=3.841, stat=186.322\n",
            "Dependent (reject H0)\n",
            "significance=0.050, p=0.000\n",
            "Dependent (reject H0)\n",
            "-----------------------------------\n",
            "\n"
          ]
        },
        {
          "data": {
            "text/markdown": [
              "Correlation between **gender** and **Churn**"
            ],
            "text/plain": [
              "<IPython.core.display.Markdown object>"
            ]
          },
          "metadata": {},
          "output_type": "display_data"
        },
        {
          "name": "stdout",
          "output_type": "stream",
          "text": [
            "p-value : 0.4904884707065509, degree of freedom: 1\n",
            "probability=0.950, critical=3.841, stat=0.475\n",
            "Independent (fail to reject H0)\n",
            "significance=0.050, p=0.490\n",
            "Independent (fail to reject H0)\n",
            "-----------------------------------\n",
            "\n"
          ]
        },
        {
          "data": {
            "text/markdown": [
              "Correlation between **PhoneService** and **Churn**"
            ],
            "text/plain": [
              "<IPython.core.display.Markdown object>"
            ]
          },
          "metadata": {},
          "output_type": "display_data"
        },
        {
          "name": "stdout",
          "output_type": "stream",
          "text": [
            "p-value : 0.34992398942431924, degree of freedom: 1\n",
            "probability=0.950, critical=3.841, stat=0.874\n",
            "Independent (fail to reject H0)\n",
            "significance=0.050, p=0.350\n",
            "Independent (fail to reject H0)\n",
            "-----------------------------------\n",
            "\n"
          ]
        }
      ],
      "source": [
        "\n",
        "printmd(\"**Chi-Squre Correlation Between Dichotomous Features with Target : Churn**\")\n",
        "\n",
        "for col in dichotomous_cols:\n",
        "  calculate_chi_square(col)"
      ]
    },
    {
      "cell_type": "code",
      "execution_count": 214,
      "metadata": {
        "colab": {
          "base_uri": "https://localhost:8080/",
          "height": 1000
        },
        "id": "jNBMNBLLR_XL",
        "outputId": "ecac8b51-ac1f-4c1d-f510-82ae6238a6d7"
      },
      "outputs": [
        {
          "data": {
            "text/markdown": [
              "**Chi-Squre Correlation Between Polytomous Features with Target : Churn**"
            ],
            "text/plain": [
              "<IPython.core.display.Markdown object>"
            ]
          },
          "metadata": {},
          "output_type": "display_data"
        },
        {
          "data": {
            "text/markdown": [
              "Correlation between **StreamingTV** and **Churn**"
            ],
            "text/plain": [
              "<IPython.core.display.Markdown object>"
            ]
          },
          "metadata": {},
          "output_type": "display_data"
        },
        {
          "name": "stdout",
          "output_type": "stream",
          "text": [
            "p-value : 1.324641113169159e-81, degree of freedom: 2\n",
            "probability=0.950, critical=5.991, stat=372.457\n",
            "Dependent (reject H0)\n",
            "significance=0.050, p=0.000\n",
            "Dependent (reject H0)\n",
            "-----------------------------------\n",
            "\n"
          ]
        },
        {
          "data": {
            "text/markdown": [
              "Correlation between **InternetService** and **Churn**"
            ],
            "text/plain": [
              "<IPython.core.display.Markdown object>"
            ]
          },
          "metadata": {},
          "output_type": "display_data"
        },
        {
          "name": "stdout",
          "output_type": "stream",
          "text": [
            "p-value : 5.831198962237274e-159, degree of freedom: 2\n",
            "probability=0.950, critical=5.991, stat=728.696\n",
            "Dependent (reject H0)\n",
            "significance=0.050, p=0.000\n",
            "Dependent (reject H0)\n",
            "-----------------------------------\n",
            "\n"
          ]
        },
        {
          "data": {
            "text/markdown": [
              "Correlation between **PaymentMethod** and **Churn**"
            ],
            "text/plain": [
              "<IPython.core.display.Markdown object>"
            ]
          },
          "metadata": {},
          "output_type": "display_data"
        },
        {
          "name": "stdout",
          "output_type": "stream",
          "text": [
            "p-value : 1.4263098511063342e-139, degree of freedom: 3\n",
            "probability=0.950, critical=7.815, stat=645.430\n",
            "Dependent (reject H0)\n",
            "significance=0.050, p=0.000\n",
            "Dependent (reject H0)\n",
            "-----------------------------------\n",
            "\n"
          ]
        },
        {
          "data": {
            "text/markdown": [
              "Correlation between **DeviceProtection** and **Churn**"
            ],
            "text/plain": [
              "<IPython.core.display.Markdown object>"
            ]
          },
          "metadata": {},
          "output_type": "display_data"
        },
        {
          "name": "stdout",
          "output_type": "stream",
          "text": [
            "p-value : 1.9593887862403176e-121, degree of freedom: 2\n",
            "probability=0.950, critical=5.991, stat=555.880\n",
            "Dependent (reject H0)\n",
            "significance=0.050, p=0.000\n",
            "Dependent (reject H0)\n",
            "-----------------------------------\n",
            "\n"
          ]
        },
        {
          "data": {
            "text/markdown": [
              "Correlation between **Contract** and **Churn**"
            ],
            "text/plain": [
              "<IPython.core.display.Markdown object>"
            ]
          },
          "metadata": {},
          "output_type": "display_data"
        },
        {
          "name": "stdout",
          "output_type": "stream",
          "text": [
            "p-value : 7.326182186265472e-257, degree of freedom: 2\n",
            "probability=0.950, critical=5.991, stat=1179.546\n",
            "Dependent (reject H0)\n",
            "significance=0.050, p=0.000\n",
            "Dependent (reject H0)\n",
            "-----------------------------------\n",
            "\n"
          ]
        },
        {
          "data": {
            "text/markdown": [
              "Correlation between **OnlineBackup** and **Churn**"
            ],
            "text/plain": [
              "<IPython.core.display.Markdown object>"
            ]
          },
          "metadata": {},
          "output_type": "display_data"
        },
        {
          "name": "stdout",
          "output_type": "stream",
          "text": [
            "p-value : 7.776099238804965e-131, degree of freedom: 2\n",
            "probability=0.950, critical=5.991, stat=599.175\n",
            "Dependent (reject H0)\n",
            "significance=0.050, p=0.000\n",
            "Dependent (reject H0)\n",
            "-----------------------------------\n",
            "\n"
          ]
        },
        {
          "data": {
            "text/markdown": [
              "Correlation between **TechSupport** and **Churn**"
            ],
            "text/plain": [
              "<IPython.core.display.Markdown object>"
            ]
          },
          "metadata": {},
          "output_type": "display_data"
        },
        {
          "name": "stdout",
          "output_type": "stream",
          "text": [
            "p-value : 7.407807748843711e-180, degree of freedom: 2\n",
            "probability=0.950, critical=5.991, stat=824.926\n",
            "Dependent (reject H0)\n",
            "significance=0.050, p=0.000\n",
            "Dependent (reject H0)\n",
            "-----------------------------------\n",
            "\n"
          ]
        },
        {
          "data": {
            "text/markdown": [
              "Correlation between **OnlineSecurity** and **Churn**"
            ],
            "text/plain": [
              "<IPython.core.display.Markdown object>"
            ]
          },
          "metadata": {},
          "output_type": "display_data"
        },
        {
          "name": "stdout",
          "output_type": "stream",
          "text": [
            "p-value : 1.4006867477839222e-184, degree of freedom: 2\n",
            "probability=0.950, critical=5.991, stat=846.677\n",
            "Dependent (reject H0)\n",
            "significance=0.050, p=0.000\n",
            "Dependent (reject H0)\n",
            "-----------------------------------\n",
            "\n"
          ]
        },
        {
          "data": {
            "text/markdown": [
              "Correlation between **StreamingMovies** and **Churn**"
            ],
            "text/plain": [
              "<IPython.core.display.Markdown object>"
            ]
          },
          "metadata": {},
          "output_type": "display_data"
        },
        {
          "name": "stdout",
          "output_type": "stream",
          "text": [
            "p-value : 5.353560421401324e-82, degree of freedom: 2\n",
            "probability=0.950, critical=5.991, stat=374.268\n",
            "Dependent (reject H0)\n",
            "significance=0.050, p=0.000\n",
            "Dependent (reject H0)\n",
            "-----------------------------------\n",
            "\n"
          ]
        },
        {
          "data": {
            "text/markdown": [
              "Correlation between **MultipleLines** and **Churn**"
            ],
            "text/plain": [
              "<IPython.core.display.Markdown object>"
            ]
          },
          "metadata": {},
          "output_type": "display_data"
        },
        {
          "name": "stdout",
          "output_type": "stream",
          "text": [
            "p-value : 0.0035679273999811405, degree of freedom: 2\n",
            "probability=0.950, critical=5.991, stat=11.272\n",
            "Dependent (reject H0)\n",
            "significance=0.050, p=0.004\n",
            "Dependent (reject H0)\n",
            "-----------------------------------\n",
            "\n"
          ]
        }
      ],
      "source": [
        "\n",
        "printmd(\"**Chi-Squre Correlation Between Polytomous Features with Target : Churn**\")\n",
        "\n",
        "for col in polytomous_cols:\n",
        "  calculate_chi_square(col)"
      ]
    },
    {
      "cell_type": "code",
      "execution_count": 215,
      "metadata": {
        "colab": {
          "base_uri": "https://localhost:8080/",
          "height": 168
        },
        "id": "x2NcAj8WSIm_",
        "outputId": "efdb9ce2-0202-43f1-ac82-a8c572c304fa"
      },
      "outputs": [
        {
          "data": {
            "text/markdown": [
              "Correlation between **PaymentMethod** and **MultipleLines**"
            ],
            "text/plain": [
              "<IPython.core.display.Markdown object>"
            ]
          },
          "metadata": {},
          "output_type": "display_data"
        },
        {
          "name": "stdout",
          "output_type": "stream",
          "text": [
            "p-value : 1.216564211436556e-81, degree of freedom: 6\n",
            "probability=0.950, critical=12.592, stat=392.377\n",
            "Dependent (reject H0)\n",
            "significance=0.050, p=0.000\n",
            "Dependent (reject H0)\n",
            "-----------------------------------\n",
            "\n"
          ]
        }
      ],
      "source": [
        "\n",
        "calculate_chi_square('PaymentMethod','MultipleLines')"
      ]
    },
    {
      "cell_type": "code",
      "execution_count": 216,
      "metadata": {
        "colab": {
          "base_uri": "https://localhost:8080/",
          "height": 168
        },
        "id": "NeB2MFoxSNee",
        "outputId": "a4df09bb-08dc-471b-8419-fd2b3a2cb6c3"
      },
      "outputs": [
        {
          "data": {
            "text/markdown": [
              "Correlation between **PaymentMethod** and **PhoneService**"
            ],
            "text/plain": [
              "<IPython.core.display.Markdown object>"
            ]
          },
          "metadata": {},
          "output_type": "display_data"
        },
        {
          "name": "stdout",
          "output_type": "stream",
          "text": [
            "p-value : 0.8536395500879111, degree of freedom: 3\n",
            "probability=0.950, critical=7.815, stat=0.783\n",
            "Independent (fail to reject H0)\n",
            "significance=0.050, p=0.854\n",
            "Independent (fail to reject H0)\n",
            "-----------------------------------\n",
            "\n"
          ]
        }
      ],
      "source": [
        "calculate_chi_square('PaymentMethod','PhoneService')"
      ]
    },
    {
      "cell_type": "code",
      "execution_count": 217,
      "metadata": {
        "colab": {
          "base_uri": "https://localhost:8080/",
          "height": 168
        },
        "id": "jW5dQ6pESPvD",
        "outputId": "12d635a0-ddb8-44da-cc4e-48c1c3d38def"
      },
      "outputs": [
        {
          "data": {
            "text/markdown": [
              "Correlation between **PaymentMethod** and **Contract**"
            ],
            "text/plain": [
              "<IPython.core.display.Markdown object>"
            ]
          },
          "metadata": {},
          "output_type": "display_data"
        },
        {
          "name": "stdout",
          "output_type": "stream",
          "text": [
            "p-value : 6.908556640756664e-213, degree of freedom: 6\n",
            "probability=0.950, critical=12.592, stat=1000.518\n",
            "Dependent (reject H0)\n",
            "significance=0.050, p=0.000\n",
            "Dependent (reject H0)\n",
            "-----------------------------------\n",
            "\n"
          ]
        }
      ],
      "source": [
        "\n",
        "calculate_chi_square('PaymentMethod','Contract')"
      ]
    },
    {
      "cell_type": "markdown",
      "metadata": {
        "id": "NP-vbOyuN42T"
      },
      "source": [
        "## Graphical Analysis"
      ]
    },
    {
      "cell_type": "markdown",
      "metadata": {
        "id": "FReCap1kR73I"
      },
      "source": [
        "### Numerical - Numerical"
      ]
    },
    {
      "cell_type": "code",
      "execution_count": 218,
      "metadata": {
        "colab": {
          "base_uri": "https://localhost:8080/",
          "height": 531
        },
        "id": "Ex2_ingZSRP4",
        "outputId": "12e3c6db-4710-435f-a0e7-0c467fef79fb"
      },
      "outputs": [
        {
          "data": {
            "image/png": "[encoded data removed]",
            "text/plain": [
              "<Figure size 1080x576 with 1 Axes>"
            ]
          },
          "metadata": {},
          "output_type": "display_data"
        },
        {
          "data": {
            "text/markdown": [
              "**Most churned users has Month-to-month contract**"
            ],
            "text/plain": [
              "<IPython.core.display.Markdown object>"
            ]
          },
          "metadata": {},
          "output_type": "display_data"
        }
      ],
      "source": [
        "sns.set(rc={'figure.figsize':(15,8)})\n",
        "ax=sns.countplot(x='Contract',hue='Churn',data=df)\n",
        "for p in ax.patches:\n",
        "    patch_height = p.get_height()\n",
        "    if np.isnan(patch_height):\n",
        "        patch_height = 0\n",
        "    ax.annotate('{}'.format(int(patch_height)), (p.get_x()+0.05, patch_height+10))\n",
        "plt.show()\n",
        "\n",
        "printmd(\"**Most churned users has Month-to-month contract**\")\n",
        "     "
      ]
    },
    {
      "cell_type": "code",
      "execution_count": 219,
      "metadata": {
        "colab": {
          "base_uri": "https://localhost:8080/",
          "height": 531
        },
        "id": "IQkpx7pFSXJu",
        "outputId": "30aaf1cb-1132-4c99-b5fc-072a28ddb29a"
      },
      "outputs": [
        {
          "data": {
            "image/png": "[encoded data removed]",
            "text/plain": [
              "<Figure size 1080x576 with 1 Axes>"
            ]
          },
          "metadata": {},
          "output_type": "display_data"
        },
        {
          "data": {
            "text/markdown": [
              "**Most churned users didn't have online security**"
            ],
            "text/plain": [
              "<IPython.core.display.Markdown object>"
            ]
          },
          "metadata": {},
          "output_type": "display_data"
        }
      ],
      "source": [
        "sns.set(rc={'figure.figsize':(15,8)})\n",
        "ax=sns.countplot(x='OnlineSecurity',hue='Churn',data=df)\n",
        "for p in ax.patches:\n",
        "    patch_height = p.get_height()\n",
        "    if np.isnan(patch_height):\n",
        "        patch_height = 0\n",
        "    ax.annotate('{}'.format(int(patch_height)), (p.get_x()+0.05, patch_height+10))\n",
        "plt.show()\n",
        "\n",
        "printmd(\"**Most churned users didn't have online security**\")"
      ]
    },
    {
      "cell_type": "markdown",
      "metadata": {
        "id": "KRfKgMyESZA0"
      },
      "source": [
        "### Numerical - Categorical"
      ]
    },
    {
      "cell_type": "code",
      "execution_count": 220,
      "metadata": {
        "colab": {
          "base_uri": "https://localhost:8080/",
          "height": 394
        },
        "id": "bilp3ZnBSbO-",
        "outputId": "3afc7e22-6609-49c3-bd19-904ace0438cd"
      },
      "outputs": [
        {
          "data": {
            "text/markdown": [
              "**Most users who churned does not have a partner in contrast to the users who does**"
            ],
            "text/plain": [
              "<IPython.core.display.Markdown object>"
            ]
          },
          "metadata": {},
          "output_type": "display_data"
        },
        {
          "data": {
            "image/png": "[encoded data removed]",
            "text/plain": [
              "<Figure size 417.475x360 with 1 Axes>"
            ]
          },
          "metadata": {},
          "output_type": "display_data"
        }
      ],
      "source": [
        "sns.catplot(x='Partner',hue='Churn',data=df, kind=\"count\");\n",
        "\n",
        "printmd(\"**Most users who churned does not have a partner in contrast to the users who does**\")"
      ]
    },
    {
      "cell_type": "code",
      "execution_count": 221,
      "metadata": {
        "colab": {
          "base_uri": "https://localhost:8080/",
          "height": 394
        },
        "id": "yNjgJb5USdi9",
        "outputId": "774a3fd0-f42c-442f-b9f2-860332abf13c"
      },
      "outputs": [
        {
          "data": {
            "text/markdown": [
              "**Gender is uncorrelated with churn rate**"
            ],
            "text/plain": [
              "<IPython.core.display.Markdown object>"
            ]
          },
          "metadata": {},
          "output_type": "display_data"
        },
        {
          "data": {
            "image/png": "[encoded data removed]",
            "text/plain": [
              "<Figure size 432x360 with 2 Axes>"
            ]
          },
          "metadata": {},
          "output_type": "display_data"
        }
      ],
      "source": [
        "\n",
        "sns.catplot(x='Churn',y='TotalCharges', col = 'gender', data=df,\n",
        "                kind='bar', aspect=.6, palette='Set2')\n",
        "\n",
        "printmd(\"**Gender is uncorrelated with churn rate**\")"
      ]
    },
    {
      "cell_type": "code",
      "execution_count": 222,
      "metadata": {
        "colab": {
          "base_uri": "https://localhost:8080/",
          "height": 531
        },
        "id": "BlIhA8JlSgMs",
        "outputId": "bfc09676-1cee-406c-d5d6-f76a64852e24"
      },
      "outputs": [
        {
          "data": {
            "image/png": "[encoded data removed]",
            "text/plain": [
              "<Figure size 1080x576 with 1 Axes>"
            ]
          },
          "metadata": {},
          "output_type": "display_data"
        },
        {
          "data": {
            "text/markdown": [
              "**Total Charges for many users are in extreme level in Mailed Check payment method**"
            ],
            "text/plain": [
              "<IPython.core.display.Markdown object>"
            ]
          },
          "metadata": {},
          "output_type": "display_data"
        }
      ],
      "source": [
        "\n",
        "plt.figure(figsize=(15,8))\n",
        "ax = sns.boxplot(x=\"PaymentMethod\", y=\"TotalCharges\", data=df)\n",
        "plt.show()\n",
        "\n",
        "printmd(\"**Total Charges for many users are in extreme level in Mailed Check payment method**\")"
      ]
    },
    {
      "cell_type": "code",
      "execution_count": 223,
      "metadata": {
        "colab": {
          "base_uri": "https://localhost:8080/",
          "height": 502
        },
        "id": "L4vhTCBxS5NP",
        "outputId": "4badfc86-a817-4e89-b515-fc47f5970d4a"
      },
      "outputs": [
        {
          "data": {
            "image/png": "[encoded data removed]",
            "text/plain": [
              "<Figure size 1080x576 with 1 Axes>"
            ]
          },
          "metadata": {},
          "output_type": "display_data"
        }
      ],
      "source": [
        "\n",
        "plt.figure(figsize=(15,8))\n",
        "ax = sns.boxplot(x=\"PaymentMethod\", y=\"MonthlyCharges\", data=df)\n",
        "plt.show()"
      ]
    },
    {
      "cell_type": "markdown",
      "metadata": {
        "id": "rKSh_OMjSGYh"
      },
      "source": [
        "### Categorical - Categorical"
      ]
    },
    {
      "cell_type": "code",
      "execution_count": null,
      "metadata": {
        "id": "aQm_XWDoSJ2_"
      },
      "outputs": [],
      "source": []
    },
    {
      "cell_type": "markdown",
      "metadata": {
        "id": "b9rc49dJOCKi"
      },
      "source": [
        "# Multi -variate analysis"
      ]
    },
    {
      "cell_type": "markdown",
      "metadata": {
        "id": "1IANUkuHQ_GK"
      },
      "source": [
        "### Heatmap"
      ]
    },
    {
      "cell_type": "code",
      "execution_count": 224,
      "metadata": {
        "colab": {
          "base_uri": "https://localhost:8080/",
          "height": 887
        },
        "id": "3-4IsYgUOG3N",
        "outputId": "fa754475-1cf4-496d-9bce-fc0fec2bf560"
      },
      "outputs": [
        {
          "data": {
            "text/plain": [
              "<matplotlib.axes._subplots.AxesSubplot at 0x2cd8aca5970>"
            ]
          },
          "execution_count": 224,
          "metadata": {},
          "output_type": "execute_result"
        },
        {
          "data": {
            "image/png": "[encoded data removed]",
            "text/plain": [
              "<Figure size 1440x1080 with 2 Axes>"
            ]
          },
          "metadata": {},
          "output_type": "display_data"
        }
      ],
      "source": [
        "\n",
        "# correlation\n",
        "\n",
        "\n",
        "### Plotting heatmap for visualising the correlation between features\n",
        "sns.set(rc={'figure.figsize':(20,15)})\n",
        "sns.heatmap(df.corr(), annot=True,  vmin=-1, vmax=1, cmap=\"YlGnBu\")"
      ]
    },
    {
      "cell_type": "markdown",
      "metadata": {
        "id": "SLbqOVl3RBKv"
      },
      "source": [
        "### Pairplot"
      ]
    },
    {
      "cell_type": "code",
      "execution_count": 225,
      "metadata": {
        "colab": {
          "base_uri": "https://localhost:8080/",
          "height": 725
        },
        "id": "fthcZOL2OWlo",
        "outputId": "56f20952-fdf5-4be0-a5d5-54cf5041218b"
      },
      "outputs": [
        {
          "data": {
            "image/png": "[encoded data removed]",
            "text/plain": [
              "<Figure size 720x720 with 20 Axes>"
            ]
          },
          "metadata": {},
          "output_type": "display_data"
        }
      ],
      "source": [
        "sns.pairplot(\n",
        "    df,\n",
        "    plot_kws=dict(marker=\"+\", linewidth=1),\n",
        "    diag_kws=dict(fill=False),\n",
        ")\n",
        "plt.title('pairplot of variables')\n",
        "plt.tight_layout()\n",
        "plt.show()"
      ]
    },
    {
      "cell_type": "markdown",
      "metadata": {
        "id": "lTvSdun2PLxb"
      },
      "source": [
        "# Data wrangling or Feature engineering"
      ]
    },
    {
      "cell_type": "markdown",
      "metadata": {
        "id": "Ji2ayj8-RE7s"
      },
      "source": [
        "### Correleation removal"
      ]
    },
    {
      "cell_type": "code",
      "execution_count": 226,
      "metadata": {
        "id": "dKoUAXMDREP3"
      },
      "outputs": [],
      "source": [
        "# correlation features\n",
        "\n",
        "\n",
        "\n",
        "def correlation(dataset, threshold):\n",
        "    col_corr = set()  # Set of all the names of correlated columns\n",
        "    corr_matrix = dataset.corr()\n",
        "    for i in range(len(corr_matrix.columns)):\n",
        "        for j in range(i):\n",
        "            if abs(corr_matrix.iloc[i, j]) > threshold: # we are interested in absolute coeff value\n",
        "                colname = corr_matrix.columns[i]  # getting the name of column\n",
        "                col_corr.add(colname)\n",
        "    return col_corr"
      ]
    },
    {
      "cell_type": "code",
      "execution_count": 227,
      "metadata": {
        "colab": {
          "base_uri": "https://localhost:8080/"
        },
        "id": "9Qv-5kGVRLoi",
        "outputId": "f564eaf5-b6c7-4950-bb22-26fd8b620f2d"
      },
      "outputs": [
        {
          "data": {
            "text/plain": [
              "1"
            ]
          },
          "execution_count": 227,
          "metadata": {},
          "output_type": "execute_result"
        }
      ],
      "source": [
        "corr_features = correlation(df, 0.75)\n",
        "len(set(corr_features))\n",
        "     "
      ]
    },
    {
      "cell_type": "code",
      "execution_count": null,
      "metadata": {
        "id": "V8wMTP1cRNff"
      },
      "outputs": [],
      "source": []
    },
    {
      "cell_type": "markdown",
      "metadata": {
        "id": "bEPzDogTRXy2"
      },
      "source": [
        "### outlier removal\n",
        "\n"
      ]
    },
    {
      "cell_type": "code",
      "execution_count": 228,
      "metadata": {
        "colab": {
          "base_uri": "https://localhost:8080/",
          "height": 570
        },
        "id": "qTueZ4f5RhP3",
        "outputId": "bd7b39ff-b82f-49ff-b8f1-401b63447fa5"
      },
      "outputs": [
        {
          "data": {
            "image/png": "[encoded data removed]",
            "text/plain": [
              "<Figure size 1440x2160 with 3 Axes>"
            ]
          },
          "metadata": {},
          "output_type": "display_data"
        }
      ],
      "source": [
        "# #outliers\n",
        "\n",
        "### Checking outliers in numerical features\n",
        "\n",
        "plt.figure(figsize=(20,30))\n",
        "for feature in enumerate(numerical_features):\n",
        "    plt.subplot(10, 5, feature[0]+1)\n",
        "    sns.set(rc={'figure.figsize':(10,6)})\n",
        "    sns.boxplot(data=df, x=feature[1], palette = 'rainbow')\n",
        "    plt.title(\"{}\".format(feature[1]), fontweight=\"bold\", fontsize=15)"
      ]
    },
    {
      "cell_type": "code",
      "execution_count": 229,
      "metadata": {
        "id": "EVcPDo8yRj9V"
      },
      "outputs": [],
      "source": [
        "### Function to Cap Outlier\n",
        "def remove_outliers(in_data, in_col):\n",
        "    # Finding the IQR\n",
        "    first_quartile = in_data[in_col].quantile(0.25)\n",
        "    third_quartile = in_data[in_col].quantile(0.75)\n",
        "    iqr = third_quartile - first_quartile\n",
        "    upper_limit = third_quartile + 1.5 * iqr\n",
        "    lower_limit = first_quartile - 1.5 * iqr\n",
        "    in_data.loc[(in_data[in_col]>upper_limit), in_col]= upper_limit\n",
        "    in_data.loc[(in_data[in_col]<lower_limit), in_col]= lower_limit    \n",
        "    return in_data"
      ]
    },
    {
      "cell_type": "code",
      "execution_count": 230,
      "metadata": {
        "id": "VeRj76hhRnGu"
      },
      "outputs": [],
      "source": [
        "### Capping outliers from numerical features\n",
        "for feature in numerical_features:\n",
        "    \n",
        "    dataset=remove_outliers(df, feature)"
      ]
    },
    {
      "cell_type": "code",
      "execution_count": 231,
      "metadata": {
        "id": "Uw7spgrtRouX"
      },
      "outputs": [
        {
          "data": {
            "image/png": "[encoded data removed]",
            "text/plain": [
              "<Figure size 1440x1440 with 3 Axes>"
            ]
          },
          "metadata": {},
          "output_type": "display_data"
        }
      ],
      "source": [
        "### Checking outliers in numerical features after capping\n",
        "\n",
        "plt.figure(figsize=(20,20))\n",
        "for feature in enumerate(numerical_features):\n",
        "    plt.subplot(10, 4, feature[0]+1)\n",
        "    sns.set(rc={'figure.figsize':(10,6)})\n",
        "    sns.boxplot(data=df, x=feature[1], color='r')\n",
        "    plt.title(\"{}\".format(feature[1]), fontweight=\"bold\", fontsize=15)\n",
        "    plt.tight_layout()"
      ]
    },
    {
      "cell_type": "code",
      "execution_count": 232,
      "metadata": {
        "id": "j1avA9MVRr3R"
      },
      "outputs": [
        {
          "data": {
            "text/plain": [
              "Index(['gender', 'Partner', 'Dependents', 'PhoneService', 'MultipleLines',\n",
              "       'InternetService', 'OnlineSecurity', 'OnlineBackup', 'DeviceProtection',\n",
              "       'TechSupport', 'StreamingTV', 'StreamingMovies', 'Contract',\n",
              "       'PaperlessBilling', 'PaymentMethod', 'Churn'],\n",
              "      dtype='object')"
            ]
          },
          "execution_count": 232,
          "metadata": {},
          "output_type": "execute_result"
        }
      ],
      "source": [
        "\n",
        "# Encoding Categorical variables\n",
        "categorical_features.columns"
      ]
    },
    {
      "cell_type": "code",
      "execution_count": 233,
      "metadata": {
        "id": "QAWDqcpHhdNI"
      },
      "outputs": [
        {
          "data": {
            "text/plain": [
              "0       0\n",
              "1       0\n",
              "2       1\n",
              "3       0\n",
              "4       1\n",
              "       ..\n",
              "7038    0\n",
              "7039    0\n",
              "7040    0\n",
              "7041    1\n",
              "7042    0\n",
              "Name: Churn, Length: 7032, dtype: int64"
            ]
          },
          "execution_count": 233,
          "metadata": {},
          "output_type": "execute_result"
        }
      ],
      "source": [
        "#  encoding target variable\n",
        "\n",
        "df['Churn'] = df['Churn'].map({'Yes':1,'No':0})\n",
        "df['Churn']"
      ]
    },
    {
      "cell_type": "code",
      "execution_count": 234,
      "metadata": {
        "id": "lSm5IyVPUYsh"
      },
      "outputs": [],
      "source": [
        "X = df.drop('Churn',axis =1)\n",
        "y = df['Churn']"
      ]
    },
    {
      "cell_type": "markdown",
      "metadata": {
        "id": "uZ4tmk-zPbZO"
      },
      "source": [
        "### Spliting the dataset"
      ]
    },
    {
      "cell_type": "code",
      "execution_count": 235,
      "metadata": {
        "id": "0yfXq60AsWgA"
      },
      "outputs": [],
      "source": [
        "X_train,X_test,y_train,y_test = train_test_split(df.drop(columns=['Churn']),\n",
        "                                                 df['Churn'],\n",
        "                                                 test_size=0.2,\n",
        "                                                random_state=23)"
      ]
    },
    {
      "cell_type": "code",
      "execution_count": 236,
      "metadata": {
        "id": "oUFU6ETneDWj"
      },
      "outputs": [],
      "source": [
        "from sklearn.compose import ColumnTransformer\n",
        "from sklearn.pipeline import Pipeline, make_pipeline"
      ]
    },
    {
      "cell_type": "markdown",
      "metadata": {
        "id": "QdvPMH08Pkvt"
      },
      "source": [
        "###Encoding the categorical variables"
      ]
    },
    {
      "cell_type": "code",
      "execution_count": 237,
      "metadata": {
        "id": "xjxU1OTVeHm3"
      },
      "outputs": [],
      "source": [
        "t1 = ColumnTransformer([\n",
        "    ('onehot',OneHotEncoder(sparse = False,handle_unknown='ignore'),[0,2,3,4,6,7,8,9,10,11,12,13,14,15,18,19,20])\n",
        "],remainder='passthrough')\n",
        "\n",
        "t2 = ColumnTransformer([\n",
        "    ('scale',StandardScaler(),slice(1,20))\n",
        "    \n",
        "])"
      ]
    },
    {
      "cell_type": "code",
      "execution_count": 238,
      "metadata": {
        "id": "I6UcQOl5eMR9"
      },
      "outputs": [],
      "source": [
        "pipe = make_pipeline(t1,t2)"
      ]
    },
    {
      "cell_type": "code",
      "execution_count": 239,
      "metadata": {
        "id": "YDQCDijyeNsX"
      },
      "outputs": [],
      "source": [
        "X_train=pipe.fit_transform(X_train)"
      ]
    },
    {
      "cell_type": "code",
      "execution_count": 240,
      "metadata": {
        "id": "bgSvLX_ieQvS"
      },
      "outputs": [],
      "source": [
        "X_test = pipe.transform(X_test)"
      ]
    },
    {
      "cell_type": "code",
      "execution_count": 241,
      "metadata": {
        "id": "wiPlhzi3hFJW"
      },
      "outputs": [
        {
          "data": {
            "text/plain": [
              "((5625, 19), (5625,))"
            ]
          },
          "execution_count": 241,
          "metadata": {},
          "output_type": "execute_result"
        }
      ],
      "source": [
        "X_train.shape, y_train.shape"
      ]
    },
    {
      "cell_type": "code",
      "execution_count": 242,
      "metadata": {
        "id": "1vBiW3s4hH3M"
      },
      "outputs": [
        {
          "data": {
            "text/plain": [
              "((1407, 19), (1407,))"
            ]
          },
          "execution_count": 242,
          "metadata": {},
          "output_type": "execute_result"
        }
      ],
      "source": [
        "X_test.shape, y_test.shape"
      ]
    },
    {
      "cell_type": "markdown",
      "metadata": {
        "id": "x5bkoBErQMZH"
      },
      "source": [
        "# Model Building"
      ]
    },
    {
      "cell_type": "code",
      "execution_count": 243,
      "metadata": {
        "id": "UKFplvA-vck_"
      },
      "outputs": [],
      "source": [
        "from sklearn import naive_bayes\n",
        "models={\n",
        " \"Logistic Regression\":LogisticRegression(),\n",
        " \"Naive Bayes\":GaussianNB(),\n",
        " \"Decision Tree Classifier\":DecisionTreeClassifier(),\n",
        " \"Random Forest Classifier\":RandomForestClassifier(),\n",
        " \"Bagging Classifier\": BaggingClassifier(base_estimator=LogisticRegression()),\n",
        " \"Extra Tree Classifier\": ExtraTreesClassifier(),\n",
        " \"AdaBoost Classifier\": AdaBoostClassifier(),\n",
        " \"GradientBoost Classifier\": GradientBoostingClassifier(),\n",
        " \"XGBoost Classifier\": XGBClassifier(),\n",
        " #\"Light GBM Classifer\":LabelEncoder(),\n",
        " \"Cat Boost Classifer\":CatBoostClassifier()\n",
        "}"
      ]
    },
    {
      "cell_type": "code",
      "execution_count": 244,
      "metadata": {
        "id": "EWBDuQnrwaD0"
      },
      "outputs": [],
      "source": [
        "def model_trainer(model, X_train_data, y_train_data, X_test_data):\n",
        " \"\"\"\n",
        " This function takes model object, X train data, y train data, and \n",
        " X test data as argument, trains model and gives prediction for train data \n",
        " and prediction for test data.\n",
        " \"\"\"\n",
        " model.fit(X_train, y_train)\n",
        " y_train_pred=model.predict(X_train)\n",
        " pred_val=model.predict(X_test)\n",
        " return y_train_pred, pred_val"
      ]
    },
    {
      "cell_type": "code",
      "execution_count": 245,
      "metadata": {
        "id": "_KU4McydwuHx"
      },
      "outputs": [],
      "source": [
        "def model_evaluator(actual_val, pred_val):\n",
        "\n",
        " acc=round(accuracy_score(actual_val, pred_val),5)\n",
        " prec=round(precision_score(actual_val, pred_val),5)\n",
        " rec=round(recall_score(actual_val, pred_val),5)\n",
        " roc_auc=round(roc_auc_score(actual_val, pred_val),5)\n",
        " return acc, prec, rec, roc_auc\n",
        " "
      ]
    },
    {
      "cell_type": "code",
      "execution_count": 246,
      "metadata": {
        "id": "s_44u4i-wuxq"
      },
      "outputs": [
        {
          "name": "stdout",
          "output_type": "stream",
          "text": [
            "Logistic Regression Model\n",
            "\n",
            "Model Performance for training dataset\n",
            "Accuracy score: 0.76124\n",
            "Precision Score: 0.6092\n",
            "Recall Score: 0.25136\n",
            "Roc_Auc Score: 0.597\n",
            "--------------------------------------------------\n",
            "Model Performance for Test dataset\n",
            "Accuracy score: 0.73845\n",
            "Precision Score: 0.58503\n",
            "Recall Score: 0.21883\n",
            "Roc_Auc Score: 0.57934\n",
            "--------------------------------------------------\n",
            "\n",
            "\n",
            "Naive Bayes Model\n",
            "\n",
            "Model Performance for training dataset\n",
            "Accuracy score: 0.7136\n",
            "Precision Score: 0.46365\n",
            "Recall Score: 0.58333\n",
            "Roc_Auc Score: 0.67164\n",
            "--------------------------------------------------\n",
            "Model Performance for Test dataset\n",
            "Accuracy score: 0.69581\n",
            "Precision Score: 0.4612\n",
            "Recall Score: 0.52926\n",
            "Roc_Auc Score: 0.64481\n",
            "--------------------------------------------------\n",
            "\n",
            "\n",
            "Decision Tree Classifier Model\n",
            "\n",
            "Model Performance for training dataset\n",
            "Accuracy score: 0.77262\n",
            "Precision Score: 0.62086\n",
            "Recall Score: 0.34282\n",
            "Roc_Auc Score: 0.63417\n",
            "--------------------------------------------------\n",
            "Model Performance for Test dataset\n",
            "Accuracy score: 0.742\n",
            "Precision Score: 0.58152\n",
            "Recall Score: 0.27226\n",
            "Roc_Auc Score: 0.59816\n",
            "--------------------------------------------------\n",
            "\n",
            "\n",
            "Random Forest Classifier Model\n",
            "\n",
            "Model Performance for training dataset\n",
            "Accuracy score: 0.77262\n",
            "Precision Score: 0.61494\n",
            "Recall Score: 0.35705\n",
            "Roc_Auc Score: 0.63875\n",
            "--------------------------------------------------\n",
            "Model Performance for Test dataset\n",
            "Accuracy score: 0.742\n",
            "Precision Score: 0.57653\n",
            "Recall Score: 0.28753\n",
            "Roc_Auc Score: 0.60284\n",
            "--------------------------------------------------\n",
            "\n",
            "\n",
            "Bagging Classifier Model\n",
            "\n",
            "Model Performance for training dataset\n",
            "Accuracy score: 0.76302\n",
            "Precision Score: 0.60916\n",
            "Recall Score: 0.27033\n",
            "Roc_Auc Score: 0.60431\n",
            "--------------------------------------------------\n",
            "Model Performance for Test dataset\n",
            "Accuracy score: 0.73916\n",
            "Precision Score: 0.58442\n",
            "Recall Score: 0.22901\n",
            "Roc_Auc Score: 0.58295\n",
            "--------------------------------------------------\n",
            "\n",
            "\n",
            "Extra Tree Classifier Model\n",
            "\n",
            "Model Performance for training dataset\n",
            "Accuracy score: 0.77262\n",
            "Precision Score: 0.62086\n",
            "Recall Score: 0.34282\n",
            "Roc_Auc Score: 0.63417\n",
            "--------------------------------------------------\n",
            "Model Performance for Test dataset\n",
            "Accuracy score: 0.742\n",
            "Precision Score: 0.58152\n",
            "Recall Score: 0.27226\n",
            "Roc_Auc Score: 0.59816\n",
            "--------------------------------------------------\n",
            "\n",
            "\n",
            "AdaBoost Classifier Model\n",
            "\n",
            "Model Performance for training dataset\n",
            "Accuracy score: 0.76036\n",
            "Precision Score: 0.60631\n",
            "Recall Score: 0.24729\n",
            "Roc_Auc Score: 0.59508\n",
            "--------------------------------------------------\n",
            "Model Performance for Test dataset\n",
            "Accuracy score: 0.73774\n",
            "Precision Score: 0.58219\n",
            "Recall Score: 0.21628\n",
            "Roc_Auc Score: 0.57806\n",
            "--------------------------------------------------\n",
            "\n",
            "\n",
            "GradientBoost Classifier Model\n",
            "\n",
            "Model Performance for training dataset\n",
            "Accuracy score: 0.7664\n",
            "Precision Score: 0.61506\n",
            "Recall Score: 0.29336\n",
            "Roc_Auc Score: 0.61402\n",
            "--------------------------------------------------\n",
            "Model Performance for Test dataset\n",
            "Accuracy score: 0.73561\n",
            "Precision Score: 0.56688\n",
            "Recall Score: 0.22646\n",
            "Roc_Auc Score: 0.5797\n",
            "--------------------------------------------------\n",
            "\n",
            "\n",
            "[22:16:08] WARNING: C:/Users/Administrator/workspace/xgboost-win64_release_1.5.1/src/learner.cc:1115: Starting in XGBoost 1.3.0, the default evaluation metric used with the objective 'binary:logistic' was changed from 'error' to 'logloss'. Explicitly set eval_metric if you'd like to restore the old behavior.\n",
            "XGBoost Classifier Model\n",
            "\n",
            "Model Performance for training dataset\n",
            "Accuracy score: 0.77244\n",
            "Precision Score: 0.61836\n",
            "Recall Score: 0.34688\n",
            "Roc_Auc Score: 0.63536\n",
            "--------------------------------------------------\n",
            "Model Performance for Test dataset\n",
            "Accuracy score: 0.73774\n",
            "Precision Score: 0.56667\n",
            "Recall Score: 0.25954\n",
            "Roc_Auc Score: 0.59131\n",
            "--------------------------------------------------\n",
            "\n",
            "\n",
            "Learning rate set to 0.02154\n",
            "0:\tlearn: 0.6851404\ttotal: 176ms\tremaining: 2m 55s\n",
            "1:\tlearn: 0.6773703\ttotal: 189ms\tremaining: 1m 34s\n",
            "2:\tlearn: 0.6701167\ttotal: 200ms\tremaining: 1m 6s\n",
            "3:\tlearn: 0.6633495\ttotal: 211ms\tremaining: 52.5s\n",
            "4:\tlearn: 0.6572157\ttotal: 222ms\tremaining: 44.1s\n",
            "5:\tlearn: 0.6513198\ttotal: 232ms\tremaining: 38.5s\n",
            "6:\tlearn: 0.6454301\ttotal: 243ms\tremaining: 34.5s\n",
            "7:\tlearn: 0.6401976\ttotal: 254ms\tremaining: 31.4s\n",
            "8:\tlearn: 0.6349404\ttotal: 266ms\tremaining: 29.3s\n",
            "9:\tlearn: 0.6304190\ttotal: 276ms\tremaining: 27.3s\n",
            "10:\tlearn: 0.6254125\ttotal: 288ms\tremaining: 25.9s\n",
            "11:\tlearn: 0.6210192\ttotal: 296ms\tremaining: 24.4s\n",
            "12:\tlearn: 0.6168402\ttotal: 302ms\tremaining: 23s\n",
            "13:\tlearn: 0.6124790\ttotal: 311ms\tremaining: 21.9s\n",
            "14:\tlearn: 0.6088549\ttotal: 318ms\tremaining: 20.9s\n",
            "15:\tlearn: 0.6052312\ttotal: 325ms\tremaining: 20s\n",
            "16:\tlearn: 0.6016585\ttotal: 331ms\tremaining: 19.2s\n",
            "17:\tlearn: 0.5980327\ttotal: 337ms\tremaining: 18.4s\n",
            "18:\tlearn: 0.5947507\ttotal: 342ms\tremaining: 17.7s\n",
            "19:\tlearn: 0.5921108\ttotal: 347ms\tremaining: 17s\n",
            "20:\tlearn: 0.5890530\ttotal: 352ms\tremaining: 16.4s\n",
            "21:\tlearn: 0.5862352\ttotal: 362ms\tremaining: 16.1s\n",
            "22:\tlearn: 0.5833509\ttotal: 370ms\tremaining: 15.7s\n",
            "23:\tlearn: 0.5804224\ttotal: 377ms\tremaining: 15.3s\n",
            "24:\tlearn: 0.5777249\ttotal: 383ms\tremaining: 14.9s\n",
            "25:\tlearn: 0.5753544\ttotal: 390ms\tremaining: 14.6s\n",
            "26:\tlearn: 0.5729773\ttotal: 396ms\tremaining: 14.3s\n",
            "27:\tlearn: 0.5707062\ttotal: 402ms\tremaining: 13.9s\n",
            "28:\tlearn: 0.5685924\ttotal: 407ms\tremaining: 13.6s\n",
            "29:\tlearn: 0.5666402\ttotal: 412ms\tremaining: 13.3s\n",
            "30:\tlearn: 0.5648809\ttotal: 416ms\tremaining: 13s\n",
            "31:\tlearn: 0.5630518\ttotal: 423ms\tremaining: 12.8s\n",
            "32:\tlearn: 0.5612648\ttotal: 428ms\tremaining: 12.5s\n",
            "33:\tlearn: 0.5594983\ttotal: 433ms\tremaining: 12.3s\n",
            "34:\tlearn: 0.5577809\ttotal: 438ms\tremaining: 12.1s\n",
            "35:\tlearn: 0.5562262\ttotal: 444ms\tremaining: 11.9s\n",
            "36:\tlearn: 0.5547459\ttotal: 449ms\tremaining: 11.7s\n",
            "37:\tlearn: 0.5533792\ttotal: 454ms\tremaining: 11.5s\n",
            "38:\tlearn: 0.5523760\ttotal: 458ms\tremaining: 11.3s\n",
            "39:\tlearn: 0.5509691\ttotal: 463ms\tremaining: 11.1s\n",
            "40:\tlearn: 0.5498464\ttotal: 469ms\tremaining: 11s\n",
            "41:\tlearn: 0.5484300\ttotal: 474ms\tremaining: 10.8s\n",
            "42:\tlearn: 0.5472357\ttotal: 480ms\tremaining: 10.7s\n",
            "43:\tlearn: 0.5460590\ttotal: 486ms\tremaining: 10.6s\n",
            "44:\tlearn: 0.5450010\ttotal: 491ms\tremaining: 10.4s\n",
            "45:\tlearn: 0.5441136\ttotal: 495ms\tremaining: 10.3s\n",
            "46:\tlearn: 0.5429633\ttotal: 501ms\tremaining: 10.2s\n",
            "47:\tlearn: 0.5418492\ttotal: 506ms\tremaining: 10s\n",
            "48:\tlearn: 0.5410560\ttotal: 513ms\tremaining: 9.95s\n",
            "49:\tlearn: 0.5403127\ttotal: 519ms\tremaining: 9.85s\n",
            "50:\tlearn: 0.5394575\ttotal: 524ms\tremaining: 9.76s\n",
            "51:\tlearn: 0.5386593\ttotal: 530ms\tremaining: 9.67s\n",
            "52:\tlearn: 0.5380054\ttotal: 535ms\tremaining: 9.57s\n",
            "53:\tlearn: 0.5371197\ttotal: 541ms\tremaining: 9.48s\n",
            "54:\tlearn: 0.5362826\ttotal: 547ms\tremaining: 9.39s\n",
            "55:\tlearn: 0.5356468\ttotal: 551ms\tremaining: 9.28s\n",
            "56:\tlearn: 0.5349857\ttotal: 557ms\tremaining: 9.22s\n",
            "57:\tlearn: 0.5343088\ttotal: 562ms\tremaining: 9.13s\n",
            "58:\tlearn: 0.5335653\ttotal: 568ms\tremaining: 9.06s\n",
            "59:\tlearn: 0.5330117\ttotal: 574ms\tremaining: 8.99s\n",
            "60:\tlearn: 0.5326806\ttotal: 578ms\tremaining: 8.89s\n",
            "61:\tlearn: 0.5320144\ttotal: 583ms\tremaining: 8.82s\n",
            "62:\tlearn: 0.5314266\ttotal: 588ms\tremaining: 8.75s\n",
            "63:\tlearn: 0.5309902\ttotal: 592ms\tremaining: 8.66s\n",
            "64:\tlearn: 0.5304882\ttotal: 598ms\tremaining: 8.6s\n",
            "65:\tlearn: 0.5299200\ttotal: 604ms\tremaining: 8.54s\n",
            "66:\tlearn: 0.5295618\ttotal: 608ms\tremaining: 8.47s\n",
            "67:\tlearn: 0.5290100\ttotal: 614ms\tremaining: 8.41s\n",
            "68:\tlearn: 0.5286017\ttotal: 619ms\tremaining: 8.35s\n",
            "69:\tlearn: 0.5281231\ttotal: 625ms\tremaining: 8.3s\n",
            "70:\tlearn: 0.5275587\ttotal: 630ms\tremaining: 8.25s\n",
            "71:\tlearn: 0.5272187\ttotal: 635ms\tremaining: 8.18s\n",
            "72:\tlearn: 0.5268580\ttotal: 640ms\tremaining: 8.12s\n",
            "73:\tlearn: 0.5264001\ttotal: 644ms\tremaining: 8.06s\n",
            "74:\tlearn: 0.5260590\ttotal: 650ms\tremaining: 8.02s\n",
            "75:\tlearn: 0.5257005\ttotal: 656ms\tremaining: 7.97s\n",
            "76:\tlearn: 0.5252179\ttotal: 661ms\tremaining: 7.93s\n",
            "77:\tlearn: 0.5248281\ttotal: 667ms\tremaining: 7.88s\n",
            "78:\tlearn: 0.5244659\ttotal: 673ms\tremaining: 7.85s\n",
            "79:\tlearn: 0.5240916\ttotal: 679ms\tremaining: 7.81s\n",
            "80:\tlearn: 0.5236869\ttotal: 684ms\tremaining: 7.76s\n",
            "81:\tlearn: 0.5233083\ttotal: 690ms\tremaining: 7.72s\n",
            "82:\tlearn: 0.5230107\ttotal: 695ms\tremaining: 7.67s\n",
            "83:\tlearn: 0.5228877\ttotal: 699ms\tremaining: 7.62s\n",
            "84:\tlearn: 0.5226777\ttotal: 704ms\tremaining: 7.57s\n",
            "85:\tlearn: 0.5223451\ttotal: 709ms\tremaining: 7.54s\n",
            "86:\tlearn: 0.5220906\ttotal: 714ms\tremaining: 7.5s\n",
            "87:\tlearn: 0.5217839\ttotal: 720ms\tremaining: 7.46s\n",
            "88:\tlearn: 0.5214655\ttotal: 726ms\tremaining: 7.43s\n",
            "89:\tlearn: 0.5213105\ttotal: 730ms\tremaining: 7.38s\n",
            "90:\tlearn: 0.5210420\ttotal: 735ms\tremaining: 7.35s\n",
            "91:\tlearn: 0.5207750\ttotal: 740ms\tremaining: 7.3s\n",
            "92:\tlearn: 0.5206511\ttotal: 743ms\tremaining: 7.25s\n",
            "93:\tlearn: 0.5203736\ttotal: 748ms\tremaining: 7.21s\n",
            "94:\tlearn: 0.5201201\ttotal: 753ms\tremaining: 7.17s\n",
            "95:\tlearn: 0.5198449\ttotal: 757ms\tremaining: 7.13s\n",
            "96:\tlearn: 0.5195996\ttotal: 764ms\tremaining: 7.11s\n",
            "97:\tlearn: 0.5193025\ttotal: 774ms\tremaining: 7.12s\n",
            "98:\tlearn: 0.5191726\ttotal: 778ms\tremaining: 7.08s\n",
            "99:\tlearn: 0.5190596\ttotal: 782ms\tremaining: 7.04s\n",
            "100:\tlearn: 0.5189158\ttotal: 786ms\tremaining: 7s\n",
            "101:\tlearn: 0.5186834\ttotal: 792ms\tremaining: 6.97s\n",
            "102:\tlearn: 0.5184461\ttotal: 797ms\tremaining: 6.94s\n",
            "103:\tlearn: 0.5182422\ttotal: 803ms\tremaining: 6.92s\n",
            "104:\tlearn: 0.5180361\ttotal: 809ms\tremaining: 6.89s\n",
            "105:\tlearn: 0.5178550\ttotal: 814ms\tremaining: 6.87s\n",
            "106:\tlearn: 0.5176523\ttotal: 821ms\tremaining: 6.85s\n",
            "107:\tlearn: 0.5173909\ttotal: 828ms\tremaining: 6.84s\n",
            "108:\tlearn: 0.5171684\ttotal: 834ms\tremaining: 6.82s\n",
            "109:\tlearn: 0.5170537\ttotal: 840ms\tremaining: 6.79s\n",
            "110:\tlearn: 0.5169249\ttotal: 846ms\tremaining: 6.77s\n",
            "111:\tlearn: 0.5168143\ttotal: 851ms\tremaining: 6.75s\n",
            "112:\tlearn: 0.5166134\ttotal: 856ms\tremaining: 6.72s\n",
            "113:\tlearn: 0.5164714\ttotal: 862ms\tremaining: 6.7s\n",
            "114:\tlearn: 0.5163007\ttotal: 867ms\tremaining: 6.67s\n",
            "115:\tlearn: 0.5161070\ttotal: 872ms\tremaining: 6.64s\n",
            "116:\tlearn: 0.5159024\ttotal: 878ms\tremaining: 6.63s\n",
            "117:\tlearn: 0.5157893\ttotal: 883ms\tremaining: 6.6s\n",
            "118:\tlearn: 0.5156356\ttotal: 889ms\tremaining: 6.58s\n",
            "119:\tlearn: 0.5154523\ttotal: 894ms\tremaining: 6.56s\n",
            "120:\tlearn: 0.5152716\ttotal: 900ms\tremaining: 6.54s\n",
            "121:\tlearn: 0.5151305\ttotal: 906ms\tremaining: 6.52s\n",
            "122:\tlearn: 0.5149455\ttotal: 911ms\tremaining: 6.5s\n",
            "123:\tlearn: 0.5147858\ttotal: 917ms\tremaining: 6.48s\n",
            "124:\tlearn: 0.5146067\ttotal: 923ms\tremaining: 6.46s\n",
            "125:\tlearn: 0.5145356\ttotal: 928ms\tremaining: 6.44s\n",
            "126:\tlearn: 0.5143421\ttotal: 934ms\tremaining: 6.42s\n",
            "127:\tlearn: 0.5141893\ttotal: 939ms\tremaining: 6.39s\n",
            "128:\tlearn: 0.5140037\ttotal: 944ms\tremaining: 6.37s\n",
            "129:\tlearn: 0.5138398\ttotal: 949ms\tremaining: 6.35s\n",
            "130:\tlearn: 0.5136472\ttotal: 955ms\tremaining: 6.33s\n",
            "131:\tlearn: 0.5135218\ttotal: 960ms\tremaining: 6.32s\n",
            "132:\tlearn: 0.5133934\ttotal: 965ms\tremaining: 6.29s\n",
            "133:\tlearn: 0.5133198\ttotal: 970ms\tremaining: 6.26s\n",
            "134:\tlearn: 0.5131978\ttotal: 974ms\tremaining: 6.24s\n",
            "135:\tlearn: 0.5130728\ttotal: 979ms\tremaining: 6.22s\n",
            "136:\tlearn: 0.5129230\ttotal: 984ms\tremaining: 6.2s\n",
            "137:\tlearn: 0.5127736\ttotal: 989ms\tremaining: 6.18s\n",
            "138:\tlearn: 0.5126535\ttotal: 994ms\tremaining: 6.16s\n",
            "139:\tlearn: 0.5124975\ttotal: 998ms\tremaining: 6.13s\n",
            "140:\tlearn: 0.5123582\ttotal: 1s\tremaining: 6.12s\n",
            "141:\tlearn: 0.5122385\ttotal: 1.01s\tremaining: 6.1s\n",
            "142:\tlearn: 0.5121179\ttotal: 1.02s\tremaining: 6.09s\n",
            "143:\tlearn: 0.5120496\ttotal: 1.02s\tremaining: 6.07s\n",
            "144:\tlearn: 0.5120058\ttotal: 1.02s\tremaining: 6.04s\n",
            "145:\tlearn: 0.5119371\ttotal: 1.03s\tremaining: 6.02s\n",
            "146:\tlearn: 0.5118950\ttotal: 1.03s\tremaining: 5.99s\n",
            "147:\tlearn: 0.5117893\ttotal: 1.04s\tremaining: 5.98s\n",
            "148:\tlearn: 0.5116546\ttotal: 1.04s\tremaining: 5.96s\n",
            "149:\tlearn: 0.5115462\ttotal: 1.05s\tremaining: 5.95s\n",
            "150:\tlearn: 0.5114455\ttotal: 1.05s\tremaining: 5.93s\n",
            "151:\tlearn: 0.5113369\ttotal: 1.06s\tremaining: 5.91s\n",
            "152:\tlearn: 0.5112267\ttotal: 1.06s\tremaining: 5.89s\n",
            "153:\tlearn: 0.5111906\ttotal: 1.07s\tremaining: 5.86s\n",
            "154:\tlearn: 0.5111059\ttotal: 1.07s\tremaining: 5.85s\n",
            "155:\tlearn: 0.5109970\ttotal: 1.08s\tremaining: 5.83s\n",
            "156:\tlearn: 0.5108916\ttotal: 1.08s\tremaining: 5.81s\n",
            "157:\tlearn: 0.5107839\ttotal: 1.09s\tremaining: 5.8s\n",
            "158:\tlearn: 0.5107051\ttotal: 1.1s\tremaining: 5.81s\n",
            "159:\tlearn: 0.5106193\ttotal: 1.11s\tremaining: 5.81s\n",
            "160:\tlearn: 0.5104735\ttotal: 1.11s\tremaining: 5.81s\n",
            "161:\tlearn: 0.5103887\ttotal: 1.12s\tremaining: 5.81s\n",
            "162:\tlearn: 0.5102970\ttotal: 1.13s\tremaining: 5.8s\n",
            "163:\tlearn: 0.5101953\ttotal: 1.14s\tremaining: 5.8s\n",
            "164:\tlearn: 0.5101016\ttotal: 1.14s\tremaining: 5.79s\n",
            "165:\tlearn: 0.5099966\ttotal: 1.15s\tremaining: 5.79s\n",
            "166:\tlearn: 0.5098856\ttotal: 1.16s\tremaining: 5.77s\n",
            "167:\tlearn: 0.5098029\ttotal: 1.16s\tremaining: 5.76s\n",
            "168:\tlearn: 0.5096803\ttotal: 1.17s\tremaining: 5.75s\n",
            "169:\tlearn: 0.5096526\ttotal: 1.17s\tremaining: 5.73s\n",
            "170:\tlearn: 0.5096197\ttotal: 1.18s\tremaining: 5.72s\n",
            "171:\tlearn: 0.5095365\ttotal: 1.19s\tremaining: 5.72s\n",
            "172:\tlearn: 0.5095132\ttotal: 1.19s\tremaining: 5.7s\n",
            "173:\tlearn: 0.5094525\ttotal: 1.2s\tremaining: 5.69s\n",
            "174:\tlearn: 0.5093443\ttotal: 1.2s\tremaining: 5.68s\n",
            "175:\tlearn: 0.5092399\ttotal: 1.21s\tremaining: 5.67s\n",
            "176:\tlearn: 0.5091618\ttotal: 1.22s\tremaining: 5.65s\n",
            "177:\tlearn: 0.5090812\ttotal: 1.22s\tremaining: 5.64s\n",
            "178:\tlearn: 0.5090212\ttotal: 1.23s\tremaining: 5.63s\n",
            "179:\tlearn: 0.5089366\ttotal: 1.23s\tremaining: 5.63s\n",
            "180:\tlearn: 0.5089220\ttotal: 1.24s\tremaining: 5.61s\n",
            "181:\tlearn: 0.5088892\ttotal: 1.24s\tremaining: 5.59s\n",
            "182:\tlearn: 0.5088178\ttotal: 1.25s\tremaining: 5.58s\n",
            "183:\tlearn: 0.5087363\ttotal: 1.25s\tremaining: 5.57s\n",
            "184:\tlearn: 0.5086443\ttotal: 1.26s\tremaining: 5.55s\n",
            "185:\tlearn: 0.5086350\ttotal: 1.26s\tremaining: 5.53s\n",
            "186:\tlearn: 0.5085460\ttotal: 1.27s\tremaining: 5.52s\n",
            "187:\tlearn: 0.5084679\ttotal: 1.27s\tremaining: 5.5s\n",
            "188:\tlearn: 0.5084159\ttotal: 1.28s\tremaining: 5.49s\n",
            "189:\tlearn: 0.5083874\ttotal: 1.28s\tremaining: 5.47s\n",
            "190:\tlearn: 0.5082784\ttotal: 1.29s\tremaining: 5.46s\n",
            "191:\tlearn: 0.5081638\ttotal: 1.29s\tremaining: 5.45s\n",
            "192:\tlearn: 0.5080884\ttotal: 1.3s\tremaining: 5.43s\n",
            "193:\tlearn: 0.5079857\ttotal: 1.3s\tremaining: 5.42s\n",
            "194:\tlearn: 0.5079097\ttotal: 1.31s\tremaining: 5.4s\n",
            "195:\tlearn: 0.5078335\ttotal: 1.31s\tremaining: 5.38s\n",
            "196:\tlearn: 0.5077586\ttotal: 1.32s\tremaining: 5.37s\n",
            "197:\tlearn: 0.5076922\ttotal: 1.32s\tremaining: 5.36s\n",
            "198:\tlearn: 0.5076255\ttotal: 1.33s\tremaining: 5.34s\n",
            "199:\tlearn: 0.5075690\ttotal: 1.33s\tremaining: 5.33s\n",
            "200:\tlearn: 0.5075013\ttotal: 1.34s\tremaining: 5.32s\n",
            "201:\tlearn: 0.5074517\ttotal: 1.34s\tremaining: 5.3s\n",
            "202:\tlearn: 0.5073896\ttotal: 1.35s\tremaining: 5.29s\n",
            "203:\tlearn: 0.5073521\ttotal: 1.35s\tremaining: 5.28s\n",
            "204:\tlearn: 0.5072815\ttotal: 1.36s\tremaining: 5.27s\n",
            "205:\tlearn: 0.5072027\ttotal: 1.36s\tremaining: 5.26s\n",
            "206:\tlearn: 0.5071524\ttotal: 1.37s\tremaining: 5.24s\n",
            "207:\tlearn: 0.5070818\ttotal: 1.38s\tremaining: 5.24s\n",
            "208:\tlearn: 0.5070312\ttotal: 1.38s\tremaining: 5.22s\n",
            "209:\tlearn: 0.5069969\ttotal: 1.39s\tremaining: 5.21s\n",
            "210:\tlearn: 0.5069252\ttotal: 1.39s\tremaining: 5.2s\n",
            "211:\tlearn: 0.5068576\ttotal: 1.4s\tremaining: 5.19s\n",
            "212:\tlearn: 0.5068109\ttotal: 1.4s\tremaining: 5.18s\n",
            "213:\tlearn: 0.5067429\ttotal: 1.41s\tremaining: 5.17s\n",
            "214:\tlearn: 0.5066987\ttotal: 1.41s\tremaining: 5.16s\n",
            "215:\tlearn: 0.5066514\ttotal: 1.42s\tremaining: 5.15s\n",
            "216:\tlearn: 0.5066275\ttotal: 1.42s\tremaining: 5.13s\n",
            "217:\tlearn: 0.5065599\ttotal: 1.43s\tremaining: 5.12s\n",
            "218:\tlearn: 0.5065002\ttotal: 1.43s\tremaining: 5.12s\n",
            "219:\tlearn: 0.5064371\ttotal: 1.44s\tremaining: 5.11s\n",
            "220:\tlearn: 0.5063718\ttotal: 1.45s\tremaining: 5.1s\n",
            "221:\tlearn: 0.5063498\ttotal: 1.45s\tremaining: 5.09s\n",
            "222:\tlearn: 0.5062848\ttotal: 1.46s\tremaining: 5.08s\n",
            "223:\tlearn: 0.5062303\ttotal: 1.46s\tremaining: 5.07s\n",
            "224:\tlearn: 0.5062085\ttotal: 1.47s\tremaining: 5.06s\n",
            "225:\tlearn: 0.5061348\ttotal: 1.48s\tremaining: 5.06s\n",
            "226:\tlearn: 0.5060798\ttotal: 1.48s\tremaining: 5.05s\n",
            "227:\tlearn: 0.5060494\ttotal: 1.49s\tremaining: 5.04s\n",
            "228:\tlearn: 0.5060061\ttotal: 1.49s\tremaining: 5.02s\n",
            "229:\tlearn: 0.5059489\ttotal: 1.5s\tremaining: 5.01s\n",
            "230:\tlearn: 0.5058687\ttotal: 1.5s\tremaining: 5s\n",
            "231:\tlearn: 0.5058088\ttotal: 1.51s\tremaining: 4.99s\n",
            "232:\tlearn: 0.5057704\ttotal: 1.51s\tremaining: 4.98s\n",
            "233:\tlearn: 0.5057336\ttotal: 1.52s\tremaining: 4.98s\n",
            "234:\tlearn: 0.5056869\ttotal: 1.52s\tremaining: 4.97s\n",
            "235:\tlearn: 0.5056343\ttotal: 1.53s\tremaining: 4.96s\n",
            "236:\tlearn: 0.5056235\ttotal: 1.54s\tremaining: 4.95s\n",
            "237:\tlearn: 0.5056078\ttotal: 1.54s\tremaining: 4.93s\n",
            "238:\tlearn: 0.5055887\ttotal: 1.54s\tremaining: 4.92s\n",
            "239:\tlearn: 0.5055342\ttotal: 1.55s\tremaining: 4.91s\n",
            "240:\tlearn: 0.5054858\ttotal: 1.56s\tremaining: 4.9s\n",
            "241:\tlearn: 0.5053959\ttotal: 1.56s\tremaining: 4.89s\n",
            "242:\tlearn: 0.5053517\ttotal: 1.57s\tremaining: 4.88s\n",
            "243:\tlearn: 0.5053254\ttotal: 1.57s\tremaining: 4.87s\n",
            "244:\tlearn: 0.5053011\ttotal: 1.58s\tremaining: 4.86s\n",
            "245:\tlearn: 0.5052767\ttotal: 1.58s\tremaining: 4.85s\n",
            "246:\tlearn: 0.5052226\ttotal: 1.59s\tremaining: 4.84s\n",
            "247:\tlearn: 0.5051839\ttotal: 1.59s\tremaining: 4.83s\n",
            "248:\tlearn: 0.5050917\ttotal: 1.6s\tremaining: 4.82s\n",
            "249:\tlearn: 0.5050490\ttotal: 1.6s\tremaining: 4.81s\n",
            "250:\tlearn: 0.5049939\ttotal: 1.61s\tremaining: 4.8s\n",
            "251:\tlearn: 0.5049461\ttotal: 1.61s\tremaining: 4.79s\n",
            "252:\tlearn: 0.5048881\ttotal: 1.62s\tremaining: 4.78s\n",
            "253:\tlearn: 0.5048396\ttotal: 1.62s\tremaining: 4.77s\n",
            "254:\tlearn: 0.5047932\ttotal: 1.63s\tremaining: 4.76s\n",
            "255:\tlearn: 0.5047571\ttotal: 1.63s\tremaining: 4.75s\n",
            "256:\tlearn: 0.5047106\ttotal: 1.64s\tremaining: 4.74s\n",
            "257:\tlearn: 0.5046692\ttotal: 1.64s\tremaining: 4.72s\n",
            "258:\tlearn: 0.5046161\ttotal: 1.65s\tremaining: 4.72s\n",
            "259:\tlearn: 0.5045185\ttotal: 1.65s\tremaining: 4.71s\n",
            "260:\tlearn: 0.5044757\ttotal: 1.66s\tremaining: 4.7s\n",
            "261:\tlearn: 0.5044603\ttotal: 1.66s\tremaining: 4.68s\n",
            "262:\tlearn: 0.5044172\ttotal: 1.67s\tremaining: 4.67s\n",
            "263:\tlearn: 0.5043196\ttotal: 1.67s\tremaining: 4.66s\n",
            "264:\tlearn: 0.5042798\ttotal: 1.68s\tremaining: 4.66s\n",
            "265:\tlearn: 0.5042542\ttotal: 1.68s\tremaining: 4.64s\n",
            "266:\tlearn: 0.5042244\ttotal: 1.69s\tremaining: 4.63s\n",
            "267:\tlearn: 0.5042047\ttotal: 1.69s\tremaining: 4.62s\n",
            "268:\tlearn: 0.5041898\ttotal: 1.7s\tremaining: 4.61s\n",
            "269:\tlearn: 0.5041604\ttotal: 1.7s\tremaining: 4.6s\n",
            "270:\tlearn: 0.5041139\ttotal: 1.71s\tremaining: 4.59s\n",
            "271:\tlearn: 0.5040510\ttotal: 1.71s\tremaining: 4.59s\n",
            "272:\tlearn: 0.5040151\ttotal: 1.72s\tremaining: 4.58s\n",
            "273:\tlearn: 0.5039728\ttotal: 1.72s\tremaining: 4.57s\n",
            "274:\tlearn: 0.5039000\ttotal: 1.73s\tremaining: 4.56s\n",
            "275:\tlearn: 0.5038625\ttotal: 1.73s\tremaining: 4.55s\n",
            "276:\tlearn: 0.5038343\ttotal: 1.74s\tremaining: 4.54s\n",
            "277:\tlearn: 0.5037934\ttotal: 1.75s\tremaining: 4.53s\n",
            "278:\tlearn: 0.5037438\ttotal: 1.75s\tremaining: 4.52s\n",
            "279:\tlearn: 0.5037366\ttotal: 1.76s\tremaining: 4.52s\n",
            "280:\tlearn: 0.5037135\ttotal: 1.76s\tremaining: 4.51s\n",
            "281:\tlearn: 0.5037064\ttotal: 1.77s\tremaining: 4.5s\n",
            "282:\tlearn: 0.5036441\ttotal: 1.77s\tremaining: 4.49s\n",
            "283:\tlearn: 0.5035876\ttotal: 1.78s\tremaining: 4.5s\n",
            "284:\tlearn: 0.5035471\ttotal: 1.79s\tremaining: 4.49s\n",
            "285:\tlearn: 0.5035239\ttotal: 1.79s\tremaining: 4.48s\n",
            "286:\tlearn: 0.5034836\ttotal: 1.8s\tremaining: 4.47s\n",
            "287:\tlearn: 0.5034545\ttotal: 1.8s\tremaining: 4.46s\n",
            "288:\tlearn: 0.5034182\ttotal: 1.81s\tremaining: 4.45s\n",
            "289:\tlearn: 0.5033809\ttotal: 1.82s\tremaining: 4.45s\n",
            "290:\tlearn: 0.5033002\ttotal: 1.82s\tremaining: 4.44s\n",
            "291:\tlearn: 0.5032688\ttotal: 1.83s\tremaining: 4.43s\n",
            "292:\tlearn: 0.5032581\ttotal: 1.83s\tremaining: 4.42s\n",
            "293:\tlearn: 0.5032345\ttotal: 1.84s\tremaining: 4.41s\n",
            "294:\tlearn: 0.5032090\ttotal: 1.84s\tremaining: 4.4s\n",
            "295:\tlearn: 0.5031562\ttotal: 1.85s\tremaining: 4.4s\n",
            "296:\tlearn: 0.5030751\ttotal: 1.85s\tremaining: 4.39s\n",
            "297:\tlearn: 0.5030573\ttotal: 1.86s\tremaining: 4.38s\n",
            "298:\tlearn: 0.5030069\ttotal: 1.87s\tremaining: 4.38s\n",
            "299:\tlearn: 0.5029870\ttotal: 1.87s\tremaining: 4.37s\n",
            "300:\tlearn: 0.5029292\ttotal: 1.88s\tremaining: 4.36s\n",
            "301:\tlearn: 0.5028952\ttotal: 1.88s\tremaining: 4.35s\n",
            "302:\tlearn: 0.5028646\ttotal: 1.89s\tremaining: 4.34s\n",
            "303:\tlearn: 0.5028023\ttotal: 1.89s\tremaining: 4.33s\n",
            "304:\tlearn: 0.5027596\ttotal: 1.9s\tremaining: 4.33s\n",
            "305:\tlearn: 0.5027085\ttotal: 1.9s\tremaining: 4.32s\n",
            "306:\tlearn: 0.5026331\ttotal: 1.91s\tremaining: 4.31s\n",
            "307:\tlearn: 0.5026184\ttotal: 1.92s\tremaining: 4.3s\n",
            "308:\tlearn: 0.5025963\ttotal: 1.92s\tremaining: 4.29s\n",
            "309:\tlearn: 0.5025900\ttotal: 1.92s\tremaining: 4.28s\n",
            "310:\tlearn: 0.5025588\ttotal: 1.93s\tremaining: 4.28s\n",
            "311:\tlearn: 0.5025483\ttotal: 1.93s\tremaining: 4.27s\n",
            "312:\tlearn: 0.5025194\ttotal: 1.94s\tremaining: 4.26s\n",
            "313:\tlearn: 0.5025004\ttotal: 1.95s\tremaining: 4.25s\n",
            "314:\tlearn: 0.5024594\ttotal: 1.95s\tremaining: 4.24s\n",
            "315:\tlearn: 0.5024291\ttotal: 1.96s\tremaining: 4.23s\n",
            "316:\tlearn: 0.5023923\ttotal: 1.96s\tremaining: 4.23s\n",
            "317:\tlearn: 0.5023390\ttotal: 1.97s\tremaining: 4.22s\n",
            "318:\tlearn: 0.5023246\ttotal: 1.97s\tremaining: 4.21s\n",
            "319:\tlearn: 0.5022920\ttotal: 1.98s\tremaining: 4.2s\n",
            "320:\tlearn: 0.5022752\ttotal: 1.98s\tremaining: 4.19s\n",
            "321:\tlearn: 0.5022483\ttotal: 1.99s\tremaining: 4.18s\n",
            "322:\tlearn: 0.5022174\ttotal: 1.99s\tremaining: 4.18s\n",
            "323:\tlearn: 0.5021863\ttotal: 2s\tremaining: 4.17s\n",
            "324:\tlearn: 0.5021762\ttotal: 2s\tremaining: 4.16s\n",
            "325:\tlearn: 0.5021604\ttotal: 2.01s\tremaining: 4.15s\n",
            "326:\tlearn: 0.5021325\ttotal: 2.01s\tremaining: 4.14s\n",
            "327:\tlearn: 0.5020748\ttotal: 2.02s\tremaining: 4.13s\n",
            "328:\tlearn: 0.5020528\ttotal: 2.02s\tremaining: 4.13s\n",
            "329:\tlearn: 0.5020425\ttotal: 2.03s\tremaining: 4.12s\n",
            "330:\tlearn: 0.5020412\ttotal: 2.03s\tremaining: 4.11s\n",
            "331:\tlearn: 0.5020322\ttotal: 2.04s\tremaining: 4.1s\n",
            "332:\tlearn: 0.5020078\ttotal: 2.05s\tremaining: 4.11s\n",
            "333:\tlearn: 0.5019927\ttotal: 2.06s\tremaining: 4.1s\n",
            "334:\tlearn: 0.5019643\ttotal: 2.06s\tremaining: 4.09s\n",
            "335:\tlearn: 0.5019606\ttotal: 2.07s\tremaining: 4.08s\n",
            "336:\tlearn: 0.5019598\ttotal: 2.07s\tremaining: 4.07s\n",
            "337:\tlearn: 0.5019341\ttotal: 2.08s\tremaining: 4.06s\n",
            "338:\tlearn: 0.5019112\ttotal: 2.08s\tremaining: 4.06s\n",
            "339:\tlearn: 0.5019014\ttotal: 2.09s\tremaining: 4.05s\n",
            "340:\tlearn: 0.5018640\ttotal: 2.09s\tremaining: 4.04s\n",
            "341:\tlearn: 0.5018040\ttotal: 2.1s\tremaining: 4.04s\n",
            "342:\tlearn: 0.5017924\ttotal: 2.1s\tremaining: 4.03s\n",
            "343:\tlearn: 0.5017692\ttotal: 2.11s\tremaining: 4.02s\n",
            "344:\tlearn: 0.5017343\ttotal: 2.11s\tremaining: 4.01s\n",
            "345:\tlearn: 0.5017017\ttotal: 2.12s\tremaining: 4s\n",
            "346:\tlearn: 0.5016778\ttotal: 2.13s\tremaining: 4s\n",
            "347:\tlearn: 0.5016510\ttotal: 2.13s\tremaining: 3.99s\n",
            "348:\tlearn: 0.5016179\ttotal: 2.14s\tremaining: 3.98s\n",
            "349:\tlearn: 0.5015942\ttotal: 2.14s\tremaining: 3.98s\n",
            "350:\tlearn: 0.5015620\ttotal: 2.15s\tremaining: 3.97s\n",
            "351:\tlearn: 0.5015355\ttotal: 2.15s\tremaining: 3.96s\n",
            "352:\tlearn: 0.5015109\ttotal: 2.16s\tremaining: 3.95s\n",
            "353:\tlearn: 0.5014665\ttotal: 2.16s\tremaining: 3.94s\n",
            "354:\tlearn: 0.5014603\ttotal: 2.17s\tremaining: 3.94s\n",
            "355:\tlearn: 0.5014585\ttotal: 2.17s\tremaining: 3.93s\n",
            "356:\tlearn: 0.5014463\ttotal: 2.18s\tremaining: 3.92s\n",
            "357:\tlearn: 0.5014219\ttotal: 2.18s\tremaining: 3.91s\n",
            "358:\tlearn: 0.5013957\ttotal: 2.19s\tremaining: 3.9s\n",
            "359:\tlearn: 0.5013863\ttotal: 2.19s\tremaining: 3.89s\n",
            "360:\tlearn: 0.5013614\ttotal: 2.19s\tremaining: 3.88s\n",
            "361:\tlearn: 0.5013549\ttotal: 2.2s\tremaining: 3.88s\n",
            "362:\tlearn: 0.5013332\ttotal: 2.21s\tremaining: 3.87s\n",
            "363:\tlearn: 0.5013078\ttotal: 2.21s\tremaining: 3.86s\n",
            "364:\tlearn: 0.5013005\ttotal: 2.22s\tremaining: 3.86s\n",
            "365:\tlearn: 0.5012515\ttotal: 2.22s\tremaining: 3.85s\n",
            "366:\tlearn: 0.5012212\ttotal: 2.23s\tremaining: 3.85s\n",
            "367:\tlearn: 0.5012014\ttotal: 2.24s\tremaining: 3.85s\n",
            "368:\tlearn: 0.5011846\ttotal: 2.25s\tremaining: 3.84s\n",
            "369:\tlearn: 0.5011339\ttotal: 2.25s\tremaining: 3.83s\n",
            "370:\tlearn: 0.5011227\ttotal: 2.26s\tremaining: 3.83s\n",
            "371:\tlearn: 0.5011031\ttotal: 2.26s\tremaining: 3.82s\n",
            "372:\tlearn: 0.5010716\ttotal: 2.27s\tremaining: 3.81s\n",
            "373:\tlearn: 0.5010207\ttotal: 2.27s\tremaining: 3.8s\n",
            "374:\tlearn: 0.5009904\ttotal: 2.28s\tremaining: 3.79s\n",
            "375:\tlearn: 0.5009511\ttotal: 2.28s\tremaining: 3.79s\n",
            "376:\tlearn: 0.5009233\ttotal: 2.29s\tremaining: 3.78s\n",
            "377:\tlearn: 0.5008966\ttotal: 2.29s\tremaining: 3.77s\n",
            "378:\tlearn: 0.5008726\ttotal: 2.3s\tremaining: 3.77s\n",
            "379:\tlearn: 0.5008643\ttotal: 2.3s\tremaining: 3.76s\n",
            "380:\tlearn: 0.5008399\ttotal: 2.31s\tremaining: 3.75s\n",
            "381:\tlearn: 0.5008200\ttotal: 2.31s\tremaining: 3.74s\n",
            "382:\tlearn: 0.5008013\ttotal: 2.32s\tremaining: 3.73s\n",
            "383:\tlearn: 0.5007461\ttotal: 2.32s\tremaining: 3.73s\n",
            "384:\tlearn: 0.5007306\ttotal: 2.33s\tremaining: 3.72s\n",
            "385:\tlearn: 0.5007235\ttotal: 2.33s\tremaining: 3.71s\n",
            "386:\tlearn: 0.5006826\ttotal: 2.34s\tremaining: 3.7s\n",
            "387:\tlearn: 0.5006656\ttotal: 2.34s\tremaining: 3.69s\n",
            "388:\tlearn: 0.5006206\ttotal: 2.35s\tremaining: 3.69s\n",
            "389:\tlearn: 0.5006016\ttotal: 2.35s\tremaining: 3.68s\n",
            "390:\tlearn: 0.5005969\ttotal: 2.36s\tremaining: 3.68s\n",
            "391:\tlearn: 0.5005818\ttotal: 2.37s\tremaining: 3.67s\n",
            "392:\tlearn: 0.5005333\ttotal: 2.37s\tremaining: 3.67s\n",
            "393:\tlearn: 0.5004961\ttotal: 2.38s\tremaining: 3.66s\n",
            "394:\tlearn: 0.5004944\ttotal: 2.38s\tremaining: 3.65s\n",
            "395:\tlearn: 0.5004474\ttotal: 2.39s\tremaining: 3.65s\n",
            "396:\tlearn: 0.5004029\ttotal: 2.4s\tremaining: 3.64s\n",
            "397:\tlearn: 0.5003809\ttotal: 2.4s\tremaining: 3.63s\n",
            "398:\tlearn: 0.5003444\ttotal: 2.4s\tremaining: 3.62s\n",
            "399:\tlearn: 0.5003047\ttotal: 2.41s\tremaining: 3.62s\n",
            "400:\tlearn: 0.5002602\ttotal: 2.42s\tremaining: 3.61s\n",
            "401:\tlearn: 0.5002561\ttotal: 2.42s\tremaining: 3.6s\n",
            "402:\tlearn: 0.5002316\ttotal: 2.42s\tremaining: 3.59s\n",
            "403:\tlearn: 0.5001997\ttotal: 2.43s\tremaining: 3.58s\n",
            "404:\tlearn: 0.5001823\ttotal: 2.43s\tremaining: 3.58s\n",
            "405:\tlearn: 0.5001694\ttotal: 2.44s\tremaining: 3.57s\n",
            "406:\tlearn: 0.5001470\ttotal: 2.44s\tremaining: 3.56s\n",
            "407:\tlearn: 0.5001279\ttotal: 2.45s\tremaining: 3.55s\n",
            "408:\tlearn: 0.5001098\ttotal: 2.48s\tremaining: 3.58s\n",
            "409:\tlearn: 0.5000720\ttotal: 2.49s\tremaining: 3.58s\n",
            "410:\tlearn: 0.5000608\ttotal: 2.49s\tremaining: 3.57s\n",
            "411:\tlearn: 0.5000387\ttotal: 2.5s\tremaining: 3.56s\n",
            "412:\tlearn: 0.4999975\ttotal: 2.5s\tremaining: 3.56s\n",
            "413:\tlearn: 0.4999853\ttotal: 2.51s\tremaining: 3.55s\n",
            "414:\tlearn: 0.4999791\ttotal: 2.52s\tremaining: 3.55s\n",
            "415:\tlearn: 0.4999704\ttotal: 2.52s\tremaining: 3.54s\n",
            "416:\tlearn: 0.4999495\ttotal: 2.53s\tremaining: 3.54s\n",
            "417:\tlearn: 0.4999244\ttotal: 2.54s\tremaining: 3.53s\n",
            "418:\tlearn: 0.4998871\ttotal: 2.54s\tremaining: 3.53s\n",
            "419:\tlearn: 0.4998480\ttotal: 2.55s\tremaining: 3.52s\n",
            "420:\tlearn: 0.4998281\ttotal: 2.56s\tremaining: 3.52s\n",
            "421:\tlearn: 0.4997972\ttotal: 2.57s\tremaining: 3.51s\n",
            "422:\tlearn: 0.4997813\ttotal: 2.57s\tremaining: 3.51s\n",
            "423:\tlearn: 0.4997657\ttotal: 2.58s\tremaining: 3.5s\n",
            "424:\tlearn: 0.4997362\ttotal: 2.58s\tremaining: 3.5s\n",
            "425:\tlearn: 0.4997303\ttotal: 2.59s\tremaining: 3.49s\n",
            "426:\tlearn: 0.4996931\ttotal: 2.6s\tremaining: 3.48s\n",
            "427:\tlearn: 0.4996852\ttotal: 2.6s\tremaining: 3.47s\n",
            "428:\tlearn: 0.4996689\ttotal: 2.6s\tremaining: 3.47s\n",
            "429:\tlearn: 0.4996543\ttotal: 2.61s\tremaining: 3.46s\n",
            "430:\tlearn: 0.4996188\ttotal: 2.62s\tremaining: 3.45s\n",
            "431:\tlearn: 0.4996058\ttotal: 2.62s\tremaining: 3.44s\n",
            "432:\tlearn: 0.4995984\ttotal: 2.62s\tremaining: 3.44s\n",
            "433:\tlearn: 0.4995713\ttotal: 2.63s\tremaining: 3.43s\n",
            "434:\tlearn: 0.4995434\ttotal: 2.63s\tremaining: 3.42s\n",
            "435:\tlearn: 0.4995215\ttotal: 2.64s\tremaining: 3.42s\n",
            "436:\tlearn: 0.4995032\ttotal: 2.65s\tremaining: 3.42s\n",
            "437:\tlearn: 0.4994871\ttotal: 2.66s\tremaining: 3.41s\n",
            "438:\tlearn: 0.4994722\ttotal: 2.66s\tremaining: 3.4s\n",
            "439:\tlearn: 0.4994382\ttotal: 2.67s\tremaining: 3.4s\n",
            "440:\tlearn: 0.4994160\ttotal: 2.67s\tremaining: 3.39s\n",
            "441:\tlearn: 0.4993896\ttotal: 2.68s\tremaining: 3.38s\n",
            "442:\tlearn: 0.4993711\ttotal: 2.69s\tremaining: 3.38s\n",
            "443:\tlearn: 0.4993516\ttotal: 2.69s\tremaining: 3.37s\n",
            "444:\tlearn: 0.4993381\ttotal: 2.69s\tremaining: 3.36s\n",
            "445:\tlearn: 0.4993284\ttotal: 2.7s\tremaining: 3.35s\n",
            "446:\tlearn: 0.4993064\ttotal: 2.71s\tremaining: 3.35s\n",
            "447:\tlearn: 0.4992766\ttotal: 2.71s\tremaining: 3.34s\n",
            "448:\tlearn: 0.4992656\ttotal: 2.72s\tremaining: 3.33s\n",
            "449:\tlearn: 0.4992298\ttotal: 2.72s\tremaining: 3.33s\n",
            "450:\tlearn: 0.4992169\ttotal: 2.73s\tremaining: 3.32s\n",
            "451:\tlearn: 0.4991929\ttotal: 2.73s\tremaining: 3.31s\n",
            "452:\tlearn: 0.4991788\ttotal: 2.74s\tremaining: 3.31s\n",
            "453:\tlearn: 0.4991671\ttotal: 2.74s\tremaining: 3.3s\n",
            "454:\tlearn: 0.4991632\ttotal: 2.75s\tremaining: 3.29s\n",
            "455:\tlearn: 0.4991378\ttotal: 2.75s\tremaining: 3.28s\n",
            "456:\tlearn: 0.4991128\ttotal: 2.76s\tremaining: 3.27s\n",
            "457:\tlearn: 0.4990796\ttotal: 2.76s\tremaining: 3.27s\n",
            "458:\tlearn: 0.4990563\ttotal: 2.77s\tremaining: 3.26s\n",
            "459:\tlearn: 0.4990440\ttotal: 2.77s\tremaining: 3.25s\n",
            "460:\tlearn: 0.4990371\ttotal: 2.77s\tremaining: 3.25s\n",
            "461:\tlearn: 0.4990229\ttotal: 2.78s\tremaining: 3.24s\n",
            "462:\tlearn: 0.4989894\ttotal: 2.78s\tremaining: 3.23s\n",
            "463:\tlearn: 0.4989723\ttotal: 2.79s\tremaining: 3.22s\n",
            "464:\tlearn: 0.4989681\ttotal: 2.79s\tremaining: 3.21s\n",
            "465:\tlearn: 0.4989394\ttotal: 2.8s\tremaining: 3.21s\n",
            "466:\tlearn: 0.4989280\ttotal: 2.8s\tremaining: 3.2s\n",
            "467:\tlearn: 0.4989144\ttotal: 2.81s\tremaining: 3.19s\n",
            "468:\tlearn: 0.4989023\ttotal: 2.81s\tremaining: 3.19s\n",
            "469:\tlearn: 0.4988787\ttotal: 2.82s\tremaining: 3.18s\n",
            "470:\tlearn: 0.4988667\ttotal: 2.82s\tremaining: 3.17s\n",
            "471:\tlearn: 0.4988550\ttotal: 2.83s\tremaining: 3.16s\n",
            "472:\tlearn: 0.4988418\ttotal: 2.83s\tremaining: 3.16s\n",
            "473:\tlearn: 0.4988298\ttotal: 2.84s\tremaining: 3.15s\n",
            "474:\tlearn: 0.4988181\ttotal: 2.84s\tremaining: 3.14s\n",
            "475:\tlearn: 0.4988010\ttotal: 2.85s\tremaining: 3.13s\n",
            "476:\tlearn: 0.4987730\ttotal: 2.85s\tremaining: 3.13s\n",
            "477:\tlearn: 0.4987429\ttotal: 2.86s\tremaining: 3.12s\n",
            "478:\tlearn: 0.4987312\ttotal: 2.86s\tremaining: 3.12s\n",
            "479:\tlearn: 0.4987185\ttotal: 2.87s\tremaining: 3.11s\n",
            "480:\tlearn: 0.4986949\ttotal: 2.88s\tremaining: 3.11s\n",
            "481:\tlearn: 0.4986818\ttotal: 2.88s\tremaining: 3.1s\n",
            "482:\tlearn: 0.4986606\ttotal: 2.89s\tremaining: 3.09s\n",
            "483:\tlearn: 0.4986504\ttotal: 2.89s\tremaining: 3.08s\n",
            "484:\tlearn: 0.4986393\ttotal: 2.9s\tremaining: 3.08s\n",
            "485:\tlearn: 0.4986269\ttotal: 2.9s\tremaining: 3.07s\n",
            "486:\tlearn: 0.4986167\ttotal: 2.91s\tremaining: 3.06s\n",
            "487:\tlearn: 0.4986109\ttotal: 2.91s\tremaining: 3.05s\n",
            "488:\tlearn: 0.4985819\ttotal: 2.92s\tremaining: 3.05s\n",
            "489:\tlearn: 0.4985649\ttotal: 2.92s\tremaining: 3.04s\n",
            "490:\tlearn: 0.4985560\ttotal: 2.92s\tremaining: 3.03s\n",
            "491:\tlearn: 0.4985450\ttotal: 2.93s\tremaining: 3.02s\n",
            "492:\tlearn: 0.4985329\ttotal: 2.93s\tremaining: 3.02s\n",
            "493:\tlearn: 0.4985184\ttotal: 2.94s\tremaining: 3.01s\n",
            "494:\tlearn: 0.4984982\ttotal: 2.94s\tremaining: 3s\n",
            "495:\tlearn: 0.4984738\ttotal: 2.95s\tremaining: 3s\n",
            "496:\tlearn: 0.4984636\ttotal: 2.95s\tremaining: 2.99s\n",
            "497:\tlearn: 0.4984517\ttotal: 2.96s\tremaining: 2.98s\n",
            "498:\tlearn: 0.4984449\ttotal: 2.97s\tremaining: 2.98s\n",
            "499:\tlearn: 0.4984344\ttotal: 2.97s\tremaining: 2.97s\n",
            "500:\tlearn: 0.4984242\ttotal: 2.98s\tremaining: 2.97s\n",
            "501:\tlearn: 0.4984105\ttotal: 2.98s\tremaining: 2.96s\n",
            "502:\tlearn: 0.4984009\ttotal: 2.99s\tremaining: 2.95s\n",
            "503:\tlearn: 0.4983942\ttotal: 2.99s\tremaining: 2.95s\n",
            "504:\tlearn: 0.4983757\ttotal: 3s\tremaining: 2.94s\n",
            "505:\tlearn: 0.4983664\ttotal: 3s\tremaining: 2.93s\n",
            "506:\tlearn: 0.4983576\ttotal: 3.01s\tremaining: 2.93s\n",
            "507:\tlearn: 0.4983480\ttotal: 3.02s\tremaining: 2.92s\n",
            "508:\tlearn: 0.4983392\ttotal: 3.02s\tremaining: 2.91s\n",
            "509:\tlearn: 0.4983187\ttotal: 3.03s\tremaining: 2.91s\n",
            "510:\tlearn: 0.4983092\ttotal: 3.03s\tremaining: 2.9s\n",
            "511:\tlearn: 0.4982884\ttotal: 3.04s\tremaining: 2.89s\n",
            "512:\tlearn: 0.4982787\ttotal: 3.04s\tremaining: 2.89s\n",
            "513:\tlearn: 0.4982715\ttotal: 3.05s\tremaining: 2.88s\n",
            "514:\tlearn: 0.4982532\ttotal: 3.05s\tremaining: 2.87s\n",
            "515:\tlearn: 0.4982487\ttotal: 3.06s\tremaining: 2.87s\n",
            "516:\tlearn: 0.4982391\ttotal: 3.06s\tremaining: 2.86s\n",
            "517:\tlearn: 0.4982313\ttotal: 3.07s\tremaining: 2.85s\n",
            "518:\tlearn: 0.4982168\ttotal: 3.07s\tremaining: 2.85s\n",
            "519:\tlearn: 0.4982041\ttotal: 3.08s\tremaining: 2.84s\n",
            "520:\tlearn: 0.4981913\ttotal: 3.08s\tremaining: 2.83s\n",
            "521:\tlearn: 0.4981792\ttotal: 3.09s\tremaining: 2.83s\n",
            "522:\tlearn: 0.4981668\ttotal: 3.09s\tremaining: 2.82s\n",
            "523:\tlearn: 0.4981605\ttotal: 3.1s\tremaining: 2.81s\n",
            "524:\tlearn: 0.4981546\ttotal: 3.1s\tremaining: 2.81s\n",
            "525:\tlearn: 0.4981342\ttotal: 3.11s\tremaining: 2.8s\n",
            "526:\tlearn: 0.4981177\ttotal: 3.11s\tremaining: 2.79s\n",
            "527:\tlearn: 0.4980946\ttotal: 3.12s\tremaining: 2.79s\n",
            "528:\tlearn: 0.4980851\ttotal: 3.12s\tremaining: 2.78s\n",
            "529:\tlearn: 0.4980810\ttotal: 3.12s\tremaining: 2.77s\n",
            "530:\tlearn: 0.4980569\ttotal: 3.13s\tremaining: 2.77s\n",
            "531:\tlearn: 0.4980492\ttotal: 3.14s\tremaining: 2.76s\n",
            "532:\tlearn: 0.4980406\ttotal: 3.14s\tremaining: 2.75s\n",
            "533:\tlearn: 0.4980245\ttotal: 3.15s\tremaining: 2.75s\n",
            "534:\tlearn: 0.4980185\ttotal: 3.15s\tremaining: 2.74s\n",
            "535:\tlearn: 0.4980112\ttotal: 3.15s\tremaining: 2.73s\n",
            "536:\tlearn: 0.4979951\ttotal: 3.16s\tremaining: 2.73s\n",
            "537:\tlearn: 0.4979838\ttotal: 3.17s\tremaining: 2.72s\n",
            "538:\tlearn: 0.4979641\ttotal: 3.17s\tremaining: 2.71s\n",
            "539:\tlearn: 0.4979520\ttotal: 3.18s\tremaining: 2.71s\n",
            "540:\tlearn: 0.4979452\ttotal: 3.18s\tremaining: 2.7s\n",
            "541:\tlearn: 0.4979286\ttotal: 3.19s\tremaining: 2.69s\n",
            "542:\tlearn: 0.4979077\ttotal: 3.19s\tremaining: 2.69s\n",
            "543:\tlearn: 0.4979042\ttotal: 3.19s\tremaining: 2.68s\n",
            "544:\tlearn: 0.4978840\ttotal: 3.2s\tremaining: 2.67s\n",
            "545:\tlearn: 0.4978719\ttotal: 3.21s\tremaining: 2.67s\n",
            "546:\tlearn: 0.4978534\ttotal: 3.21s\tremaining: 2.66s\n",
            "547:\tlearn: 0.4978478\ttotal: 3.21s\tremaining: 2.65s\n",
            "548:\tlearn: 0.4978277\ttotal: 3.22s\tremaining: 2.65s\n",
            "549:\tlearn: 0.4978099\ttotal: 3.23s\tremaining: 2.64s\n",
            "550:\tlearn: 0.4978021\ttotal: 3.23s\tremaining: 2.63s\n",
            "551:\tlearn: 0.4977882\ttotal: 3.24s\tremaining: 2.63s\n",
            "552:\tlearn: 0.4977789\ttotal: 3.24s\tremaining: 2.62s\n",
            "553:\tlearn: 0.4977602\ttotal: 3.25s\tremaining: 2.61s\n",
            "554:\tlearn: 0.4977500\ttotal: 3.25s\tremaining: 2.61s\n",
            "555:\tlearn: 0.4977387\ttotal: 3.25s\tremaining: 2.6s\n",
            "556:\tlearn: 0.4977322\ttotal: 3.26s\tremaining: 2.59s\n",
            "557:\tlearn: 0.4977252\ttotal: 3.27s\tremaining: 2.59s\n",
            "558:\tlearn: 0.4977059\ttotal: 3.27s\tremaining: 2.58s\n",
            "559:\tlearn: 0.4976878\ttotal: 3.28s\tremaining: 2.58s\n",
            "560:\tlearn: 0.4976828\ttotal: 3.28s\tremaining: 2.57s\n",
            "561:\tlearn: 0.4976754\ttotal: 3.29s\tremaining: 2.56s\n",
            "562:\tlearn: 0.4976638\ttotal: 3.29s\tremaining: 2.56s\n",
            "563:\tlearn: 0.4976636\ttotal: 3.3s\tremaining: 2.55s\n",
            "564:\tlearn: 0.4976484\ttotal: 3.31s\tremaining: 2.54s\n",
            "565:\tlearn: 0.4976472\ttotal: 3.31s\tremaining: 2.54s\n",
            "566:\tlearn: 0.4976316\ttotal: 3.32s\tremaining: 2.53s\n",
            "567:\tlearn: 0.4976282\ttotal: 3.32s\tremaining: 2.53s\n",
            "568:\tlearn: 0.4976188\ttotal: 3.33s\tremaining: 2.52s\n",
            "569:\tlearn: 0.4975975\ttotal: 3.33s\tremaining: 2.51s\n",
            "570:\tlearn: 0.4975911\ttotal: 3.34s\tremaining: 2.51s\n",
            "571:\tlearn: 0.4975882\ttotal: 3.34s\tremaining: 2.5s\n",
            "572:\tlearn: 0.4975709\ttotal: 3.35s\tremaining: 2.5s\n",
            "573:\tlearn: 0.4975645\ttotal: 3.36s\tremaining: 2.49s\n",
            "574:\tlearn: 0.4975588\ttotal: 3.36s\tremaining: 2.48s\n",
            "575:\tlearn: 0.4975527\ttotal: 3.37s\tremaining: 2.48s\n",
            "576:\tlearn: 0.4975493\ttotal: 3.37s\tremaining: 2.47s\n",
            "577:\tlearn: 0.4975370\ttotal: 3.38s\tremaining: 2.46s\n",
            "578:\tlearn: 0.4975318\ttotal: 3.38s\tremaining: 2.46s\n",
            "579:\tlearn: 0.4975280\ttotal: 3.38s\tremaining: 2.45s\n",
            "580:\tlearn: 0.4975069\ttotal: 3.39s\tremaining: 2.44s\n",
            "581:\tlearn: 0.4975028\ttotal: 3.39s\tremaining: 2.44s\n",
            "582:\tlearn: 0.4974994\ttotal: 3.4s\tremaining: 2.43s\n",
            "583:\tlearn: 0.4974927\ttotal: 3.4s\tremaining: 2.42s\n",
            "584:\tlearn: 0.4974878\ttotal: 3.41s\tremaining: 2.42s\n",
            "585:\tlearn: 0.4974709\ttotal: 3.42s\tremaining: 2.41s\n",
            "586:\tlearn: 0.4974537\ttotal: 3.42s\tremaining: 2.41s\n",
            "587:\tlearn: 0.4974499\ttotal: 3.42s\tremaining: 2.4s\n",
            "588:\tlearn: 0.4974435\ttotal: 3.43s\tremaining: 2.39s\n",
            "589:\tlearn: 0.4974387\ttotal: 3.43s\tremaining: 2.39s\n",
            "590:\tlearn: 0.4974268\ttotal: 3.44s\tremaining: 2.38s\n",
            "591:\tlearn: 0.4974121\ttotal: 3.44s\tremaining: 2.37s\n",
            "592:\tlearn: 0.4973997\ttotal: 3.45s\tremaining: 2.37s\n",
            "593:\tlearn: 0.4973931\ttotal: 3.46s\tremaining: 2.36s\n",
            "594:\tlearn: 0.4973881\ttotal: 3.46s\tremaining: 2.35s\n",
            "595:\tlearn: 0.4973762\ttotal: 3.46s\tremaining: 2.35s\n",
            "596:\tlearn: 0.4973615\ttotal: 3.47s\tremaining: 2.34s\n",
            "597:\tlearn: 0.4973589\ttotal: 3.48s\tremaining: 2.34s\n",
            "598:\tlearn: 0.4973443\ttotal: 3.48s\tremaining: 2.33s\n",
            "599:\tlearn: 0.4973407\ttotal: 3.49s\tremaining: 2.32s\n",
            "600:\tlearn: 0.4973342\ttotal: 3.49s\tremaining: 2.32s\n",
            "601:\tlearn: 0.4973208\ttotal: 3.5s\tremaining: 2.31s\n",
            "602:\tlearn: 0.4973135\ttotal: 3.5s\tremaining: 2.31s\n",
            "603:\tlearn: 0.4973117\ttotal: 3.51s\tremaining: 2.3s\n",
            "604:\tlearn: 0.4972981\ttotal: 3.51s\tremaining: 2.29s\n",
            "605:\tlearn: 0.4972947\ttotal: 3.52s\tremaining: 2.29s\n",
            "606:\tlearn: 0.4972825\ttotal: 3.52s\tremaining: 2.28s\n",
            "607:\tlearn: 0.4972698\ttotal: 3.53s\tremaining: 2.27s\n",
            "608:\tlearn: 0.4972661\ttotal: 3.53s\tremaining: 2.27s\n",
            "609:\tlearn: 0.4972507\ttotal: 3.54s\tremaining: 2.26s\n",
            "610:\tlearn: 0.4972478\ttotal: 3.54s\tremaining: 2.25s\n",
            "611:\tlearn: 0.4972341\ttotal: 3.55s\tremaining: 2.25s\n",
            "612:\tlearn: 0.4972299\ttotal: 3.55s\tremaining: 2.24s\n",
            "613:\tlearn: 0.4972262\ttotal: 3.56s\tremaining: 2.23s\n",
            "614:\tlearn: 0.4972184\ttotal: 3.56s\tremaining: 2.23s\n",
            "615:\tlearn: 0.4972142\ttotal: 3.56s\tremaining: 2.22s\n",
            "616:\tlearn: 0.4972104\ttotal: 3.57s\tremaining: 2.22s\n",
            "617:\tlearn: 0.4971985\ttotal: 3.58s\tremaining: 2.21s\n",
            "618:\tlearn: 0.4971912\ttotal: 3.58s\tremaining: 2.2s\n",
            "619:\tlearn: 0.4971816\ttotal: 3.59s\tremaining: 2.2s\n",
            "620:\tlearn: 0.4971765\ttotal: 3.59s\tremaining: 2.19s\n",
            "621:\tlearn: 0.4971708\ttotal: 3.6s\tremaining: 2.19s\n",
            "622:\tlearn: 0.4971666\ttotal: 3.6s\tremaining: 2.18s\n",
            "623:\tlearn: 0.4971547\ttotal: 3.61s\tremaining: 2.17s\n",
            "624:\tlearn: 0.4971460\ttotal: 3.61s\tremaining: 2.17s\n",
            "625:\tlearn: 0.4971314\ttotal: 3.62s\tremaining: 2.16s\n",
            "626:\tlearn: 0.4971213\ttotal: 3.62s\tremaining: 2.15s\n",
            "627:\tlearn: 0.4971156\ttotal: 3.63s\tremaining: 2.15s\n",
            "628:\tlearn: 0.4971104\ttotal: 3.63s\tremaining: 2.14s\n",
            "629:\tlearn: 0.4971014\ttotal: 3.64s\tremaining: 2.14s\n",
            "630:\tlearn: 0.4970986\ttotal: 3.64s\tremaining: 2.13s\n",
            "631:\tlearn: 0.4970849\ttotal: 3.65s\tremaining: 2.12s\n",
            "632:\tlearn: 0.4970754\ttotal: 3.65s\tremaining: 2.12s\n",
            "633:\tlearn: 0.4970689\ttotal: 3.66s\tremaining: 2.11s\n",
            "634:\tlearn: 0.4970602\ttotal: 3.66s\tremaining: 2.11s\n",
            "635:\tlearn: 0.4970486\ttotal: 3.67s\tremaining: 2.1s\n",
            "636:\tlearn: 0.4970397\ttotal: 3.67s\tremaining: 2.09s\n",
            "637:\tlearn: 0.4970290\ttotal: 3.68s\tremaining: 2.09s\n",
            "638:\tlearn: 0.4970265\ttotal: 3.69s\tremaining: 2.08s\n",
            "639:\tlearn: 0.4970139\ttotal: 3.69s\tremaining: 2.08s\n",
            "640:\tlearn: 0.4970132\ttotal: 3.69s\tremaining: 2.07s\n",
            "641:\tlearn: 0.4970103\ttotal: 3.7s\tremaining: 2.06s\n",
            "642:\tlearn: 0.4969991\ttotal: 3.71s\tremaining: 2.06s\n",
            "643:\tlearn: 0.4969944\ttotal: 3.71s\tremaining: 2.05s\n",
            "644:\tlearn: 0.4969857\ttotal: 3.72s\tremaining: 2.04s\n",
            "645:\tlearn: 0.4969829\ttotal: 3.72s\tremaining: 2.04s\n",
            "646:\tlearn: 0.4969753\ttotal: 3.73s\tremaining: 2.03s\n",
            "647:\tlearn: 0.4969673\ttotal: 3.73s\tremaining: 2.03s\n",
            "648:\tlearn: 0.4969581\ttotal: 3.74s\tremaining: 2.02s\n",
            "649:\tlearn: 0.4969525\ttotal: 3.74s\tremaining: 2.01s\n",
            "650:\tlearn: 0.4969494\ttotal: 3.75s\tremaining: 2.01s\n",
            "651:\tlearn: 0.4969476\ttotal: 3.75s\tremaining: 2s\n",
            "652:\tlearn: 0.4969350\ttotal: 3.75s\tremaining: 2s\n",
            "653:\tlearn: 0.4969326\ttotal: 3.76s\tremaining: 1.99s\n",
            "654:\tlearn: 0.4969274\ttotal: 3.77s\tremaining: 1.98s\n",
            "655:\tlearn: 0.4969233\ttotal: 3.77s\tremaining: 1.98s\n",
            "656:\tlearn: 0.4969135\ttotal: 3.78s\tremaining: 1.97s\n",
            "657:\tlearn: 0.4969011\ttotal: 3.78s\tremaining: 1.97s\n",
            "658:\tlearn: 0.4968900\ttotal: 3.79s\tremaining: 1.96s\n",
            "659:\tlearn: 0.4968890\ttotal: 3.79s\tremaining: 1.95s\n",
            "660:\tlearn: 0.4968866\ttotal: 3.8s\tremaining: 1.95s\n",
            "661:\tlearn: 0.4968721\ttotal: 3.8s\tremaining: 1.94s\n",
            "662:\tlearn: 0.4968626\ttotal: 3.81s\tremaining: 1.94s\n",
            "663:\tlearn: 0.4968634\ttotal: 3.81s\tremaining: 1.93s\n",
            "664:\tlearn: 0.4968603\ttotal: 3.82s\tremaining: 1.92s\n",
            "665:\tlearn: 0.4968485\ttotal: 3.82s\tremaining: 1.92s\n",
            "666:\tlearn: 0.4968406\ttotal: 3.83s\tremaining: 1.91s\n",
            "667:\tlearn: 0.4968296\ttotal: 3.83s\tremaining: 1.91s\n",
            "668:\tlearn: 0.4968268\ttotal: 3.84s\tremaining: 1.9s\n",
            "669:\tlearn: 0.4968152\ttotal: 3.84s\tremaining: 1.89s\n",
            "670:\tlearn: 0.4968080\ttotal: 3.85s\tremaining: 1.89s\n",
            "671:\tlearn: 0.4968058\ttotal: 3.85s\tremaining: 1.88s\n",
            "672:\tlearn: 0.4967992\ttotal: 3.86s\tremaining: 1.88s\n",
            "673:\tlearn: 0.4967935\ttotal: 3.87s\tremaining: 1.87s\n",
            "674:\tlearn: 0.4967818\ttotal: 3.87s\tremaining: 1.86s\n",
            "675:\tlearn: 0.4967815\ttotal: 3.88s\tremaining: 1.86s\n",
            "676:\tlearn: 0.4967699\ttotal: 3.88s\tremaining: 1.85s\n",
            "677:\tlearn: 0.4967686\ttotal: 3.89s\tremaining: 1.85s\n",
            "678:\tlearn: 0.4967543\ttotal: 3.89s\tremaining: 1.84s\n",
            "679:\tlearn: 0.4967513\ttotal: 3.9s\tremaining: 1.83s\n",
            "680:\tlearn: 0.4967430\ttotal: 3.91s\tremaining: 1.83s\n",
            "681:\tlearn: 0.4967406\ttotal: 3.91s\tremaining: 1.82s\n",
            "682:\tlearn: 0.4967370\ttotal: 3.92s\tremaining: 1.82s\n",
            "683:\tlearn: 0.4967293\ttotal: 3.92s\tremaining: 1.81s\n",
            "684:\tlearn: 0.4967208\ttotal: 3.93s\tremaining: 1.81s\n",
            "685:\tlearn: 0.4967095\ttotal: 3.93s\tremaining: 1.8s\n",
            "686:\tlearn: 0.4967049\ttotal: 3.94s\tremaining: 1.79s\n",
            "687:\tlearn: 0.4966984\ttotal: 3.94s\tremaining: 1.79s\n",
            "688:\tlearn: 0.4966951\ttotal: 3.95s\tremaining: 1.78s\n",
            "689:\tlearn: 0.4966895\ttotal: 3.95s\tremaining: 1.78s\n",
            "690:\tlearn: 0.4966858\ttotal: 3.96s\tremaining: 1.77s\n",
            "691:\tlearn: 0.4966819\ttotal: 3.96s\tremaining: 1.76s\n",
            "692:\tlearn: 0.4966729\ttotal: 3.97s\tremaining: 1.76s\n",
            "693:\tlearn: 0.4966666\ttotal: 3.98s\tremaining: 1.75s\n",
            "694:\tlearn: 0.4966648\ttotal: 3.98s\tremaining: 1.75s\n",
            "695:\tlearn: 0.4966583\ttotal: 3.99s\tremaining: 1.74s\n",
            "696:\tlearn: 0.4966559\ttotal: 3.99s\tremaining: 1.74s\n",
            "697:\tlearn: 0.4966526\ttotal: 4s\tremaining: 1.73s\n",
            "698:\tlearn: 0.4966470\ttotal: 4s\tremaining: 1.72s\n",
            "699:\tlearn: 0.4966381\ttotal: 4.01s\tremaining: 1.72s\n",
            "700:\tlearn: 0.4966312\ttotal: 4.01s\tremaining: 1.71s\n",
            "701:\tlearn: 0.4966306\ttotal: 4.02s\tremaining: 1.71s\n",
            "702:\tlearn: 0.4966285\ttotal: 4.03s\tremaining: 1.7s\n",
            "703:\tlearn: 0.4966205\ttotal: 4.03s\tremaining: 1.69s\n",
            "704:\tlearn: 0.4966215\ttotal: 4.04s\tremaining: 1.69s\n",
            "705:\tlearn: 0.4966183\ttotal: 4.04s\tremaining: 1.68s\n",
            "706:\tlearn: 0.4966180\ttotal: 4.04s\tremaining: 1.68s\n",
            "707:\tlearn: 0.4966097\ttotal: 4.05s\tremaining: 1.67s\n",
            "708:\tlearn: 0.4966001\ttotal: 4.06s\tremaining: 1.67s\n",
            "709:\tlearn: 0.4965986\ttotal: 4.06s\tremaining: 1.66s\n",
            "710:\tlearn: 0.4965910\ttotal: 4.07s\tremaining: 1.65s\n",
            "711:\tlearn: 0.4965890\ttotal: 4.07s\tremaining: 1.65s\n",
            "712:\tlearn: 0.4965826\ttotal: 4.08s\tremaining: 1.64s\n",
            "713:\tlearn: 0.4965767\ttotal: 4.08s\tremaining: 1.64s\n",
            "714:\tlearn: 0.4965752\ttotal: 4.09s\tremaining: 1.63s\n",
            "715:\tlearn: 0.4965710\ttotal: 4.09s\tremaining: 1.62s\n",
            "716:\tlearn: 0.4965659\ttotal: 4.1s\tremaining: 1.62s\n",
            "717:\tlearn: 0.4965550\ttotal: 4.1s\tremaining: 1.61s\n",
            "718:\tlearn: 0.4965519\ttotal: 4.11s\tremaining: 1.6s\n",
            "719:\tlearn: 0.4965524\ttotal: 4.11s\tremaining: 1.6s\n",
            "720:\tlearn: 0.4965449\ttotal: 4.12s\tremaining: 1.59s\n",
            "721:\tlearn: 0.4965389\ttotal: 4.12s\tremaining: 1.59s\n",
            "722:\tlearn: 0.4965329\ttotal: 4.13s\tremaining: 1.58s\n",
            "723:\tlearn: 0.4965236\ttotal: 4.13s\tremaining: 1.57s\n",
            "724:\tlearn: 0.4965195\ttotal: 4.14s\tremaining: 1.57s\n",
            "725:\tlearn: 0.4965110\ttotal: 4.14s\tremaining: 1.56s\n",
            "726:\tlearn: 0.4965043\ttotal: 4.15s\tremaining: 1.56s\n",
            "727:\tlearn: 0.4964992\ttotal: 4.16s\tremaining: 1.55s\n",
            "728:\tlearn: 0.4964918\ttotal: 4.16s\tremaining: 1.55s\n",
            "729:\tlearn: 0.4964852\ttotal: 4.17s\tremaining: 1.54s\n",
            "730:\tlearn: 0.4964811\ttotal: 4.17s\tremaining: 1.53s\n",
            "731:\tlearn: 0.4964713\ttotal: 4.18s\tremaining: 1.53s\n",
            "732:\tlearn: 0.4964649\ttotal: 4.18s\tremaining: 1.52s\n",
            "733:\tlearn: 0.4964603\ttotal: 4.19s\tremaining: 1.52s\n",
            "734:\tlearn: 0.4964567\ttotal: 4.19s\tremaining: 1.51s\n",
            "735:\tlearn: 0.4964493\ttotal: 4.2s\tremaining: 1.51s\n",
            "736:\tlearn: 0.4964449\ttotal: 4.21s\tremaining: 1.5s\n",
            "737:\tlearn: 0.4964385\ttotal: 4.21s\tremaining: 1.5s\n",
            "738:\tlearn: 0.4964340\ttotal: 4.22s\tremaining: 1.49s\n",
            "739:\tlearn: 0.4964330\ttotal: 4.22s\tremaining: 1.48s\n",
            "740:\tlearn: 0.4964259\ttotal: 4.23s\tremaining: 1.48s\n",
            "741:\tlearn: 0.4964195\ttotal: 4.23s\tremaining: 1.47s\n",
            "742:\tlearn: 0.4964190\ttotal: 4.24s\tremaining: 1.47s\n",
            "743:\tlearn: 0.4964171\ttotal: 4.25s\tremaining: 1.46s\n",
            "744:\tlearn: 0.4964133\ttotal: 4.25s\tremaining: 1.46s\n",
            "745:\tlearn: 0.4964092\ttotal: 4.26s\tremaining: 1.45s\n",
            "746:\tlearn: 0.4964062\ttotal: 4.26s\tremaining: 1.44s\n",
            "747:\tlearn: 0.4964014\ttotal: 4.27s\tremaining: 1.44s\n",
            "748:\tlearn: 0.4963931\ttotal: 4.28s\tremaining: 1.43s\n",
            "749:\tlearn: 0.4963903\ttotal: 4.28s\tremaining: 1.43s\n",
            "750:\tlearn: 0.4963892\ttotal: 4.29s\tremaining: 1.42s\n",
            "751:\tlearn: 0.4963860\ttotal: 4.29s\tremaining: 1.42s\n",
            "752:\tlearn: 0.4963827\ttotal: 4.3s\tremaining: 1.41s\n",
            "753:\tlearn: 0.4963811\ttotal: 4.3s\tremaining: 1.4s\n",
            "754:\tlearn: 0.4963769\ttotal: 4.31s\tremaining: 1.4s\n",
            "755:\tlearn: 0.4963683\ttotal: 4.31s\tremaining: 1.39s\n",
            "756:\tlearn: 0.4963696\ttotal: 4.32s\tremaining: 1.39s\n",
            "757:\tlearn: 0.4963679\ttotal: 4.32s\tremaining: 1.38s\n",
            "758:\tlearn: 0.4963660\ttotal: 4.33s\tremaining: 1.37s\n",
            "759:\tlearn: 0.4963608\ttotal: 4.33s\tremaining: 1.37s\n",
            "760:\tlearn: 0.4963558\ttotal: 4.34s\tremaining: 1.36s\n",
            "761:\tlearn: 0.4963538\ttotal: 4.34s\tremaining: 1.36s\n",
            "762:\tlearn: 0.4963504\ttotal: 4.35s\tremaining: 1.35s\n",
            "763:\tlearn: 0.4963465\ttotal: 4.36s\tremaining: 1.35s\n",
            "764:\tlearn: 0.4963458\ttotal: 4.36s\tremaining: 1.34s\n",
            "765:\tlearn: 0.4963398\ttotal: 4.37s\tremaining: 1.33s\n",
            "766:\tlearn: 0.4963342\ttotal: 4.37s\tremaining: 1.33s\n",
            "767:\tlearn: 0.4963341\ttotal: 4.38s\tremaining: 1.32s\n",
            "768:\tlearn: 0.4963313\ttotal: 4.39s\tremaining: 1.32s\n",
            "769:\tlearn: 0.4963231\ttotal: 4.39s\tremaining: 1.31s\n",
            "770:\tlearn: 0.4963215\ttotal: 4.4s\tremaining: 1.31s\n",
            "771:\tlearn: 0.4963165\ttotal: 4.41s\tremaining: 1.3s\n",
            "772:\tlearn: 0.4963142\ttotal: 4.41s\tremaining: 1.3s\n",
            "773:\tlearn: 0.4963085\ttotal: 4.42s\tremaining: 1.29s\n",
            "774:\tlearn: 0.4963033\ttotal: 4.43s\tremaining: 1.28s\n",
            "775:\tlearn: 0.4963018\ttotal: 4.44s\tremaining: 1.28s\n",
            "776:\tlearn: 0.4962957\ttotal: 4.44s\tremaining: 1.27s\n",
            "777:\tlearn: 0.4962940\ttotal: 4.45s\tremaining: 1.27s\n",
            "778:\tlearn: 0.4962884\ttotal: 4.46s\tremaining: 1.26s\n",
            "779:\tlearn: 0.4962890\ttotal: 4.46s\tremaining: 1.26s\n",
            "780:\tlearn: 0.4962819\ttotal: 4.47s\tremaining: 1.25s\n",
            "781:\tlearn: 0.4962793\ttotal: 4.48s\tremaining: 1.25s\n",
            "782:\tlearn: 0.4962769\ttotal: 4.48s\tremaining: 1.24s\n",
            "783:\tlearn: 0.4962694\ttotal: 4.49s\tremaining: 1.24s\n",
            "784:\tlearn: 0.4962665\ttotal: 4.5s\tremaining: 1.23s\n",
            "785:\tlearn: 0.4962591\ttotal: 4.5s\tremaining: 1.23s\n",
            "786:\tlearn: 0.4962569\ttotal: 4.51s\tremaining: 1.22s\n",
            "787:\tlearn: 0.4962511\ttotal: 4.52s\tremaining: 1.22s\n",
            "788:\tlearn: 0.4962492\ttotal: 4.53s\tremaining: 1.21s\n",
            "789:\tlearn: 0.4962440\ttotal: 4.53s\tremaining: 1.21s\n",
            "790:\tlearn: 0.4962416\ttotal: 4.54s\tremaining: 1.2s\n",
            "791:\tlearn: 0.4962402\ttotal: 4.55s\tremaining: 1.19s\n",
            "792:\tlearn: 0.4962334\ttotal: 4.55s\tremaining: 1.19s\n",
            "793:\tlearn: 0.4962311\ttotal: 4.56s\tremaining: 1.18s\n",
            "794:\tlearn: 0.4962257\ttotal: 4.57s\tremaining: 1.18s\n",
            "795:\tlearn: 0.4962220\ttotal: 4.58s\tremaining: 1.17s\n",
            "796:\tlearn: 0.4962166\ttotal: 4.58s\tremaining: 1.17s\n",
            "797:\tlearn: 0.4962141\ttotal: 4.59s\tremaining: 1.16s\n",
            "798:\tlearn: 0.4962097\ttotal: 4.59s\tremaining: 1.16s\n",
            "799:\tlearn: 0.4962036\ttotal: 4.6s\tremaining: 1.15s\n",
            "800:\tlearn: 0.4962017\ttotal: 4.61s\tremaining: 1.14s\n",
            "801:\tlearn: 0.4961949\ttotal: 4.61s\tremaining: 1.14s\n",
            "802:\tlearn: 0.4961906\ttotal: 4.62s\tremaining: 1.13s\n",
            "803:\tlearn: 0.4961914\ttotal: 4.63s\tremaining: 1.13s\n",
            "804:\tlearn: 0.4961863\ttotal: 4.64s\tremaining: 1.12s\n",
            "805:\tlearn: 0.4961845\ttotal: 4.65s\tremaining: 1.12s\n",
            "806:\tlearn: 0.4961829\ttotal: 4.65s\tremaining: 1.11s\n",
            "807:\tlearn: 0.4961823\ttotal: 4.66s\tremaining: 1.11s\n",
            "808:\tlearn: 0.4961786\ttotal: 4.67s\tremaining: 1.1s\n",
            "809:\tlearn: 0.4961748\ttotal: 4.67s\tremaining: 1.1s\n",
            "810:\tlearn: 0.4961739\ttotal: 4.68s\tremaining: 1.09s\n",
            "811:\tlearn: 0.4961703\ttotal: 4.68s\tremaining: 1.08s\n",
            "812:\tlearn: 0.4961683\ttotal: 4.69s\tremaining: 1.08s\n",
            "813:\tlearn: 0.4961672\ttotal: 4.7s\tremaining: 1.07s\n",
            "814:\tlearn: 0.4961627\ttotal: 4.7s\tremaining: 1.07s\n",
            "815:\tlearn: 0.4961635\ttotal: 4.71s\tremaining: 1.06s\n",
            "816:\tlearn: 0.4961549\ttotal: 4.72s\tremaining: 1.06s\n",
            "817:\tlearn: 0.4961571\ttotal: 4.72s\tremaining: 1.05s\n",
            "818:\tlearn: 0.4961527\ttotal: 4.73s\tremaining: 1.04s\n",
            "819:\tlearn: 0.4961501\ttotal: 4.74s\tremaining: 1.04s\n",
            "820:\tlearn: 0.4961470\ttotal: 4.74s\tremaining: 1.03s\n",
            "821:\tlearn: 0.4961433\ttotal: 4.75s\tremaining: 1.03s\n",
            "822:\tlearn: 0.4961422\ttotal: 4.75s\tremaining: 1.02s\n",
            "823:\tlearn: 0.4961393\ttotal: 4.76s\tremaining: 1.02s\n",
            "824:\tlearn: 0.4961346\ttotal: 4.76s\tremaining: 1.01s\n",
            "825:\tlearn: 0.4961304\ttotal: 4.77s\tremaining: 1s\n",
            "826:\tlearn: 0.4961284\ttotal: 4.78s\tremaining: 999ms\n",
            "827:\tlearn: 0.4961256\ttotal: 4.78s\tremaining: 994ms\n",
            "828:\tlearn: 0.4961207\ttotal: 4.79s\tremaining: 988ms\n",
            "829:\tlearn: 0.4961191\ttotal: 4.8s\tremaining: 983ms\n",
            "830:\tlearn: 0.4961163\ttotal: 4.8s\tremaining: 977ms\n",
            "831:\tlearn: 0.4961140\ttotal: 4.81s\tremaining: 971ms\n",
            "832:\tlearn: 0.4961124\ttotal: 4.81s\tremaining: 965ms\n",
            "833:\tlearn: 0.4961084\ttotal: 4.82s\tremaining: 959ms\n",
            "834:\tlearn: 0.4961061\ttotal: 4.83s\tremaining: 954ms\n",
            "835:\tlearn: 0.4961039\ttotal: 4.83s\tremaining: 948ms\n",
            "836:\tlearn: 0.4960997\ttotal: 4.84s\tremaining: 942ms\n",
            "837:\tlearn: 0.4960972\ttotal: 4.84s\tremaining: 936ms\n",
            "838:\tlearn: 0.4960918\ttotal: 4.85s\tremaining: 931ms\n",
            "839:\tlearn: 0.4960888\ttotal: 4.86s\tremaining: 925ms\n",
            "840:\tlearn: 0.4960854\ttotal: 4.86s\tremaining: 919ms\n",
            "841:\tlearn: 0.4960818\ttotal: 4.87s\tremaining: 914ms\n",
            "842:\tlearn: 0.4960816\ttotal: 4.88s\tremaining: 908ms\n",
            "843:\tlearn: 0.4960814\ttotal: 4.88s\tremaining: 903ms\n",
            "844:\tlearn: 0.4960796\ttotal: 4.89s\tremaining: 897ms\n",
            "845:\tlearn: 0.4960769\ttotal: 4.89s\tremaining: 891ms\n",
            "846:\tlearn: 0.4960776\ttotal: 4.9s\tremaining: 886ms\n",
            "847:\tlearn: 0.4960710\ttotal: 4.91s\tremaining: 880ms\n",
            "848:\tlearn: 0.4960694\ttotal: 4.92s\tremaining: 874ms\n",
            "849:\tlearn: 0.4960698\ttotal: 4.92s\tremaining: 869ms\n",
            "850:\tlearn: 0.4960645\ttotal: 4.93s\tremaining: 863ms\n",
            "851:\tlearn: 0.4960637\ttotal: 4.94s\tremaining: 858ms\n",
            "852:\tlearn: 0.4960636\ttotal: 4.94s\tremaining: 851ms\n",
            "853:\tlearn: 0.4960628\ttotal: 4.95s\tremaining: 846ms\n",
            "854:\tlearn: 0.4960590\ttotal: 4.95s\tremaining: 840ms\n",
            "855:\tlearn: 0.4960558\ttotal: 4.96s\tremaining: 834ms\n",
            "856:\tlearn: 0.4960527\ttotal: 4.96s\tremaining: 828ms\n",
            "857:\tlearn: 0.4960512\ttotal: 4.97s\tremaining: 822ms\n",
            "858:\tlearn: 0.4960466\ttotal: 4.97s\tremaining: 817ms\n",
            "859:\tlearn: 0.4960447\ttotal: 4.98s\tremaining: 811ms\n",
            "860:\tlearn: 0.4960432\ttotal: 4.99s\tremaining: 805ms\n",
            "861:\tlearn: 0.4960396\ttotal: 4.99s\tremaining: 799ms\n",
            "862:\tlearn: 0.4960378\ttotal: 5s\tremaining: 793ms\n",
            "863:\tlearn: 0.4960344\ttotal: 5s\tremaining: 788ms\n",
            "864:\tlearn: 0.4960337\ttotal: 5.01s\tremaining: 782ms\n",
            "865:\tlearn: 0.4960333\ttotal: 5.01s\tremaining: 776ms\n",
            "866:\tlearn: 0.4960312\ttotal: 5.02s\tremaining: 770ms\n",
            "867:\tlearn: 0.4960253\ttotal: 5.03s\tremaining: 765ms\n",
            "868:\tlearn: 0.4960224\ttotal: 5.04s\tremaining: 759ms\n",
            "869:\tlearn: 0.4960191\ttotal: 5.04s\tremaining: 753ms\n",
            "870:\tlearn: 0.4960177\ttotal: 5.05s\tremaining: 748ms\n",
            "871:\tlearn: 0.4960148\ttotal: 5.05s\tremaining: 742ms\n",
            "872:\tlearn: 0.4960119\ttotal: 5.06s\tremaining: 736ms\n",
            "873:\tlearn: 0.4960086\ttotal: 5.07s\tremaining: 730ms\n",
            "874:\tlearn: 0.4960057\ttotal: 5.07s\tremaining: 725ms\n",
            "875:\tlearn: 0.4960042\ttotal: 5.08s\tremaining: 719ms\n",
            "876:\tlearn: 0.4960012\ttotal: 5.09s\tremaining: 713ms\n",
            "877:\tlearn: 0.4959992\ttotal: 5.09s\tremaining: 708ms\n",
            "878:\tlearn: 0.4959959\ttotal: 5.1s\tremaining: 702ms\n",
            "879:\tlearn: 0.4959938\ttotal: 5.11s\tremaining: 697ms\n",
            "880:\tlearn: 0.4959966\ttotal: 5.12s\tremaining: 691ms\n",
            "881:\tlearn: 0.4959945\ttotal: 5.13s\tremaining: 686ms\n",
            "882:\tlearn: 0.4959899\ttotal: 5.13s\tremaining: 680ms\n",
            "883:\tlearn: 0.4959877\ttotal: 5.14s\tremaining: 675ms\n",
            "884:\tlearn: 0.4959852\ttotal: 5.15s\tremaining: 669ms\n",
            "885:\tlearn: 0.4959836\ttotal: 5.16s\tremaining: 664ms\n",
            "886:\tlearn: 0.4959806\ttotal: 5.17s\tremaining: 658ms\n",
            "887:\tlearn: 0.4959789\ttotal: 5.17s\tremaining: 653ms\n",
            "888:\tlearn: 0.4959776\ttotal: 5.18s\tremaining: 647ms\n",
            "889:\tlearn: 0.4959742\ttotal: 5.19s\tremaining: 641ms\n",
            "890:\tlearn: 0.4959713\ttotal: 5.2s\tremaining: 636ms\n",
            "891:\tlearn: 0.4959683\ttotal: 5.2s\tremaining: 630ms\n",
            "892:\tlearn: 0.4959676\ttotal: 5.21s\tremaining: 625ms\n",
            "893:\tlearn: 0.4959655\ttotal: 5.22s\tremaining: 619ms\n",
            "894:\tlearn: 0.4959626\ttotal: 5.23s\tremaining: 614ms\n",
            "895:\tlearn: 0.4959616\ttotal: 5.24s\tremaining: 608ms\n",
            "896:\tlearn: 0.4959584\ttotal: 5.25s\tremaining: 603ms\n",
            "897:\tlearn: 0.4959574\ttotal: 5.26s\tremaining: 598ms\n",
            "898:\tlearn: 0.4959558\ttotal: 5.27s\tremaining: 592ms\n",
            "899:\tlearn: 0.4959507\ttotal: 5.28s\tremaining: 586ms\n",
            "900:\tlearn: 0.4959527\ttotal: 5.28s\tremaining: 580ms\n",
            "901:\tlearn: 0.4959505\ttotal: 5.29s\tremaining: 575ms\n",
            "902:\tlearn: 0.4959479\ttotal: 5.3s\tremaining: 569ms\n",
            "903:\tlearn: 0.4959475\ttotal: 5.3s\tremaining: 563ms\n",
            "904:\tlearn: 0.4959431\ttotal: 5.31s\tremaining: 557ms\n",
            "905:\tlearn: 0.4959425\ttotal: 5.32s\tremaining: 552ms\n",
            "906:\tlearn: 0.4959391\ttotal: 5.33s\tremaining: 546ms\n",
            "907:\tlearn: 0.4959377\ttotal: 5.33s\tremaining: 540ms\n",
            "908:\tlearn: 0.4959346\ttotal: 5.34s\tremaining: 535ms\n",
            "909:\tlearn: 0.4959309\ttotal: 5.35s\tremaining: 529ms\n",
            "910:\tlearn: 0.4959288\ttotal: 5.35s\tremaining: 523ms\n",
            "911:\tlearn: 0.4959275\ttotal: 5.37s\tremaining: 518ms\n",
            "912:\tlearn: 0.4959235\ttotal: 5.38s\tremaining: 512ms\n",
            "913:\tlearn: 0.4959245\ttotal: 5.39s\tremaining: 507ms\n",
            "914:\tlearn: 0.4959225\ttotal: 5.39s\tremaining: 501ms\n",
            "915:\tlearn: 0.4959185\ttotal: 5.4s\tremaining: 495ms\n",
            "916:\tlearn: 0.4959194\ttotal: 5.41s\tremaining: 490ms\n",
            "917:\tlearn: 0.4959174\ttotal: 5.42s\tremaining: 484ms\n",
            "918:\tlearn: 0.4959149\ttotal: 5.43s\tremaining: 478ms\n",
            "919:\tlearn: 0.4959115\ttotal: 5.43s\tremaining: 472ms\n",
            "920:\tlearn: 0.4959107\ttotal: 5.44s\tremaining: 467ms\n",
            "921:\tlearn: 0.4959121\ttotal: 5.45s\tremaining: 461ms\n",
            "922:\tlearn: 0.4959112\ttotal: 5.45s\tremaining: 455ms\n",
            "923:\tlearn: 0.4959088\ttotal: 5.46s\tremaining: 449ms\n",
            "924:\tlearn: 0.4959057\ttotal: 5.47s\tremaining: 444ms\n",
            "925:\tlearn: 0.4959044\ttotal: 5.48s\tremaining: 438ms\n",
            "926:\tlearn: 0.4959054\ttotal: 5.49s\tremaining: 432ms\n",
            "927:\tlearn: 0.4959009\ttotal: 5.49s\tremaining: 426ms\n",
            "928:\tlearn: 0.4959019\ttotal: 5.5s\tremaining: 420ms\n",
            "929:\tlearn: 0.4958963\ttotal: 5.5s\tremaining: 414ms\n",
            "930:\tlearn: 0.4958946\ttotal: 5.51s\tremaining: 409ms\n",
            "931:\tlearn: 0.4958922\ttotal: 5.52s\tremaining: 403ms\n",
            "932:\tlearn: 0.4958925\ttotal: 5.53s\tremaining: 397ms\n",
            "933:\tlearn: 0.4958906\ttotal: 5.53s\tremaining: 391ms\n",
            "934:\tlearn: 0.4958889\ttotal: 5.54s\tremaining: 385ms\n",
            "935:\tlearn: 0.4958847\ttotal: 5.55s\tremaining: 379ms\n",
            "936:\tlearn: 0.4958838\ttotal: 5.55s\tremaining: 374ms\n",
            "937:\tlearn: 0.4958833\ttotal: 5.56s\tremaining: 368ms\n",
            "938:\tlearn: 0.4958793\ttotal: 5.57s\tremaining: 362ms\n",
            "939:\tlearn: 0.4958793\ttotal: 5.58s\tremaining: 356ms\n",
            "940:\tlearn: 0.4958757\ttotal: 5.58s\tremaining: 350ms\n",
            "941:\tlearn: 0.4958741\ttotal: 5.59s\tremaining: 344ms\n",
            "942:\tlearn: 0.4958731\ttotal: 5.6s\tremaining: 339ms\n",
            "943:\tlearn: 0.4958697\ttotal: 5.61s\tremaining: 333ms\n",
            "944:\tlearn: 0.4958696\ttotal: 5.62s\tremaining: 327ms\n",
            "945:\tlearn: 0.4958686\ttotal: 5.63s\tremaining: 322ms\n",
            "946:\tlearn: 0.4958687\ttotal: 5.64s\tremaining: 316ms\n",
            "947:\tlearn: 0.4958619\ttotal: 5.65s\tremaining: 310ms\n",
            "948:\tlearn: 0.4958600\ttotal: 5.66s\tremaining: 304ms\n",
            "949:\tlearn: 0.4958612\ttotal: 5.66s\tremaining: 298ms\n",
            "950:\tlearn: 0.4958587\ttotal: 5.67s\tremaining: 292ms\n",
            "951:\tlearn: 0.4958565\ttotal: 5.68s\tremaining: 286ms\n",
            "952:\tlearn: 0.4958568\ttotal: 5.69s\tremaining: 281ms\n",
            "953:\tlearn: 0.4958546\ttotal: 5.7s\tremaining: 275ms\n",
            "954:\tlearn: 0.4958525\ttotal: 5.7s\tremaining: 269ms\n",
            "955:\tlearn: 0.4958490\ttotal: 5.71s\tremaining: 263ms\n",
            "956:\tlearn: 0.4958482\ttotal: 5.72s\tremaining: 257ms\n",
            "957:\tlearn: 0.4958449\ttotal: 5.73s\tremaining: 251ms\n",
            "958:\tlearn: 0.4958451\ttotal: 5.74s\tremaining: 245ms\n",
            "959:\tlearn: 0.4958436\ttotal: 5.75s\tremaining: 239ms\n",
            "960:\tlearn: 0.4958419\ttotal: 5.75s\tremaining: 233ms\n",
            "961:\tlearn: 0.4958405\ttotal: 5.76s\tremaining: 228ms\n",
            "962:\tlearn: 0.4958398\ttotal: 5.77s\tremaining: 222ms\n",
            "963:\tlearn: 0.4958366\ttotal: 5.78s\tremaining: 216ms\n",
            "964:\tlearn: 0.4958366\ttotal: 5.79s\tremaining: 210ms\n",
            "965:\tlearn: 0.4958360\ttotal: 5.8s\tremaining: 204ms\n",
            "966:\tlearn: 0.4958356\ttotal: 5.8s\tremaining: 198ms\n",
            "967:\tlearn: 0.4958329\ttotal: 5.81s\tremaining: 192ms\n",
            "968:\tlearn: 0.4958311\ttotal: 5.82s\tremaining: 186ms\n",
            "969:\tlearn: 0.4958337\ttotal: 5.82s\tremaining: 180ms\n",
            "970:\tlearn: 0.4958331\ttotal: 5.83s\tremaining: 174ms\n",
            "971:\tlearn: 0.4958276\ttotal: 5.84s\tremaining: 168ms\n",
            "972:\tlearn: 0.4958244\ttotal: 5.85s\tremaining: 162ms\n",
            "973:\tlearn: 0.4958240\ttotal: 5.86s\tremaining: 156ms\n",
            "974:\tlearn: 0.4958222\ttotal: 5.87s\tremaining: 150ms\n",
            "975:\tlearn: 0.4958219\ttotal: 5.88s\tremaining: 145ms\n",
            "976:\tlearn: 0.4958218\ttotal: 5.88s\tremaining: 138ms\n",
            "977:\tlearn: 0.4958230\ttotal: 5.9s\tremaining: 133ms\n",
            "978:\tlearn: 0.4958167\ttotal: 5.91s\tremaining: 127ms\n",
            "979:\tlearn: 0.4958168\ttotal: 5.91s\tremaining: 121ms\n",
            "980:\tlearn: 0.4958179\ttotal: 5.92s\tremaining: 115ms\n",
            "981:\tlearn: 0.4958152\ttotal: 5.93s\tremaining: 109ms\n",
            "982:\tlearn: 0.4958152\ttotal: 5.94s\tremaining: 103ms\n",
            "983:\tlearn: 0.4958134\ttotal: 5.95s\tremaining: 96.7ms\n",
            "984:\tlearn: 0.4958128\ttotal: 5.96s\tremaining: 90.7ms\n",
            "985:\tlearn: 0.4958116\ttotal: 5.96s\tremaining: 84.7ms\n",
            "986:\tlearn: 0.4958077\ttotal: 5.97s\tremaining: 78.6ms\n",
            "987:\tlearn: 0.4958066\ttotal: 5.97s\tremaining: 72.6ms\n",
            "988:\tlearn: 0.4958052\ttotal: 5.98s\tremaining: 66.5ms\n",
            "989:\tlearn: 0.4958063\ttotal: 5.99s\tremaining: 60.5ms\n",
            "990:\tlearn: 0.4958035\ttotal: 5.99s\tremaining: 54.4ms\n",
            "991:\tlearn: 0.4958035\ttotal: 6s\tremaining: 48.4ms\n",
            "992:\tlearn: 0.4958000\ttotal: 6.01s\tremaining: 42.3ms\n",
            "993:\tlearn: 0.4957967\ttotal: 6.01s\tremaining: 36.3ms\n",
            "994:\tlearn: 0.4957971\ttotal: 6.02s\tremaining: 30.3ms\n",
            "995:\tlearn: 0.4957962\ttotal: 6.03s\tremaining: 24.2ms\n",
            "996:\tlearn: 0.4957941\ttotal: 6.03s\tremaining: 18.2ms\n",
            "997:\tlearn: 0.4957932\ttotal: 6.04s\tremaining: 12.1ms\n",
            "998:\tlearn: 0.4957911\ttotal: 6.04s\tremaining: 6.05ms\n",
            "999:\tlearn: 0.4957882\ttotal: 6.05s\tremaining: 0us\n",
            "Cat Boost Classifer Model\n",
            "\n",
            "Model Performance for training dataset\n",
            "Accuracy score: 0.77262\n",
            "Precision Score: 0.61796\n",
            "Recall Score: 0.34959\n",
            "Roc_Auc Score: 0.63635\n",
            "--------------------------------------------------\n",
            "Model Performance for Test dataset\n",
            "Accuracy score: 0.74485\n",
            "Precision Score: 0.59043\n",
            "Recall Score: 0.28244\n",
            "Roc_Auc Score: 0.60325\n",
            "--------------------------------------------------\n",
            "\n",
            "\n"
          ]
        }
      ],
      "source": [
        "### Creating empty list to store model names\n",
        "model_list=[]\n",
        "### creating empty list to store accuracy score for each model\n",
        "acc_score_list=[]\n",
        "### creating empty list for storing precision score\n",
        "prec_score_list=[]\n",
        "### creating list to store recall score\n",
        "recall_list=[]\n",
        "### creating list to store roc_auc score\n",
        "roc_auc_list=[]\n",
        "\n",
        "### Training all models and getting their performance and storing it in empty list\n",
        "for num in range(len(list(models))):\n",
        "    ### selecting model\n",
        "    model=list(models.values())[num]\n",
        "    \n",
        "    ### getting training data prediction and test data prediction\n",
        "    y_pred, pred_val=model_trainer(model,X_train, y_train, X_test)\n",
        "    \n",
        "    ### Getting model performance parameters for training data\n",
        "    acc_score, prec_score, rec_score, roc_auc=model_evaluator(y_train,y_pred )\n",
        "    print(\"{} Model\\n\".format(list(models.keys())[num]))\n",
        "    print(\"Model Performance for training dataset\")\n",
        "    print(\"Accuracy score: {}\\nPrecision Score: {}\\nRecall Score: {}\\nRoc_Auc Score: {}\".format(acc_score,prec_score, rec_score, roc_auc))\n",
        "    print(\"-\"*50)\n",
        "    \n",
        "    ### Getting model performance parameters for test data\n",
        "    acc_score, prec_score, rec_score, roc_auc=model_evaluator(y_test,pred_val)\n",
        "    print(\"Model Performance for Test dataset\")\n",
        "    print(\"Accuracy score: {}\\nPrecision Score: {}\\nRecall Score: {}\\nRoc_Auc Score: {}\".format(acc_score,prec_score, rec_score, roc_auc))\n",
        "    \n",
        "    ### Appending model name and Performance score in seperate list so that models can be sorted in terms of performance\n",
        "    model_list.append(list(models.keys())[num])\n",
        "    acc_score_list.append(acc_score)\n",
        "    prec_score_list.append(prec_score)\n",
        "    recall_list.append(rec_score)\n",
        "    roc_auc_list.append(roc_auc)\n",
        "    print(\"-\"*50)\n",
        "    print(\"\\n\")"
      ]
    },
    {
      "cell_type": "code",
      "execution_count": 247,
      "metadata": {
        "id": "Ba0rgKtbw3wl"
      },
      "outputs": [
        {
          "data": {
            "text/html": [
              "<div>\n",
              "<style scoped>\n",
              "    .dataframe tbody tr th:only-of-type {\n",
              "        vertical-align: middle;\n",
              "    }\n",
              "\n",
              "    .dataframe tbody tr th {\n",
              "        vertical-align: top;\n",
              "    }\n",
              "\n",
              "    .dataframe thead th {\n",
              "        text-align: right;\n",
              "    }\n",
              "</style>\n",
              "<table border=\"1\" class=\"dataframe\">\n",
              "  <thead>\n",
              "    <tr style=\"text-align: right;\">\n",
              "      <th></th>\n",
              "      <th>Model</th>\n",
              "      <th>Accuracy</th>\n",
              "      <th>Precision</th>\n",
              "      <th>Recall</th>\n",
              "      <th>Roc_Auc Score</th>\n",
              "    </tr>\n",
              "  </thead>\n",
              "  <tbody>\n",
              "    <tr>\n",
              "      <th>0</th>\n",
              "      <td>Cat Boost Classifer</td>\n",
              "      <td>0.74485</td>\n",
              "      <td>0.59043</td>\n",
              "      <td>0.28244</td>\n",
              "      <td>0.60325</td>\n",
              "    </tr>\n",
              "    <tr>\n",
              "      <th>1</th>\n",
              "      <td>Decision Tree Classifier</td>\n",
              "      <td>0.74200</td>\n",
              "      <td>0.58152</td>\n",
              "      <td>0.27226</td>\n",
              "      <td>0.59816</td>\n",
              "    </tr>\n",
              "    <tr>\n",
              "      <th>2</th>\n",
              "      <td>Random Forest Classifier</td>\n",
              "      <td>0.74200</td>\n",
              "      <td>0.57653</td>\n",
              "      <td>0.28753</td>\n",
              "      <td>0.60284</td>\n",
              "    </tr>\n",
              "    <tr>\n",
              "      <th>3</th>\n",
              "      <td>Extra Tree Classifier</td>\n",
              "      <td>0.74200</td>\n",
              "      <td>0.58152</td>\n",
              "      <td>0.27226</td>\n",
              "      <td>0.59816</td>\n",
              "    </tr>\n",
              "    <tr>\n",
              "      <th>4</th>\n",
              "      <td>Bagging Classifier</td>\n",
              "      <td>0.73916</td>\n",
              "      <td>0.58442</td>\n",
              "      <td>0.22901</td>\n",
              "      <td>0.58295</td>\n",
              "    </tr>\n",
              "    <tr>\n",
              "      <th>5</th>\n",
              "      <td>Logistic Regression</td>\n",
              "      <td>0.73845</td>\n",
              "      <td>0.58503</td>\n",
              "      <td>0.21883</td>\n",
              "      <td>0.57934</td>\n",
              "    </tr>\n",
              "    <tr>\n",
              "      <th>6</th>\n",
              "      <td>AdaBoost Classifier</td>\n",
              "      <td>0.73774</td>\n",
              "      <td>0.58219</td>\n",
              "      <td>0.21628</td>\n",
              "      <td>0.57806</td>\n",
              "    </tr>\n",
              "    <tr>\n",
              "      <th>7</th>\n",
              "      <td>XGBoost Classifier</td>\n",
              "      <td>0.73774</td>\n",
              "      <td>0.56667</td>\n",
              "      <td>0.25954</td>\n",
              "      <td>0.59131</td>\n",
              "    </tr>\n",
              "    <tr>\n",
              "      <th>8</th>\n",
              "      <td>GradientBoost Classifier</td>\n",
              "      <td>0.73561</td>\n",
              "      <td>0.56688</td>\n",
              "      <td>0.22646</td>\n",
              "      <td>0.57970</td>\n",
              "    </tr>\n",
              "    <tr>\n",
              "      <th>9</th>\n",
              "      <td>Naive Bayes</td>\n",
              "      <td>0.69581</td>\n",
              "      <td>0.46120</td>\n",
              "      <td>0.52926</td>\n",
              "      <td>0.64481</td>\n",
              "    </tr>\n",
              "  </tbody>\n",
              "</table>\n",
              "</div>"
            ],
            "text/plain": [
              "                      Model  Accuracy  Precision   Recall  Roc_Auc Score\n",
              "0       Cat Boost Classifer   0.74485    0.59043  0.28244        0.60325\n",
              "1  Decision Tree Classifier   0.74200    0.58152  0.27226        0.59816\n",
              "2  Random Forest Classifier   0.74200    0.57653  0.28753        0.60284\n",
              "3     Extra Tree Classifier   0.74200    0.58152  0.27226        0.59816\n",
              "4        Bagging Classifier   0.73916    0.58442  0.22901        0.58295\n",
              "5       Logistic Regression   0.73845    0.58503  0.21883        0.57934\n",
              "6       AdaBoost Classifier   0.73774    0.58219  0.21628        0.57806\n",
              "7        XGBoost Classifier   0.73774    0.56667  0.25954        0.59131\n",
              "8  GradientBoost Classifier   0.73561    0.56688  0.22646        0.57970\n",
              "9               Naive Bayes   0.69581    0.46120  0.52926        0.64481"
            ]
          },
          "execution_count": 247,
          "metadata": {},
          "output_type": "execute_result"
        }
      ],
      "source": [
        "### Tabulating model performance in dataframe\n",
        "model_performance=pd.DataFrame(list(zip(model_list, acc_score_list,prec_score_list, recall_list, roc_auc_list)), columns=['Model', 'Accuracy', 'Precision', 'Recall', 'Roc_Auc Score']).sort_values(by=['Accuracy'], ascending=False,).reset_index()\n",
        "model_performance.drop('index', axis=1, inplace=True)\n",
        "model_performance"
      ]
    },
    {
      "cell_type": "markdown",
      "metadata": {
        "id": "8sXjHpIjQT-7"
      },
      "source": [
        "# Model hyper parameter Tuning\n"
      ]
    },
    {
      "cell_type": "code",
      "execution_count": 252,
      "metadata": {
        "id": "PF2-pIgy4aMG"
      },
      "outputs": [
        {
          "name": "stdout",
          "output_type": "stream",
          "text": [
            "Collecting tpotNote: you may need to restart the kernel to use updated packages.\n",
            "\n",
            "  Using cached TPOT-0.11.7-py3-none-any.whl (87 kB)\n",
            "Collecting stopit>=1.1.1\n",
            "  Using cached stopit-1.1.2.tar.gz (18 kB)\n",
            "Collecting deap>=1.2\n",
            "  Downloading deap-1.3.3-cp38-cp38-win_amd64.whl (109 kB)\n",
            "Requirement already satisfied: xgboost>=1.1.0 in c:\\users\\91822\\anaconda3\\envs\\py3env\\lib\\site-packages (from tpot) (1.5.2)\n",
            "Requirement already satisfied: joblib>=0.13.2 in c:\\users\\91822\\anaconda3\\envs\\py3env\\lib\\site-packages (from tpot) (0.16.0)\n",
            "Requirement already satisfied: scikit-learn>=0.22.0 in c:\\users\\91822\\anaconda3\\envs\\py3env\\lib\\site-packages (from tpot) (0.23.2)\n",
            "Requirement already satisfied: numpy>=1.16.3 in c:\\users\\91822\\anaconda3\\envs\\py3env\\lib\\site-packages (from tpot) (1.18.5)\n",
            "Collecting update-checker>=0.16\n",
            "  Using cached update_checker-0.18.0-py3-none-any.whl (7.0 kB)\n",
            "Requirement already satisfied: pandas>=0.24.2 in c:\\users\\91822\\anaconda3\\envs\\py3env\\lib\\site-packages (from tpot) (1.0.5)\n",
            "Requirement already satisfied: scipy>=1.3.1 in c:\\users\\91822\\anaconda3\\envs\\py3env\\lib\\site-packages (from tpot) (1.5.4)\n",
            "Requirement already satisfied: tqdm>=4.36.1 in c:\\users\\91822\\anaconda3\\envs\\py3env\\lib\\site-packages (from tpot) (4.64.0)\n",
            "Requirement already satisfied: threadpoolctl>=2.0.0 in c:\\users\\91822\\anaconda3\\envs\\py3env\\lib\\site-packages (from scikit-learn>=0.22.0->tpot) (2.1.0)\n",
            "Requirement already satisfied: requests>=2.3.0 in c:\\users\\91822\\anaconda3\\envs\\py3env\\lib\\site-packages (from update-checker>=0.16->tpot) (2.24.0)\n",
            "Requirement already satisfied: python-dateutil>=2.6.1 in c:\\users\\91822\\anaconda3\\envs\\py3env\\lib\\site-packages (from pandas>=0.24.2->tpot) (2.8.1)\n",
            "Requirement already satisfied: pytz>=2017.2 in c:\\users\\91822\\anaconda3\\envs\\py3env\\lib\\site-packages (from pandas>=0.24.2->tpot) (2020.1)\n",
            "Requirement already satisfied: colorama; platform_system == \"Windows\" in c:\\users\\91822\\anaconda3\\envs\\py3env\\lib\\site-packages (from tqdm>=4.36.1->tpot) (0.4.3)\n",
            "Requirement already satisfied: urllib3!=1.25.0,!=1.25.1,<1.26,>=1.21.1 in c:\\users\\91822\\anaconda3\\envs\\py3env\\lib\\site-packages (from requests>=2.3.0->update-checker>=0.16->tpot) (1.25.9)\n",
            "Requirement already satisfied: chardet<4,>=3.0.2 in c:\\users\\91822\\anaconda3\\envs\\py3env\\lib\\site-packages (from requests>=2.3.0->update-checker>=0.16->tpot) (3.0.4)\n",
            "Requirement already satisfied: certifi>=2017.4.17 in c:\\users\\91822\\anaconda3\\envs\\py3env\\lib\\site-packages (from requests>=2.3.0->update-checker>=0.16->tpot) (2022.6.15)\n",
            "Requirement already satisfied: idna<3,>=2.5 in c:\\users\\91822\\anaconda3\\envs\\py3env\\lib\\site-packages (from requests>=2.3.0->update-checker>=0.16->tpot) (2.10)\n",
            "Requirement already satisfied: six>=1.5 in c:\\users\\91822\\anaconda3\\envs\\py3env\\lib\\site-packages (from python-dateutil>=2.6.1->pandas>=0.24.2->tpot) (1.15.0)\n",
            "Building wheels for collected packages: stopit\n",
            "  Building wheel for stopit (setup.py): started\n",
            "  Building wheel for stopit (setup.py): finished with status 'done'\n",
            "  Created wheel for stopit: filename=stopit-1.1.2-py3-none-any.whl size=11959 sha256=ff44e5224c443920f24e305f4d2dfbeda52844c80a8926a0447588ca5ad04ef4\n",
            "  Stored in directory: c:\\users\\91822\\appdata\\local\\pip\\cache\\wheels\\a8\\bb\\8f\\6b9328d23c2dcedbfeb8498b9f650d55d463089e3b8fc0bfb2\n",
            "Successfully built stopit\n",
            "Installing collected packages: stopit, deap, update-checker, tpot\n",
            "Successfully installed deap-1.3.3 stopit-1.1.2 tpot-0.11.7 update-checker-0.18.0\n"
          ]
        }
      ],
      "source": [
        "pip install tpot"
      ]
    },
    {
      "cell_type": "code",
      "execution_count": 253,
      "metadata": {
        "id": "1umu9GLU4Cz2"
      },
      "outputs": [
        {
          "name": "stdout",
          "output_type": "stream",
          "text": [
            "{'n_estimators': [200, 400, 600, 800, 1000, 1200, 1400, 1600, 1800, 2000], 'max_features': ['auto', 'sqrt', 'log2'], 'max_depth': [10, 120, 230, 340, 450, 560, 670, 780, 890, 1000], 'min_samples_split': [2, 5, 10, 14], 'min_samples_leaf': [1, 2, 4, 6, 8], 'criterion': ['entropy', 'gini']}\n"
          ]
        }
      ],
      "source": [
        "import numpy as np\n",
        "from sklearn.model_selection import RandomizedSearchCV\n",
        "\n",
        "\n",
        "\n",
        "n_estimators = [int(x) for x in np.linspace(start = 200, stop = 2000, num = 10)]\n",
        "\n",
        "\n",
        "max_features = ['auto', 'sqrt','log2']\n",
        "\n",
        "\n",
        "max_depth = [int(x) for x in np.linspace(10, 1000,10)]\n",
        "\n",
        "\n",
        "min_samples_split = [2, 5, 10,14]\n",
        "\n",
        "\n",
        "min_samples_leaf = [1, 2, 4,6,8]\n",
        "\n",
        "\n",
        "param = {'n_estimators': n_estimators,\n",
        "               'max_features': max_features,\n",
        "               'max_depth': max_depth,\n",
        "               'min_samples_split': min_samples_split,\n",
        "               'min_samples_leaf': min_samples_leaf,\n",
        "              'criterion':['entropy','gini']}\n",
        "\n",
        "\n",
        "print(param)"
      ]
    },
    {
      "cell_type": "code",
      "execution_count": 254,
      "metadata": {},
      "outputs": [
        {
          "data": {
            "application/vnd.jupyter.widget-view+json": {
              "model_id": "09c646519704425f952da82e5a4c87db",
              "version_major": 2,
              "version_minor": 0
            },
            "text/plain": [
              "Optimization Progress:   0%|          | 0/20 [00:00<?, ?pipeline/s]"
            ]
          },
          "metadata": {},
          "output_type": "display_data"
        },
        {
          "name": "stdout",
          "output_type": "stream",
          "text": [
            "\n",
            "Generation 1 - Current best internal CV score: 0.760354774592795\n",
            "\n",
            "Generation 2 - Current best internal CV score: 0.760354774592795\n",
            "\n",
            "Generation 3 - Current best internal CV score: 0.760354774592795\n",
            "\n",
            "The optimized pipeline was not improved after evaluating 2 more generations. Will end the optimization process.\n",
            "\n",
            "TPOT closed prematurely. Will use the current best pipeline.\n",
            "\n",
            "Best pipeline: RandomForestClassifier(input_matrix, criterion=entropy, max_depth=670, max_features=log2, min_samples_leaf=8, min_samples_split=14, n_estimators=400)\n"
          ]
        },
        {
          "data": {
            "text/plain": [
              "TPOTClassifier(config_dict={'sklearn.ensemble.RandomForestClassifier': {'criterion': ['entropy',\n",
              "                                                                                      'gini'],\n",
              "                                                                        'max_depth': [10,\n",
              "                                                                                      120,\n",
              "                                                                                      230,\n",
              "                                                                                      340,\n",
              "                                                                                      450,\n",
              "                                                                                      560,\n",
              "                                                                                      670,\n",
              "                                                                                      780,\n",
              "                                                                                      890,\n",
              "                                                                                      1000],\n",
              "                                                                        'max_features': ['auto',\n",
              "                                                                                         'sqrt',\n",
              "                                                                                         'log2'],\n",
              "                                                                        'min_samples_leaf': [1,\n",
              "                                                                                             2,\n",
              "                                                                                             4,\n",
              "                                                                                             6,\n",
              "                                                                                             8],\n",
              "                                                                        'min_samples_split': [2,\n",
              "                                                                                              5,\n",
              "                                                                                              10,\n",
              "                                                                                              14],\n",
              "                                                                        'n_estimators': [200,\n",
              "                                                                                         400,\n",
              "                                                                                         600,\n",
              "                                                                                         800,\n",
              "                                                                                         1000,\n",
              "                                                                                         1200,\n",
              "                                                                                         1400,\n",
              "                                                                                         1600,\n",
              "                                                                                         1800,\n",
              "                                                                                         2000]}},\n",
              "               cv=4, early_stop=2, generations=5, offspring_size=3,\n",
              "               population_size=5, scoring='accuracy', verbosity=2)"
            ]
          },
          "execution_count": 254,
          "metadata": {},
          "output_type": "execute_result"
        }
      ],
      "source": [
        "\n",
        "from tpot import TPOTClassifier\n",
        "\n",
        "\n",
        "tpot_classifier = TPOTClassifier(generations= 5, population_size= 5, offspring_size= 3,\n",
        "                                 verbosity= 2, early_stop= 2,\n",
        "                                 config_dict={'sklearn.ensemble.RandomForestClassifier': param}, \n",
        "                                 cv = 4, scoring = 'accuracy')\n",
        "tpot_classifier.fit(X_train,y_train)"
      ]
    },
    {
      "cell_type": "code",
      "execution_count": 255,
      "metadata": {
        "id": "FrOjEDrP5xtn"
      },
      "outputs": [
        {
          "name": "stdout",
          "output_type": "stream",
          "text": [
            "[[951  63]\n",
            " [301  92]]\n",
            "0.7412935323383084\n",
            "              precision    recall  f1-score   support\n",
            "\n",
            "           0       0.76      0.94      0.84      1014\n",
            "           1       0.59      0.23      0.34       393\n",
            "\n",
            "    accuracy                           0.74      1407\n",
            "   macro avg       0.68      0.59      0.59      1407\n",
            "weighted avg       0.71      0.74      0.70      1407\n",
            "\n"
          ]
        }
      ],
      "source": [
        "rf = RandomForestClassifier(criterion='entropy', max_depth=10, max_features='auto', min_samples_leaf=4, min_samples_split=5, n_estimators=600)\n",
        "rf.fit(X_train,y_train)\n",
        "predictionforest = tpot_classifier.predict(X_test)\n",
        "print(confusion_matrix(y_test,predictionforest))\n",
        "print(accuracy_score(y_test,predictionforest))\n",
        "print(classification_report(y_test,predictionforest))\n",
        "acc5 = accuracy_score(y_test,predictionforest)"
      ]
    },
    {
      "cell_type": "markdown",
      "metadata": {
        "id": "xGtktx5HQatk"
      },
      "source": [
        "# Model deployement\n"
      ]
    },
    {
      "cell_type": "code",
      "execution_count": 257,
      "metadata": {
        "id": "8YN0CMH_-OWb"
      },
      "outputs": [],
      "source": [
        "import pickle"
      ]
    },
    {
      "cell_type": "code",
      "execution_count": 258,
      "metadata": {
        "id": "GkSK_p8f-P0f"
      },
      "outputs": [],
      "source": [
        "#model\n",
        "pickle.dump(rf,open('clf.pkl','wb'))"
      ]
    },
    {
      "cell_type": "code",
      "execution_count": 259,
      "metadata": {
        "id": "gVKyUt9s-cRe"
      },
      "outputs": [],
      "source": [
        "# preprocessing\n",
        "pickle.dump(pipe,(open('k.pkl','wb')))"
      ]
    },
    {
      "cell_type": "code",
      "execution_count": 260,
      "metadata": {
        "id": "acbNIsFF_5on"
      },
      "outputs": [],
      "source": [
        "pickled = pickle.load(open('k.pkl','rb'))"
      ]
    },
    {
      "cell_type": "code",
      "execution_count": 261,
      "metadata": {
        "id": "tvS9hmrL_6Nq"
      },
      "outputs": [
        {
          "data": {
            "text/plain": [
              "Pipeline(steps=[('columntransformer-1',\n",
              "                 ColumnTransformer(remainder='passthrough',\n",
              "                                   transformers=[('onehot',\n",
              "                                                  OneHotEncoder(handle_unknown='ignore',\n",
              "                                                                sparse=False),\n",
              "                                                  [0, 2, 3, 4, 6, 7, 8, 9, 10,\n",
              "                                                   11, 12, 13, 14, 15, 18, 19,\n",
              "                                                   20])])),\n",
              "                ('columntransformer-2',\n",
              "                 ColumnTransformer(transformers=[('scale', StandardScaler(),\n",
              "                                                  slice(1, 20, None))]))])"
            ]
          },
          "execution_count": 261,
          "metadata": {},
          "output_type": "execute_result"
        }
      ],
      "source": [
        "pickled"
      ]
    },
    {
      "cell_type": "code",
      "execution_count": 262,
      "metadata": {
        "id": "pcFs7mO0A2Gx"
      },
      "outputs": [
        {
          "data": {
            "text/plain": [
              "1"
            ]
          },
          "execution_count": 262,
          "metadata": {},
          "output_type": "execute_result"
        }
      ],
      "source": [
        "y[5]"
      ]
    },
    {
      "cell_type": "markdown",
      "metadata": {},
      "source": []
    },
    {
      "cell_type": "code",
      "execution_count": 263,
      "metadata": {
        "id": "2A8j5Wb1BKEc"
      },
      "outputs": [
        {
          "data": {
            "text/plain": [
              "array(['Female', 0, 'No', 'No', 8.0, 'Yes', 'Yes', 'Fiber optic', 'No',\n",
              "       'No', 'Yes', 'No', 'Yes', 'Yes', 'Month-to-month', 'Yes',\n",
              "       'Electronic check', 99.65, 820.5, 'Low', 'High', 'Low'],\n",
              "      dtype=object)"
            ]
          },
          "execution_count": 263,
          "metadata": {},
          "output_type": "execute_result"
        }
      ],
      "source": [
        "X.iloc[5].values"
      ]
    },
    {
      "cell_type": "code",
      "execution_count": null,
      "metadata": {},
      "outputs": [],
      "source": []
    }
  ],
  "metadata": {
    "colab": {
      "provenance": [],
      "toc_visible": true
    },
    "kernelspec": {
      "display_name": "py3env",
      "language": "python",
      "name": "python3"
    },
    "language_info": {
      "codemirror_mode": {
        "name": "ipython",
        "version": 3
      },
      "file_extension": ".py",
      "mimetype": "text/x-python",
      "name": "python",
      "nbconvert_exporter": "python",
      "pygments_lexer": "ipython3",
      "version": "3.8.3 (default, Jul  2 2020, 17:30:36) [MSC v.1916 64 bit (AMD64)]"
    },
    "vscode": {
      "interpreter": {
        "hash": "ac5786cc2602ab81049e9b1e0dd39289cc2bcaefa5bcdbebad2e50b46b401fee"
      }
    }
  },
  "nbformat": 4,
  "nbformat_minor": 0
}
