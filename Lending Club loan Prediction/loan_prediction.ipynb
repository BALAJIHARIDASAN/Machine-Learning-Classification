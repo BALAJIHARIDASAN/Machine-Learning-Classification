{
  "cells": [
    {
      "cell_type": "code",
      "execution_count": 4,
      "metadata": {
        "id": "U4DcvQGkGtUq"
      },
      "outputs": [],
      "source": [
        "import pandas as pd\n",
        "import numpy as np\n",
        "import matplotlib.pyplot as plt\n",
        "import seaborn as sns\n",
        "\n",
        "from sklearn.model_selection import train_test_split\n",
        "from sklearn.compose import ColumnTransformer\n",
        "from sklearn.impute import SimpleImputer\n",
        "from sklearn.preprocessing import OneHotEncoder\n",
        "from sklearn.preprocessing import StandardScaler\n",
        "\n",
        "from sklearn.pipeline import Pipeline,make_pipeline\n",
        "from sklearn.feature_selection import SelectKBest,chi2\n",
        "from sklearn.tree import DecisionTreeClassifier\n",
        "from sklearn.ensemble import RandomForestClassifier\n",
        "from sklearn.naive_bayes import GaussianNB, BernoulliNB, MultinomialNB\n",
        "from sklearn.tree import DecisionTreeClassifier\n",
        "from sklearn.ensemble import AdaBoostClassifier\n",
        "from xgboost import XGBClassifier\n",
        "from sklearn.svm import SVC\n",
        "from sklearn.neighbors import KNeighborsClassifier\n",
        "\n",
        "\n",
        "\n",
        "import numpy as np\n",
        "import pandas as pd\n",
        "from sklearn.impute import SimpleImputer\n",
        "from sklearn.preprocessing import OneHotEncoder\n",
        "from sklearn.preprocessing import LabelEncoder\n",
        "\n",
        "\n",
        "import sklearn\n",
        "from sklearn.model_selection import train_test_split, GridSearchCV\n",
        "from sklearn.preprocessing import StandardScaler\n",
        "from sklearn.decomposition import PCA\n",
        "from sklearn.svm import SVC\n",
        "from sklearn.tree import DecisionTreeClassifier\n",
        "from sklearn.ensemble import RandomForestClassifier, BaggingClassifier, ExtraTreesClassifier,GradientBoostingClassifier\n",
        "from xgboost import XGBClassifier\n",
        "from sklearn.linear_model import LogisticRegression\n",
        "from sklearn.metrics import accuracy_score, precision_score, recall_score, roc_auc_score\n",
        "### To be able to see maximum columns on screen\n",
        "pd.set_option('display.max_columns', 500)"
      ]
    },
    {
      "cell_type": "code",
      "execution_count": 5,
      "metadata": {
        "colab": {
          "base_uri": "https://localhost:8080/",
          "height": 444
        },
        "id": "e8iS2VAtG-je",
        "outputId": "865101e8-a21e-417f-fefa-0de624f9cb8f"
      },
      "outputs": [
        {
          "data": {
            "text/html": [
              "<div>\n",
              "<style scoped>\n",
              "    .dataframe tbody tr th:only-of-type {\n",
              "        vertical-align: middle;\n",
              "    }\n",
              "\n",
              "    .dataframe tbody tr th {\n",
              "        vertical-align: top;\n",
              "    }\n",
              "\n",
              "    .dataframe thead th {\n",
              "        text-align: right;\n",
              "    }\n",
              "</style>\n",
              "<table border=\"1\" class=\"dataframe\">\n",
              "  <thead>\n",
              "    <tr style=\"text-align: right;\">\n",
              "      <th></th>\n",
              "      <th>loan_amnt</th>\n",
              "      <th>term</th>\n",
              "      <th>int_rate</th>\n",
              "      <th>installment</th>\n",
              "      <th>grade</th>\n",
              "      <th>sub_grade</th>\n",
              "      <th>emp_title</th>\n",
              "      <th>emp_length</th>\n",
              "      <th>home_ownership</th>\n",
              "      <th>annual_inc</th>\n",
              "      <th>verification_status</th>\n",
              "      <th>issue_d</th>\n",
              "      <th>loan_status</th>\n",
              "      <th>purpose</th>\n",
              "      <th>title</th>\n",
              "      <th>dti</th>\n",
              "      <th>earliest_cr_line</th>\n",
              "      <th>open_acc</th>\n",
              "      <th>pub_rec</th>\n",
              "      <th>revol_bal</th>\n",
              "      <th>revol_util</th>\n",
              "      <th>total_acc</th>\n",
              "      <th>initial_list_status</th>\n",
              "      <th>application_type</th>\n",
              "      <th>mort_acc</th>\n",
              "      <th>pub_rec_bankruptcies</th>\n",
              "      <th>address</th>\n",
              "    </tr>\n",
              "  </thead>\n",
              "  <tbody>\n",
              "    <tr>\n",
              "      <th>0</th>\n",
              "      <td>10000.0</td>\n",
              "      <td>36 months</td>\n",
              "      <td>11.44</td>\n",
              "      <td>329.48</td>\n",
              "      <td>B</td>\n",
              "      <td>B4</td>\n",
              "      <td>Marketing</td>\n",
              "      <td>10+ years</td>\n",
              "      <td>RENT</td>\n",
              "      <td>117000.0</td>\n",
              "      <td>Not Verified</td>\n",
              "      <td>Jan-2015</td>\n",
              "      <td>Fully Paid</td>\n",
              "      <td>vacation</td>\n",
              "      <td>Vacation</td>\n",
              "      <td>26.24</td>\n",
              "      <td>Jun-1990</td>\n",
              "      <td>16.0</td>\n",
              "      <td>0.0</td>\n",
              "      <td>36369.0</td>\n",
              "      <td>41.8</td>\n",
              "      <td>25.0</td>\n",
              "      <td>w</td>\n",
              "      <td>INDIVIDUAL</td>\n",
              "      <td>0.0</td>\n",
              "      <td>0.0</td>\n",
              "      <td>0174 Michelle Gateway\\r\\nMendozaberg, OK 22690</td>\n",
              "    </tr>\n",
              "    <tr>\n",
              "      <th>1</th>\n",
              "      <td>8000.0</td>\n",
              "      <td>36 months</td>\n",
              "      <td>11.99</td>\n",
              "      <td>265.68</td>\n",
              "      <td>B</td>\n",
              "      <td>B5</td>\n",
              "      <td>Credit analyst</td>\n",
              "      <td>4 years</td>\n",
              "      <td>MORTGAGE</td>\n",
              "      <td>65000.0</td>\n",
              "      <td>Not Verified</td>\n",
              "      <td>Jan-2015</td>\n",
              "      <td>Fully Paid</td>\n",
              "      <td>debt_consolidation</td>\n",
              "      <td>Debt consolidation</td>\n",
              "      <td>22.05</td>\n",
              "      <td>Jul-2004</td>\n",
              "      <td>17.0</td>\n",
              "      <td>0.0</td>\n",
              "      <td>20131.0</td>\n",
              "      <td>53.3</td>\n",
              "      <td>27.0</td>\n",
              "      <td>f</td>\n",
              "      <td>INDIVIDUAL</td>\n",
              "      <td>3.0</td>\n",
              "      <td>0.0</td>\n",
              "      <td>1076 Carney Fort Apt. 347\\r\\nLoganmouth, SD 05113</td>\n",
              "    </tr>\n",
              "    <tr>\n",
              "      <th>2</th>\n",
              "      <td>15600.0</td>\n",
              "      <td>36 months</td>\n",
              "      <td>10.49</td>\n",
              "      <td>506.97</td>\n",
              "      <td>B</td>\n",
              "      <td>B3</td>\n",
              "      <td>Statistician</td>\n",
              "      <td>&lt; 1 year</td>\n",
              "      <td>RENT</td>\n",
              "      <td>43057.0</td>\n",
              "      <td>Source Verified</td>\n",
              "      <td>Jan-2015</td>\n",
              "      <td>Fully Paid</td>\n",
              "      <td>credit_card</td>\n",
              "      <td>Credit card refinancing</td>\n",
              "      <td>12.79</td>\n",
              "      <td>Aug-2007</td>\n",
              "      <td>13.0</td>\n",
              "      <td>0.0</td>\n",
              "      <td>11987.0</td>\n",
              "      <td>92.2</td>\n",
              "      <td>26.0</td>\n",
              "      <td>f</td>\n",
              "      <td>INDIVIDUAL</td>\n",
              "      <td>0.0</td>\n",
              "      <td>0.0</td>\n",
              "      <td>87025 Mark Dale Apt. 269\\r\\nNew Sabrina, WV 05113</td>\n",
              "    </tr>\n",
              "    <tr>\n",
              "      <th>3</th>\n",
              "      <td>7200.0</td>\n",
              "      <td>36 months</td>\n",
              "      <td>6.49</td>\n",
              "      <td>220.65</td>\n",
              "      <td>A</td>\n",
              "      <td>A2</td>\n",
              "      <td>Client Advocate</td>\n",
              "      <td>6 years</td>\n",
              "      <td>RENT</td>\n",
              "      <td>54000.0</td>\n",
              "      <td>Not Verified</td>\n",
              "      <td>Nov-2014</td>\n",
              "      <td>Fully Paid</td>\n",
              "      <td>credit_card</td>\n",
              "      <td>Credit card refinancing</td>\n",
              "      <td>2.60</td>\n",
              "      <td>Sep-2006</td>\n",
              "      <td>6.0</td>\n",
              "      <td>0.0</td>\n",
              "      <td>5472.0</td>\n",
              "      <td>21.5</td>\n",
              "      <td>13.0</td>\n",
              "      <td>f</td>\n",
              "      <td>INDIVIDUAL</td>\n",
              "      <td>0.0</td>\n",
              "      <td>0.0</td>\n",
              "      <td>823 Reid Ford\\r\\nDelacruzside, MA 00813</td>\n",
              "    </tr>\n",
              "    <tr>\n",
              "      <th>4</th>\n",
              "      <td>24375.0</td>\n",
              "      <td>60 months</td>\n",
              "      <td>17.27</td>\n",
              "      <td>609.33</td>\n",
              "      <td>C</td>\n",
              "      <td>C5</td>\n",
              "      <td>Destiny Management Inc.</td>\n",
              "      <td>9 years</td>\n",
              "      <td>MORTGAGE</td>\n",
              "      <td>55000.0</td>\n",
              "      <td>Verified</td>\n",
              "      <td>Apr-2013</td>\n",
              "      <td>Charged Off</td>\n",
              "      <td>credit_card</td>\n",
              "      <td>Credit Card Refinance</td>\n",
              "      <td>33.95</td>\n",
              "      <td>Mar-1999</td>\n",
              "      <td>13.0</td>\n",
              "      <td>0.0</td>\n",
              "      <td>24584.0</td>\n",
              "      <td>69.8</td>\n",
              "      <td>43.0</td>\n",
              "      <td>f</td>\n",
              "      <td>INDIVIDUAL</td>\n",
              "      <td>1.0</td>\n",
              "      <td>0.0</td>\n",
              "      <td>679 Luna Roads\\r\\nGreggshire, VA 11650</td>\n",
              "    </tr>\n",
              "  </tbody>\n",
              "</table>\n",
              "</div>"
            ],
            "text/plain": [
              "   loan_amnt        term  int_rate  installment grade sub_grade  \\\n",
              "0    10000.0   36 months     11.44       329.48     B        B4   \n",
              "1     8000.0   36 months     11.99       265.68     B        B5   \n",
              "2    15600.0   36 months     10.49       506.97     B        B3   \n",
              "3     7200.0   36 months      6.49       220.65     A        A2   \n",
              "4    24375.0   60 months     17.27       609.33     C        C5   \n",
              "\n",
              "                 emp_title emp_length home_ownership  annual_inc  \\\n",
              "0                Marketing  10+ years           RENT    117000.0   \n",
              "1          Credit analyst     4 years       MORTGAGE     65000.0   \n",
              "2             Statistician   < 1 year           RENT     43057.0   \n",
              "3          Client Advocate    6 years           RENT     54000.0   \n",
              "4  Destiny Management Inc.    9 years       MORTGAGE     55000.0   \n",
              "\n",
              "  verification_status   issue_d  loan_status             purpose  \\\n",
              "0        Not Verified  Jan-2015   Fully Paid            vacation   \n",
              "1        Not Verified  Jan-2015   Fully Paid  debt_consolidation   \n",
              "2     Source Verified  Jan-2015   Fully Paid         credit_card   \n",
              "3        Not Verified  Nov-2014   Fully Paid         credit_card   \n",
              "4            Verified  Apr-2013  Charged Off         credit_card   \n",
              "\n",
              "                     title    dti earliest_cr_line  open_acc  pub_rec  \\\n",
              "0                 Vacation  26.24         Jun-1990      16.0      0.0   \n",
              "1       Debt consolidation  22.05         Jul-2004      17.0      0.0   \n",
              "2  Credit card refinancing  12.79         Aug-2007      13.0      0.0   \n",
              "3  Credit card refinancing   2.60         Sep-2006       6.0      0.0   \n",
              "4    Credit Card Refinance  33.95         Mar-1999      13.0      0.0   \n",
              "\n",
              "   revol_bal  revol_util  total_acc initial_list_status application_type  \\\n",
              "0    36369.0        41.8       25.0                   w       INDIVIDUAL   \n",
              "1    20131.0        53.3       27.0                   f       INDIVIDUAL   \n",
              "2    11987.0        92.2       26.0                   f       INDIVIDUAL   \n",
              "3     5472.0        21.5       13.0                   f       INDIVIDUAL   \n",
              "4    24584.0        69.8       43.0                   f       INDIVIDUAL   \n",
              "\n",
              "   mort_acc  pub_rec_bankruptcies  \\\n",
              "0       0.0                   0.0   \n",
              "1       3.0                   0.0   \n",
              "2       0.0                   0.0   \n",
              "3       0.0                   0.0   \n",
              "4       1.0                   0.0   \n",
              "\n",
              "                                             address  \n",
              "0     0174 Michelle Gateway\\r\\nMendozaberg, OK 22690  \n",
              "1  1076 Carney Fort Apt. 347\\r\\nLoganmouth, SD 05113  \n",
              "2  87025 Mark Dale Apt. 269\\r\\nNew Sabrina, WV 05113  \n",
              "3            823 Reid Ford\\r\\nDelacruzside, MA 00813  \n",
              "4             679 Luna Roads\\r\\nGreggshire, VA 11650  "
            ]
          },
          "execution_count": 5,
          "metadata": {},
          "output_type": "execute_result"
        }
      ],
      "source": [
        "\n",
        "\n",
        "df = pd.read_csv('lending_club_loan_two.csv')\n",
        "df.head()"
      ]
    },
    {
      "cell_type": "code",
      "execution_count": null,
      "metadata": {
        "id": "PUY_LfmAI-I4"
      },
      "outputs": [],
      "source": []
    },
    {
      "cell_type": "code",
      "execution_count": 6,
      "metadata": {
        "colab": {
          "base_uri": "https://localhost:8080/"
        },
        "id": "MiGuuN-4JwMZ",
        "outputId": "3e0fa98e-1267-4aaa-a7b1-5d0a2c996cf6"
      },
      "outputs": [
        {
          "data": {
            "text/plain": [
              "(396030, 27)"
            ]
          },
          "execution_count": 6,
          "metadata": {},
          "output_type": "execute_result"
        }
      ],
      "source": [
        "# shape\n",
        "\n",
        "df.shape"
      ]
    },
    {
      "cell_type": "code",
      "execution_count": 7,
      "metadata": {
        "colab": {
          "base_uri": "https://localhost:8080/"
        },
        "id": "En4CqIIQJ0ol",
        "outputId": "e6c6a591-0064-40a7-ad22-0dd3ee264965"
      },
      "outputs": [
        {
          "name": "stdout",
          "output_type": "stream",
          "text": [
            "<class 'pandas.core.frame.DataFrame'>\n",
            "RangeIndex: 396030 entries, 0 to 396029\n",
            "Data columns (total 27 columns):\n",
            " #   Column                Non-Null Count   Dtype  \n",
            "---  ------                --------------   -----  \n",
            " 0   loan_amnt             396030 non-null  float64\n",
            " 1   term                  396030 non-null  object \n",
            " 2   int_rate              396030 non-null  float64\n",
            " 3   installment           396030 non-null  float64\n",
            " 4   grade                 396030 non-null  object \n",
            " 5   sub_grade             396030 non-null  object \n",
            " 6   emp_title             373103 non-null  object \n",
            " 7   emp_length            377729 non-null  object \n",
            " 8   home_ownership        396030 non-null  object \n",
            " 9   annual_inc            396030 non-null  float64\n",
            " 10  verification_status   396030 non-null  object \n",
            " 11  issue_d               396030 non-null  object \n",
            " 12  loan_status           396030 non-null  object \n",
            " 13  purpose               396030 non-null  object \n",
            " 14  title                 394275 non-null  object \n",
            " 15  dti                   396030 non-null  float64\n",
            " 16  earliest_cr_line      396030 non-null  object \n",
            " 17  open_acc              396030 non-null  float64\n",
            " 18  pub_rec               396030 non-null  float64\n",
            " 19  revol_bal             396030 non-null  float64\n",
            " 20  revol_util            395754 non-null  float64\n",
            " 21  total_acc             396030 non-null  float64\n",
            " 22  initial_list_status   396030 non-null  object \n",
            " 23  application_type      396030 non-null  object \n",
            " 24  mort_acc              358235 non-null  float64\n",
            " 25  pub_rec_bankruptcies  395495 non-null  float64\n",
            " 26  address               396030 non-null  object \n",
            "dtypes: float64(12), object(15)\n",
            "memory usage: 81.6+ MB\n"
          ]
        }
      ],
      "source": [
        "# info\n",
        "\n",
        "df.info()"
      ]
    },
    {
      "cell_type": "code",
      "execution_count": 8,
      "metadata": {
        "colab": {
          "base_uri": "https://localhost:8080/",
          "height": 364
        },
        "id": "JFJdO053J15Z",
        "outputId": "16abd708-70af-4b56-9f59-4bd11346f46f"
      },
      "outputs": [
        {
          "data": {
            "text/html": [
              "<div>\n",
              "<style scoped>\n",
              "    .dataframe tbody tr th:only-of-type {\n",
              "        vertical-align: middle;\n",
              "    }\n",
              "\n",
              "    .dataframe tbody tr th {\n",
              "        vertical-align: top;\n",
              "    }\n",
              "\n",
              "    .dataframe thead th {\n",
              "        text-align: right;\n",
              "    }\n",
              "</style>\n",
              "<table border=\"1\" class=\"dataframe\">\n",
              "  <thead>\n",
              "    <tr style=\"text-align: right;\">\n",
              "      <th></th>\n",
              "      <th>loan_amnt</th>\n",
              "      <th>int_rate</th>\n",
              "      <th>installment</th>\n",
              "      <th>annual_inc</th>\n",
              "      <th>dti</th>\n",
              "      <th>open_acc</th>\n",
              "      <th>pub_rec</th>\n",
              "      <th>revol_bal</th>\n",
              "      <th>revol_util</th>\n",
              "      <th>total_acc</th>\n",
              "      <th>mort_acc</th>\n",
              "      <th>pub_rec_bankruptcies</th>\n",
              "    </tr>\n",
              "  </thead>\n",
              "  <tbody>\n",
              "    <tr>\n",
              "      <th>count</th>\n",
              "      <td>396030.000000</td>\n",
              "      <td>396030.000000</td>\n",
              "      <td>396030.000000</td>\n",
              "      <td>3.960300e+05</td>\n",
              "      <td>396030.000000</td>\n",
              "      <td>396030.000000</td>\n",
              "      <td>396030.000000</td>\n",
              "      <td>3.960300e+05</td>\n",
              "      <td>395754.000000</td>\n",
              "      <td>396030.000000</td>\n",
              "      <td>358235.000000</td>\n",
              "      <td>395495.000000</td>\n",
              "    </tr>\n",
              "    <tr>\n",
              "      <th>mean</th>\n",
              "      <td>14113.888089</td>\n",
              "      <td>13.639400</td>\n",
              "      <td>431.849698</td>\n",
              "      <td>7.420318e+04</td>\n",
              "      <td>17.379514</td>\n",
              "      <td>11.311153</td>\n",
              "      <td>0.178191</td>\n",
              "      <td>1.584454e+04</td>\n",
              "      <td>53.791749</td>\n",
              "      <td>25.414744</td>\n",
              "      <td>1.813991</td>\n",
              "      <td>0.121648</td>\n",
              "    </tr>\n",
              "    <tr>\n",
              "      <th>std</th>\n",
              "      <td>8357.441341</td>\n",
              "      <td>4.472157</td>\n",
              "      <td>250.727790</td>\n",
              "      <td>6.163762e+04</td>\n",
              "      <td>18.019092</td>\n",
              "      <td>5.137649</td>\n",
              "      <td>0.530671</td>\n",
              "      <td>2.059184e+04</td>\n",
              "      <td>24.452193</td>\n",
              "      <td>11.886991</td>\n",
              "      <td>2.147930</td>\n",
              "      <td>0.356174</td>\n",
              "    </tr>\n",
              "    <tr>\n",
              "      <th>min</th>\n",
              "      <td>500.000000</td>\n",
              "      <td>5.320000</td>\n",
              "      <td>16.080000</td>\n",
              "      <td>0.000000e+00</td>\n",
              "      <td>0.000000</td>\n",
              "      <td>0.000000</td>\n",
              "      <td>0.000000</td>\n",
              "      <td>0.000000e+00</td>\n",
              "      <td>0.000000</td>\n",
              "      <td>2.000000</td>\n",
              "      <td>0.000000</td>\n",
              "      <td>0.000000</td>\n",
              "    </tr>\n",
              "    <tr>\n",
              "      <th>25%</th>\n",
              "      <td>8000.000000</td>\n",
              "      <td>10.490000</td>\n",
              "      <td>250.330000</td>\n",
              "      <td>4.500000e+04</td>\n",
              "      <td>11.280000</td>\n",
              "      <td>8.000000</td>\n",
              "      <td>0.000000</td>\n",
              "      <td>6.025000e+03</td>\n",
              "      <td>35.800000</td>\n",
              "      <td>17.000000</td>\n",
              "      <td>0.000000</td>\n",
              "      <td>0.000000</td>\n",
              "    </tr>\n",
              "    <tr>\n",
              "      <th>50%</th>\n",
              "      <td>12000.000000</td>\n",
              "      <td>13.330000</td>\n",
              "      <td>375.430000</td>\n",
              "      <td>6.400000e+04</td>\n",
              "      <td>16.910000</td>\n",
              "      <td>10.000000</td>\n",
              "      <td>0.000000</td>\n",
              "      <td>1.118100e+04</td>\n",
              "      <td>54.800000</td>\n",
              "      <td>24.000000</td>\n",
              "      <td>1.000000</td>\n",
              "      <td>0.000000</td>\n",
              "    </tr>\n",
              "    <tr>\n",
              "      <th>75%</th>\n",
              "      <td>20000.000000</td>\n",
              "      <td>16.490000</td>\n",
              "      <td>567.300000</td>\n",
              "      <td>9.000000e+04</td>\n",
              "      <td>22.980000</td>\n",
              "      <td>14.000000</td>\n",
              "      <td>0.000000</td>\n",
              "      <td>1.962000e+04</td>\n",
              "      <td>72.900000</td>\n",
              "      <td>32.000000</td>\n",
              "      <td>3.000000</td>\n",
              "      <td>0.000000</td>\n",
              "    </tr>\n",
              "    <tr>\n",
              "      <th>max</th>\n",
              "      <td>40000.000000</td>\n",
              "      <td>30.990000</td>\n",
              "      <td>1533.810000</td>\n",
              "      <td>8.706582e+06</td>\n",
              "      <td>9999.000000</td>\n",
              "      <td>90.000000</td>\n",
              "      <td>86.000000</td>\n",
              "      <td>1.743266e+06</td>\n",
              "      <td>892.300000</td>\n",
              "      <td>151.000000</td>\n",
              "      <td>34.000000</td>\n",
              "      <td>8.000000</td>\n",
              "    </tr>\n",
              "  </tbody>\n",
              "</table>\n",
              "</div>"
            ],
            "text/plain": [
              "           loan_amnt       int_rate    installment    annual_inc  \\\n",
              "count  396030.000000  396030.000000  396030.000000  3.960300e+05   \n",
              "mean    14113.888089      13.639400     431.849698  7.420318e+04   \n",
              "std      8357.441341       4.472157     250.727790  6.163762e+04   \n",
              "min       500.000000       5.320000      16.080000  0.000000e+00   \n",
              "25%      8000.000000      10.490000     250.330000  4.500000e+04   \n",
              "50%     12000.000000      13.330000     375.430000  6.400000e+04   \n",
              "75%     20000.000000      16.490000     567.300000  9.000000e+04   \n",
              "max     40000.000000      30.990000    1533.810000  8.706582e+06   \n",
              "\n",
              "                 dti       open_acc        pub_rec     revol_bal  \\\n",
              "count  396030.000000  396030.000000  396030.000000  3.960300e+05   \n",
              "mean       17.379514      11.311153       0.178191  1.584454e+04   \n",
              "std        18.019092       5.137649       0.530671  2.059184e+04   \n",
              "min         0.000000       0.000000       0.000000  0.000000e+00   \n",
              "25%        11.280000       8.000000       0.000000  6.025000e+03   \n",
              "50%        16.910000      10.000000       0.000000  1.118100e+04   \n",
              "75%        22.980000      14.000000       0.000000  1.962000e+04   \n",
              "max      9999.000000      90.000000      86.000000  1.743266e+06   \n",
              "\n",
              "          revol_util      total_acc       mort_acc  pub_rec_bankruptcies  \n",
              "count  395754.000000  396030.000000  358235.000000         395495.000000  \n",
              "mean       53.791749      25.414744       1.813991              0.121648  \n",
              "std        24.452193      11.886991       2.147930              0.356174  \n",
              "min         0.000000       2.000000       0.000000              0.000000  \n",
              "25%        35.800000      17.000000       0.000000              0.000000  \n",
              "50%        54.800000      24.000000       1.000000              0.000000  \n",
              "75%        72.900000      32.000000       3.000000              0.000000  \n",
              "max       892.300000     151.000000      34.000000              8.000000  "
            ]
          },
          "execution_count": 8,
          "metadata": {},
          "output_type": "execute_result"
        }
      ],
      "source": [
        "# describe\n",
        "\n",
        "df.describe()"
      ]
    },
    {
      "cell_type": "code",
      "execution_count": 9,
      "metadata": {
        "colab": {
          "base_uri": "https://localhost:8080/"
        },
        "id": "PaUzW5KFJ355",
        "outputId": "bf33de91-05c5-4add-97cc-328672705b03"
      },
      "outputs": [
        {
          "data": {
            "text/plain": [
              "loan_amnt               float64\n",
              "term                     object\n",
              "int_rate                float64\n",
              "installment             float64\n",
              "grade                    object\n",
              "sub_grade                object\n",
              "emp_title                object\n",
              "emp_length               object\n",
              "home_ownership           object\n",
              "annual_inc              float64\n",
              "verification_status      object\n",
              "issue_d                  object\n",
              "loan_status              object\n",
              "purpose                  object\n",
              "title                    object\n",
              "dti                     float64\n",
              "earliest_cr_line         object\n",
              "open_acc                float64\n",
              "pub_rec                 float64\n",
              "revol_bal               float64\n",
              "revol_util              float64\n",
              "total_acc               float64\n",
              "initial_list_status      object\n",
              "application_type         object\n",
              "mort_acc                float64\n",
              "pub_rec_bankruptcies    float64\n",
              "address                  object\n",
              "dtype: object"
            ]
          },
          "execution_count": 9,
          "metadata": {},
          "output_type": "execute_result"
        }
      ],
      "source": [
        "# dtypes\n",
        "\n",
        "df.dtypes"
      ]
    },
    {
      "cell_type": "code",
      "execution_count": 10,
      "metadata": {
        "colab": {
          "base_uri": "https://localhost:8080/",
          "height": 206
        },
        "id": "ddo79W66J6fp",
        "outputId": "5b84abfd-b5a8-48db-ed1e-662037ad0b05"
      },
      "outputs": [
        {
          "data": {
            "text/html": [
              "<div>\n",
              "<style scoped>\n",
              "    .dataframe tbody tr th:only-of-type {\n",
              "        vertical-align: middle;\n",
              "    }\n",
              "\n",
              "    .dataframe tbody tr th {\n",
              "        vertical-align: top;\n",
              "    }\n",
              "\n",
              "    .dataframe thead th {\n",
              "        text-align: right;\n",
              "    }\n",
              "</style>\n",
              "<table border=\"1\" class=\"dataframe\">\n",
              "  <thead>\n",
              "    <tr style=\"text-align: right;\">\n",
              "      <th></th>\n",
              "      <th>Total</th>\n",
              "      <th>Percent</th>\n",
              "    </tr>\n",
              "  </thead>\n",
              "  <tbody>\n",
              "    <tr>\n",
              "      <th>mort_acc</th>\n",
              "      <td>37795</td>\n",
              "      <td>9.543469</td>\n",
              "    </tr>\n",
              "    <tr>\n",
              "      <th>emp_title</th>\n",
              "      <td>22927</td>\n",
              "      <td>5.789208</td>\n",
              "    </tr>\n",
              "    <tr>\n",
              "      <th>emp_length</th>\n",
              "      <td>18301</td>\n",
              "      <td>4.621115</td>\n",
              "    </tr>\n",
              "    <tr>\n",
              "      <th>title</th>\n",
              "      <td>1755</td>\n",
              "      <td>0.443148</td>\n",
              "    </tr>\n",
              "    <tr>\n",
              "      <th>pub_rec_bankruptcies</th>\n",
              "      <td>535</td>\n",
              "      <td>0.135091</td>\n",
              "    </tr>\n",
              "  </tbody>\n",
              "</table>\n",
              "</div>"
            ],
            "text/plain": [
              "                      Total   Percent\n",
              "mort_acc              37795  9.543469\n",
              "emp_title             22927  5.789208\n",
              "emp_length            18301  4.621115\n",
              "title                  1755  0.443148\n",
              "pub_rec_bankruptcies    535  0.135091"
            ]
          },
          "execution_count": 10,
          "metadata": {},
          "output_type": "execute_result"
        }
      ],
      "source": [
        "# null values\n",
        "\n",
        "# Missing values\n",
        "total = df.isnull().sum().sort_values(ascending=False)\n",
        "percent = ((df.isnull().sum()/df.isnull().count())*100).sort_values(ascending=False)\n",
        "missing_data = pd.concat([total, percent], axis=1, keys=['Total', 'Percent'])\n",
        "missing_data.head()\n",
        "\n",
        "\n"
      ]
    },
    {
      "cell_type": "code",
      "execution_count": 11,
      "metadata": {
        "colab": {
          "base_uri": "https://localhost:8080/",
          "height": 206
        },
        "id": "vv67TucJKA0J",
        "outputId": "8ba44a7e-97b7-477b-d8ac-f2b955bbd525"
      },
      "outputs": [
        {
          "data": {
            "text/html": [
              "<div>\n",
              "<style scoped>\n",
              "    .dataframe tbody tr th:only-of-type {\n",
              "        vertical-align: middle;\n",
              "    }\n",
              "\n",
              "    .dataframe tbody tr th {\n",
              "        vertical-align: top;\n",
              "    }\n",
              "\n",
              "    .dataframe thead th {\n",
              "        text-align: right;\n",
              "    }\n",
              "</style>\n",
              "<table border=\"1\" class=\"dataframe\">\n",
              "  <thead>\n",
              "    <tr style=\"text-align: right;\">\n",
              "      <th></th>\n",
              "      <th>loan_amnt</th>\n",
              "      <th>int_rate</th>\n",
              "      <th>installment</th>\n",
              "      <th>annual_inc</th>\n",
              "      <th>dti</th>\n",
              "      <th>open_acc</th>\n",
              "      <th>pub_rec</th>\n",
              "      <th>revol_bal</th>\n",
              "      <th>revol_util</th>\n",
              "      <th>total_acc</th>\n",
              "      <th>mort_acc</th>\n",
              "      <th>pub_rec_bankruptcies</th>\n",
              "    </tr>\n",
              "  </thead>\n",
              "  <tbody>\n",
              "    <tr>\n",
              "      <th>0</th>\n",
              "      <td>10000.0</td>\n",
              "      <td>11.44</td>\n",
              "      <td>329.48</td>\n",
              "      <td>117000.0</td>\n",
              "      <td>26.24</td>\n",
              "      <td>16.0</td>\n",
              "      <td>0.0</td>\n",
              "      <td>36369.0</td>\n",
              "      <td>41.8</td>\n",
              "      <td>25.0</td>\n",
              "      <td>0.0</td>\n",
              "      <td>0.0</td>\n",
              "    </tr>\n",
              "    <tr>\n",
              "      <th>1</th>\n",
              "      <td>8000.0</td>\n",
              "      <td>11.99</td>\n",
              "      <td>265.68</td>\n",
              "      <td>65000.0</td>\n",
              "      <td>22.05</td>\n",
              "      <td>17.0</td>\n",
              "      <td>0.0</td>\n",
              "      <td>20131.0</td>\n",
              "      <td>53.3</td>\n",
              "      <td>27.0</td>\n",
              "      <td>3.0</td>\n",
              "      <td>0.0</td>\n",
              "    </tr>\n",
              "    <tr>\n",
              "      <th>2</th>\n",
              "      <td>15600.0</td>\n",
              "      <td>10.49</td>\n",
              "      <td>506.97</td>\n",
              "      <td>43057.0</td>\n",
              "      <td>12.79</td>\n",
              "      <td>13.0</td>\n",
              "      <td>0.0</td>\n",
              "      <td>11987.0</td>\n",
              "      <td>92.2</td>\n",
              "      <td>26.0</td>\n",
              "      <td>0.0</td>\n",
              "      <td>0.0</td>\n",
              "    </tr>\n",
              "    <tr>\n",
              "      <th>3</th>\n",
              "      <td>7200.0</td>\n",
              "      <td>6.49</td>\n",
              "      <td>220.65</td>\n",
              "      <td>54000.0</td>\n",
              "      <td>2.60</td>\n",
              "      <td>6.0</td>\n",
              "      <td>0.0</td>\n",
              "      <td>5472.0</td>\n",
              "      <td>21.5</td>\n",
              "      <td>13.0</td>\n",
              "      <td>0.0</td>\n",
              "      <td>0.0</td>\n",
              "    </tr>\n",
              "    <tr>\n",
              "      <th>4</th>\n",
              "      <td>24375.0</td>\n",
              "      <td>17.27</td>\n",
              "      <td>609.33</td>\n",
              "      <td>55000.0</td>\n",
              "      <td>33.95</td>\n",
              "      <td>13.0</td>\n",
              "      <td>0.0</td>\n",
              "      <td>24584.0</td>\n",
              "      <td>69.8</td>\n",
              "      <td>43.0</td>\n",
              "      <td>1.0</td>\n",
              "      <td>0.0</td>\n",
              "    </tr>\n",
              "  </tbody>\n",
              "</table>\n",
              "</div>"
            ],
            "text/plain": [
              "   loan_amnt  int_rate  installment  annual_inc    dti  open_acc  pub_rec  \\\n",
              "0    10000.0     11.44       329.48    117000.0  26.24      16.0      0.0   \n",
              "1     8000.0     11.99       265.68     65000.0  22.05      17.0      0.0   \n",
              "2    15600.0     10.49       506.97     43057.0  12.79      13.0      0.0   \n",
              "3     7200.0      6.49       220.65     54000.0   2.60       6.0      0.0   \n",
              "4    24375.0     17.27       609.33     55000.0  33.95      13.0      0.0   \n",
              "\n",
              "   revol_bal  revol_util  total_acc  mort_acc  pub_rec_bankruptcies  \n",
              "0    36369.0        41.8       25.0       0.0                   0.0  \n",
              "1    20131.0        53.3       27.0       3.0                   0.0  \n",
              "2    11987.0        92.2       26.0       0.0                   0.0  \n",
              "3     5472.0        21.5       13.0       0.0                   0.0  \n",
              "4    24584.0        69.8       43.0       1.0                   0.0  "
            ]
          },
          "execution_count": 11,
          "metadata": {},
          "output_type": "execute_result"
        }
      ],
      "source": [
        "# Numerical Features\n",
        "\n",
        "\n",
        "#numerical columnns\n",
        "\n",
        "numerical_features = df.select_dtypes(include = np.number)\n",
        "numerical_features.head()"
      ]
    },
    {
      "cell_type": "code",
      "execution_count": 12,
      "metadata": {
        "colab": {
          "base_uri": "https://localhost:8080/"
        },
        "id": "H7DtNS2xKDOp",
        "outputId": "13e80568-c5d3-469a-fd3b-424da7d22438"
      },
      "outputs": [
        {
          "data": {
            "text/plain": [
              "12"
            ]
          },
          "execution_count": 12,
          "metadata": {},
          "output_type": "execute_result"
        }
      ],
      "source": [
        "len(numerical_features.columns)"
      ]
    },
    {
      "cell_type": "code",
      "execution_count": 13,
      "metadata": {
        "colab": {
          "base_uri": "https://localhost:8080/"
        },
        "id": "3gL_ayEaKE4I",
        "outputId": "98cd8494-d027-4510-b111-ddcb1baaccef"
      },
      "outputs": [
        {
          "name": "stdout",
          "output_type": "stream",
          "text": [
            "Feature loan_amnt has 1397 No. of unique values\n",
            "Feature term has 2 No. of unique values\n",
            "Feature int_rate has 566 No. of unique values\n",
            "Feature installment has 55706 No. of unique values\n",
            "Feature grade has 7 No. of unique values\n",
            "Feature sub_grade has 35 No. of unique values\n",
            "Feature emp_title has 173105 No. of unique values\n",
            "Feature emp_length has 11 No. of unique values\n",
            "Feature home_ownership has 6 No. of unique values\n",
            "Feature annual_inc has 27197 No. of unique values\n",
            "Feature verification_status has 3 No. of unique values\n",
            "Feature issue_d has 115 No. of unique values\n",
            "Feature loan_status has 2 No. of unique values\n",
            "Feature purpose has 14 No. of unique values\n",
            "Feature title has 48817 No. of unique values\n",
            "Feature dti has 4262 No. of unique values\n",
            "Feature earliest_cr_line has 684 No. of unique values\n",
            "Feature open_acc has 61 No. of unique values\n",
            "Feature pub_rec has 20 No. of unique values\n",
            "Feature revol_bal has 55622 No. of unique values\n",
            "Feature revol_util has 1226 No. of unique values\n",
            "Feature total_acc has 118 No. of unique values\n",
            "Feature initial_list_status has 2 No. of unique values\n",
            "Feature application_type has 3 No. of unique values\n",
            "Feature mort_acc has 33 No. of unique values\n",
            "Feature pub_rec_bankruptcies has 9 No. of unique values\n",
            "Feature address has 393700 No. of unique values\n"
          ]
        }
      ],
      "source": [
        "### Count of unique values in numerical features\n",
        "for feature in [feature for feature in df.columns if feature not in ['class']]:\n",
        "  print(\"Feature {} has {} No. of unique values\".format(feature,df[feature].nunique()))"
      ]
    },
    {
      "cell_type": "code",
      "execution_count": null,
      "metadata": {
        "id": "c9Z0tEwvOkax"
      },
      "outputs": [],
      "source": []
    },
    {
      "cell_type": "code",
      "execution_count": 14,
      "metadata": {
        "colab": {
          "base_uri": "https://localhost:8080/",
          "height": 444
        },
        "id": "f5L9aeuGKHP5",
        "outputId": "b9b15095-f362-4e10-c94e-b61cf54a3e8b"
      },
      "outputs": [
        {
          "data": {
            "text/html": [
              "<div>\n",
              "<style scoped>\n",
              "    .dataframe tbody tr th:only-of-type {\n",
              "        vertical-align: middle;\n",
              "    }\n",
              "\n",
              "    .dataframe tbody tr th {\n",
              "        vertical-align: top;\n",
              "    }\n",
              "\n",
              "    .dataframe thead th {\n",
              "        text-align: right;\n",
              "    }\n",
              "</style>\n",
              "<table border=\"1\" class=\"dataframe\">\n",
              "  <thead>\n",
              "    <tr style=\"text-align: right;\">\n",
              "      <th></th>\n",
              "      <th>term</th>\n",
              "      <th>grade</th>\n",
              "      <th>sub_grade</th>\n",
              "      <th>emp_title</th>\n",
              "      <th>emp_length</th>\n",
              "      <th>home_ownership</th>\n",
              "      <th>verification_status</th>\n",
              "      <th>issue_d</th>\n",
              "      <th>loan_status</th>\n",
              "      <th>purpose</th>\n",
              "      <th>title</th>\n",
              "      <th>earliest_cr_line</th>\n",
              "      <th>initial_list_status</th>\n",
              "      <th>application_type</th>\n",
              "      <th>address</th>\n",
              "    </tr>\n",
              "  </thead>\n",
              "  <tbody>\n",
              "    <tr>\n",
              "      <th>0</th>\n",
              "      <td>36 months</td>\n",
              "      <td>B</td>\n",
              "      <td>B4</td>\n",
              "      <td>Marketing</td>\n",
              "      <td>10+ years</td>\n",
              "      <td>RENT</td>\n",
              "      <td>Not Verified</td>\n",
              "      <td>Jan-2015</td>\n",
              "      <td>Fully Paid</td>\n",
              "      <td>vacation</td>\n",
              "      <td>Vacation</td>\n",
              "      <td>Jun-1990</td>\n",
              "      <td>w</td>\n",
              "      <td>INDIVIDUAL</td>\n",
              "      <td>0174 Michelle Gateway\\r\\nMendozaberg, OK 22690</td>\n",
              "    </tr>\n",
              "    <tr>\n",
              "      <th>1</th>\n",
              "      <td>36 months</td>\n",
              "      <td>B</td>\n",
              "      <td>B5</td>\n",
              "      <td>Credit analyst</td>\n",
              "      <td>4 years</td>\n",
              "      <td>MORTGAGE</td>\n",
              "      <td>Not Verified</td>\n",
              "      <td>Jan-2015</td>\n",
              "      <td>Fully Paid</td>\n",
              "      <td>debt_consolidation</td>\n",
              "      <td>Debt consolidation</td>\n",
              "      <td>Jul-2004</td>\n",
              "      <td>f</td>\n",
              "      <td>INDIVIDUAL</td>\n",
              "      <td>1076 Carney Fort Apt. 347\\r\\nLoganmouth, SD 05113</td>\n",
              "    </tr>\n",
              "    <tr>\n",
              "      <th>2</th>\n",
              "      <td>36 months</td>\n",
              "      <td>B</td>\n",
              "      <td>B3</td>\n",
              "      <td>Statistician</td>\n",
              "      <td>&lt; 1 year</td>\n",
              "      <td>RENT</td>\n",
              "      <td>Source Verified</td>\n",
              "      <td>Jan-2015</td>\n",
              "      <td>Fully Paid</td>\n",
              "      <td>credit_card</td>\n",
              "      <td>Credit card refinancing</td>\n",
              "      <td>Aug-2007</td>\n",
              "      <td>f</td>\n",
              "      <td>INDIVIDUAL</td>\n",
              "      <td>87025 Mark Dale Apt. 269\\r\\nNew Sabrina, WV 05113</td>\n",
              "    </tr>\n",
              "    <tr>\n",
              "      <th>3</th>\n",
              "      <td>36 months</td>\n",
              "      <td>A</td>\n",
              "      <td>A2</td>\n",
              "      <td>Client Advocate</td>\n",
              "      <td>6 years</td>\n",
              "      <td>RENT</td>\n",
              "      <td>Not Verified</td>\n",
              "      <td>Nov-2014</td>\n",
              "      <td>Fully Paid</td>\n",
              "      <td>credit_card</td>\n",
              "      <td>Credit card refinancing</td>\n",
              "      <td>Sep-2006</td>\n",
              "      <td>f</td>\n",
              "      <td>INDIVIDUAL</td>\n",
              "      <td>823 Reid Ford\\r\\nDelacruzside, MA 00813</td>\n",
              "    </tr>\n",
              "    <tr>\n",
              "      <th>4</th>\n",
              "      <td>60 months</td>\n",
              "      <td>C</td>\n",
              "      <td>C5</td>\n",
              "      <td>Destiny Management Inc.</td>\n",
              "      <td>9 years</td>\n",
              "      <td>MORTGAGE</td>\n",
              "      <td>Verified</td>\n",
              "      <td>Apr-2013</td>\n",
              "      <td>Charged Off</td>\n",
              "      <td>credit_card</td>\n",
              "      <td>Credit Card Refinance</td>\n",
              "      <td>Mar-1999</td>\n",
              "      <td>f</td>\n",
              "      <td>INDIVIDUAL</td>\n",
              "      <td>679 Luna Roads\\r\\nGreggshire, VA 11650</td>\n",
              "    </tr>\n",
              "  </tbody>\n",
              "</table>\n",
              "</div>"
            ],
            "text/plain": [
              "         term grade sub_grade                emp_title emp_length  \\\n",
              "0   36 months     B        B4                Marketing  10+ years   \n",
              "1   36 months     B        B5          Credit analyst     4 years   \n",
              "2   36 months     B        B3             Statistician   < 1 year   \n",
              "3   36 months     A        A2          Client Advocate    6 years   \n",
              "4   60 months     C        C5  Destiny Management Inc.    9 years   \n",
              "\n",
              "  home_ownership verification_status   issue_d  loan_status  \\\n",
              "0           RENT        Not Verified  Jan-2015   Fully Paid   \n",
              "1       MORTGAGE        Not Verified  Jan-2015   Fully Paid   \n",
              "2           RENT     Source Verified  Jan-2015   Fully Paid   \n",
              "3           RENT        Not Verified  Nov-2014   Fully Paid   \n",
              "4       MORTGAGE            Verified  Apr-2013  Charged Off   \n",
              "\n",
              "              purpose                    title earliest_cr_line  \\\n",
              "0            vacation                 Vacation         Jun-1990   \n",
              "1  debt_consolidation       Debt consolidation         Jul-2004   \n",
              "2         credit_card  Credit card refinancing         Aug-2007   \n",
              "3         credit_card  Credit card refinancing         Sep-2006   \n",
              "4         credit_card    Credit Card Refinance         Mar-1999   \n",
              "\n",
              "  initial_list_status application_type  \\\n",
              "0                   w       INDIVIDUAL   \n",
              "1                   f       INDIVIDUAL   \n",
              "2                   f       INDIVIDUAL   \n",
              "3                   f       INDIVIDUAL   \n",
              "4                   f       INDIVIDUAL   \n",
              "\n",
              "                                             address  \n",
              "0     0174 Michelle Gateway\\r\\nMendozaberg, OK 22690  \n",
              "1  1076 Carney Fort Apt. 347\\r\\nLoganmouth, SD 05113  \n",
              "2  87025 Mark Dale Apt. 269\\r\\nNew Sabrina, WV 05113  \n",
              "3            823 Reid Ford\\r\\nDelacruzside, MA 00813  \n",
              "4             679 Luna Roads\\r\\nGreggshire, VA 11650  "
            ]
          },
          "execution_count": 14,
          "metadata": {},
          "output_type": "execute_result"
        }
      ],
      "source": [
        "# caterigorical columns\n",
        "\n",
        "categorical_features = df.select_dtypes(exclude =np.number)\n",
        "categorical_features.head()"
      ]
    },
    {
      "cell_type": "code",
      "execution_count": 15,
      "metadata": {
        "colab": {
          "base_uri": "https://localhost:8080/"
        },
        "id": "WnbLIX1RKJa4",
        "outputId": "6e472f61-b5f3-4b6f-923c-ada248c611a2"
      },
      "outputs": [
        {
          "data": {
            "text/plain": [
              "15"
            ]
          },
          "execution_count": 15,
          "metadata": {},
          "output_type": "execute_result"
        }
      ],
      "source": [
        "len(categorical_features.columns)"
      ]
    },
    {
      "cell_type": "code",
      "execution_count": 16,
      "metadata": {
        "colab": {
          "base_uri": "https://localhost:8080/",
          "height": 998
        },
        "id": "TAETp-PnKNkI",
        "outputId": "c7546a6e-648a-49dc-c441-4cf49ee8386e"
      },
      "outputs": [
        {
          "data": {
            "text/plain": [
              "<AxesSubplot:>"
            ]
          },
          "execution_count": 16,
          "metadata": {},
          "output_type": "execute_result"
        },
        {
          "data": {
            "image/png": "[encoded data removed]",
            "text/plain": [
              "<Figure size 2000x1500 with 2 Axes>"
            ]
          },
          "metadata": {},
          "output_type": "display_data"
        }
      ],
      "source": [
        "# correlation\n",
        "\n",
        "\n",
        "# correlation\n",
        "\n",
        "\n",
        "### Plotting heatmap for visualising the correlation between features\n",
        "sns.set(rc={'figure.figsize':(20,15)})\n",
        "sns.heatmap(df.corr(), annot=True,  vmin=-1, vmax=1, cmap=\"YlGnBu\")"
      ]
    },
    {
      "cell_type": "code",
      "execution_count": null,
      "metadata": {
        "id": "84kOYJlLLPO4"
      },
      "outputs": [],
      "source": []
    },
    {
      "cell_type": "code",
      "execution_count": 17,
      "metadata": {
        "colab": {
          "base_uri": "https://localhost:8080/",
          "height": 464
        },
        "id": "D3KYqSbSKmUn",
        "outputId": "e1662794-2a0d-402e-a854-a0d7208dcf6d"
      },
      "outputs": [
        {
          "data": {
            "image/png": "[encoded data removed]",
            "text/plain": [
              "<Figure size 1500x1000 with 12 Axes>"
            ]
          },
          "metadata": {},
          "output_type": "display_data"
        }
      ],
      "source": [
        "# distribution of numerical variables\n",
        "\n",
        "\n",
        "plt.figure(figsize=(15,10))\n",
        "for i in enumerate(numerical_features):\n",
        "    plt.subplot(5, 4, i[0]+1)\n",
        "    sns.set(rc={'figure.figsize':(10,6)})\n",
        "    sns.histplot(data=df, x=i[1], palette ='rainbow')\n",
        "    plt.title(\"{}\".format(i[1]), fontweight=\"bold\")\n",
        "    plt.tight_layout()\n",
        "    plt.show"
      ]
    },
    {
      "cell_type": "code",
      "execution_count": 18,
      "metadata": {
        "colab": {
          "base_uri": "https://localhost:8080/",
          "height": 667
        },
        "id": "ONFojq-8KtqX",
        "outputId": "24c2fc22-3a64-40ed-d4e2-231ce27a62ad"
      },
      "outputs": [
        {
          "data": {
            "image/png": "[encoded data removed]",
            "text/plain": [
              "<Figure size 2000x3000 with 12 Axes>"
            ]
          },
          "metadata": {},
          "output_type": "display_data"
        }
      ],
      "source": [
        "# #outliers\n",
        "\n",
        "### Checking outliers in numerical features\n",
        "\n",
        "plt.figure(figsize=(20,30))\n",
        "for feature in enumerate(numerical_features):\n",
        "    plt.subplot(10, 5, feature[0]+1)\n",
        "    sns.set(rc={'figure.figsize':(10,6)})\n",
        "    sns.boxplot(data=df, x=feature[1], palette = 'rainbow')\n",
        "    plt.title(\"{}\".format(feature[1]), fontweight=\"bold\", fontsize=15)\n",
        "    plt.tight_layout()"
      ]
    },
    {
      "cell_type": "code",
      "execution_count": 19,
      "metadata": {
        "colab": {
          "base_uri": "https://localhost:8080/",
          "height": 636
        },
        "id": "D84IxFSGK4HH",
        "outputId": "1b4bba72-60f8-4519-fea9-7daa4172325c"
      },
      "outputs": [
        {
          "name": "stderr",
          "output_type": "stream",
          "text": [
            "c:\\Users\\91822\\anaconda3\\lib\\site-packages\\seaborn\\_decorators.py:43: FutureWarning: Pass the following variable as a keyword arg: x. From version 0.12, the only valid positional argument will be `data`, and passing other arguments without an explicit keyword will result in an error or misinterpretation.\n",
            "  FutureWarning\n"
          ]
        },
        {
          "data": {
            "image/png": "[encoded data removed]",
            "text/plain": [
              "<Figure size 1000x800 with 1 Axes>"
            ]
          },
          "metadata": {},
          "output_type": "display_data"
        }
      ],
      "source": [
        "# target columns distribution\n",
        "\n",
        "plt.figure(figsize=(10,8))\n",
        "sns.countplot(df['loan_status'],palette = 'rainbow')\n",
        "plt.title('distribution of target variable')\n",
        "plt.tight_layout()\n",
        "plt.show()"
      ]
    },
    {
      "cell_type": "code",
      "execution_count": 20,
      "metadata": {
        "id": "fJabu4L6LjVn"
      },
      "outputs": [],
      "source": [
        "# removing correlated variables\n",
        "# correlation features\n",
        "\n",
        "\n",
        "\n",
        "def correlation(dataset, threshold):\n",
        "    col_corr = set()  # Set of all the names of correlated columns\n",
        "    corr_matrix = dataset.corr()\n",
        "    for i in range(len(corr_matrix.columns)):\n",
        "        for j in range(i):\n",
        "            if abs(corr_matrix.iloc[i, j]) > threshold: # we are interested in absolute coeff value\n",
        "                colname = corr_matrix.columns[i]  # getting the name of column\n",
        "                col_corr.add(colname)\n",
        "    return col_corr\n"
      ]
    },
    {
      "cell_type": "code",
      "execution_count": 21,
      "metadata": {
        "colab": {
          "base_uri": "https://localhost:8080/"
        },
        "id": "C_6JaSOoNaTm",
        "outputId": "17a5f45b-e8d8-4866-8b53-d3dc0c74a2ec"
      },
      "outputs": [
        {
          "data": {
            "text/plain": [
              "1"
            ]
          },
          "execution_count": 21,
          "metadata": {},
          "output_type": "execute_result"
        }
      ],
      "source": [
        "corr_features = correlation(df, 0.75)\n",
        "len(set(corr_features))\n",
        "     "
      ]
    },
    {
      "cell_type": "code",
      "execution_count": 22,
      "metadata": {
        "colab": {
          "base_uri": "https://localhost:8080/"
        },
        "id": "BVwmhPGXNcC2",
        "outputId": "3d783054-d649-4170-b1f5-db22fc4ad2cd"
      },
      "outputs": [
        {
          "data": {
            "text/plain": [
              "{'installment'}"
            ]
          },
          "execution_count": 22,
          "metadata": {},
          "output_type": "execute_result"
        }
      ],
      "source": [
        "corr_features"
      ]
    },
    {
      "cell_type": "code",
      "execution_count": 23,
      "metadata": {
        "colab": {
          "base_uri": "https://localhost:8080/",
          "height": 206
        },
        "id": "0-noLW7fNeAW",
        "outputId": "8c0b106e-53bc-4ae9-d146-9ac1b27cea0c"
      },
      "outputs": [
        {
          "data": {
            "text/html": [
              "<div>\n",
              "<style scoped>\n",
              "    .dataframe tbody tr th:only-of-type {\n",
              "        vertical-align: middle;\n",
              "    }\n",
              "\n",
              "    .dataframe tbody tr th {\n",
              "        vertical-align: top;\n",
              "    }\n",
              "\n",
              "    .dataframe thead th {\n",
              "        text-align: right;\n",
              "    }\n",
              "</style>\n",
              "<table border=\"1\" class=\"dataframe\">\n",
              "  <thead>\n",
              "    <tr style=\"text-align: right;\">\n",
              "      <th></th>\n",
              "      <th>Total</th>\n",
              "      <th>Percent</th>\n",
              "    </tr>\n",
              "  </thead>\n",
              "  <tbody>\n",
              "    <tr>\n",
              "      <th>mort_acc</th>\n",
              "      <td>37795</td>\n",
              "      <td>9.543469</td>\n",
              "    </tr>\n",
              "    <tr>\n",
              "      <th>emp_title</th>\n",
              "      <td>22927</td>\n",
              "      <td>5.789208</td>\n",
              "    </tr>\n",
              "    <tr>\n",
              "      <th>emp_length</th>\n",
              "      <td>18301</td>\n",
              "      <td>4.621115</td>\n",
              "    </tr>\n",
              "    <tr>\n",
              "      <th>title</th>\n",
              "      <td>1755</td>\n",
              "      <td>0.443148</td>\n",
              "    </tr>\n",
              "    <tr>\n",
              "      <th>pub_rec_bankruptcies</th>\n",
              "      <td>535</td>\n",
              "      <td>0.135091</td>\n",
              "    </tr>\n",
              "  </tbody>\n",
              "</table>\n",
              "</div>"
            ],
            "text/plain": [
              "                      Total   Percent\n",
              "mort_acc              37795  9.543469\n",
              "emp_title             22927  5.789208\n",
              "emp_length            18301  4.621115\n",
              "title                  1755  0.443148\n",
              "pub_rec_bankruptcies    535  0.135091"
            ]
          },
          "execution_count": 23,
          "metadata": {},
          "output_type": "execute_result"
        }
      ],
      "source": [
        "# null values treatment\n",
        "\n",
        "\n",
        "total = df.isnull().sum().sort_values(ascending=False)\n",
        "percent = ((df.isnull().sum()/df.isnull().count())*100).sort_values(ascending=False)\n",
        "missing_data = pd.concat([total, percent], axis=1, keys=['Total', 'Percent'])\n",
        "missing_data.head()"
      ]
    },
    {
      "cell_type": "code",
      "execution_count": 24,
      "metadata": {
        "id": "Y-36c9STtYRR"
      },
      "outputs": [],
      "source": [
        "for i in numerical_features:\n",
        "  df[i].fillna(df[i].median(),inplace = True)"
      ]
    },
    {
      "cell_type": "code",
      "execution_count": 25,
      "metadata": {
        "id": "UjA_uc3Dt_SB"
      },
      "outputs": [],
      "source": [
        "for i in categorical_features:\n",
        "  df[i].fillna(df[i].mode()[0],inplace = True)"
      ]
    },
    {
      "cell_type": "code",
      "execution_count": 26,
      "metadata": {
        "colab": {
          "base_uri": "https://localhost:8080/",
          "height": 206
        },
        "id": "Qpzxh79DuJFz",
        "outputId": "bd313f56-2f51-49c9-ab29-735d4cb0b850"
      },
      "outputs": [
        {
          "data": {
            "text/html": [
              "<div>\n",
              "<style scoped>\n",
              "    .dataframe tbody tr th:only-of-type {\n",
              "        vertical-align: middle;\n",
              "    }\n",
              "\n",
              "    .dataframe tbody tr th {\n",
              "        vertical-align: top;\n",
              "    }\n",
              "\n",
              "    .dataframe thead th {\n",
              "        text-align: right;\n",
              "    }\n",
              "</style>\n",
              "<table border=\"1\" class=\"dataframe\">\n",
              "  <thead>\n",
              "    <tr style=\"text-align: right;\">\n",
              "      <th></th>\n",
              "      <th>Total</th>\n",
              "      <th>Percent</th>\n",
              "    </tr>\n",
              "  </thead>\n",
              "  <tbody>\n",
              "    <tr>\n",
              "      <th>loan_amnt</th>\n",
              "      <td>0</td>\n",
              "      <td>0.0</td>\n",
              "    </tr>\n",
              "    <tr>\n",
              "      <th>title</th>\n",
              "      <td>0</td>\n",
              "      <td>0.0</td>\n",
              "    </tr>\n",
              "    <tr>\n",
              "      <th>pub_rec_bankruptcies</th>\n",
              "      <td>0</td>\n",
              "      <td>0.0</td>\n",
              "    </tr>\n",
              "    <tr>\n",
              "      <th>mort_acc</th>\n",
              "      <td>0</td>\n",
              "      <td>0.0</td>\n",
              "    </tr>\n",
              "    <tr>\n",
              "      <th>application_type</th>\n",
              "      <td>0</td>\n",
              "      <td>0.0</td>\n",
              "    </tr>\n",
              "  </tbody>\n",
              "</table>\n",
              "</div>"
            ],
            "text/plain": [
              "                      Total  Percent\n",
              "loan_amnt                 0      0.0\n",
              "title                     0      0.0\n",
              "pub_rec_bankruptcies      0      0.0\n",
              "mort_acc                  0      0.0\n",
              "application_type          0      0.0"
            ]
          },
          "execution_count": 26,
          "metadata": {},
          "output_type": "execute_result"
        }
      ],
      "source": [
        "# null values treatment\n",
        "\n",
        "\n",
        "total = df.isnull().sum().sort_values(ascending=False)\n",
        "percent = ((df.isnull().sum()/df.isnull().count())*100).sort_values(ascending=False)\n",
        "missing_data = pd.concat([total, percent], axis=1, keys=['Total', 'Percent'])\n",
        "missing_data.head()"
      ]
    },
    {
      "cell_type": "code",
      "execution_count": 27,
      "metadata": {
        "colab": {
          "base_uri": "https://localhost:8080/",
          "height": 444
        },
        "id": "vXfJMv8ar9tr",
        "outputId": "aacd37d3-c8b7-4234-8cb9-1ee8e299ad9e"
      },
      "outputs": [
        {
          "data": {
            "text/html": [
              "<div>\n",
              "<style scoped>\n",
              "    .dataframe tbody tr th:only-of-type {\n",
              "        vertical-align: middle;\n",
              "    }\n",
              "\n",
              "    .dataframe tbody tr th {\n",
              "        vertical-align: top;\n",
              "    }\n",
              "\n",
              "    .dataframe thead th {\n",
              "        text-align: right;\n",
              "    }\n",
              "</style>\n",
              "<table border=\"1\" class=\"dataframe\">\n",
              "  <thead>\n",
              "    <tr style=\"text-align: right;\">\n",
              "      <th></th>\n",
              "      <th>term</th>\n",
              "      <th>grade</th>\n",
              "      <th>sub_grade</th>\n",
              "      <th>emp_title</th>\n",
              "      <th>emp_length</th>\n",
              "      <th>home_ownership</th>\n",
              "      <th>verification_status</th>\n",
              "      <th>issue_d</th>\n",
              "      <th>loan_status</th>\n",
              "      <th>purpose</th>\n",
              "      <th>title</th>\n",
              "      <th>earliest_cr_line</th>\n",
              "      <th>initial_list_status</th>\n",
              "      <th>application_type</th>\n",
              "      <th>address</th>\n",
              "    </tr>\n",
              "  </thead>\n",
              "  <tbody>\n",
              "    <tr>\n",
              "      <th>0</th>\n",
              "      <td>36 months</td>\n",
              "      <td>B</td>\n",
              "      <td>B4</td>\n",
              "      <td>Marketing</td>\n",
              "      <td>10+ years</td>\n",
              "      <td>RENT</td>\n",
              "      <td>Not Verified</td>\n",
              "      <td>Jan-2015</td>\n",
              "      <td>Fully Paid</td>\n",
              "      <td>vacation</td>\n",
              "      <td>Vacation</td>\n",
              "      <td>Jun-1990</td>\n",
              "      <td>w</td>\n",
              "      <td>INDIVIDUAL</td>\n",
              "      <td>0174 Michelle Gateway\\r\\nMendozaberg, OK 22690</td>\n",
              "    </tr>\n",
              "    <tr>\n",
              "      <th>1</th>\n",
              "      <td>36 months</td>\n",
              "      <td>B</td>\n",
              "      <td>B5</td>\n",
              "      <td>Credit analyst</td>\n",
              "      <td>4 years</td>\n",
              "      <td>MORTGAGE</td>\n",
              "      <td>Not Verified</td>\n",
              "      <td>Jan-2015</td>\n",
              "      <td>Fully Paid</td>\n",
              "      <td>debt_consolidation</td>\n",
              "      <td>Debt consolidation</td>\n",
              "      <td>Jul-2004</td>\n",
              "      <td>f</td>\n",
              "      <td>INDIVIDUAL</td>\n",
              "      <td>1076 Carney Fort Apt. 347\\r\\nLoganmouth, SD 05113</td>\n",
              "    </tr>\n",
              "    <tr>\n",
              "      <th>2</th>\n",
              "      <td>36 months</td>\n",
              "      <td>B</td>\n",
              "      <td>B3</td>\n",
              "      <td>Statistician</td>\n",
              "      <td>&lt; 1 year</td>\n",
              "      <td>RENT</td>\n",
              "      <td>Source Verified</td>\n",
              "      <td>Jan-2015</td>\n",
              "      <td>Fully Paid</td>\n",
              "      <td>credit_card</td>\n",
              "      <td>Credit card refinancing</td>\n",
              "      <td>Aug-2007</td>\n",
              "      <td>f</td>\n",
              "      <td>INDIVIDUAL</td>\n",
              "      <td>87025 Mark Dale Apt. 269\\r\\nNew Sabrina, WV 05113</td>\n",
              "    </tr>\n",
              "    <tr>\n",
              "      <th>3</th>\n",
              "      <td>36 months</td>\n",
              "      <td>A</td>\n",
              "      <td>A2</td>\n",
              "      <td>Client Advocate</td>\n",
              "      <td>6 years</td>\n",
              "      <td>RENT</td>\n",
              "      <td>Not Verified</td>\n",
              "      <td>Nov-2014</td>\n",
              "      <td>Fully Paid</td>\n",
              "      <td>credit_card</td>\n",
              "      <td>Credit card refinancing</td>\n",
              "      <td>Sep-2006</td>\n",
              "      <td>f</td>\n",
              "      <td>INDIVIDUAL</td>\n",
              "      <td>823 Reid Ford\\r\\nDelacruzside, MA 00813</td>\n",
              "    </tr>\n",
              "    <tr>\n",
              "      <th>4</th>\n",
              "      <td>60 months</td>\n",
              "      <td>C</td>\n",
              "      <td>C5</td>\n",
              "      <td>Destiny Management Inc.</td>\n",
              "      <td>9 years</td>\n",
              "      <td>MORTGAGE</td>\n",
              "      <td>Verified</td>\n",
              "      <td>Apr-2013</td>\n",
              "      <td>Charged Off</td>\n",
              "      <td>credit_card</td>\n",
              "      <td>Credit Card Refinance</td>\n",
              "      <td>Mar-1999</td>\n",
              "      <td>f</td>\n",
              "      <td>INDIVIDUAL</td>\n",
              "      <td>679 Luna Roads\\r\\nGreggshire, VA 11650</td>\n",
              "    </tr>\n",
              "  </tbody>\n",
              "</table>\n",
              "</div>"
            ],
            "text/plain": [
              "         term grade sub_grade                emp_title emp_length  \\\n",
              "0   36 months     B        B4                Marketing  10+ years   \n",
              "1   36 months     B        B5          Credit analyst     4 years   \n",
              "2   36 months     B        B3             Statistician   < 1 year   \n",
              "3   36 months     A        A2          Client Advocate    6 years   \n",
              "4   60 months     C        C5  Destiny Management Inc.    9 years   \n",
              "\n",
              "  home_ownership verification_status   issue_d  loan_status  \\\n",
              "0           RENT        Not Verified  Jan-2015   Fully Paid   \n",
              "1       MORTGAGE        Not Verified  Jan-2015   Fully Paid   \n",
              "2           RENT     Source Verified  Jan-2015   Fully Paid   \n",
              "3           RENT        Not Verified  Nov-2014   Fully Paid   \n",
              "4       MORTGAGE            Verified  Apr-2013  Charged Off   \n",
              "\n",
              "              purpose                    title earliest_cr_line  \\\n",
              "0            vacation                 Vacation         Jun-1990   \n",
              "1  debt_consolidation       Debt consolidation         Jul-2004   \n",
              "2         credit_card  Credit card refinancing         Aug-2007   \n",
              "3         credit_card  Credit card refinancing         Sep-2006   \n",
              "4         credit_card    Credit Card Refinance         Mar-1999   \n",
              "\n",
              "  initial_list_status application_type  \\\n",
              "0                   w       INDIVIDUAL   \n",
              "1                   f       INDIVIDUAL   \n",
              "2                   f       INDIVIDUAL   \n",
              "3                   f       INDIVIDUAL   \n",
              "4                   f       INDIVIDUAL   \n",
              "\n",
              "                                             address  \n",
              "0     0174 Michelle Gateway\\r\\nMendozaberg, OK 22690  \n",
              "1  1076 Carney Fort Apt. 347\\r\\nLoganmouth, SD 05113  \n",
              "2  87025 Mark Dale Apt. 269\\r\\nNew Sabrina, WV 05113  \n",
              "3            823 Reid Ford\\r\\nDelacruzside, MA 00813  \n",
              "4             679 Luna Roads\\r\\nGreggshire, VA 11650  "
            ]
          },
          "execution_count": 27,
          "metadata": {},
          "output_type": "execute_result"
        }
      ],
      "source": [
        "# Categorical features\n",
        "categorical_features.head()"
      ]
    },
    {
      "cell_type": "code",
      "execution_count": 28,
      "metadata": {
        "id": "EIz5d-jYtAU5"
      },
      "outputs": [],
      "source": [
        "# term\n",
        "\n",
        "term_values = {' 36 months': 36, ' 60 months': 60}\n",
        "df['term'] = df.term.map(term_values)"
      ]
    },
    {
      "cell_type": "code",
      "execution_count": 29,
      "metadata": {
        "id": "M7oUubKCuSEJ"
      },
      "outputs": [],
      "source": [
        "df.drop('grade', axis=1, inplace=True)"
      ]
    },
    {
      "cell_type": "code",
      "execution_count": null,
      "metadata": {
        "id": "2g5qSh3wv0yO"
      },
      "outputs": [],
      "source": []
    },
    {
      "cell_type": "code",
      "execution_count": 30,
      "metadata": {
        "id": "JcC05bGzuk5I"
      },
      "outputs": [],
      "source": [
        "oe = LabelEncoder()\n",
        "\n",
        "dummies = ['sub_grade', 'verification_status', 'purpose', 'initial_list_status', \n",
        "           'application_type', 'home_ownership','loan_status']\n",
        "\n",
        "for i in dummies:\n",
        "  df[i] = oe.fit_transform(df[i])"
      ]
    },
    {
      "cell_type": "code",
      "execution_count": 31,
      "metadata": {
        "id": "qc4JApjav2TB"
      },
      "outputs": [],
      "source": [
        "df.drop('issue_d', axis=1, inplace=True)"
      ]
    },
    {
      "cell_type": "code",
      "execution_count": 32,
      "metadata": {
        "id": "-ZJZvIsxwnzz"
      },
      "outputs": [],
      "source": [
        "df.drop('emp_title', axis=1, inplace=True)"
      ]
    },
    {
      "cell_type": "code",
      "execution_count": 33,
      "metadata": {
        "id": "wfJCMf_IxS-Q"
      },
      "outputs": [],
      "source": [
        "df.drop('earliest_cr_line', axis=1, inplace=True)"
      ]
    },
    {
      "cell_type": "code",
      "execution_count": 34,
      "metadata": {
        "id": "XW9EP4OlxhDU"
      },
      "outputs": [],
      "source": [
        "df.drop('title', axis=1, inplace=True)"
      ]
    },
    {
      "cell_type": "code",
      "execution_count": 35,
      "metadata": {
        "id": "O-xofy15xp7R"
      },
      "outputs": [],
      "source": [
        "df.drop('emp_length', axis=1, inplace=True)"
      ]
    },
    {
      "cell_type": "code",
      "execution_count": null,
      "metadata": {
        "id": "xIOjbzF6v9UN"
      },
      "outputs": [],
      "source": []
    },
    {
      "cell_type": "code",
      "execution_count": 36,
      "metadata": {
        "colab": {
          "base_uri": "https://localhost:8080/",
          "height": 311
        },
        "id": "PiYodJRTx5Of",
        "outputId": "a3c65c95-ceb1-461a-f678-d9f0075c32c3"
      },
      "outputs": [],
      "source": [
        "df.drop('address', axis=1, inplace=True)"
      ]
    },
    {
      "cell_type": "code",
      "execution_count": 37,
      "metadata": {
        "colab": {
          "base_uri": "https://localhost:8080/",
          "height": 270
        },
        "id": "v6xj53GUvfKY",
        "outputId": "04fdf61a-b826-45b2-f411-84069eb92725"
      },
      "outputs": [
        {
          "data": {
            "text/html": [
              "<div>\n",
              "<style scoped>\n",
              "    .dataframe tbody tr th:only-of-type {\n",
              "        vertical-align: middle;\n",
              "    }\n",
              "\n",
              "    .dataframe tbody tr th {\n",
              "        vertical-align: top;\n",
              "    }\n",
              "\n",
              "    .dataframe thead th {\n",
              "        text-align: right;\n",
              "    }\n",
              "</style>\n",
              "<table border=\"1\" class=\"dataframe\">\n",
              "  <thead>\n",
              "    <tr style=\"text-align: right;\">\n",
              "      <th></th>\n",
              "      <th>loan_amnt</th>\n",
              "      <th>term</th>\n",
              "      <th>int_rate</th>\n",
              "      <th>installment</th>\n",
              "      <th>sub_grade</th>\n",
              "      <th>home_ownership</th>\n",
              "      <th>annual_inc</th>\n",
              "      <th>verification_status</th>\n",
              "      <th>loan_status</th>\n",
              "      <th>purpose</th>\n",
              "      <th>dti</th>\n",
              "      <th>open_acc</th>\n",
              "      <th>pub_rec</th>\n",
              "      <th>revol_bal</th>\n",
              "      <th>revol_util</th>\n",
              "      <th>total_acc</th>\n",
              "      <th>initial_list_status</th>\n",
              "      <th>application_type</th>\n",
              "      <th>mort_acc</th>\n",
              "      <th>pub_rec_bankruptcies</th>\n",
              "    </tr>\n",
              "  </thead>\n",
              "  <tbody>\n",
              "    <tr>\n",
              "      <th>0</th>\n",
              "      <td>10000.0</td>\n",
              "      <td>36</td>\n",
              "      <td>11.44</td>\n",
              "      <td>329.48</td>\n",
              "      <td>8</td>\n",
              "      <td>5</td>\n",
              "      <td>117000.0</td>\n",
              "      <td>0</td>\n",
              "      <td>1</td>\n",
              "      <td>12</td>\n",
              "      <td>26.24</td>\n",
              "      <td>16.0</td>\n",
              "      <td>0.0</td>\n",
              "      <td>36369.0</td>\n",
              "      <td>41.8</td>\n",
              "      <td>25.0</td>\n",
              "      <td>1</td>\n",
              "      <td>1</td>\n",
              "      <td>0.0</td>\n",
              "      <td>0.0</td>\n",
              "    </tr>\n",
              "    <tr>\n",
              "      <th>1</th>\n",
              "      <td>8000.0</td>\n",
              "      <td>36</td>\n",
              "      <td>11.99</td>\n",
              "      <td>265.68</td>\n",
              "      <td>9</td>\n",
              "      <td>1</td>\n",
              "      <td>65000.0</td>\n",
              "      <td>0</td>\n",
              "      <td>1</td>\n",
              "      <td>2</td>\n",
              "      <td>22.05</td>\n",
              "      <td>17.0</td>\n",
              "      <td>0.0</td>\n",
              "      <td>20131.0</td>\n",
              "      <td>53.3</td>\n",
              "      <td>27.0</td>\n",
              "      <td>0</td>\n",
              "      <td>1</td>\n",
              "      <td>3.0</td>\n",
              "      <td>0.0</td>\n",
              "    </tr>\n",
              "    <tr>\n",
              "      <th>2</th>\n",
              "      <td>15600.0</td>\n",
              "      <td>36</td>\n",
              "      <td>10.49</td>\n",
              "      <td>506.97</td>\n",
              "      <td>7</td>\n",
              "      <td>5</td>\n",
              "      <td>43057.0</td>\n",
              "      <td>1</td>\n",
              "      <td>1</td>\n",
              "      <td>1</td>\n",
              "      <td>12.79</td>\n",
              "      <td>13.0</td>\n",
              "      <td>0.0</td>\n",
              "      <td>11987.0</td>\n",
              "      <td>92.2</td>\n",
              "      <td>26.0</td>\n",
              "      <td>0</td>\n",
              "      <td>1</td>\n",
              "      <td>0.0</td>\n",
              "      <td>0.0</td>\n",
              "    </tr>\n",
              "    <tr>\n",
              "      <th>3</th>\n",
              "      <td>7200.0</td>\n",
              "      <td>36</td>\n",
              "      <td>6.49</td>\n",
              "      <td>220.65</td>\n",
              "      <td>1</td>\n",
              "      <td>5</td>\n",
              "      <td>54000.0</td>\n",
              "      <td>0</td>\n",
              "      <td>1</td>\n",
              "      <td>1</td>\n",
              "      <td>2.60</td>\n",
              "      <td>6.0</td>\n",
              "      <td>0.0</td>\n",
              "      <td>5472.0</td>\n",
              "      <td>21.5</td>\n",
              "      <td>13.0</td>\n",
              "      <td>0</td>\n",
              "      <td>1</td>\n",
              "      <td>0.0</td>\n",
              "      <td>0.0</td>\n",
              "    </tr>\n",
              "    <tr>\n",
              "      <th>4</th>\n",
              "      <td>24375.0</td>\n",
              "      <td>60</td>\n",
              "      <td>17.27</td>\n",
              "      <td>609.33</td>\n",
              "      <td>14</td>\n",
              "      <td>1</td>\n",
              "      <td>55000.0</td>\n",
              "      <td>2</td>\n",
              "      <td>0</td>\n",
              "      <td>1</td>\n",
              "      <td>33.95</td>\n",
              "      <td>13.0</td>\n",
              "      <td>0.0</td>\n",
              "      <td>24584.0</td>\n",
              "      <td>69.8</td>\n",
              "      <td>43.0</td>\n",
              "      <td>0</td>\n",
              "      <td>1</td>\n",
              "      <td>1.0</td>\n",
              "      <td>0.0</td>\n",
              "    </tr>\n",
              "  </tbody>\n",
              "</table>\n",
              "</div>"
            ],
            "text/plain": [
              "   loan_amnt  term  int_rate  installment  sub_grade  home_ownership  \\\n",
              "0    10000.0    36     11.44       329.48          8               5   \n",
              "1     8000.0    36     11.99       265.68          9               1   \n",
              "2    15600.0    36     10.49       506.97          7               5   \n",
              "3     7200.0    36      6.49       220.65          1               5   \n",
              "4    24375.0    60     17.27       609.33         14               1   \n",
              "\n",
              "   annual_inc  verification_status  loan_status  purpose    dti  open_acc  \\\n",
              "0    117000.0                    0            1       12  26.24      16.0   \n",
              "1     65000.0                    0            1        2  22.05      17.0   \n",
              "2     43057.0                    1            1        1  12.79      13.0   \n",
              "3     54000.0                    0            1        1   2.60       6.0   \n",
              "4     55000.0                    2            0        1  33.95      13.0   \n",
              "\n",
              "   pub_rec  revol_bal  revol_util  total_acc  initial_list_status  \\\n",
              "0      0.0    36369.0        41.8       25.0                    1   \n",
              "1      0.0    20131.0        53.3       27.0                    0   \n",
              "2      0.0    11987.0        92.2       26.0                    0   \n",
              "3      0.0     5472.0        21.5       13.0                    0   \n",
              "4      0.0    24584.0        69.8       43.0                    0   \n",
              "\n",
              "   application_type  mort_acc  pub_rec_bankruptcies  \n",
              "0                 1       0.0                   0.0  \n",
              "1                 1       3.0                   0.0  \n",
              "2                 1       0.0                   0.0  \n",
              "3                 1       0.0                   0.0  \n",
              "4                 1       1.0                   0.0  "
            ]
          },
          "execution_count": 37,
          "metadata": {},
          "output_type": "execute_result"
        }
      ],
      "source": [
        "# Categorical features\n",
        "df.head()"
      ]
    },
    {
      "cell_type": "code",
      "execution_count": 38,
      "metadata": {
        "colab": {
          "base_uri": "https://localhost:8080/"
        },
        "id": "BvublEw-wdv3",
        "outputId": "93f7b0ef-210a-4fc8-963a-43013111f436"
      },
      "outputs": [
        {
          "data": {
            "text/plain": [
              "loan_amnt               float64\n",
              "term                      int64\n",
              "int_rate                float64\n",
              "installment             float64\n",
              "sub_grade                 int32\n",
              "home_ownership            int32\n",
              "annual_inc              float64\n",
              "verification_status       int32\n",
              "loan_status               int32\n",
              "purpose                   int32\n",
              "dti                     float64\n",
              "open_acc                float64\n",
              "pub_rec                 float64\n",
              "revol_bal               float64\n",
              "revol_util              float64\n",
              "total_acc               float64\n",
              "initial_list_status       int32\n",
              "application_type          int32\n",
              "mort_acc                float64\n",
              "pub_rec_bankruptcies    float64\n",
              "dtype: object"
            ]
          },
          "execution_count": 38,
          "metadata": {},
          "output_type": "execute_result"
        }
      ],
      "source": [
        "df.dtypes"
      ]
    },
    {
      "cell_type": "code",
      "execution_count": null,
      "metadata": {
        "id": "IdDsY3XGw28G"
      },
      "outputs": [],
      "source": []
    },
    {
      "cell_type": "code",
      "execution_count": 39,
      "metadata": {
        "id": "lviSdZ8bR38h"
      },
      "outputs": [],
      "source": [
        "\n",
        "X_train,X_test,y_train,y_test = train_test_split(df.drop(columns=['loan_status']),\n",
        "                                                 df['loan_status'],\n",
        "                                                 test_size=0.2,\n",
        "                                                random_state=23)"
      ]
    },
    {
      "cell_type": "code",
      "execution_count": null,
      "metadata": {
        "id": "jY12VBGRbPyd"
      },
      "outputs": [],
      "source": []
    },
    {
      "cell_type": "code",
      "execution_count": null,
      "metadata": {
        "id": "8MmbPUN4a6Tv"
      },
      "outputs": [],
      "source": []
    },
    {
      "cell_type": "code",
      "execution_count": 40,
      "metadata": {
        "colab": {
          "base_uri": "https://localhost:8080/",
          "height": 270
        },
        "id": "8goO_4E7SF0F",
        "outputId": "63d0abcf-47db-4721-a8b7-55d2b80b98c2"
      },
      "outputs": [
        {
          "data": {
            "text/html": [
              "<div>\n",
              "<style scoped>\n",
              "    .dataframe tbody tr th:only-of-type {\n",
              "        vertical-align: middle;\n",
              "    }\n",
              "\n",
              "    .dataframe tbody tr th {\n",
              "        vertical-align: top;\n",
              "    }\n",
              "\n",
              "    .dataframe thead th {\n",
              "        text-align: right;\n",
              "    }\n",
              "</style>\n",
              "<table border=\"1\" class=\"dataframe\">\n",
              "  <thead>\n",
              "    <tr style=\"text-align: right;\">\n",
              "      <th></th>\n",
              "      <th>loan_amnt</th>\n",
              "      <th>term</th>\n",
              "      <th>int_rate</th>\n",
              "      <th>installment</th>\n",
              "      <th>sub_grade</th>\n",
              "      <th>home_ownership</th>\n",
              "      <th>annual_inc</th>\n",
              "      <th>verification_status</th>\n",
              "      <th>purpose</th>\n",
              "      <th>dti</th>\n",
              "      <th>open_acc</th>\n",
              "      <th>pub_rec</th>\n",
              "      <th>revol_bal</th>\n",
              "      <th>revol_util</th>\n",
              "      <th>total_acc</th>\n",
              "      <th>initial_list_status</th>\n",
              "      <th>application_type</th>\n",
              "      <th>mort_acc</th>\n",
              "      <th>pub_rec_bankruptcies</th>\n",
              "    </tr>\n",
              "  </thead>\n",
              "  <tbody>\n",
              "    <tr>\n",
              "      <th>11093</th>\n",
              "      <td>16750.0</td>\n",
              "      <td>36</td>\n",
              "      <td>13.66</td>\n",
              "      <td>569.72</td>\n",
              "      <td>12</td>\n",
              "      <td>5</td>\n",
              "      <td>40000.0</td>\n",
              "      <td>0</td>\n",
              "      <td>1</td>\n",
              "      <td>24.93</td>\n",
              "      <td>7.0</td>\n",
              "      <td>0.0</td>\n",
              "      <td>25081.0</td>\n",
              "      <td>81.2</td>\n",
              "      <td>14.0</td>\n",
              "      <td>0</td>\n",
              "      <td>1</td>\n",
              "      <td>0.0</td>\n",
              "      <td>0.0</td>\n",
              "    </tr>\n",
              "    <tr>\n",
              "      <th>287384</th>\n",
              "      <td>11000.0</td>\n",
              "      <td>36</td>\n",
              "      <td>18.24</td>\n",
              "      <td>399.01</td>\n",
              "      <td>19</td>\n",
              "      <td>5</td>\n",
              "      <td>50000.0</td>\n",
              "      <td>1</td>\n",
              "      <td>2</td>\n",
              "      <td>10.63</td>\n",
              "      <td>7.0</td>\n",
              "      <td>0.0</td>\n",
              "      <td>3597.0</td>\n",
              "      <td>55.3</td>\n",
              "      <td>7.0</td>\n",
              "      <td>1</td>\n",
              "      <td>1</td>\n",
              "      <td>0.0</td>\n",
              "      <td>0.0</td>\n",
              "    </tr>\n",
              "    <tr>\n",
              "      <th>277798</th>\n",
              "      <td>10625.0</td>\n",
              "      <td>36</td>\n",
              "      <td>10.16</td>\n",
              "      <td>343.64</td>\n",
              "      <td>5</td>\n",
              "      <td>1</td>\n",
              "      <td>57324.0</td>\n",
              "      <td>2</td>\n",
              "      <td>2</td>\n",
              "      <td>28.21</td>\n",
              "      <td>11.0</td>\n",
              "      <td>0.0</td>\n",
              "      <td>12085.0</td>\n",
              "      <td>39.4</td>\n",
              "      <td>33.0</td>\n",
              "      <td>0</td>\n",
              "      <td>1</td>\n",
              "      <td>1.0</td>\n",
              "      <td>0.0</td>\n",
              "    </tr>\n",
              "    <tr>\n",
              "      <th>147270</th>\n",
              "      <td>12000.0</td>\n",
              "      <td>60</td>\n",
              "      <td>14.64</td>\n",
              "      <td>283.22</td>\n",
              "      <td>12</td>\n",
              "      <td>1</td>\n",
              "      <td>48750.0</td>\n",
              "      <td>0</td>\n",
              "      <td>2</td>\n",
              "      <td>14.13</td>\n",
              "      <td>16.0</td>\n",
              "      <td>0.0</td>\n",
              "      <td>13838.0</td>\n",
              "      <td>51.3</td>\n",
              "      <td>23.0</td>\n",
              "      <td>1</td>\n",
              "      <td>1</td>\n",
              "      <td>2.0</td>\n",
              "      <td>0.0</td>\n",
              "    </tr>\n",
              "    <tr>\n",
              "      <th>114802</th>\n",
              "      <td>3000.0</td>\n",
              "      <td>60</td>\n",
              "      <td>11.99</td>\n",
              "      <td>66.72</td>\n",
              "      <td>9</td>\n",
              "      <td>1</td>\n",
              "      <td>64800.0</td>\n",
              "      <td>0</td>\n",
              "      <td>0</td>\n",
              "      <td>4.67</td>\n",
              "      <td>4.0</td>\n",
              "      <td>0.0</td>\n",
              "      <td>0.0</td>\n",
              "      <td>0.0</td>\n",
              "      <td>14.0</td>\n",
              "      <td>0</td>\n",
              "      <td>1</td>\n",
              "      <td>1.0</td>\n",
              "      <td>0.0</td>\n",
              "    </tr>\n",
              "  </tbody>\n",
              "</table>\n",
              "</div>"
            ],
            "text/plain": [
              "        loan_amnt  term  int_rate  installment  sub_grade  home_ownership  \\\n",
              "11093     16750.0    36     13.66       569.72         12               5   \n",
              "287384    11000.0    36     18.24       399.01         19               5   \n",
              "277798    10625.0    36     10.16       343.64          5               1   \n",
              "147270    12000.0    60     14.64       283.22         12               1   \n",
              "114802     3000.0    60     11.99        66.72          9               1   \n",
              "\n",
              "        annual_inc  verification_status  purpose    dti  open_acc  pub_rec  \\\n",
              "11093      40000.0                    0        1  24.93       7.0      0.0   \n",
              "287384     50000.0                    1        2  10.63       7.0      0.0   \n",
              "277798     57324.0                    2        2  28.21      11.0      0.0   \n",
              "147270     48750.0                    0        2  14.13      16.0      0.0   \n",
              "114802     64800.0                    0        0   4.67       4.0      0.0   \n",
              "\n",
              "        revol_bal  revol_util  total_acc  initial_list_status  \\\n",
              "11093     25081.0        81.2       14.0                    0   \n",
              "287384     3597.0        55.3        7.0                    1   \n",
              "277798    12085.0        39.4       33.0                    0   \n",
              "147270    13838.0        51.3       23.0                    1   \n",
              "114802        0.0         0.0       14.0                    0   \n",
              "\n",
              "        application_type  mort_acc  pub_rec_bankruptcies  \n",
              "11093                  1       0.0                   0.0  \n",
              "287384                 1       0.0                   0.0  \n",
              "277798                 1       1.0                   0.0  \n",
              "147270                 1       2.0                   0.0  \n",
              "114802                 1       1.0                   0.0  "
            ]
          },
          "execution_count": 40,
          "metadata": {},
          "output_type": "execute_result"
        }
      ],
      "source": [
        "X_train.head()"
      ]
    },
    {
      "cell_type": "code",
      "execution_count": 41,
      "metadata": {
        "colab": {
          "base_uri": "https://localhost:8080/"
        },
        "id": "ST7TLsWQSGVV",
        "outputId": "28f685a1-9d17-4423-bae9-925e2bc8c110"
      },
      "outputs": [
        {
          "data": {
            "text/plain": [
              "11093     1\n",
              "287384    1\n",
              "277798    0\n",
              "147270    1\n",
              "114802    1\n",
              "Name: loan_status, dtype: int32"
            ]
          },
          "execution_count": 41,
          "metadata": {},
          "output_type": "execute_result"
        }
      ],
      "source": [
        "\n",
        "y_train.head()"
      ]
    },
    {
      "cell_type": "code",
      "execution_count": 42,
      "metadata": {
        "colab": {
          "base_uri": "https://localhost:8080/",
          "height": 270
        },
        "id": "F2_9bfyASJRR",
        "outputId": "df78c756-93f3-48c8-9ad0-61807bcfead2"
      },
      "outputs": [
        {
          "data": {
            "text/html": [
              "<div>\n",
              "<style scoped>\n",
              "    .dataframe tbody tr th:only-of-type {\n",
              "        vertical-align: middle;\n",
              "    }\n",
              "\n",
              "    .dataframe tbody tr th {\n",
              "        vertical-align: top;\n",
              "    }\n",
              "\n",
              "    .dataframe thead th {\n",
              "        text-align: right;\n",
              "    }\n",
              "</style>\n",
              "<table border=\"1\" class=\"dataframe\">\n",
              "  <thead>\n",
              "    <tr style=\"text-align: right;\">\n",
              "      <th></th>\n",
              "      <th>loan_amnt</th>\n",
              "      <th>term</th>\n",
              "      <th>int_rate</th>\n",
              "      <th>installment</th>\n",
              "      <th>sub_grade</th>\n",
              "      <th>home_ownership</th>\n",
              "      <th>annual_inc</th>\n",
              "      <th>verification_status</th>\n",
              "      <th>purpose</th>\n",
              "      <th>dti</th>\n",
              "      <th>open_acc</th>\n",
              "      <th>pub_rec</th>\n",
              "      <th>revol_bal</th>\n",
              "      <th>revol_util</th>\n",
              "      <th>total_acc</th>\n",
              "      <th>initial_list_status</th>\n",
              "      <th>application_type</th>\n",
              "      <th>mort_acc</th>\n",
              "      <th>pub_rec_bankruptcies</th>\n",
              "    </tr>\n",
              "  </thead>\n",
              "  <tbody>\n",
              "    <tr>\n",
              "      <th>243692</th>\n",
              "      <td>9800.0</td>\n",
              "      <td>36</td>\n",
              "      <td>13.67</td>\n",
              "      <td>333.38</td>\n",
              "      <td>12</td>\n",
              "      <td>5</td>\n",
              "      <td>38000.0</td>\n",
              "      <td>2</td>\n",
              "      <td>2</td>\n",
              "      <td>25.74</td>\n",
              "      <td>9.0</td>\n",
              "      <td>0.0</td>\n",
              "      <td>4159.0</td>\n",
              "      <td>42.0</td>\n",
              "      <td>20.0</td>\n",
              "      <td>1</td>\n",
              "      <td>1</td>\n",
              "      <td>0.0</td>\n",
              "      <td>0.0</td>\n",
              "    </tr>\n",
              "    <tr>\n",
              "      <th>378572</th>\n",
              "      <td>7225.0</td>\n",
              "      <td>36</td>\n",
              "      <td>16.99</td>\n",
              "      <td>257.56</td>\n",
              "      <td>17</td>\n",
              "      <td>1</td>\n",
              "      <td>34368.0</td>\n",
              "      <td>1</td>\n",
              "      <td>2</td>\n",
              "      <td>27.58</td>\n",
              "      <td>8.0</td>\n",
              "      <td>1.0</td>\n",
              "      <td>5451.0</td>\n",
              "      <td>85.0</td>\n",
              "      <td>36.0</td>\n",
              "      <td>1</td>\n",
              "      <td>1</td>\n",
              "      <td>1.0</td>\n",
              "      <td>1.0</td>\n",
              "    </tr>\n",
              "    <tr>\n",
              "      <th>342422</th>\n",
              "      <td>10000.0</td>\n",
              "      <td>60</td>\n",
              "      <td>19.99</td>\n",
              "      <td>264.89</td>\n",
              "      <td>23</td>\n",
              "      <td>5</td>\n",
              "      <td>75000.0</td>\n",
              "      <td>1</td>\n",
              "      <td>2</td>\n",
              "      <td>6.21</td>\n",
              "      <td>2.0</td>\n",
              "      <td>0.0</td>\n",
              "      <td>1309.0</td>\n",
              "      <td>72.7</td>\n",
              "      <td>10.0</td>\n",
              "      <td>1</td>\n",
              "      <td>1</td>\n",
              "      <td>0.0</td>\n",
              "      <td>0.0</td>\n",
              "    </tr>\n",
              "    <tr>\n",
              "      <th>267127</th>\n",
              "      <td>20000.0</td>\n",
              "      <td>60</td>\n",
              "      <td>13.67</td>\n",
              "      <td>461.96</td>\n",
              "      <td>12</td>\n",
              "      <td>1</td>\n",
              "      <td>78000.0</td>\n",
              "      <td>0</td>\n",
              "      <td>1</td>\n",
              "      <td>26.85</td>\n",
              "      <td>11.0</td>\n",
              "      <td>0.0</td>\n",
              "      <td>28962.0</td>\n",
              "      <td>66.9</td>\n",
              "      <td>31.0</td>\n",
              "      <td>1</td>\n",
              "      <td>1</td>\n",
              "      <td>5.0</td>\n",
              "      <td>0.0</td>\n",
              "    </tr>\n",
              "    <tr>\n",
              "      <th>393995</th>\n",
              "      <td>20400.0</td>\n",
              "      <td>60</td>\n",
              "      <td>13.67</td>\n",
              "      <td>471.19</td>\n",
              "      <td>9</td>\n",
              "      <td>1</td>\n",
              "      <td>136771.0</td>\n",
              "      <td>2</td>\n",
              "      <td>2</td>\n",
              "      <td>15.97</td>\n",
              "      <td>16.0</td>\n",
              "      <td>0.0</td>\n",
              "      <td>13872.0</td>\n",
              "      <td>40.8</td>\n",
              "      <td>44.0</td>\n",
              "      <td>1</td>\n",
              "      <td>1</td>\n",
              "      <td>6.0</td>\n",
              "      <td>0.0</td>\n",
              "    </tr>\n",
              "  </tbody>\n",
              "</table>\n",
              "</div>"
            ],
            "text/plain": [
              "        loan_amnt  term  int_rate  installment  sub_grade  home_ownership  \\\n",
              "243692     9800.0    36     13.67       333.38         12               5   \n",
              "378572     7225.0    36     16.99       257.56         17               1   \n",
              "342422    10000.0    60     19.99       264.89         23               5   \n",
              "267127    20000.0    60     13.67       461.96         12               1   \n",
              "393995    20400.0    60     13.67       471.19          9               1   \n",
              "\n",
              "        annual_inc  verification_status  purpose    dti  open_acc  pub_rec  \\\n",
              "243692     38000.0                    2        2  25.74       9.0      0.0   \n",
              "378572     34368.0                    1        2  27.58       8.0      1.0   \n",
              "342422     75000.0                    1        2   6.21       2.0      0.0   \n",
              "267127     78000.0                    0        1  26.85      11.0      0.0   \n",
              "393995    136771.0                    2        2  15.97      16.0      0.0   \n",
              "\n",
              "        revol_bal  revol_util  total_acc  initial_list_status  \\\n",
              "243692     4159.0        42.0       20.0                    1   \n",
              "378572     5451.0        85.0       36.0                    1   \n",
              "342422     1309.0        72.7       10.0                    1   \n",
              "267127    28962.0        66.9       31.0                    1   \n",
              "393995    13872.0        40.8       44.0                    1   \n",
              "\n",
              "        application_type  mort_acc  pub_rec_bankruptcies  \n",
              "243692                 1       0.0                   0.0  \n",
              "378572                 1       1.0                   1.0  \n",
              "342422                 1       0.0                   0.0  \n",
              "267127                 1       5.0                   0.0  \n",
              "393995                 1       6.0                   0.0  "
            ]
          },
          "execution_count": 42,
          "metadata": {},
          "output_type": "execute_result"
        }
      ],
      "source": [
        "X_test.head()"
      ]
    },
    {
      "cell_type": "code",
      "execution_count": 43,
      "metadata": {
        "colab": {
          "base_uri": "https://localhost:8080/"
        },
        "id": "_8KO3YcoSKzX",
        "outputId": "e91691f3-5dba-4f08-fe53-98e99d3e7d3f"
      },
      "outputs": [
        {
          "data": {
            "text/plain": [
              "243692    1\n",
              "378572    1\n",
              "342422    0\n",
              "267127    0\n",
              "393995    1\n",
              "Name: loan_status, dtype: int32"
            ]
          },
          "execution_count": 43,
          "metadata": {},
          "output_type": "execute_result"
        }
      ],
      "source": [
        "y_test.head()"
      ]
    },
    {
      "cell_type": "code",
      "execution_count": 44,
      "metadata": {
        "colab": {
          "base_uri": "https://localhost:8080/"
        },
        "id": "L4WO2K_8SMgD",
        "outputId": "797cbe43-c0a7-4864-cce7-7fb684151abc"
      },
      "outputs": [
        {
          "data": {
            "text/plain": [
              "((316824, 19), (316824,))"
            ]
          },
          "execution_count": 44,
          "metadata": {},
          "output_type": "execute_result"
        }
      ],
      "source": [
        "X_train.shape, y_train.shape"
      ]
    },
    {
      "cell_type": "code",
      "execution_count": 45,
      "metadata": {
        "colab": {
          "base_uri": "https://localhost:8080/"
        },
        "id": "e3MBQ47fSNIJ",
        "outputId": "ab470b69-bdc5-43a5-b78b-db527671475d"
      },
      "outputs": [
        {
          "data": {
            "text/plain": [
              "((79206, 19), (79206,))"
            ]
          },
          "execution_count": 45,
          "metadata": {},
          "output_type": "execute_result"
        }
      ],
      "source": [
        "X_test.shape, y_test.shape"
      ]
    },
    {
      "cell_type": "code",
      "execution_count": null,
      "metadata": {
        "id": "A64jrMBznjs5"
      },
      "outputs": [],
      "source": []
    },
    {
      "cell_type": "code",
      "execution_count": null,
      "metadata": {
        "id": "Rbit01GKisX9"
      },
      "outputs": [],
      "source": []
    },
    {
      "cell_type": "code",
      "execution_count": null,
      "metadata": {
        "id": "wtDEBGQ0nym6"
      },
      "outputs": [],
      "source": []
    },
    {
      "cell_type": "code",
      "execution_count": 46,
      "metadata": {
        "id": "mcpGDfNthujp"
      },
      "outputs": [],
      "source": [
        "from sklearn.preprocessing import StandardScaler\n",
        "scalar=StandardScaler()"
      ]
    },
    {
      "cell_type": "code",
      "execution_count": null,
      "metadata": {
        "id": "6BDGylOJimuD"
      },
      "outputs": [],
      "source": []
    },
    {
      "cell_type": "code",
      "execution_count": 47,
      "metadata": {
        "colab": {
          "base_uri": "https://localhost:8080/"
        },
        "id": "hOmo9MHNSS6T",
        "outputId": "100eaedc-82f1-4edc-9427-137833e64a66"
      },
      "outputs": [
        {
          "data": {
            "text/plain": [
              "array([[ 0.31566564, -0.55767814,  0.00486463, ..., -0.00927666,\n",
              "        -0.84464685, -0.34172767],\n",
              "       [-0.37195863, -0.55767814,  1.03006813, ..., -0.00927666,\n",
              "        -0.84464685, -0.34172767],\n",
              "       [-0.41680369, -0.55767814, -0.77858784, ..., -0.00927666,\n",
              "        -0.35774638, -0.34172767],\n",
              "       ...,\n",
              "       [-1.40040536, -0.55767814,  1.21138142, ..., -0.00927666,\n",
              "        -0.84464685, -0.34172767],\n",
              "       [ 2.49812527,  1.79314901, -0.21226363, ..., -0.00927666,\n",
              "        -0.84464685, -0.34172767],\n",
              "       [ 0.10339902, -0.55767814, -0.25703234, ..., -0.00927666,\n",
              "        -0.35774638, -0.34172767]])"
            ]
          },
          "execution_count": 47,
          "metadata": {},
          "output_type": "execute_result"
        }
      ],
      "source": [
        "X_train=scalar.fit_transform(X_train)\n",
        "X_train"
      ]
    },
    {
      "cell_type": "code",
      "execution_count": 48,
      "metadata": {
        "colab": {
          "base_uri": "https://localhost:8080/"
        },
        "id": "3y7SMZqySUr6",
        "outputId": "c3cfafd8-a011-492e-fe1c-4b39d69486c3"
      },
      "outputs": [
        {
          "data": {
            "text/plain": [
              "array([[-0.51546282, -0.55767814,  0.00710306, ..., -0.00927666,\n",
              "        -0.84464685, -0.34172767],\n",
              "       [-0.82339891, -0.55767814,  0.75026368, ..., -0.00927666,\n",
              "        -0.35774638,  2.46961268],\n",
              "       [-0.49154546,  1.79314901,  1.42179437, ..., -0.00927666,\n",
              "        -0.84464685, -0.34172767],\n",
              "       ...,\n",
              "       [ 0.22597552, -0.55767814, -0.14511056, ..., -0.00927666,\n",
              "        -0.84464685, -0.34172767],\n",
              "       [ 0.46514918, -0.55767814, -1.42773416, ..., -0.00927666,\n",
              "        -0.35774638, -0.34172767],\n",
              "       [-1.11339697,  1.79314901,  2.06198695, ..., -0.00927666,\n",
              "        -0.35774638, -0.34172767]])"
            ]
          },
          "execution_count": 48,
          "metadata": {},
          "output_type": "execute_result"
        }
      ],
      "source": [
        "X_test=scalar.transform(X_test)\n",
        "X_test\n",
        "     "
      ]
    },
    {
      "cell_type": "code",
      "execution_count": 49,
      "metadata": {
        "id": "rpJs6YTsSl-d"
      },
      "outputs": [],
      "source": [
        "models={\n",
        " \"Logistic Regression\":LogisticRegression(),\n",
        " #\"Support Vector Classifier\":SVC(),\n",
        " \"Decision Tree Classifier\":DecisionTreeClassifier(),\n",
        " \"Random Forest Classifier\":RandomForestClassifier(),\n",
        " \"Bagging Classifier\": BaggingClassifier(base_estimator=LogisticRegression()),\n",
        " \"Extra Tree Classifier\": ExtraTreesClassifier(),\n",
        " \"AdaBoost Classifier\": AdaBoostClassifier(),\n",
        " \"GradientBoost Classifier\": GradientBoostingClassifier(),\n",
        " \"XGBoost Classifier\": XGBClassifier()\n",
        "}"
      ]
    },
    {
      "cell_type": "code",
      "execution_count": 50,
      "metadata": {
        "id": "2LTfRRJHSngH"
      },
      "outputs": [],
      "source": [
        "def model_trainer(model, X_train_data, y_train_data, X_test_data):\n",
        " \"\"\"\n",
        " This function takes model object, X train data, y train data, and \n",
        " X test data as argument, trains model and gives prediction for train data \n",
        " and prediction for test data.\n",
        " \"\"\"\n",
        " model.fit(X_train_data, y_train_data)\n",
        " y_train_pred=model.predict(X_train_data)\n",
        " pred_val=model.predict(X_test_data)\n",
        " return y_train_pred, pred_val"
      ]
    },
    {
      "cell_type": "code",
      "execution_count": 51,
      "metadata": {
        "id": "1LV-2OZmSpi3"
      },
      "outputs": [],
      "source": [
        "def model_evaluator(actual_val, pred_val):\n",
        "\n",
        " acc=round(accuracy_score(actual_val, pred_val),5)\n",
        " prec=round(precision_score(actual_val, pred_val),5)\n",
        " rec=round(recall_score(actual_val, pred_val),5)\n",
        " roc_auc=round(roc_auc_score(actual_val, pred_val),5)\n",
        " return acc, prec, rec, roc_auc"
      ]
    },
    {
      "cell_type": "code",
      "execution_count": 52,
      "metadata": {
        "colab": {
          "base_uri": "https://localhost:8080/"
        },
        "id": "w9mFoyC8Srxu",
        "outputId": "f68b0058-8cf0-48bb-d08c-c370f0cfbb16"
      },
      "outputs": [
        {
          "name": "stdout",
          "output_type": "stream",
          "text": [
            "Logistic Regression Model\n",
            "\n",
            "Model Performance for training dataset\n",
            "Accuracy score: 0.80589\n",
            "Precision Score: 0.81468\n",
            "Recall Score: 0.98212\n",
            "Roc_Auc Score: 0.53145\n",
            "--------------------------------------------------\n",
            "Model Performance for Test dataset\n",
            "Accuracy score: 0.80207\n",
            "Precision Score: 0.81137\n",
            "Recall Score: 0.98113\n",
            "Roc_Auc Score: 0.53027\n",
            "**************************************************\n",
            "\n",
            "\n",
            "Decision Tree Classifier Model\n",
            "\n",
            "Model Performance for training dataset\n",
            "Accuracy score: 1.0\n",
            "Precision Score: 1.0\n",
            "Recall Score: 1.0\n",
            "Roc_Auc Score: 1.0\n",
            "--------------------------------------------------\n",
            "Model Performance for Test dataset\n",
            "Accuracy score: 0.70679\n",
            "Precision Score: 0.82339\n",
            "Recall Score: 0.8073\n",
            "Roc_Auc Score: 0.55421\n",
            "**************************************************\n",
            "\n",
            "\n",
            "Random Forest Classifier Model\n",
            "\n",
            "Model Performance for training dataset\n",
            "Accuracy score: 0.99999\n",
            "Precision Score: 0.99999\n",
            "Recall Score: 1.0\n",
            "Roc_Auc Score: 0.99998\n",
            "--------------------------------------------------\n",
            "Model Performance for Test dataset\n",
            "Accuracy score: 0.80291\n",
            "Precision Score: 0.81302\n",
            "Recall Score: 0.97928\n",
            "Roc_Auc Score: 0.53517\n",
            "**************************************************\n",
            "\n",
            "\n",
            "Bagging Classifier Model\n",
            "\n",
            "Model Performance for training dataset\n",
            "Accuracy score: 0.80585\n",
            "Precision Score: 0.8147\n",
            "Recall Score: 0.98203\n",
            "Roc_Auc Score: 0.53149\n",
            "--------------------------------------------------\n",
            "Model Performance for Test dataset\n",
            "Accuracy score: 0.80207\n",
            "Precision Score: 0.81139\n",
            "Recall Score: 0.9811\n",
            "Roc_Auc Score: 0.53032\n",
            "**************************************************\n",
            "\n",
            "\n",
            "Extra Tree Classifier Model\n",
            "\n",
            "Model Performance for training dataset\n",
            "Accuracy score: 1.0\n",
            "Precision Score: 1.0\n",
            "Recall Score: 1.0\n",
            "Roc_Auc Score: 1.0\n",
            "--------------------------------------------------\n",
            "Model Performance for Test dataset\n",
            "Accuracy score: 0.80087\n",
            "Precision Score: 0.81247\n",
            "Recall Score: 0.97705\n",
            "Roc_Auc Score: 0.53344\n",
            "**************************************************\n",
            "\n",
            "\n",
            "AdaBoost Classifier Model\n",
            "\n",
            "Model Performance for training dataset\n",
            "Accuracy score: 0.80696\n",
            "Precision Score: 0.81173\n",
            "Recall Score: 0.98956\n",
            "Roc_Auc Score: 0.52259\n",
            "--------------------------------------------------\n",
            "Model Performance for Test dataset\n",
            "Accuracy score: 0.80288\n",
            "Precision Score: 0.80833\n",
            "Recall Score: 0.98841\n",
            "Roc_Auc Score: 0.52126\n",
            "**************************************************\n",
            "\n",
            "\n",
            "GradientBoost Classifier Model\n",
            "\n",
            "Model Performance for training dataset\n",
            "Accuracy score: 0.80818\n",
            "Precision Score: 0.81301\n",
            "Recall Score: 0.98903\n",
            "Roc_Auc Score: 0.52654\n",
            "--------------------------------------------------\n",
            "Model Performance for Test dataset\n",
            "Accuracy score: 0.80413\n",
            "Precision Score: 0.80937\n",
            "Recall Score: 0.98841\n",
            "Roc_Auc Score: 0.5244\n",
            "**************************************************\n",
            "\n",
            "\n"
          ]
        },
        {
          "name": "stderr",
          "output_type": "stream",
          "text": [
            "c:\\Users\\91822\\anaconda3\\lib\\site-packages\\xgboost\\sklearn.py:1224: UserWarning: The use of label encoder in XGBClassifier is deprecated and will be removed in a future release. To remove this warning, do the following: 1) Pass option use_label_encoder=False when constructing XGBClassifier object; and 2) Encode your labels (y) as integers starting with 0, i.e. 0, 1, 2, ..., [num_class - 1].\n",
            "  warnings.warn(label_encoder_deprecation_msg, UserWarning)\n"
          ]
        },
        {
          "name": "stdout",
          "output_type": "stream",
          "text": [
            "[19:51:11] WARNING: C:/Users/Administrator/workspace/xgboost-win64_release_1.5.1/src/learner.cc:1115: Starting in XGBoost 1.3.0, the default evaluation metric used with the objective 'binary:logistic' was changed from 'error' to 'logloss'. Explicitly set eval_metric if you'd like to restore the old behavior.\n",
            "XGBoost Classifier Model\n",
            "\n",
            "Model Performance for training dataset\n",
            "Accuracy score: 0.81647\n",
            "Precision Score: 0.82206\n",
            "Recall Score: 0.98509\n",
            "Roc_Auc Score: 0.55387\n",
            "--------------------------------------------------\n",
            "Model Performance for Test dataset\n",
            "Accuracy score: 0.80448\n",
            "Precision Score: 0.81394\n",
            "Recall Score: 0.98009\n",
            "Roc_Auc Score: 0.53792\n",
            "**************************************************\n",
            "\n",
            "\n"
          ]
        }
      ],
      "source": [
        "### Creating empty list to store model names\n",
        "model_list=[]\n",
        "### creating empty list to store accuracy score for each model\n",
        "acc_score_list=[]\n",
        "### creating empty list for storing precision score\n",
        "prec_score_list=[]\n",
        "### creating list to store recall score\n",
        "recall_list=[]\n",
        "### creating list to store roc_auc score\n",
        "roc_auc_list=[]\n",
        "\n",
        "### Training all models and getting their performance and storing it in empty list\n",
        "for num in range(len(list(models))):\n",
        "    ### selecting model\n",
        "    model=list(models.values())[num]\n",
        "    \n",
        "    ### getting training data prediction and test data prediction\n",
        "    y_pred, pred_val=model_trainer(model,X_train, y_train, X_test)\n",
        "    \n",
        "    ### Getting model performance parameters for training data\n",
        "    acc_score, prec_score, rec_score, roc_auc=model_evaluator(y_train,y_pred )\n",
        "    print(\"{} Model\\n\".format(list(models.keys())[num]))\n",
        "    print(\"Model Performance for training dataset\")\n",
        "    print(\"Accuracy score: {}\\nPrecision Score: {}\\nRecall Score: {}\\nRoc_Auc Score: {}\".format(acc_score,prec_score, rec_score, roc_auc))\n",
        "    print(\"-\"*50)\n",
        "    \n",
        "    ### Getting model performance parameters for test data\n",
        "    acc_score, prec_score, rec_score, roc_auc=model_evaluator(y_test,pred_val)\n",
        "    print(\"Model Performance for Test dataset\")\n",
        "    print(\"Accuracy score: {}\\nPrecision Score: {}\\nRecall Score: {}\\nRoc_Auc Score: {}\".format(acc_score,prec_score, rec_score, roc_auc))\n",
        "    \n",
        "    ### Appending model name and Performance score in seperate list so that models can be sorted in terms of performance\n",
        "    model_list.append(list(models.keys())[num])\n",
        "    acc_score_list.append(acc_score)\n",
        "    prec_score_list.append(prec_score)\n",
        "    recall_list.append(rec_score)\n",
        "    roc_auc_list.append(roc_auc)\n",
        "    print(\"*\"*50)\n",
        "    print(\"\\n\")"
      ]
    },
    {
      "cell_type": "code",
      "execution_count": 53,
      "metadata": {
        "colab": {
          "base_uri": "https://localhost:8080/",
          "height": 300
        },
        "id": "tYuMie5hSula",
        "outputId": "a1e7c73a-b8d2-4fc4-8ad7-718583b7a89c"
      },
      "outputs": [
        {
          "data": {
            "text/html": [
              "<div>\n",
              "<style scoped>\n",
              "    .dataframe tbody tr th:only-of-type {\n",
              "        vertical-align: middle;\n",
              "    }\n",
              "\n",
              "    .dataframe tbody tr th {\n",
              "        vertical-align: top;\n",
              "    }\n",
              "\n",
              "    .dataframe thead th {\n",
              "        text-align: right;\n",
              "    }\n",
              "</style>\n",
              "<table border=\"1\" class=\"dataframe\">\n",
              "  <thead>\n",
              "    <tr style=\"text-align: right;\">\n",
              "      <th></th>\n",
              "      <th>Model</th>\n",
              "      <th>Accuracy</th>\n",
              "      <th>Precision</th>\n",
              "      <th>Recall</th>\n",
              "      <th>Roc_Auc Score</th>\n",
              "    </tr>\n",
              "  </thead>\n",
              "  <tbody>\n",
              "    <tr>\n",
              "      <th>0</th>\n",
              "      <td>XGBoost Classifier</td>\n",
              "      <td>0.80448</td>\n",
              "      <td>0.81394</td>\n",
              "      <td>0.98009</td>\n",
              "      <td>0.53792</td>\n",
              "    </tr>\n",
              "    <tr>\n",
              "      <th>1</th>\n",
              "      <td>GradientBoost Classifier</td>\n",
              "      <td>0.80413</td>\n",
              "      <td>0.80937</td>\n",
              "      <td>0.98841</td>\n",
              "      <td>0.52440</td>\n",
              "    </tr>\n",
              "    <tr>\n",
              "      <th>2</th>\n",
              "      <td>Random Forest Classifier</td>\n",
              "      <td>0.80291</td>\n",
              "      <td>0.81302</td>\n",
              "      <td>0.97928</td>\n",
              "      <td>0.53517</td>\n",
              "    </tr>\n",
              "    <tr>\n",
              "      <th>3</th>\n",
              "      <td>AdaBoost Classifier</td>\n",
              "      <td>0.80288</td>\n",
              "      <td>0.80833</td>\n",
              "      <td>0.98841</td>\n",
              "      <td>0.52126</td>\n",
              "    </tr>\n",
              "    <tr>\n",
              "      <th>4</th>\n",
              "      <td>Logistic Regression</td>\n",
              "      <td>0.80207</td>\n",
              "      <td>0.81137</td>\n",
              "      <td>0.98113</td>\n",
              "      <td>0.53027</td>\n",
              "    </tr>\n",
              "    <tr>\n",
              "      <th>5</th>\n",
              "      <td>Bagging Classifier</td>\n",
              "      <td>0.80207</td>\n",
              "      <td>0.81139</td>\n",
              "      <td>0.98110</td>\n",
              "      <td>0.53032</td>\n",
              "    </tr>\n",
              "    <tr>\n",
              "      <th>6</th>\n",
              "      <td>Extra Tree Classifier</td>\n",
              "      <td>0.80087</td>\n",
              "      <td>0.81247</td>\n",
              "      <td>0.97705</td>\n",
              "      <td>0.53344</td>\n",
              "    </tr>\n",
              "    <tr>\n",
              "      <th>7</th>\n",
              "      <td>Decision Tree Classifier</td>\n",
              "      <td>0.70679</td>\n",
              "      <td>0.82339</td>\n",
              "      <td>0.80730</td>\n",
              "      <td>0.55421</td>\n",
              "    </tr>\n",
              "  </tbody>\n",
              "</table>\n",
              "</div>"
            ],
            "text/plain": [
              "                      Model  Accuracy  Precision   Recall  Roc_Auc Score\n",
              "0        XGBoost Classifier   0.80448    0.81394  0.98009        0.53792\n",
              "1  GradientBoost Classifier   0.80413    0.80937  0.98841        0.52440\n",
              "2  Random Forest Classifier   0.80291    0.81302  0.97928        0.53517\n",
              "3       AdaBoost Classifier   0.80288    0.80833  0.98841        0.52126\n",
              "4       Logistic Regression   0.80207    0.81137  0.98113        0.53027\n",
              "5        Bagging Classifier   0.80207    0.81139  0.98110        0.53032\n",
              "6     Extra Tree Classifier   0.80087    0.81247  0.97705        0.53344\n",
              "7  Decision Tree Classifier   0.70679    0.82339  0.80730        0.55421"
            ]
          },
          "execution_count": 53,
          "metadata": {},
          "output_type": "execute_result"
        }
      ],
      "source": [
        "### Tabulating model performance in dataframe\n",
        "model_perf=pd.DataFrame(list(zip(model_list, acc_score_list,prec_score_list, recall_list, roc_auc_list)), columns=['Model', 'Accuracy', 'Precision', 'Recall', 'Roc_Auc Score']).sort_values(by=['Accuracy'], ascending=False,).reset_index()\n",
        "model_perf.drop('index', axis=1, inplace=True)\n",
        "model_perf"
      ]
    },
    {
      "cell_type": "code",
      "execution_count": 54,
      "metadata": {
        "id": "H5UQuu5v2UXT"
      },
      "outputs": [],
      "source": [
        "xg_init = XGBClassifier()"
      ]
    },
    {
      "cell_type": "code",
      "execution_count": 55,
      "metadata": {
        "colab": {
          "base_uri": "https://localhost:8080/"
        },
        "id": "ZO6kBakd44wW",
        "outputId": "5920819c-c8a5-4386-82ff-b54a5143cba3"
      },
      "outputs": [
        {
          "name": "stderr",
          "output_type": "stream",
          "text": [
            "c:\\Users\\91822\\anaconda3\\lib\\site-packages\\xgboost\\sklearn.py:1224: UserWarning: The use of label encoder in XGBClassifier is deprecated and will be removed in a future release. To remove this warning, do the following: 1) Pass option use_label_encoder=False when constructing XGBClassifier object; and 2) Encode your labels (y) as integers starting with 0, i.e. 0, 1, 2, ..., [num_class - 1].\n",
            "  warnings.warn(label_encoder_deprecation_msg, UserWarning)\n"
          ]
        },
        {
          "name": "stdout",
          "output_type": "stream",
          "text": [
            "[19:51:26] WARNING: C:/Users/Administrator/workspace/xgboost-win64_release_1.5.1/src/learner.cc:1115: Starting in XGBoost 1.3.0, the default evaluation metric used with the objective 'binary:logistic' was changed from 'error' to 'logloss'. Explicitly set eval_metric if you'd like to restore the old behavior.\n"
          ]
        },
        {
          "data": {
            "text/plain": [
              "XGBClassifier(base_score=0.5, booster='gbtree', colsample_bylevel=1,\n",
              "              colsample_bynode=1, colsample_bytree=1, enable_categorical=False,\n",
              "              gamma=0, gpu_id=-1, importance_type=None,\n",
              "              interaction_constraints='', learning_rate=0.300000012,\n",
              "              max_delta_step=0, max_depth=6, min_child_weight=1, missing=nan,\n",
              "              monotone_constraints='()', n_estimators=100, n_jobs=8,\n",
              "              num_parallel_tree=1, predictor='auto', random_state=0,\n",
              "              reg_alpha=0, reg_lambda=1, scale_pos_weight=1, subsample=1,\n",
              "              tree_method='exact', validate_parameters=1, verbosity=None)"
            ]
          },
          "execution_count": 55,
          "metadata": {},
          "output_type": "execute_result"
        }
      ],
      "source": [
        "xg_init.fit(X_train,y_train)"
      ]
    },
    {
      "cell_type": "code",
      "execution_count": 56,
      "metadata": {
        "id": "suLDlsRQ49fg"
      },
      "outputs": [],
      "source": [
        "y_pred = xg_init.predict(X_test)"
      ]
    },
    {
      "cell_type": "code",
      "execution_count": 57,
      "metadata": {
        "colab": {
          "base_uri": "https://localhost:8080/"
        },
        "id": "eg7Rhvf2Zi5b",
        "outputId": "767f4dcc-d74a-4f11-8a01-291ce6228aa2"
      },
      "outputs": [
        {
          "data": {
            "text/plain": [
              "array([1, 1, 1, ..., 1, 1, 1])"
            ]
          },
          "execution_count": 57,
          "metadata": {},
          "output_type": "execute_result"
        }
      ],
      "source": [
        "y_pred"
      ]
    },
    {
      "cell_type": "code",
      "execution_count": 58,
      "metadata": {
        "id": "_U27jZygZ05C"
      },
      "outputs": [],
      "source": [
        "from sklearn.metrics import recall_score, confusion_matrix, precision_score, f1_score, accuracy_score, classification_report"
      ]
    },
    {
      "cell_type": "code",
      "execution_count": 59,
      "metadata": {
        "colab": {
          "base_uri": "https://localhost:8080/",
          "height": 581
        },
        "id": "KqRd443FZvFL",
        "outputId": "f7b95535-ed1c-41ad-a295-7c2e456042fc"
      },
      "outputs": [
        {
          "data": {
            "image/png": "[encoded data removed]",
            "text/plain": [
              "<Figure size 1000x800 with 2 Axes>"
            ]
          },
          "metadata": {},
          "output_type": "display_data"
        }
      ],
      "source": [
        "plt.figure(figsize=(10,8))\n",
        "sns.heatmap(confusion_matrix(y_test, y_pred),\n",
        "                annot=True,fmt = \"d\",linecolor=\"k\",linewidths=3)\n",
        "    \n",
        "plt.title(\"XGBOOST Classifier Confusion Matrix\",fontsize=14)\n",
        "plt.tight_layout()\n",
        "plt.show()"
      ]
    },
    {
      "cell_type": "code",
      "execution_count": 60,
      "metadata": {
        "colab": {
          "base_uri": "https://localhost:8080/",
          "height": 412
        },
        "id": "0bT8MkqFafp0",
        "outputId": "c9994438-fc08-4226-d26b-cb7e706c75af"
      },
      "outputs": [
        {
          "data": {
            "image/png": "[encoded data removed]",
            "text/plain": [
              "<Figure size 1000x600 with 1 Axes>"
            ]
          },
          "metadata": {},
          "output_type": "display_data"
        }
      ],
      "source": [
        "from sklearn import metrics\n",
        "from sklearn.metrics import roc_curve\n",
        "\n",
        "y_pred_prob = xg_init.predict_proba(X_test)[:,1]\n",
        "fpr, tpr, thresholds = roc_curve(y_test, y_pred_prob)\n",
        "plt.plot([0, 1], [0, 1], 'k--' )\n",
        "plt.plot(fpr, tpr, label='XG boost',color = \"r\")\n",
        "plt.xlabel('False Positive Rate')\n",
        "plt.ylabel('True Positive Rate')\n",
        "plt.title('XGBOOST ROC Curve',fontsize=16)\n",
        "plt.show();"
      ]
    },
    {
      "cell_type": "code",
      "execution_count": 61,
      "metadata": {
        "id": "Xy8mVWDrWRZj"
      },
      "outputs": [],
      "source": [
        "import pickle\n",
        "\n",
        "pickle.dump(xg_init,open('rf.pkl','wb'))"
      ]
    },
    {
      "cell_type": "code",
      "execution_count": 62,
      "metadata": {
        "id": "LB4g6CxeWTve"
      },
      "outputs": [],
      "source": [
        "pickled_model = pickle.load(open('rf.pkl','rb'))"
      ]
    },
    {
      "cell_type": "code",
      "execution_count": 63,
      "metadata": {
        "id": "wSvn1uhmWUVk"
      },
      "outputs": [
        {
          "data": {
            "text/plain": [
              "array([1])"
            ]
          },
          "execution_count": 63,
          "metadata": {},
          "output_type": "execute_result"
        }
      ],
      "source": [
        "pickled_model.predict(scalar.transform(X_train[0].reshape(1,-1)))"
      ]
    },
    {
      "cell_type": "code",
      "execution_count": 64,
      "metadata": {
        "id": "QeJLTkCrWXr1"
      },
      "outputs": [],
      "source": [
        "# scaling\n",
        "\n",
        "\n",
        "pickle.dump(scalar,open('scaler.pkl','wb'))"
      ]
    },
    {
      "cell_type": "code",
      "execution_count": 65,
      "metadata": {
        "id": "r783lMF4WZlF"
      },
      "outputs": [
        {
          "data": {
            "text/plain": [
              "1"
            ]
          },
          "execution_count": 65,
          "metadata": {},
          "output_type": "execute_result"
        }
      ],
      "source": [
        "\n",
        "y_train[0]"
      ]
    },
    {
      "cell_type": "code",
      "execution_count": null,
      "metadata": {
        "id": "O1VyUF_pXZMW"
      },
      "outputs": [],
      "source": []
    }
  ],
  "metadata": {
    "colab": {
      "provenance": []
    },
    "kernelspec": {
      "display_name": "base",
      "language": "python",
      "name": "python3"
    },
    "language_info": {
      "codemirror_mode": {
        "name": "ipython",
        "version": 3
      },
      "file_extension": ".py",
      "mimetype": "text/x-python",
      "name": "python",
      "nbconvert_exporter": "python",
      "pygments_lexer": "ipython3",
      "version": "3.7.6"
    },
    "vscode": {
      "interpreter": {
        "hash": "7b76782f1a2ff8f48a79f35a6cd6a7dd940b6f0d63f4337b6b9bd576a4787320"
      }
    }
  },
  "nbformat": 4,
  "nbformat_minor": 0
}
